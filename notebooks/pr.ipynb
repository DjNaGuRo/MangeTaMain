{
 "cells": [
  {
   "cell_type": "code",
   "execution_count": 2,
   "id": "04483bab",
   "metadata": {},
   "outputs": [],
   "source": [
    "import pandas as pd\n",
    "import numpy as np\n",
    "import matplotlib.pyplot as plt\n",
    "import seaborn as sns\n",
    "\n",
    "# Configuration globale pour l'affichage pandas\n",
    "pd.set_option('display.max_colwidth', None)\n",
    "pd.set_option('display.max_rows', 100)  # Optionnel : limite le nombre de lignes affichées\n"
   ]
  },
  {
   "cell_type": "code",
   "execution_count": 3,
   "id": "01c4e61c",
   "metadata": {},
   "outputs": [],
   "source": [
    "data=pd.read_csv(\"../data/RAW_interactions.csv\")"
   ]
  },
  {
   "cell_type": "markdown",
   "id": "7abb8d12",
   "metadata": {},
   "source": [
    "Exploration initiale"
   ]
  },
  {
   "cell_type": "code",
   "execution_count": 4,
   "id": "839f7392",
   "metadata": {},
   "outputs": [
    {
     "data": {
      "text/html": [
       "<div>\n",
       "<style scoped>\n",
       "    .dataframe tbody tr th:only-of-type {\n",
       "        vertical-align: middle;\n",
       "    }\n",
       "\n",
       "    .dataframe tbody tr th {\n",
       "        vertical-align: top;\n",
       "    }\n",
       "\n",
       "    .dataframe thead th {\n",
       "        text-align: right;\n",
       "    }\n",
       "</style>\n",
       "<table border=\"1\" class=\"dataframe\">\n",
       "  <thead>\n",
       "    <tr style=\"text-align: right;\">\n",
       "      <th></th>\n",
       "      <th>user_id</th>\n",
       "      <th>recipe_id</th>\n",
       "      <th>date</th>\n",
       "      <th>rating</th>\n",
       "      <th>review</th>\n",
       "    </tr>\n",
       "  </thead>\n",
       "  <tbody>\n",
       "    <tr>\n",
       "      <th>0</th>\n",
       "      <td>38094</td>\n",
       "      <td>40893</td>\n",
       "      <td>2003-02-17</td>\n",
       "      <td>4</td>\n",
       "      <td>Great with a salad. Cooked on top of stove for 15 minutes.Added a shake of cayenne and a pinch of salt.  Used low fat sour cream.  Thanks.</td>\n",
       "    </tr>\n",
       "    <tr>\n",
       "      <th>1</th>\n",
       "      <td>1293707</td>\n",
       "      <td>40893</td>\n",
       "      <td>2011-12-21</td>\n",
       "      <td>5</td>\n",
       "      <td>So simple, so delicious! Great for chilly fall evening. Should have doubled it ;)&lt;br/&gt;&lt;br/&gt;Second time around, forgot the remaining cumin. We usually love cumin, but didn't notice the missing 1/2 teaspoon!</td>\n",
       "    </tr>\n",
       "    <tr>\n",
       "      <th>2</th>\n",
       "      <td>8937</td>\n",
       "      <td>44394</td>\n",
       "      <td>2002-12-01</td>\n",
       "      <td>4</td>\n",
       "      <td>This worked very well and is EASY.  I used not quite a whole package (10oz) of white chips.  Great!</td>\n",
       "    </tr>\n",
       "    <tr>\n",
       "      <th>3</th>\n",
       "      <td>126440</td>\n",
       "      <td>85009</td>\n",
       "      <td>2010-02-27</td>\n",
       "      <td>5</td>\n",
       "      <td>I made the Mexican topping and took it to bunko.  Everyone loved it.</td>\n",
       "    </tr>\n",
       "    <tr>\n",
       "      <th>4</th>\n",
       "      <td>57222</td>\n",
       "      <td>85009</td>\n",
       "      <td>2011-10-01</td>\n",
       "      <td>5</td>\n",
       "      <td>Made the cheddar bacon topping, adding a sprinkling of black pepper. Yum!</td>\n",
       "    </tr>\n",
       "  </tbody>\n",
       "</table>\n",
       "</div>"
      ],
      "text/plain": [
       "   user_id  recipe_id        date  rating  \\\n",
       "0    38094      40893  2003-02-17       4   \n",
       "1  1293707      40893  2011-12-21       5   \n",
       "2     8937      44394  2002-12-01       4   \n",
       "3   126440      85009  2010-02-27       5   \n",
       "4    57222      85009  2011-10-01       5   \n",
       "\n",
       "                                                                                                                                                                                                          review  \n",
       "0                                                                     Great with a salad. Cooked on top of stove for 15 minutes.Added a shake of cayenne and a pinch of salt.  Used low fat sour cream.  Thanks.  \n",
       "1  So simple, so delicious! Great for chilly fall evening. Should have doubled it ;)<br/><br/>Second time around, forgot the remaining cumin. We usually love cumin, but didn't notice the missing 1/2 teaspoon!  \n",
       "2                                                                                                            This worked very well and is EASY.  I used not quite a whole package (10oz) of white chips.  Great!  \n",
       "3                                                                                                                                           I made the Mexican topping and took it to bunko.  Everyone loved it.  \n",
       "4                                                                                                                                      Made the cheddar bacon topping, adding a sprinkling of black pepper. Yum!  "
      ]
     },
     "execution_count": 4,
     "metadata": {},
     "output_type": "execute_result"
    }
   ],
   "source": [
    "##Aperçu des données\n",
    "data.head()"
   ]
  },
  {
   "cell_type": "code",
   "execution_count": 5,
   "id": "17bbfd4e",
   "metadata": {},
   "outputs": [
    {
     "data": {
      "text/html": [
       "<div>\n",
       "<style scoped>\n",
       "    .dataframe tbody tr th:only-of-type {\n",
       "        vertical-align: middle;\n",
       "    }\n",
       "\n",
       "    .dataframe tbody tr th {\n",
       "        vertical-align: top;\n",
       "    }\n",
       "\n",
       "    .dataframe thead th {\n",
       "        text-align: right;\n",
       "    }\n",
       "</style>\n",
       "<table border=\"1\" class=\"dataframe\">\n",
       "  <thead>\n",
       "    <tr style=\"text-align: right;\">\n",
       "      <th></th>\n",
       "      <th>user_id</th>\n",
       "      <th>recipe_id</th>\n",
       "      <th>date</th>\n",
       "      <th>rating</th>\n",
       "      <th>review</th>\n",
       "    </tr>\n",
       "  </thead>\n",
       "  <tbody>\n",
       "    <tr>\n",
       "      <th>995638</th>\n",
       "      <td>488441</td>\n",
       "      <td>468448</td>\n",
       "      <td>2011-12-05</td>\n",
       "      <td>5</td>\n",
       "      <td>Nice job, chef! I loved all the veggies with the bacon and poblano! I like the fact that the calorie count is low, so this is a good diet soup, too. Here's hoping you win! Made for CrazE contest 2011</td>\n",
       "    </tr>\n",
       "    <tr>\n",
       "      <th>761638</th>\n",
       "      <td>67728</td>\n",
       "      <td>349048</td>\n",
       "      <td>2009-04-16</td>\n",
       "      <td>5</td>\n",
       "      <td>We really liked this recipe a lot. It felt like they were so much easier to make than my usual enchilada recipe, and they were definitely better for us because they weren't buried in piles of cheese. I had quite a bit of cooked shredded chicken in the fridge already, so I didn't use the poached chicken part of this recipe, but everything else was as written. The salsa verde was really good, too -- I had around 2 cups left over, so maybe I'll make some bistec en salsa verde with it. We'll definitely be enjoying these again. Thanks for posting! Made for PAC Spring 09</td>\n",
       "    </tr>\n",
       "    <tr>\n",
       "      <th>1112865</th>\n",
       "      <td>7798</td>\n",
       "      <td>81908</td>\n",
       "      <td>2007-12-31</td>\n",
       "      <td>5</td>\n",
       "      <td>These were simple to make, and I happened to have everything on hand. I poached one (single) chicken breast in chicken broth, which was enough meat for six enchiladas. I subbed Trader Joe's enchilada sauce (from a bottle) for the salsa, as my DH doesn't like spicy food. After frying each tortilla in hot oil for a few seconds, I dipped each one in the enchilada sauce before filling it. I then poured some of the enchilada sauce down the middle of the tortillas in my 9x9 pan before sliding it into the oven. I will make these again, thanks for sharing your recipe, Barb!</td>\n",
       "    </tr>\n",
       "    <tr>\n",
       "      <th>930711</th>\n",
       "      <td>1536380</td>\n",
       "      <td>162842</td>\n",
       "      <td>2015-01-02</td>\n",
       "      <td>5</td>\n",
       "      <td>Hi&amp;lt;br/&amp;gt;I made this pretty well the way it said too, the only thing is I didn&amp;#039;t have parsley, so I used cilantro, and it turned out quite good..Will make again..</td>\n",
       "    </tr>\n",
       "    <tr>\n",
       "      <th>1065714</th>\n",
       "      <td>16827</td>\n",
       "      <td>13745</td>\n",
       "      <td>2002-01-03</td>\n",
       "      <td>5</td>\n",
       "      <td>I made these with my usual christmas cookies and they got a great review from family and friends.  Were really easy to make.  I used cherry and lime jello. Will definitely make again.</td>\n",
       "    </tr>\n",
       "    <tr>\n",
       "      <th>1012301</th>\n",
       "      <td>653438</td>\n",
       "      <td>381760</td>\n",
       "      <td>2010-04-21</td>\n",
       "      <td>5</td>\n",
       "      <td>Made this tonight for dinner and all I can say is WOW!!!!  Followed the recipe except for cutting in in half and WOW!!!!  Definately goinging into my Favorites of 2010.  Thank you for a great recipe....Made for SPRING PAC 2010.</td>\n",
       "    </tr>\n",
       "    <tr>\n",
       "      <th>455569</th>\n",
       "      <td>727964</td>\n",
       "      <td>126673</td>\n",
       "      <td>2009-06-14</td>\n",
       "      <td>5</td>\n",
       "      <td>My husband thinks these are the best burgers he has ever eaten! I think the sesame oil is essential to the flavor of the recipe, although I could have done without the seeds. We grilled on the outdoor grill and served with a dollop of mayo on whole wheat rolls.</td>\n",
       "    </tr>\n",
       "    <tr>\n",
       "      <th>423066</th>\n",
       "      <td>140806</td>\n",
       "      <td>251903</td>\n",
       "      <td>2009-05-18</td>\n",
       "      <td>4</td>\n",
       "      <td>Really liked this, 1yo DS did not...I made it for him because he loves veggie lasagna. Oh well! Seems this dish is just lacking a little substance, I think it's because I prefer ricotta over cottage cheese. Other than that, this is a great standard to keep in your cookbook!</td>\n",
       "    </tr>\n",
       "    <tr>\n",
       "      <th>740065</th>\n",
       "      <td>2760919</td>\n",
       "      <td>375578</td>\n",
       "      <td>2013-03-29</td>\n",
       "      <td>5</td>\n",
       "      <td>These were awesome!  They all were gone in no time.  I followed the recipe perfectly and the results were great, golden, crispy and salty.&amp;lt;br/&amp;gt;&amp;lt;br/&amp;gt;Thanks for sharing...</td>\n",
       "    </tr>\n",
       "    <tr>\n",
       "      <th>1005849</th>\n",
       "      <td>452940</td>\n",
       "      <td>244755</td>\n",
       "      <td>2007-12-12</td>\n",
       "      <td>4</td>\n",
       "      <td>This was really good. Very nice blend of flavors. This is the first fondue recipe I ever made. It was much simpler than I had thought although it is definitely a recipe you want to have all your ingredients measured out and ready, as things go quite fast introducing the ingredients. Thanks for sharing MM.\\r\\n-Bird-</td>\n",
       "    </tr>\n",
       "  </tbody>\n",
       "</table>\n",
       "</div>"
      ],
      "text/plain": [
       "         user_id  recipe_id        date  rating  \\\n",
       "995638    488441     468448  2011-12-05       5   \n",
       "761638     67728     349048  2009-04-16       5   \n",
       "1112865     7798      81908  2007-12-31       5   \n",
       "930711   1536380     162842  2015-01-02       5   \n",
       "1065714    16827      13745  2002-01-03       5   \n",
       "1012301   653438     381760  2010-04-21       5   \n",
       "455569    727964     126673  2009-06-14       5   \n",
       "423066    140806     251903  2009-05-18       4   \n",
       "740065   2760919     375578  2013-03-29       5   \n",
       "1005849   452940     244755  2007-12-12       4   \n",
       "\n",
       "                                                                                                                                                                                                                                                                                                                                                                                                                                                                                                                                                                                               review  \n",
       "995638                                                                                                                                                                                                                                                                                                                                                                                        Nice job, chef! I loved all the veggies with the bacon and poblano! I like the fact that the calorie count is low, so this is a good diet soup, too. Here's hoping you win! Made for CrazE contest 2011  \n",
       "761638    We really liked this recipe a lot. It felt like they were so much easier to make than my usual enchilada recipe, and they were definitely better for us because they weren't buried in piles of cheese. I had quite a bit of cooked shredded chicken in the fridge already, so I didn't use the poached chicken part of this recipe, but everything else was as written. The salsa verde was really good, too -- I had around 2 cups left over, so maybe I'll make some bistec en salsa verde with it. We'll definitely be enjoying these again. Thanks for posting! Made for PAC Spring 09  \n",
       "1112865  These were simple to make, and I happened to have everything on hand. I poached one (single) chicken breast in chicken broth, which was enough meat for six enchiladas. I subbed Trader Joe's enchilada sauce (from a bottle) for the salsa, as my DH doesn't like spicy food. After frying each tortilla in hot oil for a few seconds, I dipped each one in the enchilada sauce before filling it. I then poured some of the enchilada sauce down the middle of the tortillas in my 9x9 pan before sliding it into the oven. I will make these again, thanks for sharing your recipe, Barb!  \n",
       "930711                                                                                                                                                                                                                                                                                                                                                                                                                    Hi&lt;br/&gt;I made this pretty well the way it said too, the only thing is I didn&#039;t have parsley, so I used cilantro, and it turned out quite good..Will make again..  \n",
       "1065714                                                                                                                                                                                                                                                                                                                                                                                                       I made these with my usual christmas cookies and they got a great review from family and friends.  Were really easy to make.  I used cherry and lime jello. Will definitely make again.  \n",
       "1012301                                                                                                                                                                                                                                                                                                                                                           Made this tonight for dinner and all I can say is WOW!!!!  Followed the recipe except for cutting in in half and WOW!!!!  Definately goinging into my Favorites of 2010.  Thank you for a great recipe....Made for SPRING PAC 2010.  \n",
       "455569                                                                                                                                                                                                                                                                                                                          My husband thinks these are the best burgers he has ever eaten! I think the sesame oil is essential to the flavor of the recipe, although I could have done without the seeds. We grilled on the outdoor grill and served with a dollop of mayo on whole wheat rolls.  \n",
       "423066                                                                                                                                                                                                                                                                                                             Really liked this, 1yo DS did not...I made it for him because he loves veggie lasagna. Oh well! Seems this dish is just lacking a little substance, I think it's because I prefer ricotta over cottage cheese. Other than that, this is a great standard to keep in your cookbook!  \n",
       "740065                                                                                                                                                                                                                                                                                                                                                                                                          These were awesome!  They all were gone in no time.  I followed the recipe perfectly and the results were great, golden, crispy and salty.&lt;br/&gt;&lt;br/&gt;Thanks for sharing...  \n",
       "1005849                                                                                                                                                                                                                                                                  This was really good. Very nice blend of flavors. This is the first fondue recipe I ever made. It was much simpler than I had thought although it is definitely a recipe you want to have all your ingredients measured out and ready, as things go quite fast introducing the ingredients. Thanks for sharing MM.\\r\\n-Bird-  "
      ]
     },
     "execution_count": 5,
     "metadata": {},
     "output_type": "execute_result"
    }
   ],
   "source": [
    "##Affichage aleatoire de 10 lignes\n",
    "data.sample(10)"
   ]
  },
  {
   "cell_type": "code",
   "execution_count": 6,
   "id": "92af19ca",
   "metadata": {},
   "outputs": [
    {
     "name": "stdout",
     "output_type": "stream",
     "text": [
      "<class 'pandas.core.frame.DataFrame'>\n",
      "RangeIndex: 1132367 entries, 0 to 1132366\n",
      "Data columns (total 5 columns):\n",
      " #   Column     Non-Null Count    Dtype \n",
      "---  ------     --------------    ----- \n",
      " 0   user_id    1132367 non-null  int64 \n",
      " 1   recipe_id  1132367 non-null  int64 \n",
      " 2   date       1132367 non-null  object\n",
      " 3   rating     1132367 non-null  int64 \n",
      " 4   review     1132198 non-null  object\n",
      "dtypes: int64(3), object(2)\n",
      "memory usage: 43.2+ MB\n"
     ]
    }
   ],
   "source": [
    "##Structure des données\n",
    "data.info()"
   ]
  },
  {
   "cell_type": "code",
   "execution_count": 7,
   "id": "9ed949fb",
   "metadata": {},
   "outputs": [
    {
     "name": "stdout",
     "output_type": "stream",
     "text": [
      "le nombre de lignes est : 1132367\n",
      "le nombre de colonnes est : 5\n"
     ]
    }
   ],
   "source": [
    "##la taille des données\n",
    "nombre_de_lignes, nombre_de_colonnes = data.shape\n",
    "print(f\"le nombre de lignes est : {nombre_de_lignes}\")\n",
    "print(f\"le nombre de colonnes est : {nombre_de_colonnes}\")"
   ]
  },
  {
   "cell_type": "markdown",
   "id": "5a61296b",
   "metadata": {},
   "source": [
    "Nous disposons un dataset contenant 113236 observations et 5 variables decrivatnt les interactions des utilisateurs avec le recettes de cuisines,et ci-dessous la description des variables:\n",
    "- user_id : identifiant unique de l'utilisateur\n",
    " - recipe_id : identifiant unique de la recette\n",
    " - rating : note attribuée par l'utilisateur à la recette (échelle de 1 à 5)\n",
    " - date: date de l'interaction\n",
    " - review: commentaire textuel laissé par l'utilisateur sur la recette."
   ]
  },
  {
   "cell_type": "code",
   "execution_count": 8,
   "id": "10ac7d24",
   "metadata": {},
   "outputs": [
    {
     "name": "stdout",
     "output_type": "stream",
     "text": [
      "user_id        0\n",
      "recipe_id      0\n",
      "date           0\n",
      "rating         0\n",
      "review       169\n",
      "dtype: int64\n"
     ]
    }
   ],
   "source": [
    "##Detection des nombres des valeurs manquantes par colonne\n",
    "print(data.isnull().sum())\n"
   ]
  },
  {
   "cell_type": "code",
   "execution_count": 9,
   "id": "3b2268d1",
   "metadata": {},
   "outputs": [
    {
     "name": "stdout",
     "output_type": "stream",
     "text": [
      "user_id      0.000000\n",
      "recipe_id    0.000000\n",
      "date         0.000000\n",
      "rating       0.000000\n",
      "review       0.014924\n",
      "dtype: float64\n"
     ]
    }
   ],
   "source": [
    "##Detection de pourcetage des valeurs manquantes par colonne\n",
    "print(data.isna().mean()*100)"
   ]
  },
  {
   "cell_type": "code",
   "execution_count": 10,
   "id": "f54e2af4",
   "metadata": {},
   "outputs": [
    {
     "name": "stdout",
     "output_type": "stream",
     "text": [
      "0.0029848980056819035\n"
     ]
    }
   ],
   "source": [
    "##detection des pourcentages des valeurs manquantes du dataset\n",
    "print(data.isna().mean().mean()*100)"
   ]
  },
  {
   "cell_type": "code",
   "execution_count": 11,
   "id": "589bd9dd",
   "metadata": {},
   "outputs": [],
   "source": [
    "##interpretation des valeurs manquantes:nous observons que la colonne review a 0,015% de valeurs manquantes.il est trop faible comme pourcentage et nous pouvons les ignorer,comme il s'agit des données textuelles liée a des avis des utilisatures sur les recettes,alors nous pouvons les imputer par des descriptions dependants des autres colonnes,comme le note de la recette"
   ]
  },
  {
   "cell_type": "code",
   "execution_count": 12,
   "id": "464cd4e8",
   "metadata": {},
   "outputs": [
    {
     "data": {
      "text/html": [
       "<div>\n",
       "<style scoped>\n",
       "    .dataframe tbody tr th:only-of-type {\n",
       "        vertical-align: middle;\n",
       "    }\n",
       "\n",
       "    .dataframe tbody tr th {\n",
       "        vertical-align: top;\n",
       "    }\n",
       "\n",
       "    .dataframe thead th {\n",
       "        text-align: right;\n",
       "    }\n",
       "</style>\n",
       "<table border=\"1\" class=\"dataframe\">\n",
       "  <thead>\n",
       "    <tr style=\"text-align: right;\">\n",
       "      <th></th>\n",
       "      <th>user_id</th>\n",
       "      <th>recipe_id</th>\n",
       "      <th>date</th>\n",
       "      <th>rating</th>\n",
       "      <th>review</th>\n",
       "    </tr>\n",
       "  </thead>\n",
       "  <tbody>\n",
       "    <tr>\n",
       "      <th>72801</th>\n",
       "      <td>2000045332</td>\n",
       "      <td>188352</td>\n",
       "      <td>2015-10-17</td>\n",
       "      <td>0</td>\n",
       "      <td>very nice but where is the LEMON??</td>\n",
       "    </tr>\n",
       "    <tr>\n",
       "      <th>76337</th>\n",
       "      <td>2002012541</td>\n",
       "      <td>230385</td>\n",
       "      <td>2018-02-24</td>\n",
       "      <td>0</td>\n",
       "      <td>It looks and smells great!</td>\n",
       "    </tr>\n",
       "    <tr>\n",
       "      <th>892785</th>\n",
       "      <td>640041</td>\n",
       "      <td>41524</td>\n",
       "      <td>2007-11-06</td>\n",
       "      <td>3</td>\n",
       "      <td>This recipe is very americanized.  It did not have an authentic caribbean or indian vibe.  The flavor was bland for what I prefer in a curry.  To make it better I'd reduce the amount of water as to not drown out the flavors of all the other ingredients and I'd also add some more salt as well as garlic. Other then that I'd say it was pretty good, very hardy.</td>\n",
       "    </tr>\n",
       "    <tr>\n",
       "      <th>816842</th>\n",
       "      <td>1803174267</td>\n",
       "      <td>466272</td>\n",
       "      <td>2014-09-27</td>\n",
       "      <td>0</td>\n",
       "      <td>LOVE THESE!! I use 1/2 dates and 1/2 pitted prunes. Also add about 1/2 cup instant (decaf) coffee so the batter is less stiff!! CRAVE-able!!! Thank you, Kate-- for a TRULY sugar-free, scrumptious brownie!!</td>\n",
       "    </tr>\n",
       "    <tr>\n",
       "      <th>458389</th>\n",
       "      <td>193516</td>\n",
       "      <td>307578</td>\n",
       "      <td>2008-06-28</td>\n",
       "      <td>3</td>\n",
       "      <td>This salad was okay, but I found was kind of lacking in flavour or perhaps just needed a little bit of sweetness or more tang. It looked great with the shreds of carrot, green chives and yellow base from the tumeric. I used fat free sour cream and light miracle whip. Definitely a different potato salad than what I am used to. Thanks! Reviewed during ZWT 4.</td>\n",
       "    </tr>\n",
       "  </tbody>\n",
       "</table>\n",
       "</div>"
      ],
      "text/plain": [
       "           user_id  recipe_id        date  rating  \\\n",
       "72801   2000045332     188352  2015-10-17       0   \n",
       "76337   2002012541     230385  2018-02-24       0   \n",
       "892785      640041      41524  2007-11-06       3   \n",
       "816842  1803174267     466272  2014-09-27       0   \n",
       "458389      193516     307578  2008-06-28       3   \n",
       "\n",
       "                                                                                                                                                                                                                                                                                                                                                                         review  \n",
       "72801                                                                                                                                                                                                                                                                                                                                        very nice but where is the LEMON??  \n",
       "76337                                                                                                                                                                                                                                                                                                                                                It looks and smells great!  \n",
       "892785  This recipe is very americanized.  It did not have an authentic caribbean or indian vibe.  The flavor was bland for what I prefer in a curry.  To make it better I'd reduce the amount of water as to not drown out the flavors of all the other ingredients and I'd also add some more salt as well as garlic. Other then that I'd say it was pretty good, very hardy.  \n",
       "816842                                                                                                                                                            LOVE THESE!! I use 1/2 dates and 1/2 pitted prunes. Also add about 1/2 cup instant (decaf) coffee so the batter is less stiff!! CRAVE-able!!! Thank you, Kate-- for a TRULY sugar-free, scrumptious brownie!!  \n",
       "458389   This salad was okay, but I found was kind of lacking in flavour or perhaps just needed a little bit of sweetness or more tang. It looked great with the shreds of carrot, green chives and yellow base from the tumeric. I used fat free sour cream and light miracle whip. Definitely a different potato salad than what I am used to. Thanks! Reviewed during ZWT 4.  "
      ]
     },
     "execution_count": 12,
     "metadata": {},
     "output_type": "execute_result"
    }
   ],
   "source": [
    "##affichage des lignes dont la note est superieur ou egale a 4 et la colonne review,afin de pouvoir voir comment les commentaire sont formulés.\n",
    "data[data['rating']<4].sample(5)"
   ]
  },
  {
   "cell_type": "code",
   "execution_count": 13,
   "id": "9d40150b",
   "metadata": {},
   "outputs": [
    {
     "data": {
      "text/html": [
       "<div>\n",
       "<style scoped>\n",
       "    .dataframe tbody tr th:only-of-type {\n",
       "        vertical-align: middle;\n",
       "    }\n",
       "\n",
       "    .dataframe tbody tr th {\n",
       "        vertical-align: top;\n",
       "    }\n",
       "\n",
       "    .dataframe thead th {\n",
       "        text-align: right;\n",
       "    }\n",
       "</style>\n",
       "<table border=\"1\" class=\"dataframe\">\n",
       "  <thead>\n",
       "    <tr style=\"text-align: right;\">\n",
       "      <th></th>\n",
       "      <th>user_id</th>\n",
       "      <th>recipe_id</th>\n",
       "      <th>date</th>\n",
       "      <th>rating</th>\n",
       "      <th>review</th>\n",
       "    </tr>\n",
       "  </thead>\n",
       "  <tbody>\n",
       "    <tr>\n",
       "      <th>572490</th>\n",
       "      <td>2001774915</td>\n",
       "      <td>361331</td>\n",
       "      <td>2017-11-02</td>\n",
       "      <td>5</td>\n",
       "      <td>NaN</td>\n",
       "    </tr>\n",
       "    <tr>\n",
       "      <th>56957</th>\n",
       "      <td>2001567544</td>\n",
       "      <td>9054</td>\n",
       "      <td>2017-06-03</td>\n",
       "      <td>5</td>\n",
       "      <td>NaN</td>\n",
       "    </tr>\n",
       "    <tr>\n",
       "      <th>437204</th>\n",
       "      <td>2002151317</td>\n",
       "      <td>113861</td>\n",
       "      <td>2018-05-13</td>\n",
       "      <td>5</td>\n",
       "      <td>NaN</td>\n",
       "    </tr>\n",
       "    <tr>\n",
       "      <th>959664</th>\n",
       "      <td>2001893685</td>\n",
       "      <td>211082</td>\n",
       "      <td>2017-12-27</td>\n",
       "      <td>5</td>\n",
       "      <td>NaN</td>\n",
       "    </tr>\n",
       "    <tr>\n",
       "      <th>479544</th>\n",
       "      <td>2001489301</td>\n",
       "      <td>26370</td>\n",
       "      <td>2017-04-15</td>\n",
       "      <td>5</td>\n",
       "      <td>NaN</td>\n",
       "    </tr>\n",
       "  </tbody>\n",
       "</table>\n",
       "</div>"
      ],
      "text/plain": [
       "           user_id  recipe_id        date  rating review\n",
       "572490  2001774915     361331  2017-11-02       5    NaN\n",
       "56957   2001567544       9054  2017-06-03       5    NaN\n",
       "437204  2002151317     113861  2018-05-13       5    NaN\n",
       "959664  2001893685     211082  2017-12-27       5    NaN\n",
       "479544  2001489301      26370  2017-04-15       5    NaN"
      ]
     },
     "execution_count": 13,
     "metadata": {},
     "output_type": "execute_result"
    }
   ],
   "source": [
    "####Affichons les lignes qui ont des valeurs manquantes dans la colonne review.\n",
    "data[data['review'].isnull()].sample(5)"
   ]
  },
  {
   "cell_type": "code",
   "execution_count": 14,
   "id": "ef9e14f6",
   "metadata": {},
   "outputs": [
    {
     "name": "stdout",
     "output_type": "stream",
     "text": [
      "rating\n",
      "5    135\n",
      "4     27\n",
      "3      3\n",
      "1      3\n",
      "2      1\n",
      "Name: count, dtype: int64\n"
     ]
    }
   ],
   "source": [
    "###affiché les nombres des valeur manquantes de la colonne par ligne en fonction de la note\n",
    "print(data[data['review'].isnull()]['rating'].value_counts())"
   ]
  },
  {
   "cell_type": "code",
   "execution_count": 15,
   "id": "ccecab96",
   "metadata": {},
   "outputs": [],
   "source": [
    "##Nous allons imputer les valeurs manquantes de la colonne review en fonction de la note(rating) de la recette.\n",
    "def imputer_review(row):\n",
    "    if pd.isnull(row['review']):\n",
    "        if row['rating'] == 5:\n",
    "            return \"Excellent recipe! Loved it!\"\n",
    "        elif row['rating'] == 4:\n",
    "            return \"Great recipe, will make again.\"\n",
    "        elif row['rating'] == 3:\n",
    "            return \"Good recipe, but could be improved.\"\n",
    "        elif row['rating'] == 2:\n",
    "            return \"Not my favorite.\"\n",
    "        elif row['rating'] == 1:\n",
    "            return \"Did not like this recipe at all.\"\n",
    "    else:\n",
    "        return row['review']\n",
    "\n"
   ]
  },
  {
   "cell_type": "code",
   "execution_count": 16,
   "id": "f18040a4",
   "metadata": {},
   "outputs": [
    {
     "name": "stdout",
     "output_type": "stream",
     "text": [
      "Valeurs manquantes après imputation :\n",
      "0\n"
     ]
    }
   ],
   "source": [
    "##Application de la fonction d'imputation\n",
    "data['review'] = data.apply(imputer_review, axis=1)\n",
    "\n",
    "# Vérifions les valeurs manquantes après l'imputation\n",
    "print(\"Valeurs manquantes après imputation :\")\n",
    "print(data['review'].isnull().sum())"
   ]
  },
  {
   "cell_type": "code",
   "execution_count": 17,
   "id": "b0a1e003",
   "metadata": {},
   "outputs": [
    {
     "name": "stdout",
     "output_type": "stream",
     "text": [
      "Nombre de reviews par type :\n",
      "review_imputed\n",
      "0    1132197\n",
      "1        170\n",
      "Name: count, dtype: int64\n",
      "\n",
      "Pourcentage :\n",
      "review_imputed\n",
      "0    99.984987\n",
      "1     0.015013\n",
      "Name: proportion, dtype: float64\n"
     ]
    }
   ],
   "source": [
    "# Créer une liste des commentaires imputés\n",
    "commentaires_imputes = [\n",
    "    \"Excellent recipe! Loved it!\",\n",
    "    \"Great recipe, will make again.\",\n",
    "    \"Good recipe, but could be improved.\",\n",
    "    \"Not my favorite.\",\n",
    "    \"Did not like this recipe at all.\",\n",
    "]\n",
    "\n",
    "# Créer la colonne indicatrice (1 = imputé, 0 = original)\n",
    "data['review_imputed'] = data['review'].isin(commentaires_imputes).astype(int)\n",
    "\n",
    "# Vérifier les résultats\n",
    "print(\"Nombre de reviews par type :\")\n",
    "print(data['review_imputed'].value_counts())\n",
    "print(\"\\nPourcentage :\")\n",
    "print(data['review_imputed'].value_counts(normalize=True) * 100)"
   ]
  },
  {
   "cell_type": "code",
   "execution_count": 18,
   "id": "6428d388",
   "metadata": {},
   "outputs": [
    {
     "name": "stdout",
     "output_type": "stream",
     "text": [
      "Nombre total de lignes dans le dataset après traitement des valeurs manquantes : 1132367\n"
     ]
    }
   ],
   "source": [
    "##Affichons nombre total des donnée observé avant et après le traitement des valeurs manquantes\n",
    "print(f\"Nombre total de lignes dans le dataset après traitement des valeurs manquantes : {data.shape[0]}\")\n"
   ]
  },
  {
   "cell_type": "code",
   "execution_count": 19,
   "id": "9326b113",
   "metadata": {},
   "outputs": [
    {
     "data": {
      "text/html": [
       "<div>\n",
       "<style scoped>\n",
       "    .dataframe tbody tr th:only-of-type {\n",
       "        vertical-align: middle;\n",
       "    }\n",
       "\n",
       "    .dataframe tbody tr th {\n",
       "        vertical-align: top;\n",
       "    }\n",
       "\n",
       "    .dataframe thead th {\n",
       "        text-align: right;\n",
       "    }\n",
       "</style>\n",
       "<table border=\"1\" class=\"dataframe\">\n",
       "  <thead>\n",
       "    <tr style=\"text-align: right;\">\n",
       "      <th></th>\n",
       "      <th>user_id</th>\n",
       "      <th>recipe_id</th>\n",
       "      <th>date</th>\n",
       "      <th>rating</th>\n",
       "      <th>review</th>\n",
       "      <th>review_imputed</th>\n",
       "    </tr>\n",
       "  </thead>\n",
       "  <tbody>\n",
       "    <tr>\n",
       "      <th>0</th>\n",
       "      <td>38094</td>\n",
       "      <td>40893</td>\n",
       "      <td>2003-02-17</td>\n",
       "      <td>4</td>\n",
       "      <td>Great with a salad. Cooked on top of stove for 15 minutes.Added a shake of cayenne and a pinch of salt.  Used low fat sour cream.  Thanks.</td>\n",
       "      <td>0</td>\n",
       "    </tr>\n",
       "    <tr>\n",
       "      <th>1</th>\n",
       "      <td>1293707</td>\n",
       "      <td>40893</td>\n",
       "      <td>2011-12-21</td>\n",
       "      <td>5</td>\n",
       "      <td>So simple, so delicious! Great for chilly fall evening. Should have doubled it ;)&lt;br/&gt;&lt;br/&gt;Second time around, forgot the remaining cumin. We usually love cumin, but didn't notice the missing 1/2 teaspoon!</td>\n",
       "      <td>0</td>\n",
       "    </tr>\n",
       "    <tr>\n",
       "      <th>2</th>\n",
       "      <td>8937</td>\n",
       "      <td>44394</td>\n",
       "      <td>2002-12-01</td>\n",
       "      <td>4</td>\n",
       "      <td>This worked very well and is EASY.  I used not quite a whole package (10oz) of white chips.  Great!</td>\n",
       "      <td>0</td>\n",
       "    </tr>\n",
       "    <tr>\n",
       "      <th>3</th>\n",
       "      <td>126440</td>\n",
       "      <td>85009</td>\n",
       "      <td>2010-02-27</td>\n",
       "      <td>5</td>\n",
       "      <td>I made the Mexican topping and took it to bunko.  Everyone loved it.</td>\n",
       "      <td>0</td>\n",
       "    </tr>\n",
       "    <tr>\n",
       "      <th>4</th>\n",
       "      <td>57222</td>\n",
       "      <td>85009</td>\n",
       "      <td>2011-10-01</td>\n",
       "      <td>5</td>\n",
       "      <td>Made the cheddar bacon topping, adding a sprinkling of black pepper. Yum!</td>\n",
       "      <td>0</td>\n",
       "    </tr>\n",
       "  </tbody>\n",
       "</table>\n",
       "</div>"
      ],
      "text/plain": [
       "   user_id  recipe_id        date  rating  \\\n",
       "0    38094      40893  2003-02-17       4   \n",
       "1  1293707      40893  2011-12-21       5   \n",
       "2     8937      44394  2002-12-01       4   \n",
       "3   126440      85009  2010-02-27       5   \n",
       "4    57222      85009  2011-10-01       5   \n",
       "\n",
       "                                                                                                                                                                                                          review  \\\n",
       "0                                                                     Great with a salad. Cooked on top of stove for 15 minutes.Added a shake of cayenne and a pinch of salt.  Used low fat sour cream.  Thanks.   \n",
       "1  So simple, so delicious! Great for chilly fall evening. Should have doubled it ;)<br/><br/>Second time around, forgot the remaining cumin. We usually love cumin, but didn't notice the missing 1/2 teaspoon!   \n",
       "2                                                                                                            This worked very well and is EASY.  I used not quite a whole package (10oz) of white chips.  Great!   \n",
       "3                                                                                                                                           I made the Mexican topping and took it to bunko.  Everyone loved it.   \n",
       "4                                                                                                                                      Made the cheddar bacon topping, adding a sprinkling of black pepper. Yum!   \n",
       "\n",
       "   review_imputed  \n",
       "0               0  \n",
       "1               0  \n",
       "2               0  \n",
       "3               0  \n",
       "4               0  "
      ]
     },
     "execution_count": 19,
     "metadata": {},
     "output_type": "execute_result"
    }
   ],
   "source": [
    "##Affichage des dataset aprés traitement des valeurs manquantes\n",
    "data.head()"
   ]
  },
  {
   "cell_type": "code",
   "execution_count": 20,
   "id": "3b253955",
   "metadata": {},
   "outputs": [
    {
     "name": "stdout",
     "output_type": "stream",
     "text": [
      "Nombre de doublons dans le dataset : 0\n"
     ]
    }
   ],
   "source": [
    "###Detection des doublons\n",
    "print(f\"Nombre de doublons dans le dataset : {data.duplicated().sum()}\")"
   ]
  },
  {
   "cell_type": "code",
   "execution_count": 21,
   "id": "20d6dbed",
   "metadata": {},
   "outputs": [
    {
     "data": {
      "text/html": [
       "<div>\n",
       "<style scoped>\n",
       "    .dataframe tbody tr th:only-of-type {\n",
       "        vertical-align: middle;\n",
       "    }\n",
       "\n",
       "    .dataframe tbody tr th {\n",
       "        vertical-align: top;\n",
       "    }\n",
       "\n",
       "    .dataframe thead th {\n",
       "        text-align: right;\n",
       "    }\n",
       "</style>\n",
       "<table border=\"1\" class=\"dataframe\">\n",
       "  <thead>\n",
       "    <tr style=\"text-align: right;\">\n",
       "      <th></th>\n",
       "      <th>user_id</th>\n",
       "      <th>recipe_id</th>\n",
       "      <th>date</th>\n",
       "      <th>rating</th>\n",
       "      <th>review</th>\n",
       "      <th>review_imputed</th>\n",
       "    </tr>\n",
       "  </thead>\n",
       "  <tbody>\n",
       "  </tbody>\n",
       "</table>\n",
       "</div>"
      ],
      "text/plain": [
       "Empty DataFrame\n",
       "Columns: [user_id, recipe_id, date, rating, review, review_imputed]\n",
       "Index: []"
      ]
     },
     "execution_count": 21,
     "metadata": {},
     "output_type": "execute_result"
    }
   ],
   "source": [
    "##affichons les utilisateurs qui ont commenté plus d'une fois la même recette.\n",
    "data[data.duplicated(subset=['user_id', 'recipe_id'], keep=False)]\n"
   ]
  },
  {
   "cell_type": "markdown",
   "id": "961f5443",
   "metadata": {},
   "source": [
    "Nous observons qu'il y'a pas de doublons."
   ]
  },
  {
   "cell_type": "code",
   "execution_count": 22,
   "id": "8595f0e3",
   "metadata": {},
   "outputs": [
    {
     "name": "stdout",
     "output_type": "stream",
     "text": [
      "<class 'pandas.core.frame.DataFrame'>\n",
      "RangeIndex: 1132367 entries, 0 to 1132366\n",
      "Data columns (total 6 columns):\n",
      " #   Column          Non-Null Count    Dtype         \n",
      "---  ------          --------------    -----         \n",
      " 0   user_id         1132367 non-null  category      \n",
      " 1   recipe_id       1132367 non-null  int64         \n",
      " 2   date            1132367 non-null  datetime64[ns]\n",
      " 3   rating          1132367 non-null  int64         \n",
      " 4   review          1132367 non-null  object        \n",
      " 5   review_imputed  1132367 non-null  int64         \n",
      "dtypes: category(1), datetime64[ns](1), int64(3), object(1)\n",
      "memory usage: 57.3+ MB\n",
      "None\n"
     ]
    }
   ],
   "source": [
    "##conversions des types de données\n",
    "data['date']=pd.to_datetime(data['date'])\n",
    "data['user_id']=data['user_id'].astype('category')\n",
    "\n",
    "print(data.info())"
   ]
  },
  {
   "cell_type": "code",
   "execution_count": 23,
   "id": "4b7e1253",
   "metadata": {},
   "outputs": [
    {
     "data": {
      "text/html": [
       "<div>\n",
       "<style scoped>\n",
       "    .dataframe tbody tr th:only-of-type {\n",
       "        vertical-align: middle;\n",
       "    }\n",
       "\n",
       "    .dataframe tbody tr th {\n",
       "        vertical-align: top;\n",
       "    }\n",
       "\n",
       "    .dataframe thead th {\n",
       "        text-align: right;\n",
       "    }\n",
       "</style>\n",
       "<table border=\"1\" class=\"dataframe\">\n",
       "  <thead>\n",
       "    <tr style=\"text-align: right;\">\n",
       "      <th></th>\n",
       "      <th>user_id</th>\n",
       "      <th>recipe_id</th>\n",
       "      <th>date</th>\n",
       "      <th>rating</th>\n",
       "      <th>review</th>\n",
       "      <th>review_imputed</th>\n",
       "    </tr>\n",
       "  </thead>\n",
       "  <tbody>\n",
       "    <tr>\n",
       "      <th>891583</th>\n",
       "      <td>191533</td>\n",
       "      <td>157745</td>\n",
       "      <td>2006-09-12</td>\n",
       "      <td>2</td>\n",
       "      <td>These were heavier and more tough than I was hoping for. I may have over-kneaded them though, I'm not sure. And I would say this makes more like 12 rolls, unless you want huge ones. Definitely is an easier recipe than most yeast breads.</td>\n",
       "      <td>0</td>\n",
       "    </tr>\n",
       "    <tr>\n",
       "      <th>594716</th>\n",
       "      <td>1197286</td>\n",
       "      <td>34382</td>\n",
       "      <td>2009-03-09</td>\n",
       "      <td>3</td>\n",
       "      <td>These were good but not wow and I had to add more butter.  I would make them again though.</td>\n",
       "      <td>0</td>\n",
       "    </tr>\n",
       "    <tr>\n",
       "      <th>725653</th>\n",
       "      <td>1767153</td>\n",
       "      <td>8654</td>\n",
       "      <td>2011-01-18</td>\n",
       "      <td>0</td>\n",
       "      <td>This was pretty decent - a very basic crock pot recipe. I didn't notice anything special about it, taste-wise, when compared to other beef crock pot recipes. I wasn't home when it was done, so I had my husband turn the pot off and remove the meat from the juices. &lt;br/&gt;&lt;br/&gt;When I got home, I threw part of the meat in a skillet - especially the edges of the roast that were covered with the mixture (reserved the middle part of the roast for something else - probably gonna make BBQ meat with it) and added a couple of cups of the juice from the crock pot to the skillet, as well. After the beef was shredded and mixed with the extra juice, the flavor was a bit bland. I then added cumin, garlic, jalapeño hot sauce, cayenne pepper and some Mexican chili powder. Those things pepped it up quite a bit, and allowed me to season it to our preferences.&lt;br/&gt;&lt;br/&gt;In retrospect, I wish I would have added some canned peppers in adobo to the crockpot mixture. I have a chicken recipe that literally can't be beat, and the recipe includes that component - I think it really makes the meat flavorful. &lt;br/&gt;&lt;br/&gt;If you didn't want to bother separating the meat by my method (the middle part of the roast untouched by the Mexican-inspired flavor), the meat would be fine with some spicy BBQ sauce. The flavors would meld fine, so no real big deal either way. &lt;br/&gt;&lt;br/&gt;Toppings that taste good with my bastardized version? Sour cream, Mexican cheese, and raw onions.</td>\n",
       "      <td>0</td>\n",
       "    </tr>\n",
       "    <tr>\n",
       "      <th>607471</th>\n",
       "      <td>606053</td>\n",
       "      <td>11824</td>\n",
       "      <td>2007-10-05</td>\n",
       "      <td>3</td>\n",
       "      <td>Instead of seasoning salt I used 2 tbsp of Garden Ranch popcorn seasoning and also some salt. I got nothing but compliments and was asked if there were any left for seconds.</td>\n",
       "      <td>0</td>\n",
       "    </tr>\n",
       "    <tr>\n",
       "      <th>136452</th>\n",
       "      <td>683416</td>\n",
       "      <td>363832</td>\n",
       "      <td>2010-01-17</td>\n",
       "      <td>0</td>\n",
       "      <td>WHAT A SURPRISE!!! \\nIt had a very good flavor...Did not taste anything like what I was expecting. I'm not rating it now because I cooked it in the microwave and know that it affected the texture (boiled over). What a nice alternative for a custard lover who can no longer have milk. I will be making this the first time I need a desert . The ingredients were what made me try it. I\"ll rate this once I have cooked it in the oven, and in a crust.</td>\n",
       "      <td>0</td>\n",
       "    </tr>\n",
       "  </tbody>\n",
       "</table>\n",
       "</div>"
      ],
      "text/plain": [
       "        user_id  recipe_id       date  rating  \\\n",
       "891583   191533     157745 2006-09-12       2   \n",
       "594716  1197286      34382 2009-03-09       3   \n",
       "725653  1767153       8654 2011-01-18       0   \n",
       "607471   606053      11824 2007-10-05       3   \n",
       "136452   683416     363832 2010-01-17       0   \n",
       "\n",
       "                                                                                                                                                                                                                                                                                                                                                                                                                                                                                                                                                                                                                                                                                                                                                                                                                                                                                                                                                                                                                                                                                                                                                                                                                                                                                                                                                                                                                                                                                                                   review  \\\n",
       "891583                                                                                                                                                                                                                                                                                                                                                                                                                                                                                                                                                                                                                                                                                                                                                                                                                                                                                                                                                                                                                                                                                                                                                                                                                                                                      These were heavier and more tough than I was hoping for. I may have over-kneaded them though, I'm not sure. And I would say this makes more like 12 rolls, unless you want huge ones. Definitely is an easier recipe than most yeast breads.    \n",
       "594716                                                                                                                                                                                                                                                                                                                                                                                                                                                                                                                                                                                                                                                                                                                                                                                                                                                                                                                                                                                                                                                                                                                                                                                                                                                                                                                                                                                                                         These were good but not wow and I had to add more butter.  I would make them again though.   \n",
       "725653  This was pretty decent - a very basic crock pot recipe. I didn't notice anything special about it, taste-wise, when compared to other beef crock pot recipes. I wasn't home when it was done, so I had my husband turn the pot off and remove the meat from the juices. <br/><br/>When I got home, I threw part of the meat in a skillet - especially the edges of the roast that were covered with the mixture (reserved the middle part of the roast for something else - probably gonna make BBQ meat with it) and added a couple of cups of the juice from the crock pot to the skillet, as well. After the beef was shredded and mixed with the extra juice, the flavor was a bit bland. I then added cumin, garlic, jalapeño hot sauce, cayenne pepper and some Mexican chili powder. Those things pepped it up quite a bit, and allowed me to season it to our preferences.<br/><br/>In retrospect, I wish I would have added some canned peppers in adobo to the crockpot mixture. I have a chicken recipe that literally can't be beat, and the recipe includes that component - I think it really makes the meat flavorful. <br/><br/>If you didn't want to bother separating the meat by my method (the middle part of the roast untouched by the Mexican-inspired flavor), the meat would be fine with some spicy BBQ sauce. The flavors would meld fine, so no real big deal either way. <br/><br/>Toppings that taste good with my bastardized version? Sour cream, Mexican cheese, and raw onions.   \n",
       "607471                                                                                                                                                                                                                                                                                                                                                                                                                                                                                                                                                                                                                                                                                                                                                                                                                                                                                                                                                                                                                                                                                                                                                                                                                                                                                                                                      Instead of seasoning salt I used 2 tbsp of Garden Ranch popcorn seasoning and also some salt. I got nothing but compliments and was asked if there were any left for seconds.   \n",
       "136452                                                                                                                                                                                                                                                                                                                                                                                                                                                                                                                                                                                                                                                                                                                                                                                                                                                                                                                                                                                                                                                     WHAT A SURPRISE!!! \\nIt had a very good flavor...Did not taste anything like what I was expecting. I'm not rating it now because I cooked it in the microwave and know that it affected the texture (boiled over). What a nice alternative for a custard lover who can no longer have milk. I will be making this the first time I need a desert . The ingredients were what made me try it. I\"ll rate this once I have cooked it in the oven, and in a crust.   \n",
       "\n",
       "        review_imputed  \n",
       "891583               0  \n",
       "594716               0  \n",
       "725653               0  \n",
       "607471               0  \n",
       "136452               0  "
      ]
     },
     "execution_count": 23,
     "metadata": {},
     "output_type": "execute_result"
    }
   ],
   "source": [
    "###Verification si les données sont cohérentes et valides,affichon les lignes dont la note est inferieur a 3\n",
    "data[data['rating'] <= 3].sample(5)"
   ]
  },
  {
   "cell_type": "markdown",
   "id": "30514a55",
   "metadata": {},
   "source": [
    "nous observons que plusieurs lignes du jeu de données présentent une note égale à 0 (rating = 0), tout en contenant un commentaire textuel (review) souvent positif ou négatif.\n",
    "Cette situation est incohérente : une note de 0 ne correspond pas à une appréciation valide sur une échelle de 1 à 5, et le contenu des commentaires indique que les utilisateurs ont bien exprimé une opinion sur la recette.\n",
    "\n",
    "Nous en déduisons que la valeur 0 ne traduit pas une mauvaise note, mais plutôt l’absence de note — autrement dit, une valeur manquante codée par 0.\n",
    "\n",
    "En conséquence, nous considérons toutes les notes égales à 0 comme valeurs manquantes et nous les remplaçons par NaN afin de ne pas biaiser les statistiques descriptives ni les calculs de moyennes.\n",
    "Cela revient à interpréter ces cas comme des utilisateurs ayant laissé un commentaire sans attribuer de note chiffrée."
   ]
  },
  {
   "cell_type": "code",
   "execution_count": 24,
   "id": "3a6e6ed5",
   "metadata": {},
   "outputs": [],
   "source": [
    "##remplacons les notes invalides par NaN\n",
    "data.loc[data['rating'] == 0, 'rating'] = np.nan"
   ]
  },
  {
   "cell_type": "code",
   "execution_count": 25,
   "id": "d3a7ec24",
   "metadata": {},
   "outputs": [
    {
     "name": "stdout",
     "output_type": "stream",
     "text": [
      "60847\n"
     ]
    }
   ],
   "source": [
    "##verifions les valeurs manquantes après le remplacement\n",
    "print(data['rating'].isnull().sum())"
   ]
  },
  {
   "cell_type": "markdown",
   "id": "f8b40dc9",
   "metadata": {},
   "source": [
    "Analyse descriptive"
   ]
  },
  {
   "cell_type": "code",
   "execution_count": 26,
   "id": "a03cdcaf",
   "metadata": {},
   "outputs": [],
   "source": [
    "##Nous allons commencer a etudié d'abord comment la note(rating) valide est distribuée dans le dataset.\n",
    "data=data[data['rating'].notna()]"
   ]
  },
  {
   "cell_type": "code",
   "execution_count": 27,
   "id": "d4b2f7b0",
   "metadata": {},
   "outputs": [
    {
     "data": {
      "text/plain": [
       "count    1.071520e+06\n",
       "mean     4.661499e+00\n",
       "std      7.230534e-01\n",
       "min      1.000000e+00\n",
       "25%      5.000000e+00\n",
       "50%      5.000000e+00\n",
       "75%      5.000000e+00\n",
       "max      5.000000e+00\n",
       "Name: rating, dtype: float64"
      ]
     },
     "execution_count": 27,
     "metadata": {},
     "output_type": "execute_result"
    }
   ],
   "source": [
    "data['rating'].describe()"
   ]
  },
  {
   "cell_type": "code",
   "execution_count": 28,
   "id": "cafb9bcb",
   "metadata": {},
   "outputs": [
    {
     "data": {
      "text/plain": [
       "rating\n",
       "5.0    76.187472\n",
       "4.0    17.485441\n",
       "3.0     3.812808\n",
       "2.0     1.318034\n",
       "1.0     1.196245\n",
       "Name: proportion, dtype: float64"
      ]
     },
     "execution_count": 28,
     "metadata": {},
     "output_type": "execute_result"
    }
   ],
   "source": [
    "data['rating'].value_counts(normalize=True)*100"
   ]
  },
  {
   "cell_type": "code",
   "execution_count": 29,
   "id": "9a6d8d5c",
   "metadata": {},
   "outputs": [
    {
     "data": {
      "image/png": "[encoded data removed]",
      "text/plain": [
       "<Figure size 640x480 with 1 Axes>"
      ]
     },
     "metadata": {},
     "output_type": "display_data"
    }
   ],
   "source": [
    "sns.countplot(x='rating', data=data)\n",
    "plt.title(\"Distribution des notes valides\")\n",
    "plt.xlabel(\"Note\")\n",
    "plt.ylabel(\"Nombre d’occurrences\")\n",
    "plt.show()"
   ]
  },
  {
   "cell_type": "markdown",
   "id": "5b942ba4",
   "metadata": {},
   "source": [
    "L’analyse univariée de la variable rating met en évidence une forte concentration des évaluations sur les valeurs hautes de l’échelle (4 et 5).\n",
    "Ce biais positif traduit une satisfaction générale élevée sur la plateforme, mais il indique aussi que la variable rating n’est pas symétriquement distribuée."
   ]
  },
  {
   "cell_type": "code",
   "execution_count": 30,
   "id": "d644db9e",
   "metadata": {},
   "outputs": [
    {
     "data": {
      "text/plain": [
       "count    226570.000000\n",
       "mean          4.729311\n",
       "std          49.084643\n",
       "min           0.000000\n",
       "25%           1.000000\n",
       "50%           1.000000\n",
       "75%           1.000000\n",
       "max        7665.000000\n",
       "Name: count, dtype: float64"
      ]
     },
     "execution_count": 30,
     "metadata": {},
     "output_type": "execute_result"
    }
   ],
   "source": [
    "###Calculons le nombre totale d interactions par utilisateur\n",
    "interactions_user = data['user_id'].value_counts()\n",
    "interactions_user.describe()"
   ]
  },
  {
   "cell_type": "code",
   "execution_count": 31,
   "id": "13d1da53",
   "metadata": {},
   "outputs": [
    {
     "name": "stdout",
     "output_type": "stream",
     "text": [
      "user_id\n",
      "801735        1\n",
      "2001838730    1\n",
      "650390        0\n",
      "2000215463    1\n",
      "2000296770    1\n",
      "1396987       1\n",
      "2000570486    0\n",
      "2000734480    0\n",
      "1254824       1\n",
      "2001450885    1\n",
      "Name: count, dtype: int64\n"
     ]
    }
   ],
   "source": [
    "##Etudions maintenant la variable userid en determinons le top 10 des utilisateurs qui ont le plus interagi avec les recettes en fonction du nombre d'avis laissés.\n",
    "top_users = data['user_id'].value_counts().sample(10)\n",
    "print(top_users)\n"
   ]
  },
  {
   "cell_type": "code",
   "execution_count": 32,
   "id": "bede6c22",
   "metadata": {},
   "outputs": [
    {
     "data": {
      "text/plain": [
       "count    214510.000000\n",
       "mean          4.580322\n",
       "std           0.629917\n",
       "min           1.000000\n",
       "25%           4.333333\n",
       "50%           4.888889\n",
       "75%           5.000000\n",
       "max           5.000000\n",
       "Name: avg_rating, dtype: float64"
      ]
     },
     "execution_count": 32,
     "metadata": {},
     "output_type": "execute_result"
    }
   ],
   "source": [
    "##calculons la note moyenne par recette\n",
    "data['avg_rating']= data.groupby('recipe_id')['rating'].mean()\n",
    "data['avg_rating'].describe()"
   ]
  },
  {
   "cell_type": "code",
   "execution_count": 33,
   "id": "0b5df1fc",
   "metadata": {},
   "outputs": [],
   "source": [
    "data.drop(columns=['avg_rating'],inplace=True)"
   ]
  },
  {
   "cell_type": "code",
   "execution_count": 34,
   "id": "0dbfffe9",
   "metadata": {},
   "outputs": [],
   "source": [
    "data['avg_rating'] = data.groupby('recipe_id')['rating'].transform('mean')\n"
   ]
  },
  {
   "cell_type": "code",
   "execution_count": 35,
   "id": "335a8f08",
   "metadata": {},
   "outputs": [
    {
     "data": {
      "text/html": [
       "<div>\n",
       "<style scoped>\n",
       "    .dataframe tbody tr th:only-of-type {\n",
       "        vertical-align: middle;\n",
       "    }\n",
       "\n",
       "    .dataframe tbody tr th {\n",
       "        vertical-align: top;\n",
       "    }\n",
       "\n",
       "    .dataframe thead th {\n",
       "        text-align: right;\n",
       "    }\n",
       "</style>\n",
       "<table border=\"1\" class=\"dataframe\">\n",
       "  <thead>\n",
       "    <tr style=\"text-align: right;\">\n",
       "      <th></th>\n",
       "      <th>user_id</th>\n",
       "      <th>recipe_id</th>\n",
       "      <th>date</th>\n",
       "      <th>rating</th>\n",
       "      <th>review</th>\n",
       "      <th>review_imputed</th>\n",
       "      <th>avg_rating</th>\n",
       "    </tr>\n",
       "  </thead>\n",
       "  <tbody>\n",
       "    <tr>\n",
       "      <th>0</th>\n",
       "      <td>38094</td>\n",
       "      <td>40893</td>\n",
       "      <td>2003-02-17</td>\n",
       "      <td>4.0</td>\n",
       "      <td>Great with a salad. Cooked on top of stove for 15 minutes.Added a shake of cayenne and a pinch of salt.  Used low fat sour cream.  Thanks.</td>\n",
       "      <td>0</td>\n",
       "      <td>4.5</td>\n",
       "    </tr>\n",
       "    <tr>\n",
       "      <th>1</th>\n",
       "      <td>1293707</td>\n",
       "      <td>40893</td>\n",
       "      <td>2011-12-21</td>\n",
       "      <td>5.0</td>\n",
       "      <td>So simple, so delicious! Great for chilly fall evening. Should have doubled it ;)&lt;br/&gt;&lt;br/&gt;Second time around, forgot the remaining cumin. We usually love cumin, but didn't notice the missing 1/2 teaspoon!</td>\n",
       "      <td>0</td>\n",
       "      <td>4.5</td>\n",
       "    </tr>\n",
       "    <tr>\n",
       "      <th>2</th>\n",
       "      <td>8937</td>\n",
       "      <td>44394</td>\n",
       "      <td>2002-12-01</td>\n",
       "      <td>4.0</td>\n",
       "      <td>This worked very well and is EASY.  I used not quite a whole package (10oz) of white chips.  Great!</td>\n",
       "      <td>0</td>\n",
       "      <td>4.0</td>\n",
       "    </tr>\n",
       "    <tr>\n",
       "      <th>3</th>\n",
       "      <td>126440</td>\n",
       "      <td>85009</td>\n",
       "      <td>2010-02-27</td>\n",
       "      <td>5.0</td>\n",
       "      <td>I made the Mexican topping and took it to bunko.  Everyone loved it.</td>\n",
       "      <td>0</td>\n",
       "      <td>5.0</td>\n",
       "    </tr>\n",
       "    <tr>\n",
       "      <th>4</th>\n",
       "      <td>57222</td>\n",
       "      <td>85009</td>\n",
       "      <td>2011-10-01</td>\n",
       "      <td>5.0</td>\n",
       "      <td>Made the cheddar bacon topping, adding a sprinkling of black pepper. Yum!</td>\n",
       "      <td>0</td>\n",
       "      <td>5.0</td>\n",
       "    </tr>\n",
       "  </tbody>\n",
       "</table>\n",
       "</div>"
      ],
      "text/plain": [
       "   user_id  recipe_id       date  rating  \\\n",
       "0    38094      40893 2003-02-17     4.0   \n",
       "1  1293707      40893 2011-12-21     5.0   \n",
       "2     8937      44394 2002-12-01     4.0   \n",
       "3   126440      85009 2010-02-27     5.0   \n",
       "4    57222      85009 2011-10-01     5.0   \n",
       "\n",
       "                                                                                                                                                                                                          review  \\\n",
       "0                                                                     Great with a salad. Cooked on top of stove for 15 minutes.Added a shake of cayenne and a pinch of salt.  Used low fat sour cream.  Thanks.   \n",
       "1  So simple, so delicious! Great for chilly fall evening. Should have doubled it ;)<br/><br/>Second time around, forgot the remaining cumin. We usually love cumin, but didn't notice the missing 1/2 teaspoon!   \n",
       "2                                                                                                            This worked very well and is EASY.  I used not quite a whole package (10oz) of white chips.  Great!   \n",
       "3                                                                                                                                           I made the Mexican topping and took it to bunko.  Everyone loved it.   \n",
       "4                                                                                                                                      Made the cheddar bacon topping, adding a sprinkling of black pepper. Yum!   \n",
       "\n",
       "   review_imputed  avg_rating  \n",
       "0               0         4.5  \n",
       "1               0         4.5  \n",
       "2               0         4.0  \n",
       "3               0         5.0  \n",
       "4               0         5.0  "
      ]
     },
     "execution_count": 35,
     "metadata": {},
     "output_type": "execute_result"
    }
   ],
   "source": [
    "#afficher tous les avis de la recette 40893\n",
    "data.head()\n",
    "\n"
   ]
  },
  {
   "cell_type": "code",
   "execution_count": 36,
   "id": "a18caa18",
   "metadata": {},
   "outputs": [
    {
     "data": {
      "text/html": [
       "<div>\n",
       "<style scoped>\n",
       "    .dataframe tbody tr th:only-of-type {\n",
       "        vertical-align: middle;\n",
       "    }\n",
       "\n",
       "    .dataframe tbody tr th {\n",
       "        vertical-align: top;\n",
       "    }\n",
       "\n",
       "    .dataframe thead th {\n",
       "        text-align: right;\n",
       "    }\n",
       "</style>\n",
       "<table border=\"1\" class=\"dataframe\">\n",
       "  <thead>\n",
       "    <tr style=\"text-align: right;\">\n",
       "      <th></th>\n",
       "      <th>user_id</th>\n",
       "      <th>recipe_id</th>\n",
       "      <th>date</th>\n",
       "      <th>rating</th>\n",
       "      <th>review</th>\n",
       "      <th>review_imputed</th>\n",
       "      <th>avg_rating</th>\n",
       "    </tr>\n",
       "  </thead>\n",
       "  <tbody>\n",
       "    <tr>\n",
       "      <th>87579</th>\n",
       "      <td>88099</td>\n",
       "      <td>95414</td>\n",
       "      <td>2008-06-16</td>\n",
       "      <td>3.0</td>\n",
       "      <td>These were okay but they had way too much salt for our taste. It took quite a while for the glaze to develop and it seems to have way too much fat. The ribs were not as tender as I would have expected at 2 1/2 hours. Just generally didn't care for this. I saw Alton make this on TV the other day so was so hoping it would turn out. Thanks.</td>\n",
       "      <td>0</td>\n",
       "      <td>3.880000</td>\n",
       "    </tr>\n",
       "    <tr>\n",
       "      <th>827868</th>\n",
       "      <td>933274</td>\n",
       "      <td>307218</td>\n",
       "      <td>2008-08-24</td>\n",
       "      <td>1.0</td>\n",
       "      <td>Perhaps I did something wrong when I made this, but the vegetables turned out rather chewy and bland, and the rice was undercooked, even though I cooked it for an extra half hour.</td>\n",
       "      <td>0</td>\n",
       "      <td>1.000000</td>\n",
       "    </tr>\n",
       "    <tr>\n",
       "      <th>72271</th>\n",
       "      <td>998226</td>\n",
       "      <td>162961</td>\n",
       "      <td>2016-11-22</td>\n",
       "      <td>5.0</td>\n",
       "      <td>I was a little skeptical about this combination...but it was wonderful. I eat Portabella mushrooms all the time and wanted something a little different and this was it! Great flavor will make again! They were delicious. I live alone, so scaled back all the ingredients for two large mushrooms...wonderful. Thanks for sharing.</td>\n",
       "      <td>0</td>\n",
       "      <td>4.875000</td>\n",
       "    </tr>\n",
       "    <tr>\n",
       "      <th>303962</th>\n",
       "      <td>58104</td>\n",
       "      <td>84476</td>\n",
       "      <td>2004-04-27</td>\n",
       "      <td>5.0</td>\n",
       "      <td>Fabulous! I used frozen baby clams on the half shell. So I had it easy! I added a cup of white wine along with the tomatoes. I waited to add the clams till the pasta was done being they just needed to be heated. I served a loaf of crisp french bread to dip into the juices. So yummy!</td>\n",
       "      <td>0</td>\n",
       "      <td>5.000000</td>\n",
       "    </tr>\n",
       "    <tr>\n",
       "      <th>279132</th>\n",
       "      <td>285143</td>\n",
       "      <td>84247</td>\n",
       "      <td>2006-02-08</td>\n",
       "      <td>5.0</td>\n",
       "      <td>This was my first recipe from your site and I made it for my Dad, right after we lost my Mom; first experience with Panko, too. This is definitely a keeper!</td>\n",
       "      <td>0</td>\n",
       "      <td>4.823529</td>\n",
       "    </tr>\n",
       "    <tr>\n",
       "      <th>738144</th>\n",
       "      <td>780122</td>\n",
       "      <td>25529</td>\n",
       "      <td>2009-09-20</td>\n",
       "      <td>5.0</td>\n",
       "      <td>Followed recipe exactly and it was DELISH!! Family loved it and it is a simple dinner/lunch.</td>\n",
       "      <td>0</td>\n",
       "      <td>4.625000</td>\n",
       "    </tr>\n",
       "    <tr>\n",
       "      <th>974126</th>\n",
       "      <td>575997</td>\n",
       "      <td>10191</td>\n",
       "      <td>2008-06-22</td>\n",
       "      <td>5.0</td>\n",
       "      <td>Excellent.  My husband did add 1 TBS of butter.  We will stop buying store bought syrup.  Thanks</td>\n",
       "      <td>0</td>\n",
       "      <td>4.800000</td>\n",
       "    </tr>\n",
       "    <tr>\n",
       "      <th>255567</th>\n",
       "      <td>305531</td>\n",
       "      <td>427852</td>\n",
       "      <td>2013-08-05</td>\n",
       "      <td>5.0</td>\n",
       "      <td>Yum. These potatoes were simple and good. I was a little unsure of adding the vinegar, but glad I did. It added just a bit of tang that was good. Thanks Boomette for sharing. Made for ZWT9.</td>\n",
       "      <td>0</td>\n",
       "      <td>5.000000</td>\n",
       "    </tr>\n",
       "    <tr>\n",
       "      <th>3440</th>\n",
       "      <td>1802444757</td>\n",
       "      <td>350559</td>\n",
       "      <td>2014-02-02</td>\n",
       "      <td>3.0</td>\n",
       "      <td>Well, the posted recipe has no mention of milk like there is in most breakfast casserole recipes--perhaps an oversight by the poster. Therefore, it was dry as the one reviewer said--not awful but not a keeper and I did add a 1/2 teaspoon of pepper. Based on what I am seeing elsewhere, the next attempt at this will be to use 2 cups of milk and only 1 1/2 cups shredded cheddar. I&amp;#039;m betting that will work.</td>\n",
       "      <td>0</td>\n",
       "      <td>3.875000</td>\n",
       "    </tr>\n",
       "    <tr>\n",
       "      <th>1085829</th>\n",
       "      <td>146047</td>\n",
       "      <td>89064</td>\n",
       "      <td>2006-12-10</td>\n",
       "      <td>5.0</td>\n",
       "      <td>Loved the filling in these bars-- nice and moist with great, sweet flavor. I like the crust, but didn't love it, perhaps because I'm not a huge fan of cake mix. Next time I'll use the filling in a regular or graham cracker pie crust, which will no doubt make for a smashing pumpkin pie.  Still, an easy recipe that went over well with guests makes it a 5-star choice. Thanks for posting!  --Heather</td>\n",
       "      <td>0</td>\n",
       "      <td>5.000000</td>\n",
       "    </tr>\n",
       "    <tr>\n",
       "      <th>328638</th>\n",
       "      <td>1991853</td>\n",
       "      <td>90975</td>\n",
       "      <td>2014-07-04</td>\n",
       "      <td>5.0</td>\n",
       "      <td>I made just the dressing the night before and tried it on a regular salad. I didn&amp;#039;t think it was that great. However, the next day I made a proper Greek salad using it and wow was it spot on. I&amp;#039;m not sure whether it is just particularly suited to the unique blend of ingredients in a Greek salad or whether the flavors just melded over night. In any event, as a long time Greek salad lover - this recipe is a keeper!</td>\n",
       "      <td>0</td>\n",
       "      <td>4.880952</td>\n",
       "    </tr>\n",
       "    <tr>\n",
       "      <th>761262</th>\n",
       "      <td>498271</td>\n",
       "      <td>505283</td>\n",
       "      <td>2013-10-08</td>\n",
       "      <td>5.0</td>\n",
       "      <td>This is a great and easy salsa!  Nice and spicy and loved the addition of the lime.  Thanks for sharing the recipe!</td>\n",
       "      <td>0</td>\n",
       "      <td>5.000000</td>\n",
       "    </tr>\n",
       "    <tr>\n",
       "      <th>954096</th>\n",
       "      <td>184579</td>\n",
       "      <td>69173</td>\n",
       "      <td>2011-09-17</td>\n",
       "      <td>5.0</td>\n",
       "      <td>I've never made meatballs before and oh my....these are wonderful!  Thank you for sharing!!!!!</td>\n",
       "      <td>0</td>\n",
       "      <td>4.894682</td>\n",
       "    </tr>\n",
       "    <tr>\n",
       "      <th>625930</th>\n",
       "      <td>313014</td>\n",
       "      <td>248972</td>\n",
       "      <td>2010-03-30</td>\n",
       "      <td>5.0</td>\n",
       "      <td>Very good! Quick and easy to do.\\r\\nThanks for sharing!</td>\n",
       "      <td>0</td>\n",
       "      <td>4.750000</td>\n",
       "    </tr>\n",
       "    <tr>\n",
       "      <th>246947</th>\n",
       "      <td>267527</td>\n",
       "      <td>30472</td>\n",
       "      <td>2007-09-04</td>\n",
       "      <td>4.0</td>\n",
       "      <td>Very good, for crock pot food! I added some Thai green sauce for an extra kick; and added steamed cauliflower and brown sugar at the end - I felt it needed a tad of sweetener. I did not cook rice in the crock pot, so next time I'll only use 2 c. stock. I also omitted the half-n-half. Without cooking rice in the crock pot I have lots of good sauce left over.\\nThanks. I'll keep this recipe.\\nJan</td>\n",
       "      <td>0</td>\n",
       "      <td>4.090909</td>\n",
       "    </tr>\n",
       "    <tr>\n",
       "      <th>238243</th>\n",
       "      <td>1803720061</td>\n",
       "      <td>52985</td>\n",
       "      <td>2015-01-28</td>\n",
       "      <td>4.0</td>\n",
       "      <td>Julienne&amp;#039;d the pepper. Added, quarter of an onion finely diced, 2 tbsp of Soy sauce and 1.5 tsp of lemon juice, didn&amp;#039;t add the salt (because of the soy sauce). Came up really nice.</td>\n",
       "      <td>0</td>\n",
       "      <td>4.666667</td>\n",
       "    </tr>\n",
       "    <tr>\n",
       "      <th>666636</th>\n",
       "      <td>53959</td>\n",
       "      <td>154267</td>\n",
       "      <td>2006-04-10</td>\n",
       "      <td>5.0</td>\n",
       "      <td>Yummy! We loved these. A great way to doctor up frozen french fries to make them edible.</td>\n",
       "      <td>0</td>\n",
       "      <td>4.812500</td>\n",
       "    </tr>\n",
       "    <tr>\n",
       "      <th>929164</th>\n",
       "      <td>463435</td>\n",
       "      <td>375504</td>\n",
       "      <td>2012-11-20</td>\n",
       "      <td>5.0</td>\n",
       "      <td>So simple, and yet so very tasty. Living at my MIL (hopefully a very temporary situation) my families diet has changed drastically. Fresh veggies are not the norm. When I came across this recipe today, I knew I had to have it with vegetables... So for lunch today I sliced up a red bell pepper and a celery stalk. The dressing was fabulous on both. I can't wait to try it on a nice salmon filet or other piece of fish. Unfortunately that will have to wait a while as MIL will only allow canned salmon or tuna in the house :(</td>\n",
       "      <td>0</td>\n",
       "      <td>5.000000</td>\n",
       "    </tr>\n",
       "    <tr>\n",
       "      <th>251909</th>\n",
       "      <td>174854</td>\n",
       "      <td>35805</td>\n",
       "      <td>2005-06-16</td>\n",
       "      <td>5.0</td>\n",
       "      <td>This recipe is certainly easy peasy...but oh so yummy!I baked mine in my new air-nake pans and they came out perfect. Served at my b-day party and everyone devoured the pizzas! My aunt and uncle took the leftovers home for supper! This crust is simple to make- just throw things into the bread machine- and the results are fantastico! Thanks for a real keeper!</td>\n",
       "      <td>0</td>\n",
       "      <td>4.750973</td>\n",
       "    </tr>\n",
       "    <tr>\n",
       "      <th>581313</th>\n",
       "      <td>56087</td>\n",
       "      <td>99529</td>\n",
       "      <td>2004-10-08</td>\n",
       "      <td>5.0</td>\n",
       "      <td>Love, love love this recipe.  I have to be honest, I never venture outside the \"normal\" realm of cheese and SO glad I gave this a shot.  I love feta, but had never even sampled muenster, it's a new favorite.  This is easy to make and a delight to eat.  Thank You... my hubby thanks you!</td>\n",
       "      <td>0</td>\n",
       "      <td>4.666667</td>\n",
       "    </tr>\n",
       "  </tbody>\n",
       "</table>\n",
       "</div>"
      ],
      "text/plain": [
       "            user_id  recipe_id       date  rating  \\\n",
       "87579         88099      95414 2008-06-16     3.0   \n",
       "827868       933274     307218 2008-08-24     1.0   \n",
       "72271        998226     162961 2016-11-22     5.0   \n",
       "303962        58104      84476 2004-04-27     5.0   \n",
       "279132       285143      84247 2006-02-08     5.0   \n",
       "738144       780122      25529 2009-09-20     5.0   \n",
       "974126       575997      10191 2008-06-22     5.0   \n",
       "255567       305531     427852 2013-08-05     5.0   \n",
       "3440     1802444757     350559 2014-02-02     3.0   \n",
       "1085829      146047      89064 2006-12-10     5.0   \n",
       "328638      1991853      90975 2014-07-04     5.0   \n",
       "761262       498271     505283 2013-10-08     5.0   \n",
       "954096       184579      69173 2011-09-17     5.0   \n",
       "625930       313014     248972 2010-03-30     5.0   \n",
       "246947       267527      30472 2007-09-04     4.0   \n",
       "238243   1803720061      52985 2015-01-28     4.0   \n",
       "666636        53959     154267 2006-04-10     5.0   \n",
       "929164       463435     375504 2012-11-20     5.0   \n",
       "251909       174854      35805 2005-06-16     5.0   \n",
       "581313        56087      99529 2004-10-08     5.0   \n",
       "\n",
       "                                                                                                                                                                                                                                                                                                                                                                                                                                                                                                                                               review  \\\n",
       "87579                                                                                                                                                                                             These were okay but they had way too much salt for our taste. It took quite a while for the glaze to develop and it seems to have way too much fat. The ribs were not as tender as I would have expected at 2 1/2 hours. Just generally didn't care for this. I saw Alton make this on TV the other day so was so hoping it would turn out. Thanks.   \n",
       "827868                                                                                                                                                                                                                                                                                                                                                            Perhaps I did something wrong when I made this, but the vegetables turned out rather chewy and bland, and the rice was undercooked, even though I cooked it for an extra half hour.   \n",
       "72271                                                                                                                                                                                                           I was a little skeptical about this combination...but it was wonderful. I eat Portabella mushrooms all the time and wanted something a little different and this was it! Great flavor will make again! They were delicious. I live alone, so scaled back all the ingredients for two large mushrooms...wonderful. Thanks for sharing.   \n",
       "303962                                                                                                                                                                                                                                                    Fabulous! I used frozen baby clams on the half shell. So I had it easy! I added a cup of white wine along with the tomatoes. I waited to add the clams till the pasta was done being they just needed to be heated. I served a loaf of crisp french bread to dip into the juices. So yummy!   \n",
       "279132                                                                                                                                                                                                                                                                                                                                                                                   This was my first recipe from your site and I made it for my Dad, right after we lost my Mom; first experience with Panko, too. This is definitely a keeper!   \n",
       "738144                                                                                                                                                                                                                                                                                                                                                                                                                                                   Followed recipe exactly and it was DELISH!! Family loved it and it is a simple dinner/lunch.   \n",
       "974126                                                                                                                                                                                                                                                                                                                                                                                                                                               Excellent.  My husband did add 1 TBS of butter.  We will stop buying store bought syrup.  Thanks   \n",
       "255567                                                                                                                                                                                                                                                                                                                                                  Yum. These potatoes were simple and good. I was a little unsure of adding the vinegar, but glad I did. It added just a bit of tang that was good. Thanks Boomette for sharing. Made for ZWT9.   \n",
       "3440                                                                                                                      Well, the posted recipe has no mention of milk like there is in most breakfast casserole recipes--perhaps an oversight by the poster. Therefore, it was dry as the one reviewer said--not awful but not a keeper and I did add a 1/2 teaspoon of pepper. Based on what I am seeing elsewhere, the next attempt at this will be to use 2 cups of milk and only 1 1/2 cups shredded cheddar. I&#039;m betting that will work.   \n",
       "1085829                                                                                                                                Loved the filling in these bars-- nice and moist with great, sweet flavor. I like the crust, but didn't love it, perhaps because I'm not a huge fan of cake mix. Next time I'll use the filling in a regular or graham cracker pie crust, which will no doubt make for a smashing pumpkin pie.  Still, an easy recipe that went over well with guests makes it a 5-star choice. Thanks for posting!  --Heather   \n",
       "328638                                                                                                     I made just the dressing the night before and tried it on a regular salad. I didn&#039;t think it was that great. However, the next day I made a proper Greek salad using it and wow was it spot on. I&#039;m not sure whether it is just particularly suited to the unique blend of ingredients in a Greek salad or whether the flavors just melded over night. In any event, as a long time Greek salad lover - this recipe is a keeper!   \n",
       "761262                                                                                                                                                                                                                                                                                                                                                                                                                            This is a great and easy salsa!  Nice and spicy and loved the addition of the lime.  Thanks for sharing the recipe!   \n",
       "954096                                                                                                                                                                                                                                                                                                                                                                                                                                                 I've never made meatballs before and oh my....these are wonderful!  Thank you for sharing!!!!!   \n",
       "625930                                                                                                                                                                                                                                                                                                                                                                                                                                                                                        Very good! Quick and easy to do.\\r\\nThanks for sharing!   \n",
       "246947                                                                                                                                   Very good, for crock pot food! I added some Thai green sauce for an extra kick; and added steamed cauliflower and brown sugar at the end - I felt it needed a tad of sweetener. I did not cook rice in the crock pot, so next time I'll only use 2 c. stock. I also omitted the half-n-half. Without cooking rice in the crock pot I have lots of good sauce left over.\\nThanks. I'll keep this recipe.\\nJan   \n",
       "238243                                                                                                                                                                                                                                                                                                                                                 Julienne&#039;d the pepper. Added, quarter of an onion finely diced, 2 tbsp of Soy sauce and 1.5 tsp of lemon juice, didn&#039;t add the salt (because of the soy sauce). Came up really nice.   \n",
       "666636                                                                                                                                                                                                                                                                                                                                                                                                                                                      Yummy! We loved these. A great way to doctor up frozen french fries to make them edible.    \n",
       "929164   So simple, and yet so very tasty. Living at my MIL (hopefully a very temporary situation) my families diet has changed drastically. Fresh veggies are not the norm. When I came across this recipe today, I knew I had to have it with vegetables... So for lunch today I sliced up a red bell pepper and a celery stalk. The dressing was fabulous on both. I can't wait to try it on a nice salmon filet or other piece of fish. Unfortunately that will have to wait a while as MIL will only allow canned salmon or tuna in the house :(   \n",
       "251909                                                                                                                                                                       This recipe is certainly easy peasy...but oh so yummy!I baked mine in my new air-nake pans and they came out perfect. Served at my b-day party and everyone devoured the pizzas! My aunt and uncle took the leftovers home for supper! This crust is simple to make- just throw things into the bread machine- and the results are fantastico! Thanks for a real keeper!   \n",
       "581313                                                                                                                                                                                                                                                 Love, love love this recipe.  I have to be honest, I never venture outside the \"normal\" realm of cheese and SO glad I gave this a shot.  I love feta, but had never even sampled muenster, it's a new favorite.  This is easy to make and a delight to eat.  Thank You... my hubby thanks you!   \n",
       "\n",
       "         review_imputed  avg_rating  \n",
       "87579                 0    3.880000  \n",
       "827868                0    1.000000  \n",
       "72271                 0    4.875000  \n",
       "303962                0    5.000000  \n",
       "279132                0    4.823529  \n",
       "738144                0    4.625000  \n",
       "974126                0    4.800000  \n",
       "255567                0    5.000000  \n",
       "3440                  0    3.875000  \n",
       "1085829               0    5.000000  \n",
       "328638                0    4.880952  \n",
       "761262                0    5.000000  \n",
       "954096                0    4.894682  \n",
       "625930                0    4.750000  \n",
       "246947                0    4.090909  \n",
       "238243                0    4.666667  \n",
       "666636                0    4.812500  \n",
       "929164                0    5.000000  \n",
       "251909                0    4.750973  \n",
       "581313                0    4.666667  "
      ]
     },
     "execution_count": 36,
     "metadata": {},
     "output_type": "execute_result"
    }
   ],
   "source": [
    "data.sample(20)\n"
   ]
  },
  {
   "cell_type": "code",
   "execution_count": 37,
   "id": "92e1472d",
   "metadata": {},
   "outputs": [
    {
     "data": {
      "image/png": "[encoded data removed]",
      "text/plain": [
       "<Figure size 1000x600 with 1 Axes>"
      ]
     },
     "metadata": {},
     "output_type": "display_data"
    }
   ],
   "source": [
    "### etudions la variable average rating,nous allons commencer par visualiser la distribution des notes moyennes par recette.\n",
    "plt.figure(figsize=(10, 6))\n",
    "sns.histplot(data['avg_rating'], bins=20, kde=True)\n",
    "plt.title(\"Distribution des notes moyennes par recette\")\n",
    "plt.xlabel(\"Note moyenne\")\n",
    "plt.ylabel(\"Nombre de recettes\")\n",
    "plt.show()"
   ]
  },
  {
   "cell_type": "code",
   "execution_count": 38,
   "id": "9b754c6f",
   "metadata": {},
   "outputs": [
    {
     "data": {
      "text/plain": [
       "Text(0.5, 0, 'User ID')"
      ]
     },
     "execution_count": 38,
     "metadata": {},
     "output_type": "execute_result"
    },
    {
     "data": {
      "image/png": "[encoded data removed]",
      "text/plain": [
       "<Figure size 640x480 with 1 Axes>"
      ]
     },
     "metadata": {},
     "output_type": "display_data"
    }
   ],
   "source": [
    "data['user_id'].value_counts().head(10).plot(kind='bar')\n",
    "plt.title('Top 10 des utilisateurs avec le plus d\\'interactions')\n",
    "plt.xlabel('User ID')"
   ]
  },
  {
   "cell_type": "code",
   "execution_count": 39,
   "id": "0d4eab6a",
   "metadata": {},
   "outputs": [
    {
     "name": "stdout",
     "output_type": "stream",
     "text": [
      "Proportion des utilisateurs ayant laissé moins de 2 avis : 75.38%\n"
     ]
    }
   ],
   "source": [
    "##Calculons la proportion des utilisateurs qui ont laissé moins de 2 avis\n",
    "proportion_moins_de_2_avis = (data['user_id'].value_counts() < 2).mean() * 100\n",
    "print(f\"Proportion des utilisateurs ayant laissé moins de 2 avis : {proportion_moins_de_2_avis:.2f}%\")"
   ]
  },
  {
   "cell_type": "markdown",
   "id": "6acd4e5f",
   "metadata": {},
   "source": [
    "analyse de la variable UserID met en évidence une forte disparité d’activité sur la plateforme :\n",
    "\n",
    "- 73,38 % des utilisateurs n’ont laissé qu’un seul avis, ce qui traduit un comportement ponctuel.\n",
    "- Une minorité d’utilisateurs hyperactifs contribue à une part importante des évaluations (jusqu’à 7 671 avis pour le plus actif).\n",
    "\n",
    "En conséquence, les analyses globales (par exemple la moyenne des notes) peuvent être biaisées par la surreprésentation des utilisateurs les plus actifs.\n",
    "\n",
    "Il est donc crucial, dans la suite de l’étude, d’examiner le lien entre le niveau d’activité UserID et les notes attribuées Rating afin de vérifier si ces utilisateurs très actifs sont également ceux qui attribuent systématiquement les notes les plus élevées."
   ]
  },
  {
   "cell_type": "code",
   "execution_count": 40,
   "id": "9c2bb1ce",
   "metadata": {},
   "outputs": [
    {
     "name": "stderr",
     "output_type": "stream",
     "text": [
      "C:\\Users\\ABDILLAHIOMARDJAMA\\AppData\\Local\\Temp\\ipykernel_11472\\2131936807.py:2: FutureWarning: The default of observed=False is deprecated and will be changed to True in a future version of pandas. Pass observed=False to retain current behavior or observed=True to adopt the future default and silence this warning.\n",
      "  data.groupby('user_id')['rating'].mean().describe()\n"
     ]
    },
    {
     "data": {
      "text/plain": [
       "count    196098.000000\n",
       "mean          4.557734\n",
       "std           0.900728\n",
       "min           1.000000\n",
       "25%           4.500000\n",
       "50%           5.000000\n",
       "75%           5.000000\n",
       "max           5.000000\n",
       "Name: rating, dtype: float64"
      ]
     },
     "execution_count": 40,
     "metadata": {},
     "output_type": "execute_result"
    }
   ],
   "source": [
    "##\n",
    "data.groupby('user_id')['rating'].mean().describe()"
   ]
  },
  {
   "cell_type": "code",
   "execution_count": 41,
   "id": "361d401b",
   "metadata": {},
   "outputs": [
    {
     "name": "stderr",
     "output_type": "stream",
     "text": [
      "C:\\Users\\ABDILLAHIOMARDJAMA\\AppData\\Local\\Temp\\ipykernel_11472\\4001221394.py:1: FutureWarning: The default of observed=False is deprecated and will be changed to True in a future version of pandas. Pass observed=False to retain current behavior or observed=True to adopt the future default and silence this warning.\n",
      "  data.groupby('user_id')['rating'].mean().hist(bins=30, rwidth=0.9)\n"
     ]
    },
    {
     "data": {
      "image/png": "[encoded data removed]",
      "text/plain": [
       "<Figure size 640x480 with 1 Axes>"
      ]
     },
     "metadata": {},
     "output_type": "display_data"
    }
   ],
   "source": [
    "data.groupby('user_id')['rating'].mean().hist(bins=30, rwidth=0.9)\n",
    "plt.title(\"Distribution de la moyenne des notes par utilisateur\")\n",
    "plt.xlabel(\"Moyenne des notes attribuées\")\n",
    "plt.ylabel(\"Nombre d'utilisateurs\")\n",
    "plt.show()"
   ]
  },
  {
   "cell_type": "code",
   "execution_count": 42,
   "id": "aff007d7",
   "metadata": {},
   "outputs": [
    {
     "data": {
      "image/png": "[encoded data removed]",
      "text/plain": [
       "<Figure size 1000x600 with 1 Axes>"
      ]
     },
     "metadata": {},
     "output_type": "display_data"
    }
   ],
   "source": [
    "##relation entre le nombre d'avis laissés et la note moyenne attribuée par utilisateur\n",
    "plt.figure(figsize=(10, 6))\n",
    "sns.scatterplot(x=data['user_id'].value_counts(), y=data.groupby('user_id', observed=True)['rating'].mean())\n",
    "plt.title(\"Relation entre le nombre d'avis laissés et la note moyenne par utilisateur\")\n",
    "plt.xlabel(\"Nombre d'avis laissés\")\n",
    "plt.ylabel(\"Note moyenne attribuée\")\n",
    "plt.show()"
   ]
  },
  {
   "cell_type": "code",
   "execution_count": 43,
   "id": "9e0d3340",
   "metadata": {},
   "outputs": [
    {
     "name": "stdout",
     "output_type": "stream",
     "text": [
      "Corrélation entre le nombre d'avis laissés et la note moyenne attribuée par utilisateur : 0.01\n"
     ]
    }
   ],
   "source": [
    "##calculons la corrélation entre le nombre d'avis laissés et la note moyenne attribuée par utilisateur\n",
    "correlation = data['user_id'].value_counts().corr(data.groupby('user_id', observed=True)['rating'].mean())\n",
    "print(f\"Corrélation entre le nombre d'avis laissés et la note moyenne attribuée par utilisateur : {correlation:.2f}\")\n"
   ]
  },
  {
   "cell_type": "code",
   "execution_count": 44,
   "id": "ffafe486",
   "metadata": {},
   "outputs": [
    {
     "data": {
      "text/plain": [
       "count    226570.000000\n",
       "mean          4.729311\n",
       "std          49.084643\n",
       "min           0.000000\n",
       "25%           1.000000\n",
       "50%           1.000000\n",
       "75%           1.000000\n",
       "95%          10.000000\n",
       "99%          59.000000\n",
       "max        7665.000000\n",
       "Name: count, dtype: float64"
      ]
     },
     "execution_count": 44,
     "metadata": {},
     "output_type": "execute_result"
    }
   ],
   "source": [
    "##le percentiles jusqu'à 99% des interactions par utilisateur,et regardons apres par au notes moyennes au recettes afin de voir si les utilisateurs qui laissent le plus d'avis ont tendance a donner des notes plus élevées ou plus basses.\n",
    "data['user_id'].value_counts().describe(percentiles=[.25, .5, .75, .95, .99])\n"
   ]
  },
  {
   "cell_type": "code",
   "execution_count": 45,
   "id": "656e7f91",
   "metadata": {},
   "outputs": [
    {
     "data": {
      "text/plain": [
       "interaction_level\n",
       "Extrême    52.954495\n",
       "Haute      18.980047\n",
       "Modérée    14.970229\n",
       "Faible     13.095229\n",
       "Name: proportion, dtype: float64"
      ]
     },
     "execution_count": 45,
     "metadata": {},
     "output_type": "execute_result"
    }
   ],
   "source": [
    "bins = [0, 1, 10, 60, float('inf')]\n",
    "labels = ['Faible', 'Modérée', 'Haute', 'Extrême']\n",
    "data['interaction_level'] = pd.cut(data['user_id'].map(data['user_id'].value_counts()), bins=bins, labels=labels)\n",
    "data['interaction_level'].value_counts(normalize=True) * 100"
   ]
  },
  {
   "cell_type": "code",
   "execution_count": 46,
   "id": "6f221f06",
   "metadata": {},
   "outputs": [
    {
     "data": {
      "image/png": "[encoded data removed]",
      "text/plain": [
       "<Figure size 640x480 with 1 Axes>"
      ]
     },
     "metadata": {},
     "output_type": "display_data"
    }
   ],
   "source": [
    "user_stats = data.groupby('user_id', observed=True).agg({'rating': 'mean', 'interaction_level': 'first'}).reset_index()\n",
    "user_stats.rename(columns={'rating': 'note_moyenne'}, inplace=True)\n",
    "sns.barplot(x='interaction_level', y='note_moyenne', data=user_stats, order=labels)\n",
    "plt.title(\"Relation entre l'activité et la moyenne des notes attribuées\")\n",
    "plt.xlabel(\"Catégorie d'activité de l'utilisateur\")\n",
    "plt.ylabel(\"Moyenne des notes\")\n",
    "plt.show()\n"
   ]
  },
  {
   "cell_type": "markdown",
   "id": "7df02649",
   "metadata": {},
   "source": [
    "Les résultats montrent une distribution très homogène des notes :\n",
    "quelle que soit la fréquence d’interaction d’un utilisateur, la moyenne des notes reste globalement stable, autour de 4.5 à 4.7.\n",
    "\n",
    "Aucune tendance claire (ni croissante ni décroissante) n’apparaît entre le nombre d’avis laissés et la sévérité des notes attribuées.\n",
    "Cette absence de corrélation suggère que le niveau d’activité n’a pas d’impact significatif sur la manière dont les utilisateurs notent les recettes.\n"
   ]
  },
  {
   "cell_type": "code",
   "execution_count": 55,
   "id": "7858e03e",
   "metadata": {},
   "outputs": [
    {
     "name": "stderr",
     "output_type": "stream",
     "text": [
      "[nltk_data] Downloading package wordnet to c:\\Users\\ABDILLAHIOMARDJAMA\n",
      "[nltk_data]     \\Downloads\\MangeTaMain\\notebooks\\nltk_data...\n",
      "[nltk_data] Downloading package omw-1.4 to c:\\Users\\ABDILLAHIOMARDJAMA\n",
      "[nltk_data]     \\Downloads\\MangeTaMain\\notebooks\\nltk_data...\n",
      "[nltk_data] Downloading package punkt to c:\\Users\\ABDILLAHIOMARDJAMA\\D\n",
      "[nltk_data]     ownloads\\MangeTaMain\\notebooks\\nltk_data...\n",
      "[nltk_data]   Unzipping tokenizers\\punkt.zip.\n",
      "[nltk_data] Downloading package stopwords to c:\\Users\\ABDILLAHIOMARDJA\n",
      "[nltk_data]     MA\\Downloads\\MangeTaMain\\notebooks\\nltk_data...\n",
      "[nltk_data]   Unzipping corpora\\stopwords.zip.\n"
     ]
    }
   ],
   "source": [
    "import os\n",
    "import nltk\n",
    "import re\n",
    "from nltk.tokenize import word_tokenize\n",
    "from nltk.corpus import stopwords\n",
    "from nltk.stem import WordNetLemmatizer\n",
    "from nltk.tokenize import PunktSentenceTokenizer, TreebankWordTokenizer\n",
    "nltk.download('wordnet', download_dir=os.path.join(os.getcwd(), 'nltk_data'))\n",
    "nltk.download('omw-1.4', download_dir=os.path.join(os.getcwd(), 'nltk_data'))\n",
    "nltk.download('punkt', download_dir=os.path.join(os.getcwd(), 'nltk_data'))\n",
    "nltk.download('stopwords', download_dir=os.path.join(os.getcwd(), 'nltk_data'))\n",
    "stop_words = stopwords.words('english')\n"
   ]
  },
  {
   "cell_type": "code",
   "execution_count": 56,
   "id": "41dcf50a",
   "metadata": {},
   "outputs": [],
   "source": [
    "nltk.data.path.append(os.path.join(os.getcwd(), 'nltk_data'))"
   ]
  },
  {
   "cell_type": "code",
   "execution_count": 58,
   "id": "9df24185",
   "metadata": {},
   "outputs": [],
   "source": [
    "def clean_text(text):\n",
    "    # Convertir en minuscules\n",
    "    text = text.lower()\n",
    "    # Supprimer les caractères spéciaux et les chiffres\n",
    "    text = re.sub(r'[^a-zA-Z\\s]', '', text)\n",
    "    # Tokenisation\n",
    "    tokens = word_tokenize(text)\n",
    "    # Suppression des stop words\n",
    "    stop_words = set(stopwords.words('english'))\n",
    "    tokens = [word for word in tokens if word not in stop_words or word ]\n",
    "    # Lemmatisation\n",
    "    lemmatizer = WordNetLemmatizer()\n",
    "    tokens = [lemmatizer.lemmatize(word) for word in tokens]\n",
    "    # Rejoindre les tokens nettoyés en une seule chaîne de caractères\n",
    "    cleaned_text = ' '.join(tokens)\n",
    "    return cleaned_text"
   ]
  }
 ],
 "metadata": {
  "kernelspec": {
   "display_name": "Python 3",
   "language": "python",
   "name": "python3"
  },
  "language_info": {
   "codemirror_mode": {
    "name": "ipython",
    "version": 3
   },
   "file_extension": ".py",
   "mimetype": "text/x-python",
   "name": "python",
   "nbconvert_exporter": "python",
   "pygments_lexer": "ipython3",
   "version": "3.13.7"
  }
 },
 "nbformat": 4,
 "nbformat_minor": 5
}

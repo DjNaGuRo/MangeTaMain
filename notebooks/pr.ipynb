{
 "cells": [
  {
   "cell_type": "code",
   "execution_count": 50,
   "id": "04483bab",
   "metadata": {},
   "outputs": [],
   "source": [
    "import pandas as pd\n",
    "import numpy as np\n",
    "import matplotlib.pyplot as plt\n",
    "import seaborn as sns\n",
    "\n",
    "# Configuration globale pour l'affichage pandas\n",
    "pd.set_option('display.max_colwidth', None)\n",
    "pd.set_option('display.max_rows', 100)  # Optionnel : limite le nombre de lignes affichées\n"
   ]
  },
  {
   "cell_type": "code",
   "execution_count": 51,
   "id": "01c4e61c",
   "metadata": {},
   "outputs": [],
   "source": [
    "data=pd.read_csv(\"C:/Users/ABDILLAHIOMARDJAMA/Downloads/EDAPYTHON/RAW_interactions.csv\")"
   ]
  },
  {
   "cell_type": "markdown",
   "id": "7abb8d12",
   "metadata": {},
   "source": [
    "Exploration initiale"
   ]
  },
  {
   "cell_type": "code",
   "execution_count": 52,
   "id": "839f7392",
   "metadata": {},
   "outputs": [
    {
     "data": {
      "text/html": [
       "<div>\n",
       "<style scoped>\n",
       "    .dataframe tbody tr th:only-of-type {\n",
       "        vertical-align: middle;\n",
       "    }\n",
       "\n",
       "    .dataframe tbody tr th {\n",
       "        vertical-align: top;\n",
       "    }\n",
       "\n",
       "    .dataframe thead th {\n",
       "        text-align: right;\n",
       "    }\n",
       "</style>\n",
       "<table border=\"1\" class=\"dataframe\">\n",
       "  <thead>\n",
       "    <tr style=\"text-align: right;\">\n",
       "      <th></th>\n",
       "      <th>user_id</th>\n",
       "      <th>recipe_id</th>\n",
       "      <th>date</th>\n",
       "      <th>rating</th>\n",
       "      <th>review</th>\n",
       "    </tr>\n",
       "  </thead>\n",
       "  <tbody>\n",
       "    <tr>\n",
       "      <th>0</th>\n",
       "      <td>38094</td>\n",
       "      <td>40893</td>\n",
       "      <td>2003-02-17</td>\n",
       "      <td>4</td>\n",
       "      <td>Great with a salad. Cooked on top of stove for 15 minutes.Added a shake of cayenne and a pinch of salt.  Used low fat sour cream.  Thanks.</td>\n",
       "    </tr>\n",
       "    <tr>\n",
       "      <th>1</th>\n",
       "      <td>1293707</td>\n",
       "      <td>40893</td>\n",
       "      <td>2011-12-21</td>\n",
       "      <td>5</td>\n",
       "      <td>So simple, so delicious! Great for chilly fall evening. Should have doubled it ;)&lt;br/&gt;&lt;br/&gt;Second time around, forgot the remaining cumin. We usually love cumin, but didn't notice the missing 1/2 teaspoon!</td>\n",
       "    </tr>\n",
       "    <tr>\n",
       "      <th>2</th>\n",
       "      <td>8937</td>\n",
       "      <td>44394</td>\n",
       "      <td>2002-12-01</td>\n",
       "      <td>4</td>\n",
       "      <td>This worked very well and is EASY.  I used not quite a whole package (10oz) of white chips.  Great!</td>\n",
       "    </tr>\n",
       "    <tr>\n",
       "      <th>3</th>\n",
       "      <td>126440</td>\n",
       "      <td>85009</td>\n",
       "      <td>2010-02-27</td>\n",
       "      <td>5</td>\n",
       "      <td>I made the Mexican topping and took it to bunko.  Everyone loved it.</td>\n",
       "    </tr>\n",
       "    <tr>\n",
       "      <th>4</th>\n",
       "      <td>57222</td>\n",
       "      <td>85009</td>\n",
       "      <td>2011-10-01</td>\n",
       "      <td>5</td>\n",
       "      <td>Made the cheddar bacon topping, adding a sprinkling of black pepper. Yum!</td>\n",
       "    </tr>\n",
       "  </tbody>\n",
       "</table>\n",
       "</div>"
      ],
      "text/plain": [
       "   user_id  recipe_id        date  rating  \\\n",
       "0    38094      40893  2003-02-17       4   \n",
       "1  1293707      40893  2011-12-21       5   \n",
       "2     8937      44394  2002-12-01       4   \n",
       "3   126440      85009  2010-02-27       5   \n",
       "4    57222      85009  2011-10-01       5   \n",
       "\n",
       "                                                                                                                                                                                                          review  \n",
       "0                                                                     Great with a salad. Cooked on top of stove for 15 minutes.Added a shake of cayenne and a pinch of salt.  Used low fat sour cream.  Thanks.  \n",
       "1  So simple, so delicious! Great for chilly fall evening. Should have doubled it ;)<br/><br/>Second time around, forgot the remaining cumin. We usually love cumin, but didn't notice the missing 1/2 teaspoon!  \n",
       "2                                                                                                            This worked very well and is EASY.  I used not quite a whole package (10oz) of white chips.  Great!  \n",
       "3                                                                                                                                           I made the Mexican topping and took it to bunko.  Everyone loved it.  \n",
       "4                                                                                                                                      Made the cheddar bacon topping, adding a sprinkling of black pepper. Yum!  "
      ]
     },
     "execution_count": 52,
     "metadata": {},
     "output_type": "execute_result"
    }
   ],
   "source": [
    "##Aperçu des données\n",
    "data.head()"
   ]
  },
  {
   "cell_type": "code",
   "execution_count": 53,
   "id": "17bbfd4e",
   "metadata": {},
   "outputs": [
    {
     "data": {
      "text/html": [
       "<div>\n",
       "<style scoped>\n",
       "    .dataframe tbody tr th:only-of-type {\n",
       "        vertical-align: middle;\n",
       "    }\n",
       "\n",
       "    .dataframe tbody tr th {\n",
       "        vertical-align: top;\n",
       "    }\n",
       "\n",
       "    .dataframe thead th {\n",
       "        text-align: right;\n",
       "    }\n",
       "</style>\n",
       "<table border=\"1\" class=\"dataframe\">\n",
       "  <thead>\n",
       "    <tr style=\"text-align: right;\">\n",
       "      <th></th>\n",
       "      <th>user_id</th>\n",
       "      <th>recipe_id</th>\n",
       "      <th>date</th>\n",
       "      <th>rating</th>\n",
       "      <th>review</th>\n",
       "    </tr>\n",
       "  </thead>\n",
       "  <tbody>\n",
       "    <tr>\n",
       "      <th>810605</th>\n",
       "      <td>2314234</td>\n",
       "      <td>195571</td>\n",
       "      <td>2012-07-02</td>\n",
       "      <td>5</td>\n",
       "      <td>I used beluga lentils and left them a little firmer than the recipe recommended. I also used coconut milk instead of cream and butter to make it a vegan dish. It was beautiful and delicious served with coconut rice! I can't wait to make it again.</td>\n",
       "    </tr>\n",
       "    <tr>\n",
       "      <th>636158</th>\n",
       "      <td>281387</td>\n",
       "      <td>84764</td>\n",
       "      <td>2006-06-28</td>\n",
       "      <td>5</td>\n",
       "      <td>This is wonderful as is. I made it again using a can of chicken and crumbled bacon (real). I didn't have any peas...but it was still a favorite. I think I even liked the chicken better. Thanks for a keeper recipe.</td>\n",
       "    </tr>\n",
       "    <tr>\n",
       "      <th>866543</th>\n",
       "      <td>1055864</td>\n",
       "      <td>32204</td>\n",
       "      <td>2008-12-02</td>\n",
       "      <td>5</td>\n",
       "      <td>AWESOME!!!These are like the perfect brownies.Sometime I'm gonna try Ina Garten's brownies and see how they compare to these.:)</td>\n",
       "    </tr>\n",
       "    <tr>\n",
       "      <th>226340</th>\n",
       "      <td>1462970</td>\n",
       "      <td>251201</td>\n",
       "      <td>2011-05-10</td>\n",
       "      <td>5</td>\n",
       "      <td>My husband came home with a bunch of fresh beets and carrots and I didn't know what to do with them.  I NEVER would have thought I would like beets, but this was GREAT!    I was a little confused on the directions...I guess you saute beets with carrots and onions.  Also, I thought it was lacking in a little flavor so I added more garlic and ginger (I used water, so it may be better with broth instead).  I pureed most of it, but left some chunks in for more texture.</td>\n",
       "    </tr>\n",
       "    <tr>\n",
       "      <th>28460</th>\n",
       "      <td>283390</td>\n",
       "      <td>57028</td>\n",
       "      <td>2006-12-03</td>\n",
       "      <td>5</td>\n",
       "      <td>Simple and wholesome. This was a great soup to fix on the coldest day (thus far) this winter! I'll probably up the amount of cumin next time (I really love cumin); it's really good as is, too! Thanks.</td>\n",
       "    </tr>\n",
       "    <tr>\n",
       "      <th>774562</th>\n",
       "      <td>571134</td>\n",
       "      <td>13982</td>\n",
       "      <td>2007-12-23</td>\n",
       "      <td>5</td>\n",
       "      <td>These were AMAZING! What a great flavor! I didn't have time for rice, so I served the fillets over a baby spinach salad and used the left over sauce as the dressing. What a KEEPER! Thanks for posting. I'll be making this one again.</td>\n",
       "    </tr>\n",
       "    <tr>\n",
       "      <th>1091090</th>\n",
       "      <td>58439</td>\n",
       "      <td>46571</td>\n",
       "      <td>2007-08-18</td>\n",
       "      <td>4</td>\n",
       "      <td>Like the other reviewers the taste was terrific, true!\\r\\nI personally had to use more breadcrumbs and etc too!\\r\\nPerhaps chicken breasts are larger in Australia, you never know!\\r\\nI would recommend this recipe and that you have a go!\\r\\nCheers!</td>\n",
       "    </tr>\n",
       "    <tr>\n",
       "      <th>315074</th>\n",
       "      <td>135470</td>\n",
       "      <td>241242</td>\n",
       "      <td>2018-08-21</td>\n",
       "      <td>5</td>\n",
       "      <td>This dish was beautiful, flavorful and delicious. I thought lettuce and green beans were odd to combine but I really enjoyed them together. The salsa was so good the sweetness of the balsamic was a nice balance to the onion. I greatly reduced the red pepper and added more black pepper. My husband loved it as leftovers too!</td>\n",
       "    </tr>\n",
       "    <tr>\n",
       "      <th>805890</th>\n",
       "      <td>428885</td>\n",
       "      <td>249345</td>\n",
       "      <td>2007-09-03</td>\n",
       "      <td>5</td>\n",
       "      <td>THIS was incredible! We had a few friends over for a nice September evening last night. I had extra clams left over from a clam bake a couple of days ago, so these were already steamed. I threw them in the light balsamic vinaigrette salad dressing prior to heating up the sauce to give them even more flavor. I loved the spinach, the dry wine added just such a nice background taste that was delicate and molded perfectly with the sauce. Thank you so much Auntie Mags for a winner and an easy winner at that! Will make tons of times!</td>\n",
       "    </tr>\n",
       "    <tr>\n",
       "      <th>106343</th>\n",
       "      <td>2001959837</td>\n",
       "      <td>339905</td>\n",
       "      <td>2018-01-28</td>\n",
       "      <td>5</td>\n",
       "      <td>This was the best bread I've ever made in my bread machine! So yummy. It's a no-fail recipe. I've made 2 loaves so far. Easy to follow directions. Made just like the recipe called for. Perfect! Thank you!</td>\n",
       "    </tr>\n",
       "  </tbody>\n",
       "</table>\n",
       "</div>"
      ],
      "text/plain": [
       "            user_id  recipe_id        date  rating  \\\n",
       "810605      2314234     195571  2012-07-02       5   \n",
       "636158       281387      84764  2006-06-28       5   \n",
       "866543      1055864      32204  2008-12-02       5   \n",
       "226340      1462970     251201  2011-05-10       5   \n",
       "28460        283390      57028  2006-12-03       5   \n",
       "774562       571134      13982  2007-12-23       5   \n",
       "1091090       58439      46571  2007-08-18       4   \n",
       "315074       135470     241242  2018-08-21       5   \n",
       "805890       428885     249345  2007-09-03       5   \n",
       "106343   2001959837     339905  2018-01-28       5   \n",
       "\n",
       "                                                                                                                                                                                                                                                                                                                                                                                                                                                                                                                                                        review  \n",
       "810605                                                                                                                                                                                                                                                                                                  I used beluga lentils and left them a little firmer than the recipe recommended. I also used coconut milk instead of cream and butter to make it a vegan dish. It was beautiful and delicious served with coconut rice! I can't wait to make it again.  \n",
       "636158                                                                                                                                                                                                                                                                                                                                   This is wonderful as is. I made it again using a can of chicken and crumbled bacon (real). I didn't have any peas...but it was still a favorite. I think I even liked the chicken better. Thanks for a keeper recipe.  \n",
       "866543                                                                                                                                                                                                                                                                                                                                                                                                                         AWESOME!!!These are like the perfect brownies.Sometime I'm gonna try Ina Garten's brownies and see how they compare to these.:)  \n",
       "226340                                                                   My husband came home with a bunch of fresh beets and carrots and I didn't know what to do with them.  I NEVER would have thought I would like beets, but this was GREAT!    I was a little confused on the directions...I guess you saute beets with carrots and onions.  Also, I thought it was lacking in a little flavor so I added more garlic and ginger (I used water, so it may be better with broth instead).  I pureed most of it, but left some chunks in for more texture.  \n",
       "28460                                                                                                                                                                                                                                                                                                                                                 Simple and wholesome. This was a great soup to fix on the coldest day (thus far) this winter! I'll probably up the amount of cumin next time (I really love cumin); it's really good as is, too! Thanks.  \n",
       "774562                                                                                                                                                                                                                                                                                                                 These were AMAZING! What a great flavor! I didn't have time for rice, so I served the fillets over a baby spinach salad and used the left over sauce as the dressing. What a KEEPER! Thanks for posting. I'll be making this one again.  \n",
       "1091090                                                                                                                                                                                                                                                                                                Like the other reviewers the taste was terrific, true!\\r\\nI personally had to use more breadcrumbs and etc too!\\r\\nPerhaps chicken breasts are larger in Australia, you never know!\\r\\nI would recommend this recipe and that you have a go!\\r\\nCheers!  \n",
       "315074                                                                                                                                                                                                                    This dish was beautiful, flavorful and delicious. I thought lettuce and green beans were odd to combine but I really enjoyed them together. The salsa was so good the sweetness of the balsamic was a nice balance to the onion. I greatly reduced the red pepper and added more black pepper. My husband loved it as leftovers too!  \n",
       "805890   THIS was incredible! We had a few friends over for a nice September evening last night. I had extra clams left over from a clam bake a couple of days ago, so these were already steamed. I threw them in the light balsamic vinaigrette salad dressing prior to heating up the sauce to give them even more flavor. I loved the spinach, the dry wine added just such a nice background taste that was delicate and molded perfectly with the sauce. Thank you so much Auntie Mags for a winner and an easy winner at that! Will make tons of times!  \n",
       "106343                                                                                                                                                                                                                                                                                                                                            This was the best bread I've ever made in my bread machine! So yummy. It's a no-fail recipe. I've made 2 loaves so far. Easy to follow directions. Made just like the recipe called for. Perfect! Thank you!  "
      ]
     },
     "execution_count": 53,
     "metadata": {},
     "output_type": "execute_result"
    }
   ],
   "source": [
    "##Affichage aleatoire de 10 lignes\n",
    "data.sample(10)"
   ]
  },
  {
   "cell_type": "code",
   "execution_count": 54,
   "id": "92af19ca",
   "metadata": {},
   "outputs": [
    {
     "name": "stdout",
     "output_type": "stream",
     "text": [
      "<class 'pandas.core.frame.DataFrame'>\n",
      "RangeIndex: 1132367 entries, 0 to 1132366\n",
      "Data columns (total 5 columns):\n",
      " #   Column     Non-Null Count    Dtype \n",
      "---  ------     --------------    ----- \n",
      " 0   user_id    1132367 non-null  int64 \n",
      " 1   recipe_id  1132367 non-null  int64 \n",
      " 2   date       1132367 non-null  object\n",
      " 3   rating     1132367 non-null  int64 \n",
      " 4   review     1132198 non-null  object\n",
      "dtypes: int64(3), object(2)\n",
      "memory usage: 43.2+ MB\n"
     ]
    }
   ],
   "source": [
    "##Structure des données\n",
    "data.info()"
   ]
  },
  {
   "cell_type": "code",
   "execution_count": 55,
   "id": "9ed949fb",
   "metadata": {},
   "outputs": [
    {
     "name": "stdout",
     "output_type": "stream",
     "text": [
      "le nombre de lignes est : 1132367\n",
      "le nombre de colonnes est : 5\n"
     ]
    }
   ],
   "source": [
    "##la taille des données\n",
    "nombre_de_lignes, nombre_de_colonnes = data.shape\n",
    "print(f\"le nombre de lignes est : {nombre_de_lignes}\")\n",
    "print(f\"le nombre de colonnes est : {nombre_de_colonnes}\")"
   ]
  },
  {
   "cell_type": "markdown",
   "id": "5a61296b",
   "metadata": {},
   "source": [
    "Nous disposons un dataset contenant 113236 observations et 5 variables decrivatnt les interactions des utilisateurs avec le recettes de cuisines,et ci-dessous la description des variables:\n",
    "- user_id : identifiant unique de l'utilisateur\n",
    " - recipe_id : identifiant unique de la recette\n",
    " - rating : note attribuée par l'utilisateur à la recette (échelle de 1 à 5)\n",
    " - date: date de l'interaction\n",
    " - review: commentaire textuel laissé par l'utilisateur sur la recette."
   ]
  },
  {
   "cell_type": "code",
   "execution_count": 56,
   "id": "10ac7d24",
   "metadata": {},
   "outputs": [
    {
     "name": "stdout",
     "output_type": "stream",
     "text": [
      "user_id        0\n",
      "recipe_id      0\n",
      "date           0\n",
      "rating         0\n",
      "review       169\n",
      "dtype: int64\n"
     ]
    }
   ],
   "source": [
    "##Detection des nombres des valeurs manquantes par colonne\n",
    "print(data.isnull().sum())\n"
   ]
  },
  {
   "cell_type": "code",
   "execution_count": 57,
   "id": "3b2268d1",
   "metadata": {},
   "outputs": [
    {
     "name": "stdout",
     "output_type": "stream",
     "text": [
      "user_id      0.000000\n",
      "recipe_id    0.000000\n",
      "date         0.000000\n",
      "rating       0.000000\n",
      "review       0.014924\n",
      "dtype: float64\n"
     ]
    }
   ],
   "source": [
    "##Detection de pourcetage des valeurs manquantes par colonne\n",
    "print(data.isna().mean()*100)"
   ]
  },
  {
   "cell_type": "code",
   "execution_count": 58,
   "id": "f54e2af4",
   "metadata": {},
   "outputs": [
    {
     "name": "stdout",
     "output_type": "stream",
     "text": [
      "0.0029848980056819035\n"
     ]
    }
   ],
   "source": [
    "##detection des pourcentages des valeurs manquantes du dataset\n",
    "print(data.isna().mean().mean()*100)"
   ]
  },
  {
   "cell_type": "code",
   "execution_count": 59,
   "id": "589bd9dd",
   "metadata": {},
   "outputs": [],
   "source": [
    "##interpretation des valeurs manquantes:nous observons que la colonne review a 0,015% de valeurs manquantes.il est trop faible comme pourcentage et nous pouvons les ignorer,comme il s'agit des données textuelles liée a des avis des utilisatures sur les recettes,alors nous pouvons les imputer par des descriptions dependants des autres colonnes,comme le note de la recette"
   ]
  },
  {
   "cell_type": "code",
   "execution_count": 60,
   "id": "464cd4e8",
   "metadata": {},
   "outputs": [
    {
     "data": {
      "text/html": [
       "<div>\n",
       "<style scoped>\n",
       "    .dataframe tbody tr th:only-of-type {\n",
       "        vertical-align: middle;\n",
       "    }\n",
       "\n",
       "    .dataframe tbody tr th {\n",
       "        vertical-align: top;\n",
       "    }\n",
       "\n",
       "    .dataframe thead th {\n",
       "        text-align: right;\n",
       "    }\n",
       "</style>\n",
       "<table border=\"1\" class=\"dataframe\">\n",
       "  <thead>\n",
       "    <tr style=\"text-align: right;\">\n",
       "      <th></th>\n",
       "      <th>user_id</th>\n",
       "      <th>recipe_id</th>\n",
       "      <th>date</th>\n",
       "      <th>rating</th>\n",
       "      <th>review</th>\n",
       "    </tr>\n",
       "  </thead>\n",
       "  <tbody>\n",
       "    <tr>\n",
       "      <th>435530</th>\n",
       "      <td>2002103071</td>\n",
       "      <td>431105</td>\n",
       "      <td>2018-04-28</td>\n",
       "      <td>0</td>\n",
       "      <td>did not see use SUGAR FREE MIX&amp;gt; sorry</td>\n",
       "    </tr>\n",
       "    <tr>\n",
       "      <th>656730</th>\n",
       "      <td>559630</td>\n",
       "      <td>27208</td>\n",
       "      <td>2008-04-09</td>\n",
       "      <td>3</td>\n",
       "      <td>It was pretty good but really salty even for me and I love salt. I don't think I would call it to die for but really easy to put together.</td>\n",
       "    </tr>\n",
       "    <tr>\n",
       "      <th>731500</th>\n",
       "      <td>2550158</td>\n",
       "      <td>201234</td>\n",
       "      <td>2012-12-24</td>\n",
       "      <td>0</td>\n",
       "      <td>Great recipe, I am not a cook but love to hunt. Found this one &amp; with a few minor alterations my family loves it.  Used Green Pepper, 1 Can of beans &amp; replaced the water with beer. I also cooked up 4 strips of bacon &amp; cut them into the chili with kitchen scissors! Thank you very much.</td>\n",
       "    </tr>\n",
       "    <tr>\n",
       "      <th>810589</th>\n",
       "      <td>419585</td>\n",
       "      <td>251131</td>\n",
       "      <td>2008-12-25</td>\n",
       "      <td>3</td>\n",
       "      <td>We weren't bowled over by the taste of this soup: I think it was the orange juice.  My son-in-law loved it, my husband took one taste and refused to eat any more of it.  I didn't like it myself.</td>\n",
       "    </tr>\n",
       "    <tr>\n",
       "      <th>709257</th>\n",
       "      <td>296454</td>\n",
       "      <td>76864</td>\n",
       "      <td>2009-12-17</td>\n",
       "      <td>2</td>\n",
       "      <td>all i'm getting with the dough is a gooey mass,  it's rising but it's too runny,  tryed making by hand and tryed bread machine, same results...  yes followed the directions</td>\n",
       "    </tr>\n",
       "  </tbody>\n",
       "</table>\n",
       "</div>"
      ],
      "text/plain": [
       "           user_id  recipe_id        date  rating  \\\n",
       "435530  2002103071     431105  2018-04-28       0   \n",
       "656730      559630      27208  2008-04-09       3   \n",
       "731500     2550158     201234  2012-12-24       0   \n",
       "810589      419585     251131  2008-12-25       3   \n",
       "709257      296454      76864  2009-12-17       2   \n",
       "\n",
       "                                                                                                                                                                                                                                                                                               review  \n",
       "435530                                                                                                                                                                                                                                                       did not see use SUGAR FREE MIX&gt; sorry  \n",
       "656730                                                                                                                                                     It was pretty good but really salty even for me and I love salt. I don't think I would call it to die for but really easy to put together.  \n",
       "731500  Great recipe, I am not a cook but love to hunt. Found this one & with a few minor alterations my family loves it.  Used Green Pepper, 1 Can of beans & replaced the water with beer. I also cooked up 4 strips of bacon & cut them into the chili with kitchen scissors! Thank you very much.  \n",
       "810589                                                                                             We weren't bowled over by the taste of this soup: I think it was the orange juice.  My son-in-law loved it, my husband took one taste and refused to eat any more of it.  I didn't like it myself.  \n",
       "709257                                                                                                                   all i'm getting with the dough is a gooey mass,  it's rising but it's too runny,  tryed making by hand and tryed bread machine, same results...  yes followed the directions  "
      ]
     },
     "execution_count": 60,
     "metadata": {},
     "output_type": "execute_result"
    }
   ],
   "source": [
    "##affichage des lignes dont la note est superieur ou egale a 4 et la colonne review,afin de pouvoir voir comment les commentaire sont formulés.\n",
    "data[data['rating']<4].sample(5)"
   ]
  },
  {
   "cell_type": "code",
   "execution_count": 61,
   "id": "9d40150b",
   "metadata": {},
   "outputs": [
    {
     "data": {
      "text/html": [
       "<div>\n",
       "<style scoped>\n",
       "    .dataframe tbody tr th:only-of-type {\n",
       "        vertical-align: middle;\n",
       "    }\n",
       "\n",
       "    .dataframe tbody tr th {\n",
       "        vertical-align: top;\n",
       "    }\n",
       "\n",
       "    .dataframe thead th {\n",
       "        text-align: right;\n",
       "    }\n",
       "</style>\n",
       "<table border=\"1\" class=\"dataframe\">\n",
       "  <thead>\n",
       "    <tr style=\"text-align: right;\">\n",
       "      <th></th>\n",
       "      <th>user_id</th>\n",
       "      <th>recipe_id</th>\n",
       "      <th>date</th>\n",
       "      <th>rating</th>\n",
       "      <th>review</th>\n",
       "    </tr>\n",
       "  </thead>\n",
       "  <tbody>\n",
       "    <tr>\n",
       "      <th>583421</th>\n",
       "      <td>2001981645</td>\n",
       "      <td>393523</td>\n",
       "      <td>2018-02-09</td>\n",
       "      <td>5</td>\n",
       "      <td>NaN</td>\n",
       "    </tr>\n",
       "    <tr>\n",
       "      <th>1065402</th>\n",
       "      <td>2001475549</td>\n",
       "      <td>320682</td>\n",
       "      <td>2017-04-06</td>\n",
       "      <td>5</td>\n",
       "      <td>NaN</td>\n",
       "    </tr>\n",
       "    <tr>\n",
       "      <th>637733</th>\n",
       "      <td>2001352978</td>\n",
       "      <td>414266</td>\n",
       "      <td>2017-01-15</td>\n",
       "      <td>4</td>\n",
       "      <td>NaN</td>\n",
       "    </tr>\n",
       "    <tr>\n",
       "      <th>84776</th>\n",
       "      <td>2001583453</td>\n",
       "      <td>347996</td>\n",
       "      <td>2017-06-14</td>\n",
       "      <td>5</td>\n",
       "      <td>NaN</td>\n",
       "    </tr>\n",
       "    <tr>\n",
       "      <th>205063</th>\n",
       "      <td>2689825</td>\n",
       "      <td>495271</td>\n",
       "      <td>2013-02-12</td>\n",
       "      <td>5</td>\n",
       "      <td>NaN</td>\n",
       "    </tr>\n",
       "  </tbody>\n",
       "</table>\n",
       "</div>"
      ],
      "text/plain": [
       "            user_id  recipe_id        date  rating review\n",
       "583421   2001981645     393523  2018-02-09       5    NaN\n",
       "1065402  2001475549     320682  2017-04-06       5    NaN\n",
       "637733   2001352978     414266  2017-01-15       4    NaN\n",
       "84776    2001583453     347996  2017-06-14       5    NaN\n",
       "205063      2689825     495271  2013-02-12       5    NaN"
      ]
     },
     "execution_count": 61,
     "metadata": {},
     "output_type": "execute_result"
    }
   ],
   "source": [
    "####Affichons les lignes qui ont des valeurs manquantes dans la colonne review.\n",
    "data[data['review'].isnull()].sample(5)"
   ]
  },
  {
   "cell_type": "code",
   "execution_count": 62,
   "id": "ef9e14f6",
   "metadata": {},
   "outputs": [
    {
     "name": "stdout",
     "output_type": "stream",
     "text": [
      "rating\n",
      "5    135\n",
      "4     27\n",
      "3      3\n",
      "1      3\n",
      "2      1\n",
      "Name: count, dtype: int64\n"
     ]
    }
   ],
   "source": [
    "###affiché les nombres des valeur manquantes de la colonne par ligne en fonction de la note\n",
    "print(data[data['review'].isnull()]['rating'].value_counts())"
   ]
  },
  {
   "cell_type": "code",
   "execution_count": 171,
   "id": "ccecab96",
   "metadata": {},
   "outputs": [],
   "source": [
    "##Nous allons imputer les valeurs manquantes de la colonne review en fonction de la note(rating) de la recette.\n",
    "def imputer_review(row):\n",
    "    if pd.isnull(row['review']):\n",
    "        if row['rating'] == 5:\n",
    "            return \"Excellent recipe! Loved it!\"\n",
    "        elif row['rating'] == 4:\n",
    "            return \"Great recipe, will make again.\"\n",
    "        elif row['rating'] == 3:\n",
    "            return \"Good recipe, but could be improved.\"\n",
    "        elif row['rating'] == 2:\n",
    "            return \"Not my favorite.\"\n",
    "        elif row['rating'] == 1:\n",
    "            return \"Did not like this recipe at all.\"\n",
    "    else:\n",
    "        return row['review']\n",
    "\n"
   ]
  },
  {
   "cell_type": "code",
   "execution_count": 172,
   "id": "f18040a4",
   "metadata": {},
   "outputs": [
    {
     "name": "stdout",
     "output_type": "stream",
     "text": [
      "Valeurs manquantes après imputation :\n",
      "0\n"
     ]
    },
    {
     "name": "stderr",
     "output_type": "stream",
     "text": [
      "C:\\Users\\ABDILLAHIOMARDJAMA\\AppData\\Local\\Temp\\ipykernel_33068\\3044346414.py:2: SettingWithCopyWarning: \n",
      "A value is trying to be set on a copy of a slice from a DataFrame.\n",
      "Try using .loc[row_indexer,col_indexer] = value instead\n",
      "\n",
      "See the caveats in the documentation: https://pandas.pydata.org/pandas-docs/stable/user_guide/indexing.html#returning-a-view-versus-a-copy\n",
      "  data['review'] = data.apply(imputer_review, axis=1)\n"
     ]
    }
   ],
   "source": [
    "##Application de la fonction d'imputation\n",
    "data['review'] = data.apply(imputer_review, axis=1)\n",
    "\n",
    "# Vérifions les valeurs manquantes après l'imputation\n",
    "print(\"Valeurs manquantes après imputation :\")\n",
    "print(data['review'].isnull().sum())"
   ]
  },
  {
   "cell_type": "code",
   "execution_count": 173,
   "id": "b0a1e003",
   "metadata": {},
   "outputs": [
    {
     "name": "stdout",
     "output_type": "stream",
     "text": [
      "Nombre de reviews par type :\n",
      "review_imputed\n",
      "0    1071350\n",
      "1        170\n",
      "Name: count, dtype: int64\n",
      "\n",
      "Pourcentage :\n",
      "review_imputed\n",
      "0    99.984135\n",
      "1     0.015865\n",
      "Name: proportion, dtype: float64\n"
     ]
    },
    {
     "name": "stderr",
     "output_type": "stream",
     "text": [
      "C:\\Users\\ABDILLAHIOMARDJAMA\\AppData\\Local\\Temp\\ipykernel_33068\\3759009846.py:11: SettingWithCopyWarning: \n",
      "A value is trying to be set on a copy of a slice from a DataFrame.\n",
      "Try using .loc[row_indexer,col_indexer] = value instead\n",
      "\n",
      "See the caveats in the documentation: https://pandas.pydata.org/pandas-docs/stable/user_guide/indexing.html#returning-a-view-versus-a-copy\n",
      "  data['review_imputed'] = data['review'].isin(commentaires_imputes).astype(int)\n"
     ]
    }
   ],
   "source": [
    "# Créer une liste des commentaires imputés\n",
    "commentaires_imputes = [\n",
    "    \"Excellent recipe! Loved it!\",\n",
    "    \"Great recipe, will make again.\",\n",
    "    \"Good recipe, but could be improved.\",\n",
    "    \"Not my favorite.\",\n",
    "    \"Did not like this recipe at all.\",\n",
    "]\n",
    "\n",
    "# Créer la colonne indicatrice (1 = imputé, 0 = original)\n",
    "data['review_imputed'] = data['review'].isin(commentaires_imputes).astype(int)\n",
    "\n",
    "# Vérifier les résultats\n",
    "print(\"Nombre de reviews par type :\")\n",
    "print(data['review_imputed'].value_counts())\n",
    "print(\"\\nPourcentage :\")\n",
    "print(data['review_imputed'].value_counts(normalize=True) * 100)"
   ]
  },
  {
   "cell_type": "code",
   "execution_count": 66,
   "id": "6428d388",
   "metadata": {},
   "outputs": [
    {
     "name": "stdout",
     "output_type": "stream",
     "text": [
      "Nombre total de lignes dans le dataset après traitement des valeurs manquantes : 1132367\n"
     ]
    }
   ],
   "source": [
    "##Affichons nombre total des donnée observé avant et après le traitement des valeurs manquantes\n",
    "print(f\"Nombre total de lignes dans le dataset après traitement des valeurs manquantes : {data.shape[0]}\")\n"
   ]
  },
  {
   "cell_type": "code",
   "execution_count": 67,
   "id": "9326b113",
   "metadata": {},
   "outputs": [
    {
     "data": {
      "text/html": [
       "<div>\n",
       "<style scoped>\n",
       "    .dataframe tbody tr th:only-of-type {\n",
       "        vertical-align: middle;\n",
       "    }\n",
       "\n",
       "    .dataframe tbody tr th {\n",
       "        vertical-align: top;\n",
       "    }\n",
       "\n",
       "    .dataframe thead th {\n",
       "        text-align: right;\n",
       "    }\n",
       "</style>\n",
       "<table border=\"1\" class=\"dataframe\">\n",
       "  <thead>\n",
       "    <tr style=\"text-align: right;\">\n",
       "      <th></th>\n",
       "      <th>user_id</th>\n",
       "      <th>recipe_id</th>\n",
       "      <th>date</th>\n",
       "      <th>rating</th>\n",
       "      <th>review</th>\n",
       "      <th>review_imputed</th>\n",
       "    </tr>\n",
       "  </thead>\n",
       "  <tbody>\n",
       "    <tr>\n",
       "      <th>0</th>\n",
       "      <td>38094</td>\n",
       "      <td>40893</td>\n",
       "      <td>2003-02-17</td>\n",
       "      <td>4</td>\n",
       "      <td>Great with a salad. Cooked on top of stove for 15 minutes.Added a shake of cayenne and a pinch of salt.  Used low fat sour cream.  Thanks.</td>\n",
       "      <td>0</td>\n",
       "    </tr>\n",
       "    <tr>\n",
       "      <th>1</th>\n",
       "      <td>1293707</td>\n",
       "      <td>40893</td>\n",
       "      <td>2011-12-21</td>\n",
       "      <td>5</td>\n",
       "      <td>So simple, so delicious! Great for chilly fall evening. Should have doubled it ;)&lt;br/&gt;&lt;br/&gt;Second time around, forgot the remaining cumin. We usually love cumin, but didn't notice the missing 1/2 teaspoon!</td>\n",
       "      <td>0</td>\n",
       "    </tr>\n",
       "    <tr>\n",
       "      <th>2</th>\n",
       "      <td>8937</td>\n",
       "      <td>44394</td>\n",
       "      <td>2002-12-01</td>\n",
       "      <td>4</td>\n",
       "      <td>This worked very well and is EASY.  I used not quite a whole package (10oz) of white chips.  Great!</td>\n",
       "      <td>0</td>\n",
       "    </tr>\n",
       "    <tr>\n",
       "      <th>3</th>\n",
       "      <td>126440</td>\n",
       "      <td>85009</td>\n",
       "      <td>2010-02-27</td>\n",
       "      <td>5</td>\n",
       "      <td>I made the Mexican topping and took it to bunko.  Everyone loved it.</td>\n",
       "      <td>0</td>\n",
       "    </tr>\n",
       "    <tr>\n",
       "      <th>4</th>\n",
       "      <td>57222</td>\n",
       "      <td>85009</td>\n",
       "      <td>2011-10-01</td>\n",
       "      <td>5</td>\n",
       "      <td>Made the cheddar bacon topping, adding a sprinkling of black pepper. Yum!</td>\n",
       "      <td>0</td>\n",
       "    </tr>\n",
       "  </tbody>\n",
       "</table>\n",
       "</div>"
      ],
      "text/plain": [
       "   user_id  recipe_id        date  rating  \\\n",
       "0    38094      40893  2003-02-17       4   \n",
       "1  1293707      40893  2011-12-21       5   \n",
       "2     8937      44394  2002-12-01       4   \n",
       "3   126440      85009  2010-02-27       5   \n",
       "4    57222      85009  2011-10-01       5   \n",
       "\n",
       "                                                                                                                                                                                                          review  \\\n",
       "0                                                                     Great with a salad. Cooked on top of stove for 15 minutes.Added a shake of cayenne and a pinch of salt.  Used low fat sour cream.  Thanks.   \n",
       "1  So simple, so delicious! Great for chilly fall evening. Should have doubled it ;)<br/><br/>Second time around, forgot the remaining cumin. We usually love cumin, but didn't notice the missing 1/2 teaspoon!   \n",
       "2                                                                                                            This worked very well and is EASY.  I used not quite a whole package (10oz) of white chips.  Great!   \n",
       "3                                                                                                                                           I made the Mexican topping and took it to bunko.  Everyone loved it.   \n",
       "4                                                                                                                                      Made the cheddar bacon topping, adding a sprinkling of black pepper. Yum!   \n",
       "\n",
       "   review_imputed  \n",
       "0               0  \n",
       "1               0  \n",
       "2               0  \n",
       "3               0  \n",
       "4               0  "
      ]
     },
     "execution_count": 67,
     "metadata": {},
     "output_type": "execute_result"
    }
   ],
   "source": [
    "##Affichage des dataset aprés traitement des valeurs manquantes\n",
    "data.head()"
   ]
  },
  {
   "cell_type": "code",
   "execution_count": 68,
   "id": "3b253955",
   "metadata": {},
   "outputs": [
    {
     "name": "stdout",
     "output_type": "stream",
     "text": [
      "Nombre de doublons dans le dataset : 0\n"
     ]
    }
   ],
   "source": [
    "###Detection des doublons\n",
    "print(f\"Nombre de doublons dans le dataset : {data.duplicated().sum()}\")"
   ]
  },
  {
   "cell_type": "code",
   "execution_count": 69,
   "id": "20d6dbed",
   "metadata": {},
   "outputs": [
    {
     "data": {
      "text/html": [
       "<div>\n",
       "<style scoped>\n",
       "    .dataframe tbody tr th:only-of-type {\n",
       "        vertical-align: middle;\n",
       "    }\n",
       "\n",
       "    .dataframe tbody tr th {\n",
       "        vertical-align: top;\n",
       "    }\n",
       "\n",
       "    .dataframe thead th {\n",
       "        text-align: right;\n",
       "    }\n",
       "</style>\n",
       "<table border=\"1\" class=\"dataframe\">\n",
       "  <thead>\n",
       "    <tr style=\"text-align: right;\">\n",
       "      <th></th>\n",
       "      <th>user_id</th>\n",
       "      <th>recipe_id</th>\n",
       "      <th>date</th>\n",
       "      <th>rating</th>\n",
       "      <th>review</th>\n",
       "      <th>review_imputed</th>\n",
       "    </tr>\n",
       "  </thead>\n",
       "  <tbody>\n",
       "  </tbody>\n",
       "</table>\n",
       "</div>"
      ],
      "text/plain": [
       "Empty DataFrame\n",
       "Columns: [user_id, recipe_id, date, rating, review, review_imputed]\n",
       "Index: []"
      ]
     },
     "execution_count": 69,
     "metadata": {},
     "output_type": "execute_result"
    }
   ],
   "source": [
    "##affichons les utilisateurs qui ont commenté plus d'une fois la même recette.\n",
    "data[data.duplicated(subset=['user_id', 'recipe_id'], keep=False)]\n"
   ]
  },
  {
   "cell_type": "markdown",
   "id": "961f5443",
   "metadata": {},
   "source": [
    "Nous observons qu'il y'a pas de doublons."
   ]
  },
  {
   "cell_type": "code",
   "execution_count": 70,
   "id": "8595f0e3",
   "metadata": {},
   "outputs": [
    {
     "name": "stdout",
     "output_type": "stream",
     "text": [
      "<class 'pandas.core.frame.DataFrame'>\n",
      "RangeIndex: 1132367 entries, 0 to 1132366\n",
      "Data columns (total 6 columns):\n",
      " #   Column          Non-Null Count    Dtype         \n",
      "---  ------          --------------    -----         \n",
      " 0   user_id         1132367 non-null  category      \n",
      " 1   recipe_id       1132367 non-null  int64         \n",
      " 2   date            1132367 non-null  datetime64[ns]\n",
      " 3   rating          1132367 non-null  int64         \n",
      " 4   review          1132367 non-null  object        \n",
      " 5   review_imputed  1132367 non-null  int64         \n",
      "dtypes: category(1), datetime64[ns](1), int64(3), object(1)\n",
      "memory usage: 57.3+ MB\n",
      "None\n"
     ]
    }
   ],
   "source": [
    "##conversions des types de données\n",
    "data['date']=pd.to_datetime(data['date'])\n",
    "data['user_id']=data['user_id'].astype('category')\n",
    "\n",
    "print(data.info())"
   ]
  },
  {
   "cell_type": "code",
   "execution_count": 108,
   "id": "4b7e1253",
   "metadata": {},
   "outputs": [
    {
     "data": {
      "text/html": [
       "<div>\n",
       "<style scoped>\n",
       "    .dataframe tbody tr th:only-of-type {\n",
       "        vertical-align: middle;\n",
       "    }\n",
       "\n",
       "    .dataframe tbody tr th {\n",
       "        vertical-align: top;\n",
       "    }\n",
       "\n",
       "    .dataframe thead th {\n",
       "        text-align: right;\n",
       "    }\n",
       "</style>\n",
       "<table border=\"1\" class=\"dataframe\">\n",
       "  <thead>\n",
       "    <tr style=\"text-align: right;\">\n",
       "      <th></th>\n",
       "      <th>user_id</th>\n",
       "      <th>recipe_id</th>\n",
       "      <th>date</th>\n",
       "      <th>rating</th>\n",
       "      <th>review</th>\n",
       "      <th>review_imputed</th>\n",
       "    </tr>\n",
       "  </thead>\n",
       "  <tbody>\n",
       "    <tr>\n",
       "      <th>757381</th>\n",
       "      <td>134624</td>\n",
       "      <td>203695</td>\n",
       "      <td>2007-02-14</td>\n",
       "      <td>2</td>\n",
       "      <td>I am sorry to say we just didn't enjoy this dish at all.\\r\\nThe only thing I could taste in this dish was the garlic, which seemed odd and out of place with a sweet potato.\\r\\nI would have liked some of the coconut milk flavor to come through here.\\r\\nI believe if I make this again, the garlic and thyme will be omitted and the allspice will be increased to 1 tsp.</td>\n",
       "      <td>0</td>\n",
       "    </tr>\n",
       "    <tr>\n",
       "      <th>817885</th>\n",
       "      <td>1471923</td>\n",
       "      <td>4417</td>\n",
       "      <td>2012-09-03</td>\n",
       "      <td>0</td>\n",
       "      <td>I made with cinnamon raisin bread and it was great! I topped with vanilla bean ice cream! Yum!</td>\n",
       "      <td>0</td>\n",
       "    </tr>\n",
       "    <tr>\n",
       "      <th>198777</th>\n",
       "      <td>821430</td>\n",
       "      <td>9430</td>\n",
       "      <td>2009-08-11</td>\n",
       "      <td>0</td>\n",
       "      <td>The flavor of the sauce was quite delicious- I had to make a few subs as I didn't have any tomato sauce. Used beef broth and tomato paste instead. For some reason the meat just didn't turn out for me. It was incredibly tough. I'm not quite sure what I did wrong. I had 2 round steaks and simmered them for almost 2 hours. They were inedible for some reason- like hockey pucks!  I will try this again but with another cut of meat- it was my first time using eye of round steaks and I don't think I'll be getting them again. (unfortunately as they are so cheap!)</td>\n",
       "      <td>0</td>\n",
       "    </tr>\n",
       "    <tr>\n",
       "      <th>360844</th>\n",
       "      <td>319854</td>\n",
       "      <td>95416</td>\n",
       "      <td>2008-08-08</td>\n",
       "      <td>3</td>\n",
       "      <td>Tastes great, but I got fluffy frosting both times I tried this recipe.  Fluffy, as in:  lots of air pockets and not smooth frosting.  Perhaps tripling the recipe would work?  I don't know.  I have two more shhetcakes to ice and am moving on to a new recipe before I get to the main cake.</td>\n",
       "      <td>0</td>\n",
       "    </tr>\n",
       "    <tr>\n",
       "      <th>556295</th>\n",
       "      <td>2533356</td>\n",
       "      <td>21882</td>\n",
       "      <td>2015-10-07</td>\n",
       "      <td>1</td>\n",
       "      <td>Canned mushrooms? They can&amp;#039;t make anything taste good!  I made recipe with a few adjustments. Fresh pesto and fresh mushrooms. Was ok but found the crumbs got soggy and unpleasant. I think I would skip crumbs altogether.</td>\n",
       "      <td>0</td>\n",
       "    </tr>\n",
       "  </tbody>\n",
       "</table>\n",
       "</div>"
      ],
      "text/plain": [
       "        user_id  recipe_id       date  rating  \\\n",
       "757381   134624     203695 2007-02-14       2   \n",
       "817885  1471923       4417 2012-09-03       0   \n",
       "198777   821430       9430 2009-08-11       0   \n",
       "360844   319854      95416 2008-08-08       3   \n",
       "556295  2533356      21882 2015-10-07       1   \n",
       "\n",
       "                                                                                                                                                                                                                                                                                                                                                                                                                                                                                                                                                                                  review  \\\n",
       "757381                                                                                                                                                                                                     I am sorry to say we just didn't enjoy this dish at all.\\r\\nThe only thing I could taste in this dish was the garlic, which seemed odd and out of place with a sweet potato.\\r\\nI would have liked some of the coconut milk flavor to come through here.\\r\\nI believe if I make this again, the garlic and thyme will be omitted and the allspice will be increased to 1 tsp.   \n",
       "817885                                                                                                                                                                                                                                                                                                                                                                                                                                                                                    I made with cinnamon raisin bread and it was great! I topped with vanilla bean ice cream! Yum!   \n",
       "198777  The flavor of the sauce was quite delicious- I had to make a few subs as I didn't have any tomato sauce. Used beef broth and tomato paste instead. For some reason the meat just didn't turn out for me. It was incredibly tough. I'm not quite sure what I did wrong. I had 2 round steaks and simmered them for almost 2 hours. They were inedible for some reason- like hockey pucks!  I will try this again but with another cut of meat- it was my first time using eye of round steaks and I don't think I'll be getting them again. (unfortunately as they are so cheap!)   \n",
       "360844                                                                                                                                                                                                                                                                                  Tastes great, but I got fluffy frosting both times I tried this recipe.  Fluffy, as in:  lots of air pockets and not smooth frosting.  Perhaps tripling the recipe would work?  I don't know.  I have two more shhetcakes to ice and am moving on to a new recipe before I get to the main cake.   \n",
       "556295                                                                                                                                                                                                                                                                                                                                                 Canned mushrooms? They can&#039;t make anything taste good!  I made recipe with a few adjustments. Fresh pesto and fresh mushrooms. Was ok but found the crumbs got soggy and unpleasant. I think I would skip crumbs altogether.   \n",
       "\n",
       "        review_imputed  \n",
       "757381               0  \n",
       "817885               0  \n",
       "198777               0  \n",
       "360844               0  \n",
       "556295               0  "
      ]
     },
     "execution_count": 108,
     "metadata": {},
     "output_type": "execute_result"
    }
   ],
   "source": [
    "###Verification si les données sont cohérentes et valides,affichon les lignes dont la note est inferieur a 3\n",
    "data[data['rating'] <= 3].sample(5)"
   ]
  },
  {
   "cell_type": "markdown",
   "id": "30514a55",
   "metadata": {},
   "source": [
    "nous observons que plusieurs lignes du jeu de données présentent une note égale à 0 (rating = 0), tout en contenant un commentaire textuel (review) souvent positif ou négatif.\n",
    "Cette situation est incohérente : une note de 0 ne correspond pas à une appréciation valide sur une échelle de 1 à 5, et le contenu des commentaires indique que les utilisateurs ont bien exprimé une opinion sur la recette.\n",
    "\n",
    "Nous en déduisons que la valeur 0 ne traduit pas une mauvaise note, mais plutôt l’absence de note — autrement dit, une valeur manquante codée par 0.\n",
    "\n",
    "En conséquence, nous considérons toutes les notes égales à 0 comme valeurs manquantes et nous les remplaçons par NaN afin de ne pas biaiser les statistiques descriptives ni les calculs de moyennes.\n",
    "Cela revient à interpréter ces cas comme des utilisateurs ayant laissé un commentaire sans attribuer de note chiffrée."
   ]
  },
  {
   "cell_type": "code",
   "execution_count": 155,
   "id": "3a6e6ed5",
   "metadata": {},
   "outputs": [],
   "source": [
    "##remplacons les notes invalides par NaN\n",
    "data.loc[data['rating'] == 0, 'rating'] = np.nan"
   ]
  },
  {
   "cell_type": "code",
   "execution_count": 156,
   "id": "d3a7ec24",
   "metadata": {},
   "outputs": [
    {
     "name": "stdout",
     "output_type": "stream",
     "text": [
      "60847\n"
     ]
    }
   ],
   "source": [
    "##verifions les valeurs manquantes après le remplacement\n",
    "print(data['rating'].isnull().sum())"
   ]
  },
  {
   "cell_type": "markdown",
   "id": "f8b40dc9",
   "metadata": {},
   "source": [
    "Analyse descriptive"
   ]
  },
  {
   "cell_type": "code",
   "execution_count": 159,
   "id": "a03cdcaf",
   "metadata": {},
   "outputs": [],
   "source": [
    "##Nous allons commencer a etudié d'abord comment la note(rating) valide est distribuée dans le dataset.\n",
    "data=data[data['rating'].notna()]"
   ]
  },
  {
   "cell_type": "code",
   "execution_count": 161,
   "id": "d4b2f7b0",
   "metadata": {},
   "outputs": [
    {
     "data": {
      "text/plain": [
       "count    1.071520e+06\n",
       "mean     4.661499e+00\n",
       "std      7.230534e-01\n",
       "min      1.000000e+00\n",
       "25%      5.000000e+00\n",
       "50%      5.000000e+00\n",
       "75%      5.000000e+00\n",
       "max      5.000000e+00\n",
       "Name: rating, dtype: float64"
      ]
     },
     "execution_count": 161,
     "metadata": {},
     "output_type": "execute_result"
    }
   ],
   "source": [
    "data['rating'].describe()"
   ]
  },
  {
   "cell_type": "code",
   "execution_count": 162,
   "id": "cafb9bcb",
   "metadata": {},
   "outputs": [
    {
     "data": {
      "text/plain": [
       "rating\n",
       "5.0    76.187472\n",
       "4.0    17.485441\n",
       "3.0     3.812808\n",
       "2.0     1.318034\n",
       "1.0     1.196245\n",
       "Name: proportion, dtype: float64"
      ]
     },
     "execution_count": 162,
     "metadata": {},
     "output_type": "execute_result"
    }
   ],
   "source": [
    "data['rating'].value_counts(normalize=True)*100"
   ]
  },
  {
   "cell_type": "code",
   "execution_count": 164,
   "id": "9a6d8d5c",
   "metadata": {},
   "outputs": [
    {
     "data": {
      "image/png": "[encoded data removed]",
      "text/plain": [
       "<Figure size 640x480 with 1 Axes>"
      ]
     },
     "metadata": {},
     "output_type": "display_data"
    }
   ],
   "source": [
    "sns.countplot(x='rating', data=data)\n",
    "plt.title(\"Distribution des notes valides\")\n",
    "plt.xlabel(\"Note\")\n",
    "plt.ylabel(\"Nombre d’occurrences\")\n",
    "plt.show()"
   ]
  },
  {
   "cell_type": "markdown",
   "id": "5b942ba4",
   "metadata": {},
   "source": [
    "L’analyse univariée de la variable rating met en évidence une forte concentration des évaluations sur les valeurs hautes de l’échelle (4 et 5).\n",
    "Ce biais positif traduit une satisfaction générale élevée sur la plateforme, mais il indique aussi que la variable rating n’est pas symétriquement distribuée."
   ]
  },
  {
   "cell_type": "code",
   "execution_count": 165,
   "id": "d644db9e",
   "metadata": {},
   "outputs": [
    {
     "data": {
      "text/plain": [
       "count    226570.000000\n",
       "mean          4.729311\n",
       "std          49.084643\n",
       "min           0.000000\n",
       "25%           1.000000\n",
       "50%           1.000000\n",
       "75%           1.000000\n",
       "max        7665.000000\n",
       "Name: count, dtype: float64"
      ]
     },
     "execution_count": 165,
     "metadata": {},
     "output_type": "execute_result"
    }
   ],
   "source": [
    "###Calculons le nombre totale d interactions par utilisateur\n",
    "interactions_user = data['user_id'].value_counts()\n",
    "interactions_user.describe()"
   ]
  },
  {
   "cell_type": "code",
   "execution_count": 168,
   "id": "13d1da53",
   "metadata": {},
   "outputs": [
    {
     "name": "stdout",
     "output_type": "stream",
     "text": [
      "user_id\n",
      "663071         1\n",
      "923163         3\n",
      "1837662        3\n",
      "2001662210     0\n",
      "2000852030     1\n",
      "1423329        1\n",
      "313014        71\n",
      "1610880        2\n",
      "1238688        1\n",
      "776692         1\n",
      "Name: count, dtype: int64\n"
     ]
    }
   ],
   "source": [
    "##Etudions maintenant la variable userid en determinons le top 10 des utilisateurs qui ont le plus interagi avec les recettes en fonction du nombre d'avis laissés.\n",
    "top_users = data['user_id'].value_counts().sample(10)\n",
    "print(top_users)\n"
   ]
  },
  {
   "cell_type": "code",
   "execution_count": 76,
   "id": "9b754c6f",
   "metadata": {},
   "outputs": [
    {
     "data": {
      "text/plain": [
       "Text(0.5, 0, 'User ID')"
      ]
     },
     "execution_count": 76,
     "metadata": {},
     "output_type": "execute_result"
    },
    {
     "data": {
      "image/png": "[encoded data removed]",
      "text/plain": [
       "<Figure size 640x480 with 1 Axes>"
      ]
     },
     "metadata": {},
     "output_type": "display_data"
    }
   ],
   "source": [
    "data['user_id'].value_counts().head(10).plot(kind='bar')\n",
    "plt.title('Top 10 des utilisateurs avec le plus d\\'interactions')\n",
    "plt.xlabel('User ID')"
   ]
  },
  {
   "cell_type": "code",
   "execution_count": 88,
   "id": "0d4eab6a",
   "metadata": {},
   "outputs": [
    {
     "name": "stdout",
     "output_type": "stream",
     "text": [
      "Proportion des utilisateurs ayant laissé moins de 2 avis : 73.38%\n"
     ]
    }
   ],
   "source": [
    "##Calculons la proportion des utilisateurs qui ont laissé moins de 2 avis\n",
    "proportion_moins_de_2_avis = (data['user_id'].value_counts() < 2).mean() * 100\n",
    "print(f\"Proportion des utilisateurs ayant laissé moins de 2 avis : {proportion_moins_de_2_avis:.2f}%\")"
   ]
  },
  {
   "cell_type": "markdown",
   "id": "6acd4e5f",
   "metadata": {},
   "source": [
    "analyse de la variable UserID met en évidence une forte disparité d’activité sur la plateforme :\n",
    "\n",
    "- 73,38 % des utilisateurs n’ont laissé qu’un seul avis, ce qui traduit un comportement ponctuel.\n",
    "- Une minorité d’utilisateurs hyperactifs contribue à une part importante des évaluations (jusqu’à 7 671 avis pour le plus actif).\n",
    "\n",
    "En conséquence, les analyses globales (par exemple la moyenne des notes) peuvent être biaisées par la surreprésentation des utilisateurs les plus actifs.\n",
    "\n",
    "Il est donc crucial, dans la suite de l’étude, d’examiner le lien entre le niveau d’activité UserID et les notes attribuées Rating afin de vérifier si ces utilisateurs très actifs sont également ceux qui attribuent systématiquement les notes les plus élevées."
   ]
  },
  {
   "cell_type": "code",
   "execution_count": 169,
   "id": "9c2bb1ce",
   "metadata": {},
   "outputs": [
    {
     "name": "stderr",
     "output_type": "stream",
     "text": [
      "C:\\Users\\ABDILLAHIOMARDJAMA\\AppData\\Local\\Temp\\ipykernel_33068\\2131936807.py:2: FutureWarning: The default of observed=False is deprecated and will be changed to True in a future version of pandas. Pass observed=False to retain current behavior or observed=True to adopt the future default and silence this warning.\n",
      "  data.groupby('user_id')['rating'].mean().describe()\n"
     ]
    },
    {
     "data": {
      "text/plain": [
       "count    196098.000000\n",
       "mean          4.557734\n",
       "std           0.900728\n",
       "min           1.000000\n",
       "25%           4.500000\n",
       "50%           5.000000\n",
       "75%           5.000000\n",
       "max           5.000000\n",
       "Name: rating, dtype: float64"
      ]
     },
     "execution_count": 169,
     "metadata": {},
     "output_type": "execute_result"
    }
   ],
   "source": [
    "##\n",
    "data.groupby('user_id')['rating'].mean().describe()"
   ]
  },
  {
   "cell_type": "code",
   "execution_count": 170,
   "id": "361d401b",
   "metadata": {},
   "outputs": [
    {
     "name": "stderr",
     "output_type": "stream",
     "text": [
      "C:\\Users\\ABDILLAHIOMARDJAMA\\AppData\\Local\\Temp\\ipykernel_33068\\4001221394.py:1: FutureWarning: The default of observed=False is deprecated and will be changed to True in a future version of pandas. Pass observed=False to retain current behavior or observed=True to adopt the future default and silence this warning.\n",
      "  data.groupby('user_id')['rating'].mean().hist(bins=30, rwidth=0.9)\n"
     ]
    },
    {
     "data": {
      "image/png": "[encoded data removed]",
      "text/plain": [
       "<Figure size 640x480 with 1 Axes>"
      ]
     },
     "metadata": {},
     "output_type": "display_data"
    }
   ],
   "source": [
    "data.groupby('user_id')['rating'].mean().hist(bins=30, rwidth=0.9)\n",
    "plt.title(\"Distribution de la moyenne des notes par utilisateur\")\n",
    "plt.xlabel(\"Moyenne des notes attribuées\")\n",
    "plt.ylabel(\"Nombre d'utilisateurs\")\n",
    "plt.show()"
   ]
  },
  {
   "cell_type": "code",
   "execution_count": 178,
   "id": "aff007d7",
   "metadata": {},
   "outputs": [
    {
     "data": {
      "image/png": "[encoded data removed]",
      "text/plain": [
       "<Figure size 1000x600 with 1 Axes>"
      ]
     },
     "metadata": {},
     "output_type": "display_data"
    }
   ],
   "source": [
    "##relation entre le nombre d'avis laissés et la note moyenne attribuée par utilisateur\n",
    "plt.figure(figsize=(10, 6))\n",
    "sns.scatterplot(x=data['user_id'].value_counts(), y=data.groupby('user_id', observed=True)['rating'].mean())\n",
    "plt.title(\"Relation entre le nombre d'avis laissés et la note moyenne par utilisateur\")\n",
    "plt.xlabel(\"Nombre d'avis laissés\")\n",
    "plt.ylabel(\"Note moyenne attribuée\")\n",
    "plt.show()"
   ]
  },
  {
   "cell_type": "code",
   "execution_count": 177,
   "id": "9e0d3340",
   "metadata": {},
   "outputs": [
    {
     "name": "stdout",
     "output_type": "stream",
     "text": [
      "Corrélation entre le nombre d'avis laissés et la note moyenne attribuée par utilisateur : 0.01\n"
     ]
    }
   ],
   "source": [
    "##calculons la corrélation entre le nombre d'avis laissés et la note moyenne attribuée par utilisateur\n",
    "correlation = data['user_id'].value_counts().corr(data.groupby('user_id', observed=True)['rating'].mean())\n",
    "print(f\"Corrélation entre le nombre d'avis laissés et la note moyenne attribuée par utilisateur : {correlation:.2f}\")\n"
   ]
  },
  {
   "cell_type": "code",
   "execution_count": 183,
   "id": "ffafe486",
   "metadata": {},
   "outputs": [
    {
     "data": {
      "text/plain": [
       "count    226570.000000\n",
       "mean          4.729311\n",
       "std          49.084643\n",
       "min           0.000000\n",
       "25%           1.000000\n",
       "50%           1.000000\n",
       "75%           1.000000\n",
       "95%          10.000000\n",
       "99%          59.000000\n",
       "max        7665.000000\n",
       "Name: count, dtype: float64"
      ]
     },
     "execution_count": 183,
     "metadata": {},
     "output_type": "execute_result"
    }
   ],
   "source": [
    "##le percentiles jusqu'à 99% des interactions par utilisateur,et regardons apres par au notes moyennes au recettes afin de voir si les utilisateurs qui laissent le plus d'avis ont tendance a donner des notes plus élevées ou plus basses.\n",
    "data['user_id'].value_counts().describe(percentiles=[.25, .5, .75, .95, .99])\n"
   ]
  },
  {
   "cell_type": "code",
   "execution_count": 184,
   "id": "656e7f91",
   "metadata": {},
   "outputs": [
    {
     "data": {
      "text/plain": [
       "interaction_level\n",
       "Extrême    52.954495\n",
       "Haute      18.980047\n",
       "Modérée    14.970229\n",
       "Faible     13.095229\n",
       "Name: proportion, dtype: float64"
      ]
     },
     "execution_count": 184,
     "metadata": {},
     "output_type": "execute_result"
    }
   ],
   "source": [
    "bins = [0, 1, 10, 60, float('inf')]\n",
    "labels = ['Faible', 'Modérée', 'Haute', 'Extrême']\n",
    "data['interaction_level'] = pd.cut(data['user_id'].map(data['user_id'].value_counts()), bins=bins, labels=labels)\n",
    "data['interaction_level'].value_counts(normalize=True) * 100"
   ]
  },
  {
   "cell_type": "code",
   "execution_count": 186,
   "id": "6f221f06",
   "metadata": {},
   "outputs": [
    {
     "data": {
      "image/png": "[encoded data removed]",
      "text/plain": [
       "<Figure size 640x480 with 1 Axes>"
      ]
     },
     "metadata": {},
     "output_type": "display_data"
    }
   ],
   "source": [
    "user_stats = data.groupby('user_id', observed=True).agg({'rating': 'mean', 'interaction_level': 'first'}).reset_index()\n",
    "user_stats.rename(columns={'rating': 'note_moyenne'}, inplace=True)\n",
    "sns.barplot(x='interaction_level', y='note_moyenne', data=user_stats, order=labels)\n",
    "plt.title(\"Relation entre l'activité et la moyenne des notes attribuées\")\n",
    "plt.xlabel(\"Catégorie d'activité de l'utilisateur\")\n",
    "plt.ylabel(\"Moyenne des notes\")\n",
    "plt.show()\n"
   ]
  },
  {
   "cell_type": "markdown",
   "id": "7df02649",
   "metadata": {},
   "source": [
    "Les résultats montrent une distribution très homogène des notes :\n",
    "quelle que soit la fréquence d’interaction d’un utilisateur, la moyenne des notes reste globalement stable, autour de 4.5 à 4.7.\n",
    "Aucune tendance claire (ni croissante ni décroissante) n’apparaît entre le nombre d’avis laissés et la sévérité des notes attribuées."
   ]
  }
 ],
 "metadata": {
  "kernelspec": {
   "display_name": "Python 3",
   "language": "python",
   "name": "python3"
  },
  "language_info": {
   "codemirror_mode": {
    "name": "ipython",
    "version": 3
   },
   "file_extension": ".py",
   "mimetype": "text/x-python",
   "name": "python",
   "nbconvert_exporter": "python",
   "pygments_lexer": "ipython3",
   "version": "3.13.7"
  }
 },
 "nbformat": 4,
 "nbformat_minor": 5
}

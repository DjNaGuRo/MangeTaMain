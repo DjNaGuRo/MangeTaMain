{
 "cells": [
  {
   "cell_type": "code",
   "execution_count": 1,
   "id": "04483bab",
   "metadata": {},
   "outputs": [],
   "source": [
    "import pandas as pd\n",
    "import numpy as np\n",
    "import matplotlib.pyplot as plt\n",
    "import seaborn as sns\n",
    "\n",
    "# Configuration globale pour l'affichage pandas\n",
    "pd.set_option('display.max_colwidth', None)\n",
    "pd.set_option('display.max_rows', 100)  # Optionnel : limite le nombre de lignes affichées\n"
   ]
  },
  {
   "cell_type": "code",
   "execution_count": 2,
   "id": "01c4e61c",
   "metadata": {},
   "outputs": [],
   "source": [
    "data=pd.read_csv(\"C:/Users/ABDILLAHIOMARDJAMA/Downloads/EDAPYTHON/RAW_interactions.csv\")"
   ]
  },
  {
   "cell_type": "markdown",
   "id": "7abb8d12",
   "metadata": {},
   "source": [
    "Exploration initiale"
   ]
  },
  {
   "cell_type": "code",
   "execution_count": 3,
   "id": "839f7392",
   "metadata": {},
   "outputs": [
    {
     "data": {
      "text/html": [
       "<div>\n",
       "<style scoped>\n",
       "    .dataframe tbody tr th:only-of-type {\n",
       "        vertical-align: middle;\n",
       "    }\n",
       "\n",
       "    .dataframe tbody tr th {\n",
       "        vertical-align: top;\n",
       "    }\n",
       "\n",
       "    .dataframe thead th {\n",
       "        text-align: right;\n",
       "    }\n",
       "</style>\n",
       "<table border=\"1\" class=\"dataframe\">\n",
       "  <thead>\n",
       "    <tr style=\"text-align: right;\">\n",
       "      <th></th>\n",
       "      <th>user_id</th>\n",
       "      <th>recipe_id</th>\n",
       "      <th>date</th>\n",
       "      <th>rating</th>\n",
       "      <th>review</th>\n",
       "    </tr>\n",
       "  </thead>\n",
       "  <tbody>\n",
       "    <tr>\n",
       "      <th>0</th>\n",
       "      <td>38094</td>\n",
       "      <td>40893</td>\n",
       "      <td>2003-02-17</td>\n",
       "      <td>4</td>\n",
       "      <td>Great with a salad. Cooked on top of stove for 15 minutes.Added a shake of cayenne and a pinch of salt.  Used low fat sour cream.  Thanks.</td>\n",
       "    </tr>\n",
       "    <tr>\n",
       "      <th>1</th>\n",
       "      <td>1293707</td>\n",
       "      <td>40893</td>\n",
       "      <td>2011-12-21</td>\n",
       "      <td>5</td>\n",
       "      <td>So simple, so delicious! Great for chilly fall evening. Should have doubled it ;)&lt;br/&gt;&lt;br/&gt;Second time around, forgot the remaining cumin. We usually love cumin, but didn't notice the missing 1/2 teaspoon!</td>\n",
       "    </tr>\n",
       "    <tr>\n",
       "      <th>2</th>\n",
       "      <td>8937</td>\n",
       "      <td>44394</td>\n",
       "      <td>2002-12-01</td>\n",
       "      <td>4</td>\n",
       "      <td>This worked very well and is EASY.  I used not quite a whole package (10oz) of white chips.  Great!</td>\n",
       "    </tr>\n",
       "    <tr>\n",
       "      <th>3</th>\n",
       "      <td>126440</td>\n",
       "      <td>85009</td>\n",
       "      <td>2010-02-27</td>\n",
       "      <td>5</td>\n",
       "      <td>I made the Mexican topping and took it to bunko.  Everyone loved it.</td>\n",
       "    </tr>\n",
       "    <tr>\n",
       "      <th>4</th>\n",
       "      <td>57222</td>\n",
       "      <td>85009</td>\n",
       "      <td>2011-10-01</td>\n",
       "      <td>5</td>\n",
       "      <td>Made the cheddar bacon topping, adding a sprinkling of black pepper. Yum!</td>\n",
       "    </tr>\n",
       "  </tbody>\n",
       "</table>\n",
       "</div>"
      ],
      "text/plain": [
       "   user_id  recipe_id        date  rating  \\\n",
       "0    38094      40893  2003-02-17       4   \n",
       "1  1293707      40893  2011-12-21       5   \n",
       "2     8937      44394  2002-12-01       4   \n",
       "3   126440      85009  2010-02-27       5   \n",
       "4    57222      85009  2011-10-01       5   \n",
       "\n",
       "                                                                                                                                                                                                          review  \n",
       "0                                                                     Great with a salad. Cooked on top of stove for 15 minutes.Added a shake of cayenne and a pinch of salt.  Used low fat sour cream.  Thanks.  \n",
       "1  So simple, so delicious! Great for chilly fall evening. Should have doubled it ;)<br/><br/>Second time around, forgot the remaining cumin. We usually love cumin, but didn't notice the missing 1/2 teaspoon!  \n",
       "2                                                                                                            This worked very well and is EASY.  I used not quite a whole package (10oz) of white chips.  Great!  \n",
       "3                                                                                                                                           I made the Mexican topping and took it to bunko.  Everyone loved it.  \n",
       "4                                                                                                                                      Made the cheddar bacon topping, adding a sprinkling of black pepper. Yum!  "
      ]
     },
     "execution_count": 3,
     "metadata": {},
     "output_type": "execute_result"
    }
   ],
   "source": [
    "##Aperçu des données\n",
    "data.head()"
   ]
  },
  {
   "cell_type": "code",
   "execution_count": 4,
   "id": "17bbfd4e",
   "metadata": {},
   "outputs": [
    {
     "data": {
      "text/html": [
       "<div>\n",
       "<style scoped>\n",
       "    .dataframe tbody tr th:only-of-type {\n",
       "        vertical-align: middle;\n",
       "    }\n",
       "\n",
       "    .dataframe tbody tr th {\n",
       "        vertical-align: top;\n",
       "    }\n",
       "\n",
       "    .dataframe thead th {\n",
       "        text-align: right;\n",
       "    }\n",
       "</style>\n",
       "<table border=\"1\" class=\"dataframe\">\n",
       "  <thead>\n",
       "    <tr style=\"text-align: right;\">\n",
       "      <th></th>\n",
       "      <th>user_id</th>\n",
       "      <th>recipe_id</th>\n",
       "      <th>date</th>\n",
       "      <th>rating</th>\n",
       "      <th>review</th>\n",
       "    </tr>\n",
       "  </thead>\n",
       "  <tbody>\n",
       "    <tr>\n",
       "      <th>1044419</th>\n",
       "      <td>496803</td>\n",
       "      <td>178569</td>\n",
       "      <td>2011-07-21</td>\n",
       "      <td>4</td>\n",
       "      <td>This was a wonderful fish stew!  I used cod, shrimp, and mussels.  There were only three of us for dinner, so I cut the recipe in half, which was perfect with some sourdough bread and a small spinach salad on the side.  This was very easy to make, most of the time spent was simply letting the broth simmer, then watching the fish for doneness.  I chose to completely puree my tomatoes- just personal preference.  I also found that my tomatoes were just a touch too sweet, so I added a tablespoon of red wine vinegar to counter.  This was a lovely, light meal, and one I'd enjoy trying again with different fish.  Thanks for posting!</td>\n",
       "    </tr>\n",
       "    <tr>\n",
       "      <th>1093232</th>\n",
       "      <td>898589</td>\n",
       "      <td>188840</td>\n",
       "      <td>2011-06-09</td>\n",
       "      <td>5</td>\n",
       "      <td>Very tasty and juicy! Not exactly what I would call low-fat, but the house seasoning is great. I have mine stored in a glass jar for future use.  Very flavorful. Two Thumbs up!</td>\n",
       "    </tr>\n",
       "    <tr>\n",
       "      <th>219556</th>\n",
       "      <td>52262</td>\n",
       "      <td>32147</td>\n",
       "      <td>2004-03-02</td>\n",
       "      <td>4</td>\n",
       "      <td>I followed the recipe exactly.  The ribs smelled and tasted good, but something was missing from the taste and sauce was a little oily.  Sorry I can't be more specific about the cause.</td>\n",
       "    </tr>\n",
       "    <tr>\n",
       "      <th>179577</th>\n",
       "      <td>273720</td>\n",
       "      <td>17222</td>\n",
       "      <td>2005-12-31</td>\n",
       "      <td>5</td>\n",
       "      <td>I was just going to post this recipe and saw it already here.  This is definitely the best potato soup ever! Instead of the 1 cup heavy cream, I use 1 cup half and half *and* 1 cup milk for an even creamier soup.  Since potatoes come in all sizes, (we grow our own) I use 8 cups cubed. Also added 5 cloves garlic.. Yum!</td>\n",
       "    </tr>\n",
       "    <tr>\n",
       "      <th>359527</th>\n",
       "      <td>645143</td>\n",
       "      <td>67256</td>\n",
       "      <td>2009-11-08</td>\n",
       "      <td>4</td>\n",
       "      <td>Heavy but very nice.</td>\n",
       "    </tr>\n",
       "    <tr>\n",
       "      <th>361661</th>\n",
       "      <td>171063</td>\n",
       "      <td>5170</td>\n",
       "      <td>2007-06-11</td>\n",
       "      <td>5</td>\n",
       "      <td>Bill, these were wonderful pancakes.  I followed the recommendation of nyrdchef and added vanilla extract.  Great with lots of syrup and butter.  Thanks for sharing.</td>\n",
       "    </tr>\n",
       "    <tr>\n",
       "      <th>488232</th>\n",
       "      <td>1803544937</td>\n",
       "      <td>286617</td>\n",
       "      <td>2014-12-22</td>\n",
       "      <td>5</td>\n",
       "      <td>I make this all the time for my husband. In Afghanistan its called sheer chai and its wonderful.</td>\n",
       "    </tr>\n",
       "    <tr>\n",
       "      <th>98114</th>\n",
       "      <td>8688</td>\n",
       "      <td>29544</td>\n",
       "      <td>2002-07-23</td>\n",
       "      <td>5</td>\n",
       "      <td>Well Kari, we POPPED!  These pork chops are so incredibly moist and tender you will need no fork! They reminded me of a sweet and sour flavor of a dish I have made many times before.  I followed the directions to the letter and served over rice.  The sauce this recipe makes is heavenly. An irresistible dish I will undoubtedly make again and again!  Thanks, Kari!</td>\n",
       "    </tr>\n",
       "    <tr>\n",
       "      <th>33787</th>\n",
       "      <td>294089</td>\n",
       "      <td>66241</td>\n",
       "      <td>2007-10-07</td>\n",
       "      <td>5</td>\n",
       "      <td>Wow, these are so good! I made these for breakfast this morning b/c I have a quart of buttermilk on hand for another recipe.  I halved the recipe and made 6 fluffy pancakes.  I topped them w/fresh strawberries and a little maple syrup.  Thanks for the recipe.  This is a keeper.</td>\n",
       "    </tr>\n",
       "    <tr>\n",
       "      <th>17138</th>\n",
       "      <td>383346</td>\n",
       "      <td>415299</td>\n",
       "      <td>2011-05-09</td>\n",
       "      <td>5</td>\n",
       "      <td>I made half the recipe.  I used reduced-fat cream cheese.  I omitted the green pepper.  I roasted a red bell pepper to use instead of the pimientos.  I used more cheese.  It was really easy to do.  It was perfect with a steak cooked on the bbq.  Thanks Sydney Mike :)  Holiday tag game</td>\n",
       "    </tr>\n",
       "  </tbody>\n",
       "</table>\n",
       "</div>"
      ],
      "text/plain": [
       "            user_id  recipe_id        date  rating  \\\n",
       "1044419      496803     178569  2011-07-21       4   \n",
       "1093232      898589     188840  2011-06-09       5   \n",
       "219556        52262      32147  2004-03-02       4   \n",
       "179577       273720      17222  2005-12-31       5   \n",
       "359527       645143      67256  2009-11-08       4   \n",
       "361661       171063       5170  2007-06-11       5   \n",
       "488232   1803544937     286617  2014-12-22       5   \n",
       "98114          8688      29544  2002-07-23       5   \n",
       "33787        294089      66241  2007-10-07       5   \n",
       "17138        383346     415299  2011-05-09       5   \n",
       "\n",
       "                                                                                                                                                                                                                                                                                                                                                                                                                                                                                                                                                                                                                                                            review  \n",
       "1044419  This was a wonderful fish stew!  I used cod, shrimp, and mussels.  There were only three of us for dinner, so I cut the recipe in half, which was perfect with some sourdough bread and a small spinach salad on the side.  This was very easy to make, most of the time spent was simply letting the broth simmer, then watching the fish for doneness.  I chose to completely puree my tomatoes- just personal preference.  I also found that my tomatoes were just a touch too sweet, so I added a tablespoon of red wine vinegar to counter.  This was a lovely, light meal, and one I'd enjoy trying again with different fish.  Thanks for posting!  \n",
       "1093232                                                                                                                                                                                                                                                                                                                                                                                                                                                                           Very tasty and juicy! Not exactly what I would call low-fat, but the house seasoning is great. I have mine stored in a glass jar for future use.  Very flavorful. Two Thumbs up!  \n",
       "219556                                                                                                                                                                                                                                                                                                                                                                                                                                                                    I followed the recipe exactly.  The ribs smelled and tasted good, but something was missing from the taste and sauce was a little oily.  Sorry I can't be more specific about the cause.  \n",
       "179577                                                                                                                                                                                                                                                                                                                             I was just going to post this recipe and saw it already here.  This is definitely the best potato soup ever! Instead of the 1 cup heavy cream, I use 1 cup half and half *and* 1 cup milk for an even creamier soup.  Since potatoes come in all sizes, (we grow our own) I use 8 cups cubed. Also added 5 cloves garlic.. Yum!  \n",
       "359527                                                                                                                                                                                                                                                                                                                                                                                                                                                                                                                                                                                                                                        Heavy but very nice.  \n",
       "361661                                                                                                                                                                                                                                                                                                                                                                                                                                                                                       Bill, these were wonderful pancakes.  I followed the recommendation of nyrdchef and added vanilla extract.  Great with lots of syrup and butter.  Thanks for sharing.  \n",
       "488232                                                                                                                                                                                                                                                                                                                                                                                                                                                                                                                                                            I make this all the time for my husband. In Afghanistan its called sheer chai and its wonderful.  \n",
       "98114                                                                                                                                                                                                                                                                                 Well Kari, we POPPED!  These pork chops are so incredibly moist and tender you will need no fork! They reminded me of a sweet and sour flavor of a dish I have made many times before.  I followed the directions to the letter and served over rice.  The sauce this recipe makes is heavenly. An irresistible dish I will undoubtedly make again and again!  Thanks, Kari!  \n",
       "33787                                                                                                                                                                                                                                                                                                                                                                       Wow, these are so good! I made these for breakfast this morning b/c I have a quart of buttermilk on hand for another recipe.  I halved the recipe and made 6 fluffy pancakes.  I topped them w/fresh strawberries and a little maple syrup.  Thanks for the recipe.  This is a keeper.  \n",
       "17138                                                                                                                                                                                                                                                                                                                                                                I made half the recipe.  I used reduced-fat cream cheese.  I omitted the green pepper.  I roasted a red bell pepper to use instead of the pimientos.  I used more cheese.  It was really easy to do.  It was perfect with a steak cooked on the bbq.  Thanks Sydney Mike :)  Holiday tag game  "
      ]
     },
     "execution_count": 4,
     "metadata": {},
     "output_type": "execute_result"
    }
   ],
   "source": [
    "##Affichage aleatoire de 10 lignes\n",
    "data.sample(10)"
   ]
  },
  {
   "cell_type": "code",
   "execution_count": 5,
   "id": "92af19ca",
   "metadata": {},
   "outputs": [
    {
     "name": "stdout",
     "output_type": "stream",
     "text": [
      "<class 'pandas.core.frame.DataFrame'>\n",
      "RangeIndex: 1132367 entries, 0 to 1132366\n",
      "Data columns (total 5 columns):\n",
      " #   Column     Non-Null Count    Dtype \n",
      "---  ------     --------------    ----- \n",
      " 0   user_id    1132367 non-null  int64 \n",
      " 1   recipe_id  1132367 non-null  int64 \n",
      " 2   date       1132367 non-null  object\n",
      " 3   rating     1132367 non-null  int64 \n",
      " 4   review     1132198 non-null  object\n",
      "dtypes: int64(3), object(2)\n",
      "memory usage: 43.2+ MB\n"
     ]
    }
   ],
   "source": [
    "##Structure des données\n",
    "data.info()"
   ]
  },
  {
   "cell_type": "code",
   "execution_count": 6,
   "id": "9ed949fb",
   "metadata": {},
   "outputs": [
    {
     "name": "stdout",
     "output_type": "stream",
     "text": [
      "le nombre de lignes est : 1132367\n",
      "le nombre de colonnes est : 5\n"
     ]
    }
   ],
   "source": [
    "##la taille des données\n",
    "nombre_de_lignes, nombre_de_colonnes = data.shape\n",
    "print(f\"le nombre de lignes est : {nombre_de_lignes}\")\n",
    "print(f\"le nombre de colonnes est : {nombre_de_colonnes}\")"
   ]
  },
  {
   "cell_type": "markdown",
   "id": "5a61296b",
   "metadata": {},
   "source": [
    "Nous disposons un dataset contenant 113236 observations et 5 variables decrivatnt les interactions des utilisateurs avec le recettes de cuisines,et ci-dessous la description des variables:\n",
    "- user_id : identifiant unique de l'utilisateur\n",
    " - recipe_id : identifiant unique de la recette\n",
    " - rating : note attribuée par l'utilisateur à la recette (échelle de 1 à 5)\n",
    " - date: date de l'interaction\n",
    " - review: commentaire textuel laissé par l'utilisateur sur la recette."
   ]
  },
  {
   "cell_type": "code",
   "execution_count": 7,
   "id": "10ac7d24",
   "metadata": {},
   "outputs": [
    {
     "name": "stdout",
     "output_type": "stream",
     "text": [
      "user_id        0\n",
      "recipe_id      0\n",
      "date           0\n",
      "rating         0\n",
      "review       169\n",
      "dtype: int64\n"
     ]
    }
   ],
   "source": [
    "##Detection des nombres des valeurs manquantes par colonne\n",
    "print(data.isnull().sum())\n"
   ]
  },
  {
   "cell_type": "code",
   "execution_count": 8,
   "id": "3b2268d1",
   "metadata": {},
   "outputs": [
    {
     "name": "stdout",
     "output_type": "stream",
     "text": [
      "user_id      0.000000\n",
      "recipe_id    0.000000\n",
      "date         0.000000\n",
      "rating       0.000000\n",
      "review       0.014924\n",
      "dtype: float64\n"
     ]
    }
   ],
   "source": [
    "##Detection de pourcetage des valeurs manquantes par colonne\n",
    "print(data.isna().mean()*100)"
   ]
  },
  {
   "cell_type": "code",
   "execution_count": 9,
   "id": "f54e2af4",
   "metadata": {},
   "outputs": [
    {
     "name": "stdout",
     "output_type": "stream",
     "text": [
      "0.0029848980056819035\n"
     ]
    }
   ],
   "source": [
    "##detection des pourcentages des valeurs manquantes du dataset\n",
    "print(data.isna().mean().mean()*100)"
   ]
  },
  {
   "cell_type": "code",
   "execution_count": 10,
   "id": "589bd9dd",
   "metadata": {},
   "outputs": [],
   "source": [
    "##interpretation des valeurs manquantes:nous observons que la colonne review a 0,015% de valeurs manquantes.il est trop faible comme pourcentage et nous pouvons les ignorer,comme il s'agit des données textuelles liée a des avis des utilisatures sur les recettes,alors nous pouvons les imputer par des descriptions dependants des autres colonnes,comme le note de la recette"
   ]
  },
  {
   "cell_type": "code",
   "execution_count": 11,
   "id": "464cd4e8",
   "metadata": {},
   "outputs": [
    {
     "data": {
      "text/html": [
       "<div>\n",
       "<style scoped>\n",
       "    .dataframe tbody tr th:only-of-type {\n",
       "        vertical-align: middle;\n",
       "    }\n",
       "\n",
       "    .dataframe tbody tr th {\n",
       "        vertical-align: top;\n",
       "    }\n",
       "\n",
       "    .dataframe thead th {\n",
       "        text-align: right;\n",
       "    }\n",
       "</style>\n",
       "<table border=\"1\" class=\"dataframe\">\n",
       "  <thead>\n",
       "    <tr style=\"text-align: right;\">\n",
       "      <th></th>\n",
       "      <th>user_id</th>\n",
       "      <th>recipe_id</th>\n",
       "      <th>date</th>\n",
       "      <th>rating</th>\n",
       "      <th>review</th>\n",
       "    </tr>\n",
       "  </thead>\n",
       "  <tbody>\n",
       "    <tr>\n",
       "      <th>824299</th>\n",
       "      <td>1566740</td>\n",
       "      <td>93283</td>\n",
       "      <td>2010-09-06</td>\n",
       "      <td>0</td>\n",
       "      <td>wonderful!! it was easy and tasted amazing!! if you like using your bread machine you need to try this...I love the fact that it has whole wheat flour...I used stone ground whole wheat...I was afraid it would be to heavy and it was just fine...I would like to try making the glaze on the layers...but it would probably fall appart...</td>\n",
       "    </tr>\n",
       "    <tr>\n",
       "      <th>771875</th>\n",
       "      <td>189616</td>\n",
       "      <td>97892</td>\n",
       "      <td>2005-03-09</td>\n",
       "      <td>3</td>\n",
       "      <td>We give it 3-B's\\r\\nBland\\r\\nBasic\\r\\nBoring\\r\\nOur boys didn't even like it</td>\n",
       "    </tr>\n",
       "    <tr>\n",
       "      <th>611118</th>\n",
       "      <td>125640</td>\n",
       "      <td>211225</td>\n",
       "      <td>2007-04-22</td>\n",
       "      <td>3</td>\n",
       "      <td>Something a little different and definately interesting. I liked the flavor, but didn't care much for the texture. Like others, I started having trouble getting the cheese to stick towards the end as it got wet. If I try this again I think I'd do away with the egg and cheese altogether, and just toss the cauliflower with the spice mixture (with a little garlic powder added) in olive oil and bake. Thanks for sharing.</td>\n",
       "    </tr>\n",
       "    <tr>\n",
       "      <th>983414</th>\n",
       "      <td>325281</td>\n",
       "      <td>48667</td>\n",
       "      <td>2010-12-15</td>\n",
       "      <td>3</td>\n",
       "      <td>A little too sugary not my favorite but it did look festive.</td>\n",
       "    </tr>\n",
       "    <tr>\n",
       "      <th>760354</th>\n",
       "      <td>292332</td>\n",
       "      <td>16501</td>\n",
       "      <td>2006-03-10</td>\n",
       "      <td>1</td>\n",
       "      <td>Don't know what I did wrong, but chicken was dry and not too flavorful.  My kids definitely did not like this!</td>\n",
       "    </tr>\n",
       "  </tbody>\n",
       "</table>\n",
       "</div>"
      ],
      "text/plain": [
       "        user_id  recipe_id        date  rating  \\\n",
       "824299  1566740      93283  2010-09-06       0   \n",
       "771875   189616      97892  2005-03-09       3   \n",
       "611118   125640     211225  2007-04-22       3   \n",
       "983414   325281      48667  2010-12-15       3   \n",
       "760354   292332      16501  2006-03-10       1   \n",
       "\n",
       "                                                                                                                                                                                                                                                                                                                                                                                                                                     review  \n",
       "824299                                                                                        wonderful!! it was easy and tasted amazing!! if you like using your bread machine you need to try this...I love the fact that it has whole wheat flour...I used stone ground whole wheat...I was afraid it would be to heavy and it was just fine...I would like to try making the glaze on the layers...but it would probably fall appart...  \n",
       "771875                                                                                                                                                                                                                                                                                                                                                         We give it 3-B's\\r\\nBland\\r\\nBasic\\r\\nBoring\\r\\nOur boys didn't even like it  \n",
       "611118  Something a little different and definately interesting. I liked the flavor, but didn't care much for the texture. Like others, I started having trouble getting the cheese to stick towards the end as it got wet. If I try this again I think I'd do away with the egg and cheese altogether, and just toss the cauliflower with the spice mixture (with a little garlic powder added) in olive oil and bake. Thanks for sharing.  \n",
       "983414                                                                                                                                                                                                                                                                                                                                                                         A little too sugary not my favorite but it did look festive.  \n",
       "760354                                                                                                                                                                                                                                                                                                                       Don't know what I did wrong, but chicken was dry and not too flavorful.  My kids definitely did not like this!  "
      ]
     },
     "execution_count": 11,
     "metadata": {},
     "output_type": "execute_result"
    }
   ],
   "source": [
    "##affichage des lignes dont la note est superieur ou egale a 4 et la colonne review,afin de pouvoir voir comment les commentaire sont formulés.\n",
    "data[data['rating']<4].sample(5)"
   ]
  },
  {
   "cell_type": "code",
   "execution_count": 12,
   "id": "9d40150b",
   "metadata": {},
   "outputs": [
    {
     "data": {
      "text/html": [
       "<div>\n",
       "<style scoped>\n",
       "    .dataframe tbody tr th:only-of-type {\n",
       "        vertical-align: middle;\n",
       "    }\n",
       "\n",
       "    .dataframe tbody tr th {\n",
       "        vertical-align: top;\n",
       "    }\n",
       "\n",
       "    .dataframe thead th {\n",
       "        text-align: right;\n",
       "    }\n",
       "</style>\n",
       "<table border=\"1\" class=\"dataframe\">\n",
       "  <thead>\n",
       "    <tr style=\"text-align: right;\">\n",
       "      <th></th>\n",
       "      <th>user_id</th>\n",
       "      <th>recipe_id</th>\n",
       "      <th>date</th>\n",
       "      <th>rating</th>\n",
       "      <th>review</th>\n",
       "    </tr>\n",
       "  </thead>\n",
       "  <tbody>\n",
       "    <tr>\n",
       "      <th>518338</th>\n",
       "      <td>2270186</td>\n",
       "      <td>392635</td>\n",
       "      <td>2017-04-02</td>\n",
       "      <td>5</td>\n",
       "      <td>NaN</td>\n",
       "    </tr>\n",
       "    <tr>\n",
       "      <th>859199</th>\n",
       "      <td>2001530119</td>\n",
       "      <td>135358</td>\n",
       "      <td>2017-05-10</td>\n",
       "      <td>4</td>\n",
       "      <td>NaN</td>\n",
       "    </tr>\n",
       "    <tr>\n",
       "      <th>622656</th>\n",
       "      <td>2001910636</td>\n",
       "      <td>486355</td>\n",
       "      <td>2018-02-27</td>\n",
       "      <td>4</td>\n",
       "      <td>NaN</td>\n",
       "    </tr>\n",
       "    <tr>\n",
       "      <th>181382</th>\n",
       "      <td>2001820255</td>\n",
       "      <td>101954</td>\n",
       "      <td>2018-01-13</td>\n",
       "      <td>5</td>\n",
       "      <td>NaN</td>\n",
       "    </tr>\n",
       "    <tr>\n",
       "      <th>1051494</th>\n",
       "      <td>2002157630</td>\n",
       "      <td>186294</td>\n",
       "      <td>2018-05-19</td>\n",
       "      <td>4</td>\n",
       "      <td>NaN</td>\n",
       "    </tr>\n",
       "  </tbody>\n",
       "</table>\n",
       "</div>"
      ],
      "text/plain": [
       "            user_id  recipe_id        date  rating review\n",
       "518338      2270186     392635  2017-04-02       5    NaN\n",
       "859199   2001530119     135358  2017-05-10       4    NaN\n",
       "622656   2001910636     486355  2018-02-27       4    NaN\n",
       "181382   2001820255     101954  2018-01-13       5    NaN\n",
       "1051494  2002157630     186294  2018-05-19       4    NaN"
      ]
     },
     "execution_count": 12,
     "metadata": {},
     "output_type": "execute_result"
    }
   ],
   "source": [
    "####Affichons les lignes qui ont des valeurs manquantes dans la colonne review.\n",
    "data[data['review'].isnull()].sample(5)"
   ]
  },
  {
   "cell_type": "code",
   "execution_count": 13,
   "id": "ef9e14f6",
   "metadata": {},
   "outputs": [
    {
     "name": "stdout",
     "output_type": "stream",
     "text": [
      "rating\n",
      "5    135\n",
      "4     27\n",
      "3      3\n",
      "1      3\n",
      "2      1\n",
      "Name: count, dtype: int64\n"
     ]
    }
   ],
   "source": [
    "###affiché les nombres des valeur manquantes de la colonne par ligne en fonction de la note\n",
    "print(data[data['review'].isnull()]['rating'].value_counts())"
   ]
  },
  {
   "cell_type": "code",
   "execution_count": 14,
   "id": "ccecab96",
   "metadata": {},
   "outputs": [],
   "source": [
    "##Nous allons imputer les valeurs manquantes de la colonne review en fonction de la note(rating) de la recette.\n",
    "def imputer_review(row):\n",
    "    if pd.isnull(row['review']):\n",
    "        if row['rating'] == 5:\n",
    "            return \"Excellent recipe! Loved it!\"\n",
    "        elif row['rating'] == 4:\n",
    "            return \"Great recipe, will make again.\"\n",
    "        elif row['rating'] == 3:\n",
    "            return \"Good recipe, but could be improved.\"\n",
    "        elif row['rating'] == 2:\n",
    "            return \"Not my favorite.\"\n",
    "        elif row['rating'] == 1:\n",
    "            return \"Did not like this recipe at all.\"\n",
    "        elif row['rating'] == 0:\n",
    "            return \"Terrible recipe, would not recommend.\"\n",
    "    else:\n",
    "        return row['review']\n",
    "\n"
   ]
  },
  {
   "cell_type": "code",
   "execution_count": 15,
   "id": "f18040a4",
   "metadata": {},
   "outputs": [
    {
     "name": "stdout",
     "output_type": "stream",
     "text": [
      "Valeurs manquantes après imputation :\n",
      "0\n"
     ]
    }
   ],
   "source": [
    "##Application de la fonction d'imputation\n",
    "data['review'] = data.apply(imputer_review, axis=1)\n",
    "\n",
    "# Vérifions les valeurs manquantes après l'imputation\n",
    "print(\"Valeurs manquantes après imputation :\")\n",
    "print(data['review'].isnull().sum())"
   ]
  },
  {
   "cell_type": "code",
   "execution_count": 16,
   "id": "b0a1e003",
   "metadata": {},
   "outputs": [
    {
     "name": "stdout",
     "output_type": "stream",
     "text": [
      "Nombre de reviews par type :\n",
      "review_imputed\n",
      "0    1132197\n",
      "1        170\n",
      "Name: count, dtype: int64\n",
      "\n",
      "Pourcentage :\n",
      "review_imputed\n",
      "0    99.984987\n",
      "1     0.015013\n",
      "Name: proportion, dtype: float64\n"
     ]
    }
   ],
   "source": [
    "# Créer une liste des commentaires imputés\n",
    "commentaires_imputes = [\n",
    "    \"Excellent recipe! Loved it!\",\n",
    "    \"Great recipe, will make again.\",\n",
    "    \"Good recipe, but could be improved.\",\n",
    "    \"Not my favorite.\",\n",
    "    \"Did not like this recipe at all.\",\n",
    "    \"Terrible recipe, would not recommend.\"\n",
    "]\n",
    "\n",
    "# Créer la colonne indicatrice (1 = imputé, 0 = original)\n",
    "data['review_imputed'] = data['review'].isin(commentaires_imputes).astype(int)\n",
    "\n",
    "# Vérifier les résultats\n",
    "print(\"Nombre de reviews par type :\")\n",
    "print(data['review_imputed'].value_counts())\n",
    "print(\"\\nPourcentage :\")\n",
    "print(data['review_imputed'].value_counts(normalize=True) * 100)"
   ]
  },
  {
   "cell_type": "code",
   "execution_count": 17,
   "id": "6428d388",
   "metadata": {},
   "outputs": [
    {
     "name": "stdout",
     "output_type": "stream",
     "text": [
      "Nombre total de lignes dans le dataset après traitement des valeurs manquantes : 1132367\n"
     ]
    }
   ],
   "source": [
    "##Affichons nombre total des donnée observé avant et après le traitement des valeurs manquantes\n",
    "print(f\"Nombre total de lignes dans le dataset après traitement des valeurs manquantes : {data.shape[0]}\")\n"
   ]
  },
  {
   "cell_type": "code",
   "execution_count": 18,
   "id": "9326b113",
   "metadata": {},
   "outputs": [
    {
     "data": {
      "text/html": [
       "<div>\n",
       "<style scoped>\n",
       "    .dataframe tbody tr th:only-of-type {\n",
       "        vertical-align: middle;\n",
       "    }\n",
       "\n",
       "    .dataframe tbody tr th {\n",
       "        vertical-align: top;\n",
       "    }\n",
       "\n",
       "    .dataframe thead th {\n",
       "        text-align: right;\n",
       "    }\n",
       "</style>\n",
       "<table border=\"1\" class=\"dataframe\">\n",
       "  <thead>\n",
       "    <tr style=\"text-align: right;\">\n",
       "      <th></th>\n",
       "      <th>user_id</th>\n",
       "      <th>recipe_id</th>\n",
       "      <th>date</th>\n",
       "      <th>rating</th>\n",
       "      <th>review</th>\n",
       "      <th>review_imputed</th>\n",
       "    </tr>\n",
       "  </thead>\n",
       "  <tbody>\n",
       "    <tr>\n",
       "      <th>0</th>\n",
       "      <td>38094</td>\n",
       "      <td>40893</td>\n",
       "      <td>2003-02-17</td>\n",
       "      <td>4</td>\n",
       "      <td>Great with a salad. Cooked on top of stove for 15 minutes.Added a shake of cayenne and a pinch of salt.  Used low fat sour cream.  Thanks.</td>\n",
       "      <td>0</td>\n",
       "    </tr>\n",
       "    <tr>\n",
       "      <th>1</th>\n",
       "      <td>1293707</td>\n",
       "      <td>40893</td>\n",
       "      <td>2011-12-21</td>\n",
       "      <td>5</td>\n",
       "      <td>So simple, so delicious! Great for chilly fall evening. Should have doubled it ;)&lt;br/&gt;&lt;br/&gt;Second time around, forgot the remaining cumin. We usually love cumin, but didn't notice the missing 1/2 teaspoon!</td>\n",
       "      <td>0</td>\n",
       "    </tr>\n",
       "    <tr>\n",
       "      <th>2</th>\n",
       "      <td>8937</td>\n",
       "      <td>44394</td>\n",
       "      <td>2002-12-01</td>\n",
       "      <td>4</td>\n",
       "      <td>This worked very well and is EASY.  I used not quite a whole package (10oz) of white chips.  Great!</td>\n",
       "      <td>0</td>\n",
       "    </tr>\n",
       "    <tr>\n",
       "      <th>3</th>\n",
       "      <td>126440</td>\n",
       "      <td>85009</td>\n",
       "      <td>2010-02-27</td>\n",
       "      <td>5</td>\n",
       "      <td>I made the Mexican topping and took it to bunko.  Everyone loved it.</td>\n",
       "      <td>0</td>\n",
       "    </tr>\n",
       "    <tr>\n",
       "      <th>4</th>\n",
       "      <td>57222</td>\n",
       "      <td>85009</td>\n",
       "      <td>2011-10-01</td>\n",
       "      <td>5</td>\n",
       "      <td>Made the cheddar bacon topping, adding a sprinkling of black pepper. Yum!</td>\n",
       "      <td>0</td>\n",
       "    </tr>\n",
       "  </tbody>\n",
       "</table>\n",
       "</div>"
      ],
      "text/plain": [
       "   user_id  recipe_id        date  rating  \\\n",
       "0    38094      40893  2003-02-17       4   \n",
       "1  1293707      40893  2011-12-21       5   \n",
       "2     8937      44394  2002-12-01       4   \n",
       "3   126440      85009  2010-02-27       5   \n",
       "4    57222      85009  2011-10-01       5   \n",
       "\n",
       "                                                                                                                                                                                                          review  \\\n",
       "0                                                                     Great with a salad. Cooked on top of stove for 15 minutes.Added a shake of cayenne and a pinch of salt.  Used low fat sour cream.  Thanks.   \n",
       "1  So simple, so delicious! Great for chilly fall evening. Should have doubled it ;)<br/><br/>Second time around, forgot the remaining cumin. We usually love cumin, but didn't notice the missing 1/2 teaspoon!   \n",
       "2                                                                                                            This worked very well and is EASY.  I used not quite a whole package (10oz) of white chips.  Great!   \n",
       "3                                                                                                                                           I made the Mexican topping and took it to bunko.  Everyone loved it.   \n",
       "4                                                                                                                                      Made the cheddar bacon topping, adding a sprinkling of black pepper. Yum!   \n",
       "\n",
       "   review_imputed  \n",
       "0               0  \n",
       "1               0  \n",
       "2               0  \n",
       "3               0  \n",
       "4               0  "
      ]
     },
     "execution_count": 18,
     "metadata": {},
     "output_type": "execute_result"
    }
   ],
   "source": [
    "##Affichage des dataset aprés traitement des valeurs manquantes\n",
    "data.head()"
   ]
  },
  {
   "cell_type": "code",
   "execution_count": 19,
   "id": "3b253955",
   "metadata": {},
   "outputs": [
    {
     "name": "stdout",
     "output_type": "stream",
     "text": [
      "Nombre de doublons dans le dataset : 0\n"
     ]
    }
   ],
   "source": [
    "###Detection des doublons\n",
    "print(f\"Nombre de doublons dans le dataset : {data.duplicated().sum()}\")"
   ]
  },
  {
   "cell_type": "code",
   "execution_count": 20,
   "id": "20d6dbed",
   "metadata": {},
   "outputs": [
    {
     "data": {
      "text/html": [
       "<div>\n",
       "<style scoped>\n",
       "    .dataframe tbody tr th:only-of-type {\n",
       "        vertical-align: middle;\n",
       "    }\n",
       "\n",
       "    .dataframe tbody tr th {\n",
       "        vertical-align: top;\n",
       "    }\n",
       "\n",
       "    .dataframe thead th {\n",
       "        text-align: right;\n",
       "    }\n",
       "</style>\n",
       "<table border=\"1\" class=\"dataframe\">\n",
       "  <thead>\n",
       "    <tr style=\"text-align: right;\">\n",
       "      <th></th>\n",
       "      <th>user_id</th>\n",
       "      <th>recipe_id</th>\n",
       "      <th>date</th>\n",
       "      <th>rating</th>\n",
       "      <th>review</th>\n",
       "      <th>review_imputed</th>\n",
       "    </tr>\n",
       "  </thead>\n",
       "  <tbody>\n",
       "  </tbody>\n",
       "</table>\n",
       "</div>"
      ],
      "text/plain": [
       "Empty DataFrame\n",
       "Columns: [user_id, recipe_id, date, rating, review, review_imputed]\n",
       "Index: []"
      ]
     },
     "execution_count": 20,
     "metadata": {},
     "output_type": "execute_result"
    }
   ],
   "source": [
    "##affichons les utilisateurs qui ont commenté plus d'une fois la même recette.\n",
    "data[data.duplicated(subset=['user_id', 'recipe_id'], keep=False)]\n"
   ]
  },
  {
   "cell_type": "markdown",
   "id": "961f5443",
   "metadata": {},
   "source": [
    "Nous observons qu'il y'a pas de doublons."
   ]
  },
  {
   "cell_type": "code",
   "execution_count": 21,
   "id": "8595f0e3",
   "metadata": {},
   "outputs": [
    {
     "name": "stdout",
     "output_type": "stream",
     "text": [
      "<class 'pandas.core.frame.DataFrame'>\n",
      "RangeIndex: 1132367 entries, 0 to 1132366\n",
      "Data columns (total 6 columns):\n",
      " #   Column          Non-Null Count    Dtype         \n",
      "---  ------          --------------    -----         \n",
      " 0   user_id         1132367 non-null  category      \n",
      " 1   recipe_id       1132367 non-null  int64         \n",
      " 2   date            1132367 non-null  datetime64[ns]\n",
      " 3   rating          1132367 non-null  int64         \n",
      " 4   review          1132367 non-null  object        \n",
      " 5   review_imputed  1132367 non-null  int64         \n",
      "dtypes: category(1), datetime64[ns](1), int64(3), object(1)\n",
      "memory usage: 57.3+ MB\n",
      "None\n"
     ]
    }
   ],
   "source": [
    "##conversions des types de données\n",
    "data['date']=pd.to_datetime(data['date'])\n",
    "data['user_id']=data['user_id'].astype('category')\n",
    "\n",
    "print(data.info())"
   ]
  },
  {
   "cell_type": "markdown",
   "id": "f8b40dc9",
   "metadata": {},
   "source": [
    "Analyse descriptive"
   ]
  },
  {
   "cell_type": "code",
   "execution_count": 22,
   "id": "a03cdcaf",
   "metadata": {},
   "outputs": [
    {
     "data": {
      "text/plain": [
       "rating\n",
       "5    816364\n",
       "4    187360\n",
       "0     60847\n",
       "3     40855\n",
       "2     14123\n",
       "1     12818\n",
       "Name: count, dtype: int64"
      ]
     },
     "execution_count": 22,
     "metadata": {},
     "output_type": "execute_result"
    }
   ],
   "source": [
    "##Nous allons commencer a etudié d'abord comment la note(rating) est distribuée dans le dataset.\n",
    "data['rating'].value_counts()"
   ]
  },
  {
   "cell_type": "code",
   "execution_count": 23,
   "id": "cafb9bcb",
   "metadata": {},
   "outputs": [
    {
     "data": {
      "text/plain": [
       "rating\n",
       "5    72.093588\n",
       "4    16.545872\n",
       "0     5.373435\n",
       "3     3.607929\n",
       "2     1.247210\n",
       "1     1.131965\n",
       "Name: proportion, dtype: float64"
      ]
     },
     "execution_count": 23,
     "metadata": {},
     "output_type": "execute_result"
    }
   ],
   "source": [
    "data['rating'].value_counts(normalize=True)*100"
   ]
  },
  {
   "cell_type": "code",
   "execution_count": 24,
   "id": "1862528d",
   "metadata": {},
   "outputs": [
    {
     "data": {
      "text/plain": [
       "count    1.132367e+06\n",
       "mean     4.411016e+00\n",
       "std      1.264752e+00\n",
       "min      0.000000e+00\n",
       "25%      4.000000e+00\n",
       "50%      5.000000e+00\n",
       "75%      5.000000e+00\n",
       "max      5.000000e+00\n",
       "Name: rating, dtype: float64"
      ]
     },
     "execution_count": 24,
     "metadata": {},
     "output_type": "execute_result"
    }
   ],
   "source": [
    "data['rating'].describe()"
   ]
  },
  {
   "cell_type": "code",
   "execution_count": 25,
   "id": "1d9c1f85",
   "metadata": {},
   "outputs": [
    {
     "data": {
      "image/png": "[encoded data removed]",
      "text/plain": [
       "<Figure size 800x500 with 1 Axes>"
      ]
     },
     "metadata": {},
     "output_type": "display_data"
    }
   ],
   "source": [
    "# Graphique pour mieux visualiser\n",
    "plt.figure(figsize=(8, 5))\n",
    "data['rating'].value_counts(normalize=True).plot(kind='bar')\n",
    "plt.title('Distribution des notes (en pourcentages)')\n",
    "plt.xlabel('Note')\n",
    "plt.ylabel('Proportion')\n",
    "plt.show()"
   ]
  },
  {
   "cell_type": "markdown",
   "id": "4ca23ba5",
   "metadata": {},
   "source": [
    "Nous observons que la note 5 est la plus attribuée avec environ 70% des notes,ce qui indique une tendance positive dans les avis des utilisateurs. Les notes 4 et 3 sont également présentes mais en moindre proportion, tandis que les notes 2, 1 et 0 sont très rares, représentant moins de 5% des avis. Cela suggère que la majorité des utilisateurs sont satisfaits des recettes proposées.mais ceci pourrait aussi indiquer un biais de notation, où les utilisateurs sont plus favorables à donner des notes élevées."
   ]
  },
  {
   "cell_type": "code",
   "execution_count": 26,
   "id": "13d1da53",
   "metadata": {},
   "outputs": [
    {
     "name": "stdout",
     "output_type": "stream",
     "text": [
      "user_id\n",
      "2001548092    1\n",
      "1448465       1\n",
      "2001235348    1\n",
      "2001947557    1\n",
      "2001695417    1\n",
      "799522        1\n",
      "28597         1\n",
      "1801490765    1\n",
      "874510        1\n",
      "2283547       3\n",
      "Name: count, dtype: int64\n"
     ]
    }
   ],
   "source": [
    "##Etudions maintenant la variable userid en determinons le top 10 des utilisateurs qui ont le plus interagi avec les recettes en fonction du nombre d'avis laissés.\n",
    "top_users = data['user_id'].value_counts().sample(10)\n",
    "print(top_users)\n"
   ]
  },
  {
   "cell_type": "code",
   "execution_count": 27,
   "id": "9b754c6f",
   "metadata": {},
   "outputs": [
    {
     "data": {
      "text/plain": [
       "Text(0.5, 0, 'User ID')"
      ]
     },
     "execution_count": 27,
     "metadata": {},
     "output_type": "execute_result"
    },
    {
     "data": {
      "image/png": "[encoded data removed]",
      "text/plain": [
       "<Figure size 640x480 with 1 Axes>"
      ]
     },
     "metadata": {},
     "output_type": "display_data"
    }
   ],
   "source": [
    "data['user_id'].value_counts().head(10).plot(kind='bar')\n",
    "plt.title('Top 10 des utilisateurs avec le plus d\\'interactions')\n",
    "plt.xlabel('User ID')"
   ]
  },
  {
   "cell_type": "code",
   "execution_count": 48,
   "id": "266749f8",
   "metadata": {},
   "outputs": [
    {
     "data": {
      "text/html": [
       "<div>\n",
       "<style scoped>\n",
       "    .dataframe tbody tr th:only-of-type {\n",
       "        vertical-align: middle;\n",
       "    }\n",
       "\n",
       "    .dataframe tbody tr th {\n",
       "        vertical-align: top;\n",
       "    }\n",
       "\n",
       "    .dataframe thead th {\n",
       "        text-align: right;\n",
       "    }\n",
       "</style>\n",
       "<table border=\"1\" class=\"dataframe\">\n",
       "  <thead>\n",
       "    <tr style=\"text-align: right;\">\n",
       "      <th></th>\n",
       "      <th>user_id</th>\n",
       "      <th>recipe_id</th>\n",
       "      <th>date</th>\n",
       "      <th>rating</th>\n",
       "      <th>review</th>\n",
       "      <th>review_imputed</th>\n",
       "    </tr>\n",
       "  </thead>\n",
       "  <tbody>\n",
       "    <tr>\n",
       "      <th>2</th>\n",
       "      <td>8937</td>\n",
       "      <td>44394</td>\n",
       "      <td>2002-12-01</td>\n",
       "      <td>4</td>\n",
       "      <td>This worked very well and is EASY.  I used not quite a whole package (10oz) of white chips.  Great!</td>\n",
       "      <td>0</td>\n",
       "    </tr>\n",
       "  </tbody>\n",
       "</table>\n",
       "</div>"
      ],
      "text/plain": [
       "  user_id  recipe_id       date  rating  \\\n",
       "2    8937      44394 2002-12-01       4   \n",
       "\n",
       "                                                                                                review  \\\n",
       "2  This worked very well and is EASY.  I used not quite a whole package (10oz) of white chips.  Great!   \n",
       "\n",
       "   review_imputed  \n",
       "2               0  "
      ]
     },
     "execution_count": 48,
     "metadata": {},
     "output_type": "execute_result"
    }
   ],
   "source": [
    "data.loc[data['user_id'].value_counts().quantile([0.80])]"
   ]
  },
  {
   "cell_type": "code",
   "execution_count": 57,
   "id": "f26ed562",
   "metadata": {},
   "outputs": [
    {
     "data": {
      "text/plain": [
       "user_id\n",
       "424680     7671\n",
       "37449      5603\n",
       "383346     4628\n",
       "169430     4076\n",
       "128473     3917\n",
       "89831      3353\n",
       "58104      3288\n",
       "133174     3107\n",
       "199848     3018\n",
       "305531     2902\n",
       "226863     2874\n",
       "4470       2739\n",
       "498271     2644\n",
       "369715     2610\n",
       "1072593    2350\n",
       "176615     2338\n",
       "95743      2311\n",
       "286566     2283\n",
       "39835      2260\n",
       "107583     2252\n",
       "80353      2220\n",
       "88099      2165\n",
       "166642     2146\n",
       "131126     2138\n",
       "222564     2073\n",
       "107135     2020\n",
       "140132     1978\n",
       "126440     1950\n",
       "280271     1915\n",
       "461834     1900\n",
       "157425     1877\n",
       "593927     1807\n",
       "486725     1776\n",
       "174096     1758\n",
       "5060       1741\n",
       "482376     1719\n",
       "679953     1709\n",
       "104295     1642\n",
       "428885     1639\n",
       "542159     1621\n",
       "204024     1595\n",
       "163112     1582\n",
       "47892      1580\n",
       "422893     1543\n",
       "17803      1515\n",
       "136997     1509\n",
       "197023     1504\n",
       "8688       1492\n",
       "53932      1475\n",
       "29196      1455\n",
       "6357       1455\n",
       "67656      1455\n",
       "560491     1438\n",
       "323186     1437\n",
       "1179225    1413\n",
       "400708     1413\n",
       "386585     1408\n",
       "452940     1404\n",
       "653438     1395\n",
       "101823     1353\n",
       "173579     1352\n",
       "160974     1326\n",
       "452355     1292\n",
       "158086     1291\n",
       "41578      1285\n",
       "296809     1282\n",
       "527607     1256\n",
       "324390     1230\n",
       "179133     1229\n",
       "209747     1224\n",
       "171790     1223\n",
       "169969     1210\n",
       "573325     1207\n",
       "227978     1200\n",
       "56003      1179\n",
       "266635     1179\n",
       "537937     1163\n",
       "9869       1161\n",
       "145352     1143\n",
       "599450     1123\n",
       "464080     1120\n",
       "895132     1100\n",
       "61660      1090\n",
       "29782      1080\n",
       "482933     1079\n",
       "13483      1076\n",
       "844554     1065\n",
       "130819     1058\n",
       "382071     1044\n",
       "124249     1032\n",
       "125388     1025\n",
       "37779      1016\n",
       "226066     1016\n",
       "315565     1015\n",
       "47559      1014\n",
       "242729     1014\n",
       "37636       995\n",
       "50969       995\n",
       "28177       984\n",
       "52282       960\n",
       "Name: count, dtype: int64"
      ]
     },
     "execution_count": 57,
     "metadata": {},
     "output_type": "execute_result"
    }
   ],
   "source": [
    "data['user_id'].value_counts().head(100)"
   ]
  },
  {
   "cell_type": "code",
   "execution_count": null,
   "id": "cc24867e",
   "metadata": {},
   "outputs": [
    {
     "data": {
      "text/plain": [
       "np.int64(1937)"
      ]
     },
     "execution_count": 70,
     "metadata": {},
     "output_type": "execute_result"
    }
   ],
   "source": [
    "## le nombre des users qui on laissé une seule fois un avis\n",
    "data['user_id'].value_counts()[data['user_id'].value_counts() == 1].count()"
   ]
  },
  {
   "cell_type": "code",
   "execution_count": 71,
   "id": "cd9a8100",
   "metadata": {},
   "outputs": [
    {
     "data": {
      "text/plain": [
       "np.int64(66224)"
      ]
     },
     "execution_count": 71,
     "metadata": {},
     "output_type": "execute_result"
    }
   ],
   "source": [
    "##determinos combiens d avis ont effectué les top 20 utilisateurs\n",
    "data['user_id'].value_counts().head(20).sum()"
   ]
  },
  {
   "cell_type": "code",
   "execution_count": null,
   "id": "1792054a",
   "metadata": {},
   "outputs": [
    {
     "data": {
      "text/plain": [
       "count    226570.000000\n",
       "mean          4.997868\n",
       "std          49.663111\n",
       "min           1.000000\n",
       "25%           1.000000\n",
       "50%           1.000000\n",
       "75%           2.000000\n",
       "max        7671.000000\n",
       "Name: count, dtype: float64"
      ]
     },
     "execution_count": 73,
     "metadata": {},
     "output_type": "execute_result"
    }
   ],
   "source": [
    "##le nombre d interaction moyenne par utilisateur\n",
    "data['user_id'].value_counts().describe()"
   ]
  },
  {
   "cell_type": "code",
   "execution_count": 84,
   "id": "859337ef",
   "metadata": {},
   "outputs": [
    {
     "data": {
      "text/plain": [
       "np.int64(2290)"
      ]
     },
     "execution_count": 84,
     "metadata": {},
     "output_type": "execute_result"
    }
   ],
   "source": [
    "## le 25e percentile du nombre d'interactions par utilisateur combien d utilisateurs ont laissé au moins ce nombre d'interactions\n",
    "data['user_id'].value_counts()[data['user_id'].value_counts() >= data['user_id'].value_counts().quantile(0.99)].count()\n"
   ]
  },
  {
   "cell_type": "code",
   "execution_count": null,
   "id": "0cfecac2",
   "metadata": {},
   "outputs": [
    {
     "data": {
      "text/plain": [
       "0.25     1.0\n",
       "0.50     1.0\n",
       "0.75     2.0\n",
       "0.80     2.0\n",
       "0.90     5.0\n",
       "0.95    11.0\n",
       "0.99    61.0\n",
       "Name: count, dtype: float64"
      ]
     },
     "execution_count": 81,
     "metadata": {},
     "output_type": "execute_result"
    }
   ],
   "source": [
    "data['user_id'].value_counts().quantile([0.25,0.50,0.75,0.80,0.90,0.95,0.99])"
   ]
  },
  {
   "cell_type": "code",
   "execution_count": 85,
   "id": "48371132",
   "metadata": {},
   "outputs": [
    {
     "name": "stdout",
     "output_type": "stream",
     "text": [
      "0.25     1.0\n",
      "0.50     1.0\n",
      "0.75     2.0\n",
      "0.80     2.0\n",
      "0.90     5.0\n",
      "0.95    11.0\n",
      "0.99    61.0\n",
      "Name: count, dtype: float64\n"
     ]
    }
   ],
   "source": [
    "##segmontons les utilisateurs en fonction du nombre d'interaction,determinons deja les percentiles et analysons.\n",
    "percentiles = data['user_id'].value_counts().quantile([0.25, 0.50, 0.75, 0.80, 0.90, 0.95, 0.99])\n",
    "print(percentiles)"
   ]
  },
  {
   "cell_type": "code",
   "execution_count": null,
   "id": "c8397628",
   "metadata": {},
   "outputs": [],
   "source": [
    "##On observe que 50% des utilisateurs ont laissé 1 avis et 80% des utilisateurs ont laissé au plus 2 avis.et seulement 10% des utilisateurs ont laissé 6 interactions et plus. Cela indique que la majorité des utilisateurs sont peu actifs en termes d'interactions.\n",
    "##alors nous considerons qu'un user est tres actif si il effectue plus des 12 interactions,un user est actif s'il effectue entre 3 et 11 interactions,et un user est peu actif s'il effectue moins de 3 interactions.\n",
    "def segmenter_utilisateur(nb_interactions):\n",
    "    if nb_interactions >= 12:\n",
    "        return 'Très Actif'\n",
    "    elif 3 <= nb_interactions < 12:\n",
    "        return 'Actif'\n",
    "    else:\n",
    "        return 'Occasionnel'\n",
    "    \n",
    "# Appliquer la segmentation\n",
    "data['segment_utilisateur'] = data['user_id'].map(data['user_id'].value_counts()).apply(segmenter_utilisateur)"
   ]
  },
  {
   "cell_type": "code",
   "execution_count": 90,
   "id": "9c35f338",
   "metadata": {},
   "outputs": [],
   "source": [
    "data.drop(columns=['segment_utilisateur'], inplace=True)"
   ]
  },
  {
   "cell_type": "code",
   "execution_count": 97,
   "id": "d8639e80",
   "metadata": {},
   "outputs": [],
   "source": [
    "data.drop(columns=['interactions_par_user'], inplace=True)"
   ]
  },
  {
   "cell_type": "code",
   "execution_count": null,
   "id": "6598f629",
   "metadata": {},
   "outputs": [],
   "source": [
    "##relation entre la note et le top 20 des utilisateurs les plus actifs.\n",
    "top_users = data['user_id'].value_counts().head(20).index\n"
   ]
  },
  {
   "cell_type": "code",
   "execution_count": 101,
   "id": "e0e1651a",
   "metadata": {},
   "outputs": [
    {
     "name": "stderr",
     "output_type": "stream",
     "text": [
      "C:\\Users\\ABDILLAHIOMARDJAMA\\AppData\\Local\\Temp\\ipykernel_5916\\3758096966.py:1: FutureWarning: The default of observed=False is deprecated and will be changed to True in a future version of pandas. Pass observed=False to retain current behavior or observed=True to adopt the future default and silence this warning.\n",
      "  user_stats = data.groupby('user_id').agg(\n"
     ]
    },
    {
     "data": {
      "text/html": [
       "<div>\n",
       "<style scoped>\n",
       "    .dataframe tbody tr th:only-of-type {\n",
       "        vertical-align: middle;\n",
       "    }\n",
       "\n",
       "    .dataframe tbody tr th {\n",
       "        vertical-align: top;\n",
       "    }\n",
       "\n",
       "    .dataframe thead th {\n",
       "        text-align: right;\n",
       "    }\n",
       "</style>\n",
       "<table border=\"1\" class=\"dataframe\">\n",
       "  <thead>\n",
       "    <tr style=\"text-align: right;\">\n",
       "      <th></th>\n",
       "      <th>user_id</th>\n",
       "      <th>nb_interactions</th>\n",
       "      <th>moyenne_note</th>\n",
       "    </tr>\n",
       "  </thead>\n",
       "  <tbody>\n",
       "    <tr>\n",
       "      <th>0</th>\n",
       "      <td>1533</td>\n",
       "      <td>128</td>\n",
       "      <td>4.710938</td>\n",
       "    </tr>\n",
       "    <tr>\n",
       "      <th>1</th>\n",
       "      <td>1535</td>\n",
       "      <td>794</td>\n",
       "      <td>4.473552</td>\n",
       "    </tr>\n",
       "    <tr>\n",
       "      <th>2</th>\n",
       "      <td>1581</td>\n",
       "      <td>1</td>\n",
       "      <td>5.000000</td>\n",
       "    </tr>\n",
       "    <tr>\n",
       "      <th>3</th>\n",
       "      <td>1634</td>\n",
       "      <td>60</td>\n",
       "      <td>3.616667</td>\n",
       "    </tr>\n",
       "    <tr>\n",
       "      <th>4</th>\n",
       "      <td>1676</td>\n",
       "      <td>31</td>\n",
       "      <td>4.677419</td>\n",
       "    </tr>\n",
       "    <tr>\n",
       "      <th>5</th>\n",
       "      <td>1755</td>\n",
       "      <td>2</td>\n",
       "      <td>4.500000</td>\n",
       "    </tr>\n",
       "    <tr>\n",
       "      <th>6</th>\n",
       "      <td>1773</td>\n",
       "      <td>4</td>\n",
       "      <td>4.000000</td>\n",
       "    </tr>\n",
       "    <tr>\n",
       "      <th>7</th>\n",
       "      <td>1792</td>\n",
       "      <td>31</td>\n",
       "      <td>4.516129</td>\n",
       "    </tr>\n",
       "    <tr>\n",
       "      <th>8</th>\n",
       "      <td>1891</td>\n",
       "      <td>37</td>\n",
       "      <td>4.837838</td>\n",
       "    </tr>\n",
       "    <tr>\n",
       "      <th>9</th>\n",
       "      <td>1938</td>\n",
       "      <td>1</td>\n",
       "      <td>0.000000</td>\n",
       "    </tr>\n",
       "  </tbody>\n",
       "</table>\n",
       "</div>"
      ],
      "text/plain": [
       "  user_id  nb_interactions  moyenne_note\n",
       "0    1533              128      4.710938\n",
       "1    1535              794      4.473552\n",
       "2    1581                1      5.000000\n",
       "3    1634               60      3.616667\n",
       "4    1676               31      4.677419\n",
       "5    1755                2      4.500000\n",
       "6    1773                4      4.000000\n",
       "7    1792               31      4.516129\n",
       "8    1891               37      4.837838\n",
       "9    1938                1      0.000000"
      ]
     },
     "execution_count": 101,
     "metadata": {},
     "output_type": "execute_result"
    }
   ],
   "source": [
    "user_stats = data.groupby('user_id').agg(\n",
    "    nb_interactions=('rating', 'count'),\n",
    "    moyenne_note=('rating', 'mean')\n",
    ").reset_index()\n",
    "\n",
    "user_stats.head(10)"
   ]
  },
  {
   "cell_type": "code",
   "execution_count": 102,
   "id": "3b03b718",
   "metadata": {},
   "outputs": [
    {
     "data": {
      "text/plain": [
       "np.float64(0.030533139164281426)"
      ]
     },
     "execution_count": 102,
     "metadata": {},
     "output_type": "execute_result"
    }
   ],
   "source": [
    "user_stats['moyenne_note'].corr(user_stats['nb_interactions'])\n"
   ]
  },
  {
   "cell_type": "code",
   "execution_count": 107,
   "id": "19a1e25b",
   "metadata": {},
   "outputs": [
    {
     "data": {
      "image/png": "[encoded data removed]",
      "text/plain": [
       "<Figure size 640x480 with 1 Axes>"
      ]
     },
     "metadata": {},
     "output_type": "display_data"
    }
   ],
   "source": [
    "sns.scatterplot(x='nb_interactions', y='moyenne_note', data=user_stats)\n",
    "plt.title('Relation entre le nombre d\\'interactions et la moyenne des notes par utilisateur')\n",
    "plt.xlabel('Nombre d\\'interactions')\n",
    "plt.ylabel('Moyenne des notes')\n",
    "plt.show()\n"
   ]
  },
  {
   "cell_type": "markdown",
   "id": "5fafabf4",
   "metadata": {},
   "source": [
    "Nous remarqu'on qu'il existe aucune relation entre le nombre d'interaction de l'utilisateur et la note."
   ]
  },
  {
   "cell_type": "markdown",
   "id": "05fa10fd",
   "metadata": {},
   "source": []
  }
 ],
 "metadata": {
  "kernelspec": {
   "display_name": "Python 3",
   "language": "python",
   "name": "python3"
  },
  "language_info": {
   "codemirror_mode": {
    "name": "ipython",
    "version": 3
   },
   "file_extension": ".py",
   "mimetype": "text/x-python",
   "name": "python",
   "nbconvert_exporter": "python",
   "pygments_lexer": "ipython3",
   "version": "3.13.7"
  }
 },
 "nbformat": 4,
 "nbformat_minor": 5
}

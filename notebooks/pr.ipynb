{
 "cells": [
  {
   "cell_type": "code",
   "execution_count": 280,
   "id": "04483bab",
   "metadata": {},
   "outputs": [],
   "source": [
    "import pandas as pd\n",
    "import numpy as np\n",
    "import matplotlib.pyplot as plt\n",
    "import seaborn as sns\n",
    "\n",
    "# Configuration globale pour l'affichage pandas\n",
    "pd.set_option('display.max_colwidth', None)\n",
    "pd.set_option('display.max_rows', 100)  # Optionnel : limite le nombre de lignes affichées\n"
   ]
  },
  {
   "cell_type": "code",
   "execution_count": 281,
   "id": "01c4e61c",
   "metadata": {},
   "outputs": [],
   "source": [
    "data=pd.read_csv(\"../data/RAW_interactions.csv\")"
   ]
  },
  {
   "cell_type": "markdown",
   "id": "7abb8d12",
   "metadata": {},
   "source": [
    "Exploration initiale"
   ]
  },
  {
   "cell_type": "code",
   "execution_count": 282,
   "id": "839f7392",
   "metadata": {},
   "outputs": [
    {
     "data": {
      "text/html": [
       "<div>\n",
       "<style scoped>\n",
       "    .dataframe tbody tr th:only-of-type {\n",
       "        vertical-align: middle;\n",
       "    }\n",
       "\n",
       "    .dataframe tbody tr th {\n",
       "        vertical-align: top;\n",
       "    }\n",
       "\n",
       "    .dataframe thead th {\n",
       "        text-align: right;\n",
       "    }\n",
       "</style>\n",
       "<table border=\"1\" class=\"dataframe\">\n",
       "  <thead>\n",
       "    <tr style=\"text-align: right;\">\n",
       "      <th></th>\n",
       "      <th>user_id</th>\n",
       "      <th>recipe_id</th>\n",
       "      <th>date</th>\n",
       "      <th>rating</th>\n",
       "      <th>review</th>\n",
       "    </tr>\n",
       "  </thead>\n",
       "  <tbody>\n",
       "    <tr>\n",
       "      <th>0</th>\n",
       "      <td>38094</td>\n",
       "      <td>40893</td>\n",
       "      <td>2003-02-17</td>\n",
       "      <td>4</td>\n",
       "      <td>Great with a salad. Cooked on top of stove for 15 minutes.Added a shake of cayenne and a pinch of salt.  Used low fat sour cream.  Thanks.</td>\n",
       "    </tr>\n",
       "    <tr>\n",
       "      <th>1</th>\n",
       "      <td>1293707</td>\n",
       "      <td>40893</td>\n",
       "      <td>2011-12-21</td>\n",
       "      <td>5</td>\n",
       "      <td>So simple, so delicious! Great for chilly fall evening. Should have doubled it ;)&lt;br/&gt;&lt;br/&gt;Second time around, forgot the remaining cumin. We usually love cumin, but didn't notice the missing 1/2 teaspoon!</td>\n",
       "    </tr>\n",
       "    <tr>\n",
       "      <th>2</th>\n",
       "      <td>8937</td>\n",
       "      <td>44394</td>\n",
       "      <td>2002-12-01</td>\n",
       "      <td>4</td>\n",
       "      <td>This worked very well and is EASY.  I used not quite a whole package (10oz) of white chips.  Great!</td>\n",
       "    </tr>\n",
       "    <tr>\n",
       "      <th>3</th>\n",
       "      <td>126440</td>\n",
       "      <td>85009</td>\n",
       "      <td>2010-02-27</td>\n",
       "      <td>5</td>\n",
       "      <td>I made the Mexican topping and took it to bunko.  Everyone loved it.</td>\n",
       "    </tr>\n",
       "    <tr>\n",
       "      <th>4</th>\n",
       "      <td>57222</td>\n",
       "      <td>85009</td>\n",
       "      <td>2011-10-01</td>\n",
       "      <td>5</td>\n",
       "      <td>Made the cheddar bacon topping, adding a sprinkling of black pepper. Yum!</td>\n",
       "    </tr>\n",
       "  </tbody>\n",
       "</table>\n",
       "</div>"
      ],
      "text/plain": [
       "   user_id  recipe_id        date  rating  \\\n",
       "0    38094      40893  2003-02-17       4   \n",
       "1  1293707      40893  2011-12-21       5   \n",
       "2     8937      44394  2002-12-01       4   \n",
       "3   126440      85009  2010-02-27       5   \n",
       "4    57222      85009  2011-10-01       5   \n",
       "\n",
       "                                                                                                                                                                                                          review  \n",
       "0                                                                     Great with a salad. Cooked on top of stove for 15 minutes.Added a shake of cayenne and a pinch of salt.  Used low fat sour cream.  Thanks.  \n",
       "1  So simple, so delicious! Great for chilly fall evening. Should have doubled it ;)<br/><br/>Second time around, forgot the remaining cumin. We usually love cumin, but didn't notice the missing 1/2 teaspoon!  \n",
       "2                                                                                                            This worked very well and is EASY.  I used not quite a whole package (10oz) of white chips.  Great!  \n",
       "3                                                                                                                                           I made the Mexican topping and took it to bunko.  Everyone loved it.  \n",
       "4                                                                                                                                      Made the cheddar bacon topping, adding a sprinkling of black pepper. Yum!  "
      ]
     },
     "execution_count": 282,
     "metadata": {},
     "output_type": "execute_result"
    }
   ],
   "source": [
    "##Aperçu des données\n",
    "data.head()"
   ]
  },
  {
   "cell_type": "code",
   "execution_count": 283,
   "id": "17bbfd4e",
   "metadata": {},
   "outputs": [
    {
     "data": {
      "text/html": [
       "<div>\n",
       "<style scoped>\n",
       "    .dataframe tbody tr th:only-of-type {\n",
       "        vertical-align: middle;\n",
       "    }\n",
       "\n",
       "    .dataframe tbody tr th {\n",
       "        vertical-align: top;\n",
       "    }\n",
       "\n",
       "    .dataframe thead th {\n",
       "        text-align: right;\n",
       "    }\n",
       "</style>\n",
       "<table border=\"1\" class=\"dataframe\">\n",
       "  <thead>\n",
       "    <tr style=\"text-align: right;\">\n",
       "      <th></th>\n",
       "      <th>user_id</th>\n",
       "      <th>recipe_id</th>\n",
       "      <th>date</th>\n",
       "      <th>rating</th>\n",
       "      <th>review</th>\n",
       "    </tr>\n",
       "  </thead>\n",
       "  <tbody>\n",
       "    <tr>\n",
       "      <th>598328</th>\n",
       "      <td>373020</td>\n",
       "      <td>106885</td>\n",
       "      <td>2011-08-02</td>\n",
       "      <td>5</td>\n",
       "      <td>Holy cow these are great!!!  I made as written and made as dessert to my family of 6 and 6 teenagers.  My pan made 20 generous slices and all are now gone.  My husband and children are upset there is none left for tomorrow.  Looks like I am baking them again, perhaps even again tomorrow.  I wish I were apart of your Christmas bake exchange!! Thanks Pamela for posting the recipe.</td>\n",
       "    </tr>\n",
       "    <tr>\n",
       "      <th>503422</th>\n",
       "      <td>2000922998</td>\n",
       "      <td>31750</td>\n",
       "      <td>2016-03-16</td>\n",
       "      <td>5</td>\n",
       "      <td>My mommy makes these all the time 4 me therrrreeee great!!!!</td>\n",
       "    </tr>\n",
       "    <tr>\n",
       "      <th>81053</th>\n",
       "      <td>1048179</td>\n",
       "      <td>23439</td>\n",
       "      <td>2012-07-09</td>\n",
       "      <td>5</td>\n",
       "      <td>This was yummy! Very garlicky but we were warned! I loved the combination of the feta and garlic and it had a perfect cheese spread texture. I used the leftovers as the base for a garlic chicken pizza, yummmm!</td>\n",
       "    </tr>\n",
       "    <tr>\n",
       "      <th>222317</th>\n",
       "      <td>860079</td>\n",
       "      <td>263497</td>\n",
       "      <td>2010-01-24</td>\n",
       "      <td>5</td>\n",
       "      <td>Oh this is a VERY GOOD soup ! I only had 5 links of mild chicken italian sausage, but I used the full measure of everything else, plus added 1/2 teaspoon red pepper flakes. Great flavor, and I love the little orzo pasta in this ~ it was perfect for a rainy evening. Thanks NoraMarie ~ made for SOUP'S ON, DIABETIC FORUM TAG, January 2010!</td>\n",
       "    </tr>\n",
       "    <tr>\n",
       "      <th>260147</th>\n",
       "      <td>169430</td>\n",
       "      <td>257499</td>\n",
       "      <td>2007-10-15</td>\n",
       "      <td>4</td>\n",
       "      <td>WOW, this is pungent. With some salt it will flavor pretty much anything but I think that it would be really exceptional on beef. If your heat shy back of on the cayenne! It's very bold at full teaspoon. I think it could use more cinnamon but thats just me and you might not agree with that. Thanks for this Engrossed.*EDIT*: after using this on salmon, chicken and adding it to a soup I must add that it calm's quite a lot when cooked with your desired dish.</td>\n",
       "    </tr>\n",
       "    <tr>\n",
       "      <th>249418</th>\n",
       "      <td>275527</td>\n",
       "      <td>52420</td>\n",
       "      <td>2007-01-11</td>\n",
       "      <td>4</td>\n",
       "      <td>DH and I thought these were very good.  Full of flavor and easy to make!  I followed recipe exactly as stated.  Thanks!</td>\n",
       "    </tr>\n",
       "    <tr>\n",
       "      <th>789784</th>\n",
       "      <td>198129</td>\n",
       "      <td>71074</td>\n",
       "      <td>2005-12-09</td>\n",
       "      <td>5</td>\n",
       "      <td>very nice!  Thankyou</td>\n",
       "    </tr>\n",
       "    <tr>\n",
       "      <th>94261</th>\n",
       "      <td>52125</td>\n",
       "      <td>28758</td>\n",
       "      <td>2006-12-30</td>\n",
       "      <td>5</td>\n",
       "      <td>Wonderful pumpkin pie! Tasted great and everyone enjoyed it very much. Thanks NurseDi....</td>\n",
       "    </tr>\n",
       "    <tr>\n",
       "      <th>615581</th>\n",
       "      <td>940747</td>\n",
       "      <td>318008</td>\n",
       "      <td>2013-10-04</td>\n",
       "      <td>0</td>\n",
       "      <td>Has anyone tried this with turkey meat?  Sounds really good but I think I will try with turkey meat.</td>\n",
       "    </tr>\n",
       "    <tr>\n",
       "      <th>897757</th>\n",
       "      <td>1142053</td>\n",
       "      <td>279315</td>\n",
       "      <td>2009-01-24</td>\n",
       "      <td>5</td>\n",
       "      <td>Excellent recipe!</td>\n",
       "    </tr>\n",
       "  </tbody>\n",
       "</table>\n",
       "</div>"
      ],
      "text/plain": [
       "           user_id  recipe_id        date  rating  \\\n",
       "598328      373020     106885  2011-08-02       5   \n",
       "503422  2000922998      31750  2016-03-16       5   \n",
       "81053      1048179      23439  2012-07-09       5   \n",
       "222317      860079     263497  2010-01-24       5   \n",
       "260147      169430     257499  2007-10-15       4   \n",
       "249418      275527      52420  2007-01-11       4   \n",
       "789784      198129      71074  2005-12-09       5   \n",
       "94261        52125      28758  2006-12-30       5   \n",
       "615581      940747     318008  2013-10-04       0   \n",
       "897757     1142053     279315  2009-01-24       5   \n",
       "\n",
       "                                                                                                                                                                                                                                                                                                                                                                                                                                                                             review  \n",
       "598328                                                                                Holy cow these are great!!!  I made as written and made as dessert to my family of 6 and 6 teenagers.  My pan made 20 generous slices and all are now gone.  My husband and children are upset there is none left for tomorrow.  Looks like I am baking them again, perhaps even again tomorrow.  I wish I were apart of your Christmas bake exchange!! Thanks Pamela for posting the recipe.  \n",
       "503422                                                                                                                                                                                                                                                                                                                                                                                                                 My mommy makes these all the time 4 me therrrreeee great!!!!  \n",
       "81053                                                                                                                                                                                                                                                             This was yummy! Very garlicky but we were warned! I loved the combination of the feta and garlic and it had a perfect cheese spread texture. I used the leftovers as the base for a garlic chicken pizza, yummmm!  \n",
       "222317                                                                                                                           Oh this is a VERY GOOD soup ! I only had 5 links of mild chicken italian sausage, but I used the full measure of everything else, plus added 1/2 teaspoon red pepper flakes. Great flavor, and I love the little orzo pasta in this ~ it was perfect for a rainy evening. Thanks NoraMarie ~ made for SOUP'S ON, DIABETIC FORUM TAG, January 2010!  \n",
       "260147  WOW, this is pungent. With some salt it will flavor pretty much anything but I think that it would be really exceptional on beef. If your heat shy back of on the cayenne! It's very bold at full teaspoon. I think it could use more cinnamon but thats just me and you might not agree with that. Thanks for this Engrossed.*EDIT*: after using this on salmon, chicken and adding it to a soup I must add that it calm's quite a lot when cooked with your desired dish.  \n",
       "249418                                                                                                                                                                                                                                                                                                                                                      DH and I thought these were very good.  Full of flavor and easy to make!  I followed recipe exactly as stated.  Thanks!  \n",
       "789784                                                                                                                                                                                                                                                                                                                                                                                                                                                         very nice!  Thankyou  \n",
       "94261                                                                                                                                                                                                                                                                                                                                                                                     Wonderful pumpkin pie! Tasted great and everyone enjoyed it very much. Thanks NurseDi....  \n",
       "615581                                                                                                                                                                                                                                                                                                                                                                         Has anyone tried this with turkey meat?  Sounds really good but I think I will try with turkey meat.  \n",
       "897757                                                                                                                                                                                                                                                                                                                                                                                                                                                            Excellent recipe!  "
      ]
     },
     "execution_count": 283,
     "metadata": {},
     "output_type": "execute_result"
    }
   ],
   "source": [
    "##Affichage aleatoire de 10 lignes\n",
    "data.sample(10)"
   ]
  },
  {
   "cell_type": "code",
   "execution_count": 284,
   "id": "92af19ca",
   "metadata": {},
   "outputs": [
    {
     "name": "stdout",
     "output_type": "stream",
     "text": [
      "<class 'pandas.core.frame.DataFrame'>\n",
      "RangeIndex: 1132367 entries, 0 to 1132366\n",
      "Data columns (total 5 columns):\n",
      " #   Column     Non-Null Count    Dtype \n",
      "---  ------     --------------    ----- \n",
      " 0   user_id    1132367 non-null  int64 \n",
      " 1   recipe_id  1132367 non-null  int64 \n",
      " 2   date       1132367 non-null  object\n",
      " 3   rating     1132367 non-null  int64 \n",
      " 4   review     1132198 non-null  object\n",
      "dtypes: int64(3), object(2)\n",
      "memory usage: 43.2+ MB\n"
     ]
    }
   ],
   "source": [
    "##Structure des données\n",
    "data.info()"
   ]
  },
  {
   "cell_type": "code",
   "execution_count": 285,
   "id": "9ed949fb",
   "metadata": {},
   "outputs": [
    {
     "name": "stdout",
     "output_type": "stream",
     "text": [
      "le nombre de lignes est : 1132367\n",
      "le nombre de colonnes est : 5\n"
     ]
    }
   ],
   "source": [
    "##la taille des données\n",
    "nombre_de_lignes, nombre_de_colonnes = data.shape\n",
    "print(f\"le nombre de lignes est : {nombre_de_lignes}\")\n",
    "print(f\"le nombre de colonnes est : {nombre_de_colonnes}\")"
   ]
  },
  {
   "cell_type": "markdown",
   "id": "5a61296b",
   "metadata": {},
   "source": [
    "Nous disposons un dataset contenant 113236 observations et 5 variables decrivatnt les interactions des utilisateurs avec le recettes de cuisines,et ci-dessous la description des variables:\n",
    "- user_id : identifiant unique de l'utilisateur\n",
    " - recipe_id : identifiant unique de la recette\n",
    " - rating : note attribuée par l'utilisateur à la recette (échelle de 1 à 5)\n",
    " - date: date de l'interaction\n",
    " - review: commentaire textuel laissé par l'utilisateur sur la recette."
   ]
  },
  {
   "cell_type": "code",
   "execution_count": 286,
   "id": "10ac7d24",
   "metadata": {},
   "outputs": [
    {
     "name": "stdout",
     "output_type": "stream",
     "text": [
      "user_id        0\n",
      "recipe_id      0\n",
      "date           0\n",
      "rating         0\n",
      "review       169\n",
      "dtype: int64\n"
     ]
    }
   ],
   "source": [
    "##Detection des nombres des valeurs manquantes par colonne\n",
    "print(data.isnull().sum())\n"
   ]
  },
  {
   "cell_type": "code",
   "execution_count": 287,
   "id": "3b2268d1",
   "metadata": {},
   "outputs": [
    {
     "name": "stdout",
     "output_type": "stream",
     "text": [
      "user_id      0.000000\n",
      "recipe_id    0.000000\n",
      "date         0.000000\n",
      "rating       0.000000\n",
      "review       0.014924\n",
      "dtype: float64\n"
     ]
    }
   ],
   "source": [
    "##Detection de pourcetage des valeurs manquantes par colonne\n",
    "print(data.isna().mean()*100)"
   ]
  },
  {
   "cell_type": "code",
   "execution_count": 288,
   "id": "f54e2af4",
   "metadata": {},
   "outputs": [
    {
     "name": "stdout",
     "output_type": "stream",
     "text": [
      "0.0029848980056819035\n"
     ]
    }
   ],
   "source": [
    "##detection des pourcentages des valeurs manquantes du dataset\n",
    "print(data.isna().mean().mean()*100)"
   ]
  },
  {
   "cell_type": "code",
   "execution_count": 289,
   "id": "589bd9dd",
   "metadata": {},
   "outputs": [],
   "source": [
    "##interpretation des valeurs manquantes:nous observons que la colonne review a 0,015% de valeurs manquantes.il est trop faible comme pourcentage et nous pouvons les ignorer,comme il s'agit des données textuelles liée a des avis des utilisatures sur les recettes,alors nous pouvons les imputer par des descriptions dependants des autres colonnes,comme le note de la recette"
   ]
  },
  {
   "cell_type": "code",
   "execution_count": 290,
   "id": "464cd4e8",
   "metadata": {},
   "outputs": [
    {
     "data": {
      "text/html": [
       "<div>\n",
       "<style scoped>\n",
       "    .dataframe tbody tr th:only-of-type {\n",
       "        vertical-align: middle;\n",
       "    }\n",
       "\n",
       "    .dataframe tbody tr th {\n",
       "        vertical-align: top;\n",
       "    }\n",
       "\n",
       "    .dataframe thead th {\n",
       "        text-align: right;\n",
       "    }\n",
       "</style>\n",
       "<table border=\"1\" class=\"dataframe\">\n",
       "  <thead>\n",
       "    <tr style=\"text-align: right;\">\n",
       "      <th></th>\n",
       "      <th>user_id</th>\n",
       "      <th>recipe_id</th>\n",
       "      <th>date</th>\n",
       "      <th>rating</th>\n",
       "      <th>review</th>\n",
       "    </tr>\n",
       "  </thead>\n",
       "  <tbody>\n",
       "    <tr>\n",
       "      <th>338387</th>\n",
       "      <td>2914578</td>\n",
       "      <td>137674</td>\n",
       "      <td>2013-07-24</td>\n",
       "      <td>0</td>\n",
       "      <td>Awesome dish 4 vegeterian ...just add little beat of capsicum</td>\n",
       "    </tr>\n",
       "    <tr>\n",
       "      <th>1039775</th>\n",
       "      <td>209137</td>\n",
       "      <td>99086</td>\n",
       "      <td>2006-08-04</td>\n",
       "      <td>3</td>\n",
       "      <td>Served this last night with pasta.  I used Progresso Italian bread crumbs and added some garlic powder.  I thought they were on the salty side.  Next time I'll use plain bread crumbs and add italian seasonings myself.  Overall we enjoyed these.  My son (10) was not thrilled but my 6 year old daughter liked them.</td>\n",
       "    </tr>\n",
       "    <tr>\n",
       "      <th>490800</th>\n",
       "      <td>2209239</td>\n",
       "      <td>475446</td>\n",
       "      <td>2012-03-12</td>\n",
       "      <td>0</td>\n",
       "      <td>this sounds excellent!  can't wait to try it!</td>\n",
       "    </tr>\n",
       "    <tr>\n",
       "      <th>749710</th>\n",
       "      <td>633027</td>\n",
       "      <td>161522</td>\n",
       "      <td>2009-08-18</td>\n",
       "      <td>3</td>\n",
       "      <td>We made this tonight as a side for our tacos.  I followed the directions exactly.  I agree with a previous reviewer who said it seems like it's missing something...it's got the heat but not necessarily the spice (maybe next time I will try adding some taco seasoning or something).  It was good, and I'm planning on trying again and seeing if I can figure out what type of spice it needs to take it over the top for our family.  It was definitely quick and easy and I appreciate that it only requires a couple of ingredients.  Thanks for posting!!!!</td>\n",
       "    </tr>\n",
       "    <tr>\n",
       "      <th>43574</th>\n",
       "      <td>1803605727</td>\n",
       "      <td>454691</td>\n",
       "      <td>2015-06-03</td>\n",
       "      <td>1</td>\n",
       "      <td>This is a terrible alternative to Aji Amarillo! Wow. Awful. Get some real ethic recipes and quit white-ifying everything. Yuck.</td>\n",
       "    </tr>\n",
       "  </tbody>\n",
       "</table>\n",
       "</div>"
      ],
      "text/plain": [
       "            user_id  recipe_id        date  rating  \\\n",
       "338387      2914578     137674  2013-07-24       0   \n",
       "1039775      209137      99086  2006-08-04       3   \n",
       "490800      2209239     475446  2012-03-12       0   \n",
       "749710       633027     161522  2009-08-18       3   \n",
       "43574    1803605727     454691  2015-06-03       1   \n",
       "\n",
       "                                                                                                                                                                                                                                                                                                                                                                                                                                                                                                                                                                        review  \n",
       "338387                                                                                                                                                                                                                                                                                                                                                                                                                                                                                                           Awesome dish 4 vegeterian ...just add little beat of capsicum  \n",
       "1039775                                                                                                                                                                                                                                              Served this last night with pasta.  I used Progresso Italian bread crumbs and added some garlic powder.  I thought they were on the salty side.  Next time I'll use plain bread crumbs and add italian seasonings myself.  Overall we enjoyed these.  My son (10) was not thrilled but my 6 year old daughter liked them.  \n",
       "490800                                                                                                                                                                                                                                                                                                                                                                                                                                                                                                                           this sounds excellent!  can't wait to try it!  \n",
       "749710   We made this tonight as a side for our tacos.  I followed the directions exactly.  I agree with a previous reviewer who said it seems like it's missing something...it's got the heat but not necessarily the spice (maybe next time I will try adding some taco seasoning or something).  It was good, and I'm planning on trying again and seeing if I can figure out what type of spice it needs to take it over the top for our family.  It was definitely quick and easy and I appreciate that it only requires a couple of ingredients.  Thanks for posting!!!!  \n",
       "43574                                                                                                                                                                                                                                                                                                                                                                                                                                          This is a terrible alternative to Aji Amarillo! Wow. Awful. Get some real ethic recipes and quit white-ifying everything. Yuck.  "
      ]
     },
     "execution_count": 290,
     "metadata": {},
     "output_type": "execute_result"
    }
   ],
   "source": [
    "##affichage des lignes dont la note est superieur ou egale a 4 et la colonne review,afin de pouvoir voir comment les commentaire sont formulés.\n",
    "data[data['rating']<4].sample(5)"
   ]
  },
  {
   "cell_type": "code",
   "execution_count": 291,
   "id": "9d40150b",
   "metadata": {},
   "outputs": [
    {
     "data": {
      "text/html": [
       "<div>\n",
       "<style scoped>\n",
       "    .dataframe tbody tr th:only-of-type {\n",
       "        vertical-align: middle;\n",
       "    }\n",
       "\n",
       "    .dataframe tbody tr th {\n",
       "        vertical-align: top;\n",
       "    }\n",
       "\n",
       "    .dataframe thead th {\n",
       "        text-align: right;\n",
       "    }\n",
       "</style>\n",
       "<table border=\"1\" class=\"dataframe\">\n",
       "  <thead>\n",
       "    <tr style=\"text-align: right;\">\n",
       "      <th></th>\n",
       "      <th>user_id</th>\n",
       "      <th>recipe_id</th>\n",
       "      <th>date</th>\n",
       "      <th>rating</th>\n",
       "      <th>review</th>\n",
       "    </tr>\n",
       "  </thead>\n",
       "  <tbody>\n",
       "    <tr>\n",
       "      <th>1014761</th>\n",
       "      <td>2001874984</td>\n",
       "      <td>241359</td>\n",
       "      <td>2017-12-21</td>\n",
       "      <td>5</td>\n",
       "      <td>NaN</td>\n",
       "    </tr>\n",
       "    <tr>\n",
       "      <th>205063</th>\n",
       "      <td>2689825</td>\n",
       "      <td>495271</td>\n",
       "      <td>2013-02-12</td>\n",
       "      <td>5</td>\n",
       "      <td>NaN</td>\n",
       "    </tr>\n",
       "    <tr>\n",
       "      <th>159641</th>\n",
       "      <td>2001514101</td>\n",
       "      <td>351631</td>\n",
       "      <td>2017-04-30</td>\n",
       "      <td>5</td>\n",
       "      <td>NaN</td>\n",
       "    </tr>\n",
       "    <tr>\n",
       "      <th>601216</th>\n",
       "      <td>2002160084</td>\n",
       "      <td>55971</td>\n",
       "      <td>2018-05-21</td>\n",
       "      <td>5</td>\n",
       "      <td>NaN</td>\n",
       "    </tr>\n",
       "    <tr>\n",
       "      <th>198376</th>\n",
       "      <td>2001878357</td>\n",
       "      <td>205890</td>\n",
       "      <td>2017-12-22</td>\n",
       "      <td>5</td>\n",
       "      <td>NaN</td>\n",
       "    </tr>\n",
       "  </tbody>\n",
       "</table>\n",
       "</div>"
      ],
      "text/plain": [
       "            user_id  recipe_id        date  rating review\n",
       "1014761  2001874984     241359  2017-12-21       5    NaN\n",
       "205063      2689825     495271  2013-02-12       5    NaN\n",
       "159641   2001514101     351631  2017-04-30       5    NaN\n",
       "601216   2002160084      55971  2018-05-21       5    NaN\n",
       "198376   2001878357     205890  2017-12-22       5    NaN"
      ]
     },
     "execution_count": 291,
     "metadata": {},
     "output_type": "execute_result"
    }
   ],
   "source": [
    "####Affichons les lignes qui ont des valeurs manquantes dans la colonne review.\n",
    "data[data['review'].isnull()].sample(5)"
   ]
  },
  {
   "cell_type": "code",
   "execution_count": 292,
   "id": "ef9e14f6",
   "metadata": {},
   "outputs": [
    {
     "name": "stdout",
     "output_type": "stream",
     "text": [
      "rating\n",
      "5    135\n",
      "4     27\n",
      "3      3\n",
      "1      3\n",
      "2      1\n",
      "Name: count, dtype: int64\n"
     ]
    }
   ],
   "source": [
    "###affiché les nombres des valeur manquantes de la colonne par ligne en fonction de la note\n",
    "print(data[data['review'].isnull()]['rating'].value_counts())"
   ]
  },
  {
   "cell_type": "code",
   "execution_count": 293,
   "id": "ccecab96",
   "metadata": {},
   "outputs": [],
   "source": [
    "##Nous allons imputer les valeurs manquantes de la colonne review en fonction de la note(rating) de la recette.\n",
    "def imputer_review(row):\n",
    "    if pd.isnull(row['review']):\n",
    "        if row['rating'] == 5:\n",
    "            return \"Excellent recipe! Loved it!\"\n",
    "        elif row['rating'] == 4:\n",
    "            return \"Great recipe, will make again.\"\n",
    "        elif row['rating'] == 3:\n",
    "            return \"Good recipe, but could be improved.\"\n",
    "        elif row['rating'] == 2:\n",
    "            return \"Not my favorite.\"\n",
    "        elif row['rating'] == 1:\n",
    "            return \"Did not like this recipe at all.\"\n",
    "    else:\n",
    "        return row['review']\n",
    "\n"
   ]
  },
  {
   "cell_type": "code",
   "execution_count": 294,
   "id": "f18040a4",
   "metadata": {},
   "outputs": [
    {
     "name": "stdout",
     "output_type": "stream",
     "text": [
      "Valeurs manquantes après imputation :\n",
      "0\n"
     ]
    }
   ],
   "source": [
    "##Application de la fonction d'imputation\n",
    "data['review'] = data.apply(imputer_review, axis=1)\n",
    "\n",
    "# Vérifions les valeurs manquantes après l'imputation\n",
    "print(\"Valeurs manquantes après imputation :\")\n",
    "print(data['review'].isnull().sum())"
   ]
  },
  {
   "cell_type": "code",
   "execution_count": 295,
   "id": "b0a1e003",
   "metadata": {},
   "outputs": [
    {
     "name": "stdout",
     "output_type": "stream",
     "text": [
      "Nombre de reviews par type :\n",
      "review_imputed\n",
      "0    1132197\n",
      "1        170\n",
      "Name: count, dtype: int64\n",
      "\n",
      "Pourcentage :\n",
      "review_imputed\n",
      "0    99.984987\n",
      "1     0.015013\n",
      "Name: proportion, dtype: float64\n"
     ]
    }
   ],
   "source": [
    "# Créer une liste des commentaires imputés\n",
    "commentaires_imputes = [\n",
    "    \"Excellent recipe! Loved it!\",\n",
    "    \"Great recipe, will make again.\",\n",
    "    \"Good recipe, but could be improved.\",\n",
    "    \"Not my favorite.\",\n",
    "    \"Did not like this recipe at all.\",\n",
    "]\n",
    "\n",
    "# Créer la colonne indicatrice (1 = imputé, 0 = original)\n",
    "data['review_imputed'] = data['review'].isin(commentaires_imputes).astype(int)\n",
    "\n",
    "# Vérifier les résultats\n",
    "print(\"Nombre de reviews par type :\")\n",
    "print(data['review_imputed'].value_counts())\n",
    "print(\"\\nPourcentage :\")\n",
    "print(data['review_imputed'].value_counts(normalize=True) * 100)"
   ]
  },
  {
   "cell_type": "code",
   "execution_count": 296,
   "id": "6428d388",
   "metadata": {},
   "outputs": [
    {
     "name": "stdout",
     "output_type": "stream",
     "text": [
      "Nombre total de lignes dans le dataset après traitement des valeurs manquantes : 1132367\n"
     ]
    }
   ],
   "source": [
    "##Affichons nombre total des donnée observé avant et après le traitement des valeurs manquantes\n",
    "print(f\"Nombre total de lignes dans le dataset après traitement des valeurs manquantes : {data.shape[0]}\")\n"
   ]
  },
  {
   "cell_type": "code",
   "execution_count": 297,
   "id": "9326b113",
   "metadata": {},
   "outputs": [
    {
     "data": {
      "text/html": [
       "<div>\n",
       "<style scoped>\n",
       "    .dataframe tbody tr th:only-of-type {\n",
       "        vertical-align: middle;\n",
       "    }\n",
       "\n",
       "    .dataframe tbody tr th {\n",
       "        vertical-align: top;\n",
       "    }\n",
       "\n",
       "    .dataframe thead th {\n",
       "        text-align: right;\n",
       "    }\n",
       "</style>\n",
       "<table border=\"1\" class=\"dataframe\">\n",
       "  <thead>\n",
       "    <tr style=\"text-align: right;\">\n",
       "      <th></th>\n",
       "      <th>user_id</th>\n",
       "      <th>recipe_id</th>\n",
       "      <th>date</th>\n",
       "      <th>rating</th>\n",
       "      <th>review</th>\n",
       "      <th>review_imputed</th>\n",
       "    </tr>\n",
       "  </thead>\n",
       "  <tbody>\n",
       "    <tr>\n",
       "      <th>0</th>\n",
       "      <td>38094</td>\n",
       "      <td>40893</td>\n",
       "      <td>2003-02-17</td>\n",
       "      <td>4</td>\n",
       "      <td>Great with a salad. Cooked on top of stove for 15 minutes.Added a shake of cayenne and a pinch of salt.  Used low fat sour cream.  Thanks.</td>\n",
       "      <td>0</td>\n",
       "    </tr>\n",
       "    <tr>\n",
       "      <th>1</th>\n",
       "      <td>1293707</td>\n",
       "      <td>40893</td>\n",
       "      <td>2011-12-21</td>\n",
       "      <td>5</td>\n",
       "      <td>So simple, so delicious! Great for chilly fall evening. Should have doubled it ;)&lt;br/&gt;&lt;br/&gt;Second time around, forgot the remaining cumin. We usually love cumin, but didn't notice the missing 1/2 teaspoon!</td>\n",
       "      <td>0</td>\n",
       "    </tr>\n",
       "    <tr>\n",
       "      <th>2</th>\n",
       "      <td>8937</td>\n",
       "      <td>44394</td>\n",
       "      <td>2002-12-01</td>\n",
       "      <td>4</td>\n",
       "      <td>This worked very well and is EASY.  I used not quite a whole package (10oz) of white chips.  Great!</td>\n",
       "      <td>0</td>\n",
       "    </tr>\n",
       "    <tr>\n",
       "      <th>3</th>\n",
       "      <td>126440</td>\n",
       "      <td>85009</td>\n",
       "      <td>2010-02-27</td>\n",
       "      <td>5</td>\n",
       "      <td>I made the Mexican topping and took it to bunko.  Everyone loved it.</td>\n",
       "      <td>0</td>\n",
       "    </tr>\n",
       "    <tr>\n",
       "      <th>4</th>\n",
       "      <td>57222</td>\n",
       "      <td>85009</td>\n",
       "      <td>2011-10-01</td>\n",
       "      <td>5</td>\n",
       "      <td>Made the cheddar bacon topping, adding a sprinkling of black pepper. Yum!</td>\n",
       "      <td>0</td>\n",
       "    </tr>\n",
       "  </tbody>\n",
       "</table>\n",
       "</div>"
      ],
      "text/plain": [
       "   user_id  recipe_id        date  rating  \\\n",
       "0    38094      40893  2003-02-17       4   \n",
       "1  1293707      40893  2011-12-21       5   \n",
       "2     8937      44394  2002-12-01       4   \n",
       "3   126440      85009  2010-02-27       5   \n",
       "4    57222      85009  2011-10-01       5   \n",
       "\n",
       "                                                                                                                                                                                                          review  \\\n",
       "0                                                                     Great with a salad. Cooked on top of stove for 15 minutes.Added a shake of cayenne and a pinch of salt.  Used low fat sour cream.  Thanks.   \n",
       "1  So simple, so delicious! Great for chilly fall evening. Should have doubled it ;)<br/><br/>Second time around, forgot the remaining cumin. We usually love cumin, but didn't notice the missing 1/2 teaspoon!   \n",
       "2                                                                                                            This worked very well and is EASY.  I used not quite a whole package (10oz) of white chips.  Great!   \n",
       "3                                                                                                                                           I made the Mexican topping and took it to bunko.  Everyone loved it.   \n",
       "4                                                                                                                                      Made the cheddar bacon topping, adding a sprinkling of black pepper. Yum!   \n",
       "\n",
       "   review_imputed  \n",
       "0               0  \n",
       "1               0  \n",
       "2               0  \n",
       "3               0  \n",
       "4               0  "
      ]
     },
     "execution_count": 297,
     "metadata": {},
     "output_type": "execute_result"
    }
   ],
   "source": [
    "##Affichage des dataset aprés traitement des valeurs manquantes\n",
    "data.head()"
   ]
  },
  {
   "cell_type": "code",
   "execution_count": 298,
   "id": "3b253955",
   "metadata": {},
   "outputs": [
    {
     "name": "stdout",
     "output_type": "stream",
     "text": [
      "Nombre de doublons dans le dataset : 0\n"
     ]
    }
   ],
   "source": [
    "###Detection des doublons\n",
    "print(f\"Nombre de doublons dans le dataset : {data.duplicated().sum()}\")"
   ]
  },
  {
   "cell_type": "code",
   "execution_count": 299,
   "id": "20d6dbed",
   "metadata": {},
   "outputs": [
    {
     "data": {
      "text/html": [
       "<div>\n",
       "<style scoped>\n",
       "    .dataframe tbody tr th:only-of-type {\n",
       "        vertical-align: middle;\n",
       "    }\n",
       "\n",
       "    .dataframe tbody tr th {\n",
       "        vertical-align: top;\n",
       "    }\n",
       "\n",
       "    .dataframe thead th {\n",
       "        text-align: right;\n",
       "    }\n",
       "</style>\n",
       "<table border=\"1\" class=\"dataframe\">\n",
       "  <thead>\n",
       "    <tr style=\"text-align: right;\">\n",
       "      <th></th>\n",
       "      <th>user_id</th>\n",
       "      <th>recipe_id</th>\n",
       "      <th>date</th>\n",
       "      <th>rating</th>\n",
       "      <th>review</th>\n",
       "      <th>review_imputed</th>\n",
       "    </tr>\n",
       "  </thead>\n",
       "  <tbody>\n",
       "  </tbody>\n",
       "</table>\n",
       "</div>"
      ],
      "text/plain": [
       "Empty DataFrame\n",
       "Columns: [user_id, recipe_id, date, rating, review, review_imputed]\n",
       "Index: []"
      ]
     },
     "execution_count": 299,
     "metadata": {},
     "output_type": "execute_result"
    }
   ],
   "source": [
    "##affichons les utilisateurs qui ont commenté plus d'une fois la même recette.\n",
    "data[data.duplicated(subset=['user_id', 'recipe_id'], keep=False)]\n"
   ]
  },
  {
   "cell_type": "markdown",
   "id": "961f5443",
   "metadata": {},
   "source": [
    "Nous observons qu'il y'a pas de doublons."
   ]
  },
  {
   "cell_type": "code",
   "execution_count": 300,
   "id": "8595f0e3",
   "metadata": {},
   "outputs": [
    {
     "name": "stdout",
     "output_type": "stream",
     "text": [
      "<class 'pandas.core.frame.DataFrame'>\n",
      "RangeIndex: 1132367 entries, 0 to 1132366\n",
      "Data columns (total 6 columns):\n",
      " #   Column          Non-Null Count    Dtype         \n",
      "---  ------          --------------    -----         \n",
      " 0   user_id         1132367 non-null  category      \n",
      " 1   recipe_id       1132367 non-null  int64         \n",
      " 2   date            1132367 non-null  datetime64[ns]\n",
      " 3   rating          1132367 non-null  int64         \n",
      " 4   review          1132367 non-null  object        \n",
      " 5   review_imputed  1132367 non-null  int64         \n",
      "dtypes: category(1), datetime64[ns](1), int64(3), object(1)\n",
      "memory usage: 57.3+ MB\n",
      "None\n"
     ]
    }
   ],
   "source": [
    "##conversions des types de données\n",
    "data['date']=pd.to_datetime(data['date'])\n",
    "data['user_id']=data['user_id'].astype('category')\n",
    "\n",
    "print(data.info())"
   ]
  },
  {
   "cell_type": "code",
   "execution_count": 301,
   "id": "4b7e1253",
   "metadata": {},
   "outputs": [
    {
     "data": {
      "text/html": [
       "<div>\n",
       "<style scoped>\n",
       "    .dataframe tbody tr th:only-of-type {\n",
       "        vertical-align: middle;\n",
       "    }\n",
       "\n",
       "    .dataframe tbody tr th {\n",
       "        vertical-align: top;\n",
       "    }\n",
       "\n",
       "    .dataframe thead th {\n",
       "        text-align: right;\n",
       "    }\n",
       "</style>\n",
       "<table border=\"1\" class=\"dataframe\">\n",
       "  <thead>\n",
       "    <tr style=\"text-align: right;\">\n",
       "      <th></th>\n",
       "      <th>user_id</th>\n",
       "      <th>recipe_id</th>\n",
       "      <th>date</th>\n",
       "      <th>rating</th>\n",
       "      <th>review</th>\n",
       "      <th>review_imputed</th>\n",
       "    </tr>\n",
       "  </thead>\n",
       "  <tbody>\n",
       "    <tr>\n",
       "      <th>320282</th>\n",
       "      <td>2000764219</td>\n",
       "      <td>102335</td>\n",
       "      <td>2015-12-22</td>\n",
       "      <td>0</td>\n",
       "      <td>I used horseradish sauce instead of mayo,  absolutely fabulous</td>\n",
       "      <td>0</td>\n",
       "    </tr>\n",
       "    <tr>\n",
       "      <th>787034</th>\n",
       "      <td>2427825</td>\n",
       "      <td>487210</td>\n",
       "      <td>2012-10-01</td>\n",
       "      <td>0</td>\n",
       "      <td>I'm trying these today! They look amazing.</td>\n",
       "      <td>0</td>\n",
       "    </tr>\n",
       "    <tr>\n",
       "      <th>506543</th>\n",
       "      <td>1457912</td>\n",
       "      <td>414333</td>\n",
       "      <td>2010-03-19</td>\n",
       "      <td>1</td>\n",
       "      <td>I dont know what I did wrong but this came out greasy and flavorless, I followed all of the directions correctly but its 100% un-edible</td>\n",
       "      <td>0</td>\n",
       "    </tr>\n",
       "    <tr>\n",
       "      <th>52434</th>\n",
       "      <td>336058</td>\n",
       "      <td>326643</td>\n",
       "      <td>2008-11-02</td>\n",
       "      <td>3</td>\n",
       "      <td>I got mixed reviews.  Two kids didn't like it.  One did and my DH liked it.  This would be good in summer, when you're hot and thirsty.  I had leftover cant. that I had frozen.  I thawed it and pureed it (no added water).  Then I mixed the sugar and pulp and cooked it on the stove for a few minutes, kind of like a simple syrup concoction.  I then strained all the juice into the pitcher.  I had about 1/2 C of pulp left.  Added water, ice and a little more sugar.  I might try again, experimenting with added another flavor (maybe mint?)  Tagged for Kid Friendly tag.</td>\n",
       "      <td>0</td>\n",
       "    </tr>\n",
       "    <tr>\n",
       "      <th>1124315</th>\n",
       "      <td>441188</td>\n",
       "      <td>316578</td>\n",
       "      <td>2009-12-11</td>\n",
       "      <td>0</td>\n",
       "      <td>I like it when people tell the changes they made. I thought hers were pretty minor, since sake and mirin are two things that a lot of people don't commonly have on hand. And changing the meat is a common change, too.</td>\n",
       "      <td>0</td>\n",
       "    </tr>\n",
       "  </tbody>\n",
       "</table>\n",
       "</div>"
      ],
      "text/plain": [
       "            user_id  recipe_id       date  rating  \\\n",
       "320282   2000764219     102335 2015-12-22       0   \n",
       "787034      2427825     487210 2012-10-01       0   \n",
       "506543      1457912     414333 2010-03-19       1   \n",
       "52434        336058     326643 2008-11-02       3   \n",
       "1124315      441188     316578 2009-12-11       0   \n",
       "\n",
       "                                                                                                                                                                                                                                                                                                                                                                                                                                                                                                                                                                                            review  \\\n",
       "320282                                                                                                                                                                                                                                                                                                                                                                                                                                                                                                                              I used horseradish sauce instead of mayo,  absolutely fabulous   \n",
       "787034                                                                                                                                                                                                                                                                                                                                                                                                                                                                                                                                                  I'm trying these today! They look amazing.   \n",
       "506543                                                                                                                                                                                                                                                                                                                                                                                                                                                     I dont know what I did wrong but this came out greasy and flavorless, I followed all of the directions correctly but its 100% un-edible   \n",
       "52434    I got mixed reviews.  Two kids didn't like it.  One did and my DH liked it.  This would be good in summer, when you're hot and thirsty.  I had leftover cant. that I had frozen.  I thawed it and pureed it (no added water).  Then I mixed the sugar and pulp and cooked it on the stove for a few minutes, kind of like a simple syrup concoction.  I then strained all the juice into the pitcher.  I had about 1/2 C of pulp left.  Added water, ice and a little more sugar.  I might try again, experimenting with added another flavor (maybe mint?)  Tagged for Kid Friendly tag.   \n",
       "1124315                                                                                                                                                                                                                                                                                                                                                                   I like it when people tell the changes they made. I thought hers were pretty minor, since sake and mirin are two things that a lot of people don't commonly have on hand. And changing the meat is a common change, too.   \n",
       "\n",
       "         review_imputed  \n",
       "320282                0  \n",
       "787034                0  \n",
       "506543                0  \n",
       "52434                 0  \n",
       "1124315               0  "
      ]
     },
     "execution_count": 301,
     "metadata": {},
     "output_type": "execute_result"
    }
   ],
   "source": [
    "###Verification si les données sont cohérentes et valides,affichon les lignes dont la note est inferieur a 3\n",
    "data[data['rating'] <= 3].sample(5)"
   ]
  },
  {
   "cell_type": "markdown",
   "id": "30514a55",
   "metadata": {},
   "source": [
    "nous observons que plusieurs lignes du jeu de données présentent une note égale à 0 (rating = 0), tout en contenant un commentaire textuel (review) souvent positif ou négatif.\n",
    "Cette situation est incohérente : une note de 0 ne correspond pas à une appréciation valide sur une échelle de 1 à 5, et le contenu des commentaires indique que les utilisateurs ont bien exprimé une opinion sur la recette.\n",
    "\n",
    "Nous en déduisons que la valeur 0 ne traduit pas une mauvaise note, mais plutôt l’absence de note — autrement dit, une valeur manquante codée par 0.\n",
    "\n",
    "En conséquence, nous considérons toutes les notes égales à 0 comme valeurs manquantes et nous les remplaçons par NaN afin de ne pas biaiser les statistiques descriptives ni les calculs de moyennes.\n",
    "Cela revient à interpréter ces cas comme des utilisateurs ayant laissé un commentaire sans attribuer de note chiffrée."
   ]
  },
  {
   "cell_type": "code",
   "execution_count": 302,
   "id": "3a6e6ed5",
   "metadata": {},
   "outputs": [],
   "source": [
    "##remplacons les notes invalides par NaN\n",
    "data.loc[data['rating'] == 0, 'rating'] = np.nan"
   ]
  },
  {
   "cell_type": "code",
   "execution_count": 303,
   "id": "d3a7ec24",
   "metadata": {},
   "outputs": [
    {
     "name": "stdout",
     "output_type": "stream",
     "text": [
      "60847\n"
     ]
    }
   ],
   "source": [
    "##verifions les valeurs manquantes après le remplacement\n",
    "print(data['rating'].isnull().sum())"
   ]
  },
  {
   "cell_type": "markdown",
   "id": "f8b40dc9",
   "metadata": {},
   "source": [
    "Analyse descriptive"
   ]
  },
  {
   "cell_type": "code",
   "execution_count": 304,
   "id": "a03cdcaf",
   "metadata": {},
   "outputs": [],
   "source": [
    "##Nous allons commencer a etudié d'abord comment la note(rating) valide est distribuée dans le dataset.\n",
    "data_without_0=data[data['rating'].notna()]"
   ]
  },
  {
   "cell_type": "code",
   "execution_count": 305,
   "id": "d4b2f7b0",
   "metadata": {},
   "outputs": [
    {
     "data": {
      "text/plain": [
       "count    1.071520e+06\n",
       "mean     4.661499e+00\n",
       "std      7.230534e-01\n",
       "min      1.000000e+00\n",
       "25%      5.000000e+00\n",
       "50%      5.000000e+00\n",
       "75%      5.000000e+00\n",
       "max      5.000000e+00\n",
       "Name: rating, dtype: float64"
      ]
     },
     "execution_count": 305,
     "metadata": {},
     "output_type": "execute_result"
    }
   ],
   "source": [
    "data_without_0['rating'].describe()"
   ]
  },
  {
   "cell_type": "code",
   "execution_count": 306,
   "id": "cafb9bcb",
   "metadata": {},
   "outputs": [
    {
     "data": {
      "text/plain": [
       "rating\n",
       "5.0    76.187472\n",
       "4.0    17.485441\n",
       "3.0     3.812808\n",
       "2.0     1.318034\n",
       "1.0     1.196245\n",
       "Name: proportion, dtype: float64"
      ]
     },
     "execution_count": 306,
     "metadata": {},
     "output_type": "execute_result"
    }
   ],
   "source": [
    "data_without_0['rating'].value_counts(normalize=True)*100"
   ]
  },
  {
   "cell_type": "code",
   "execution_count": 307,
   "id": "9a6d8d5c",
   "metadata": {},
   "outputs": [
    {
     "data": {
      "image/png": "[encoded data removed]",
      "text/plain": [
       "<Figure size 640x480 with 1 Axes>"
      ]
     },
     "metadata": {},
     "output_type": "display_data"
    }
   ],
   "source": [
    "sns.countplot(x='rating', data=data_without_0)\n",
    "plt.title(\"Distribution des notes valides\")\n",
    "plt.xlabel(\"Note\")\n",
    "plt.ylabel(\"Nombre d’occurrences\")\n",
    "plt.show()"
   ]
  },
  {
   "cell_type": "markdown",
   "id": "5b942ba4",
   "metadata": {},
   "source": [
    "L’analyse univariée de la variable rating met en évidence une forte concentration des évaluations sur les valeurs hautes de l’échelle (4 et 5).\n",
    "Ce biais positif traduit une satisfaction générale élevée sur la plateforme, mais il indique aussi que la variable rating n’est pas symétriquement distribuée."
   ]
  },
  {
   "cell_type": "code",
   "execution_count": 308,
   "id": "d644db9e",
   "metadata": {},
   "outputs": [
    {
     "data": {
      "text/plain": [
       "count    226570.000000\n",
       "mean          4.997868\n",
       "std          49.663111\n",
       "min           1.000000\n",
       "25%           1.000000\n",
       "50%           1.000000\n",
       "75%           2.000000\n",
       "max        7671.000000\n",
       "Name: count, dtype: float64"
      ]
     },
     "execution_count": 308,
     "metadata": {},
     "output_type": "execute_result"
    }
   ],
   "source": [
    "###Calculons le nombre totale d interactions par utilisateur\n",
    "interactions_user = data['user_id'].value_counts()\n",
    "interactions_user.describe()"
   ]
  },
  {
   "cell_type": "code",
   "execution_count": 309,
   "id": "13d1da53",
   "metadata": {},
   "outputs": [
    {
     "name": "stdout",
     "output_type": "stream",
     "text": [
      "user_id\n",
      "2000875883     1\n",
      "677382         1\n",
      "2000963022     1\n",
      "1613358        1\n",
      "125736        16\n",
      "231710         1\n",
      "623055         6\n",
      "138811         3\n",
      "907730         1\n",
      "337935         2\n",
      "Name: count, dtype: int64\n"
     ]
    }
   ],
   "source": [
    "##Etudions maintenant la variable userid en determinons le top 10 des utilisateurs qui ont le plus interagi avec les recettes en fonction du nombre d'avis laissés.\n",
    "top_users = data['user_id'].value_counts().sample(10)\n",
    "print(top_users)\n"
   ]
  },
  {
   "cell_type": "code",
   "execution_count": 310,
   "id": "0dbfffe9",
   "metadata": {},
   "outputs": [
    {
     "name": "stderr",
     "output_type": "stream",
     "text": [
      "C:\\Users\\ABDILLAHIOMARDJAMA\\AppData\\Local\\Temp\\ipykernel_12976\\3604513073.py:1: SettingWithCopyWarning: \n",
      "A value is trying to be set on a copy of a slice from a DataFrame.\n",
      "Try using .loc[row_indexer,col_indexer] = value instead\n",
      "\n",
      "See the caveats in the documentation: https://pandas.pydata.org/pandas-docs/stable/user_guide/indexing.html#returning-a-view-versus-a-copy\n",
      "  data_without_0['avg_rating'] = data_without_0.groupby('recipe_id')['rating'].transform('mean')\n"
     ]
    }
   ],
   "source": [
    "data_without_0['avg_rating'] = data_without_0.groupby('recipe_id')['rating'].transform('mean')\n"
   ]
  },
  {
   "cell_type": "code",
   "execution_count": 311,
   "id": "335a8f08",
   "metadata": {},
   "outputs": [
    {
     "data": {
      "text/html": [
       "<div>\n",
       "<style scoped>\n",
       "    .dataframe tbody tr th:only-of-type {\n",
       "        vertical-align: middle;\n",
       "    }\n",
       "\n",
       "    .dataframe tbody tr th {\n",
       "        vertical-align: top;\n",
       "    }\n",
       "\n",
       "    .dataframe thead th {\n",
       "        text-align: right;\n",
       "    }\n",
       "</style>\n",
       "<table border=\"1\" class=\"dataframe\">\n",
       "  <thead>\n",
       "    <tr style=\"text-align: right;\">\n",
       "      <th></th>\n",
       "      <th>user_id</th>\n",
       "      <th>recipe_id</th>\n",
       "      <th>date</th>\n",
       "      <th>rating</th>\n",
       "      <th>review</th>\n",
       "      <th>review_imputed</th>\n",
       "      <th>avg_rating</th>\n",
       "    </tr>\n",
       "  </thead>\n",
       "  <tbody>\n",
       "    <tr>\n",
       "      <th>0</th>\n",
       "      <td>38094</td>\n",
       "      <td>40893</td>\n",
       "      <td>2003-02-17</td>\n",
       "      <td>4.0</td>\n",
       "      <td>Great with a salad. Cooked on top of stove for 15 minutes.Added a shake of cayenne and a pinch of salt.  Used low fat sour cream.  Thanks.</td>\n",
       "      <td>0</td>\n",
       "      <td>4.5</td>\n",
       "    </tr>\n",
       "    <tr>\n",
       "      <th>1</th>\n",
       "      <td>1293707</td>\n",
       "      <td>40893</td>\n",
       "      <td>2011-12-21</td>\n",
       "      <td>5.0</td>\n",
       "      <td>So simple, so delicious! Great for chilly fall evening. Should have doubled it ;)&lt;br/&gt;&lt;br/&gt;Second time around, forgot the remaining cumin. We usually love cumin, but didn't notice the missing 1/2 teaspoon!</td>\n",
       "      <td>0</td>\n",
       "      <td>4.5</td>\n",
       "    </tr>\n",
       "    <tr>\n",
       "      <th>2</th>\n",
       "      <td>8937</td>\n",
       "      <td>44394</td>\n",
       "      <td>2002-12-01</td>\n",
       "      <td>4.0</td>\n",
       "      <td>This worked very well and is EASY.  I used not quite a whole package (10oz) of white chips.  Great!</td>\n",
       "      <td>0</td>\n",
       "      <td>4.0</td>\n",
       "    </tr>\n",
       "    <tr>\n",
       "      <th>3</th>\n",
       "      <td>126440</td>\n",
       "      <td>85009</td>\n",
       "      <td>2010-02-27</td>\n",
       "      <td>5.0</td>\n",
       "      <td>I made the Mexican topping and took it to bunko.  Everyone loved it.</td>\n",
       "      <td>0</td>\n",
       "      <td>5.0</td>\n",
       "    </tr>\n",
       "    <tr>\n",
       "      <th>4</th>\n",
       "      <td>57222</td>\n",
       "      <td>85009</td>\n",
       "      <td>2011-10-01</td>\n",
       "      <td>5.0</td>\n",
       "      <td>Made the cheddar bacon topping, adding a sprinkling of black pepper. Yum!</td>\n",
       "      <td>0</td>\n",
       "      <td>5.0</td>\n",
       "    </tr>\n",
       "  </tbody>\n",
       "</table>\n",
       "</div>"
      ],
      "text/plain": [
       "   user_id  recipe_id       date  rating  \\\n",
       "0    38094      40893 2003-02-17     4.0   \n",
       "1  1293707      40893 2011-12-21     5.0   \n",
       "2     8937      44394 2002-12-01     4.0   \n",
       "3   126440      85009 2010-02-27     5.0   \n",
       "4    57222      85009 2011-10-01     5.0   \n",
       "\n",
       "                                                                                                                                                                                                          review  \\\n",
       "0                                                                     Great with a salad. Cooked on top of stove for 15 minutes.Added a shake of cayenne and a pinch of salt.  Used low fat sour cream.  Thanks.   \n",
       "1  So simple, so delicious! Great for chilly fall evening. Should have doubled it ;)<br/><br/>Second time around, forgot the remaining cumin. We usually love cumin, but didn't notice the missing 1/2 teaspoon!   \n",
       "2                                                                                                            This worked very well and is EASY.  I used not quite a whole package (10oz) of white chips.  Great!   \n",
       "3                                                                                                                                           I made the Mexican topping and took it to bunko.  Everyone loved it.   \n",
       "4                                                                                                                                      Made the cheddar bacon topping, adding a sprinkling of black pepper. Yum!   \n",
       "\n",
       "   review_imputed  avg_rating  \n",
       "0               0         4.5  \n",
       "1               0         4.5  \n",
       "2               0         4.0  \n",
       "3               0         5.0  \n",
       "4               0         5.0  "
      ]
     },
     "execution_count": 311,
     "metadata": {},
     "output_type": "execute_result"
    }
   ],
   "source": [
    "#afficher tous les avis de la recette 40893\n",
    "data_without_0.head()\n",
    "\n"
   ]
  },
  {
   "cell_type": "code",
   "execution_count": 312,
   "id": "a18caa18",
   "metadata": {},
   "outputs": [
    {
     "data": {
      "text/html": [
       "<div>\n",
       "<style scoped>\n",
       "    .dataframe tbody tr th:only-of-type {\n",
       "        vertical-align: middle;\n",
       "    }\n",
       "\n",
       "    .dataframe tbody tr th {\n",
       "        vertical-align: top;\n",
       "    }\n",
       "\n",
       "    .dataframe thead th {\n",
       "        text-align: right;\n",
       "    }\n",
       "</style>\n",
       "<table border=\"1\" class=\"dataframe\">\n",
       "  <thead>\n",
       "    <tr style=\"text-align: right;\">\n",
       "      <th></th>\n",
       "      <th>user_id</th>\n",
       "      <th>recipe_id</th>\n",
       "      <th>date</th>\n",
       "      <th>rating</th>\n",
       "      <th>review</th>\n",
       "      <th>review_imputed</th>\n",
       "    </tr>\n",
       "  </thead>\n",
       "  <tbody>\n",
       "    <tr>\n",
       "      <th>1060782</th>\n",
       "      <td>310155</td>\n",
       "      <td>47941</td>\n",
       "      <td>2009-06-06</td>\n",
       "      <td>5.0</td>\n",
       "      <td>Loved it!  I think this recipe is definitely as good as your ingredients.  I made it with a parmesan from the jar.  Next time I will use freshly grated as the recipe says.  I used LARGE pinches of the herbs, we like things flavorful, and I added chopped tomato and black olives.  Thought about Red Pepper but passed on it, though may try another time.  Thanks for a great recipe that would go with a large variety of Summer Fare.  This will become a Tried and True at my house!</td>\n",
       "      <td>0</td>\n",
       "    </tr>\n",
       "    <tr>\n",
       "      <th>217103</th>\n",
       "      <td>11297</td>\n",
       "      <td>13632</td>\n",
       "      <td>2008-12-15</td>\n",
       "      <td>5.0</td>\n",
       "      <td>A very easy and tasty side dish. I added some sliced carrots for added colour to the mix and this worked well. This side went well with recipe#138414, gravy and baked potatoes A 'keeper' :)</td>\n",
       "      <td>0</td>\n",
       "    </tr>\n",
       "    <tr>\n",
       "      <th>195471</th>\n",
       "      <td>583276</td>\n",
       "      <td>45392</td>\n",
       "      <td>2007-10-21</td>\n",
       "      <td>4.0</td>\n",
       "      <td>The dish was very good.  I added garlic with the spices and sprinkled with parmesan when it was done.  Only problem was the time was way off.  I did 30 min at 375 and then bumped it up to 425 for the last 10 min with my asparagus, and the potatoes were still not cooked all the way.  Since all my food was done I had to throw them in the mircrowave for 5 min to finish cooking.</td>\n",
       "      <td>0</td>\n",
       "    </tr>\n",
       "    <tr>\n",
       "      <th>733403</th>\n",
       "      <td>313984</td>\n",
       "      <td>364488</td>\n",
       "      <td>2014-04-15</td>\n",
       "      <td>5.0</td>\n",
       "      <td>I make this recipe for my family and friends all the time.  They love it.  As I mentioned in the previous review I tried covering it with white chocolate and drizzling dark on top of it.  It was a great success.  I also did the base using my gluten free flour mix and the shortbread was the best ever.  Thank you to Kittycatmon for the orgininal recipe.</td>\n",
       "      <td>0</td>\n",
       "    </tr>\n",
       "    <tr>\n",
       "      <th>206916</th>\n",
       "      <td>1861695</td>\n",
       "      <td>19033</td>\n",
       "      <td>2011-11-15</td>\n",
       "      <td>4.0</td>\n",
       "      <td>I love reuben's. Try them this way: Very lightly butter (or Margarine) each party rye. Top with (in order) little slice of corned beef Then little slice of swiss cheese.  Drain saurkraut and mix just with enough mayo so kraut wont fall off the sandwich.  Dot with a little paprika and broil just until cheese is melted and bubbly.  My family loves these little open faced sandwiches.</td>\n",
       "      <td>0</td>\n",
       "    </tr>\n",
       "    <tr>\n",
       "      <th>514232</th>\n",
       "      <td>165217</td>\n",
       "      <td>399297</td>\n",
       "      <td>2011-03-28</td>\n",
       "      <td>NaN</td>\n",
       "      <td>This recipe was created by Todd Wilbur for his book \"Top Secret Restaurant Recipes 3 (Penguin/Putnam) www.TopSecretRecipes.com</td>\n",
       "      <td>0</td>\n",
       "    </tr>\n",
       "    <tr>\n",
       "      <th>89385</th>\n",
       "      <td>128473</td>\n",
       "      <td>261263</td>\n",
       "      <td>2008-12-11</td>\n",
       "      <td>5.0</td>\n",
       "      <td>These were wonderful semi-sweet, subtly flavored orange muffins. My dh &amp; I enjoyed them very much. Made exactly as written we got 1 dozen muffins from the batter. They were quick and easy to make. The batter was thick but easy to work with. The muffins were crisp and crunchy on the outside and tender and moist on the inside. Thanks so much for sharing your moms recipe.</td>\n",
       "      <td>0</td>\n",
       "    </tr>\n",
       "    <tr>\n",
       "      <th>482223</th>\n",
       "      <td>226863</td>\n",
       "      <td>490460</td>\n",
       "      <td>2013-07-30</td>\n",
       "      <td>5.0</td>\n",
       "      <td>This is wonderful!  I&amp;#039;m so used to veggies with lots of seasoning, but this lets the veggies just shine through. (No Soy!!)  Once I cut everything up and looked at the ratio, I decided to increase the broccoli a bit for a bit more green.  So quick and easy, and just delicious!  Thanks for sharing! Made for Rookie tag game.</td>\n",
       "      <td>0</td>\n",
       "    </tr>\n",
       "    <tr>\n",
       "      <th>869422</th>\n",
       "      <td>464509</td>\n",
       "      <td>80782</td>\n",
       "      <td>2007-08-13</td>\n",
       "      <td>4.0</td>\n",
       "      <td>super tasty! I will make them again but next time I will double the topping because it was very thin. It had a fantastic flavor I served it with a scoop of vanilla ice cream.thanks</td>\n",
       "      <td>0</td>\n",
       "    </tr>\n",
       "    <tr>\n",
       "      <th>3616</th>\n",
       "      <td>2597942</td>\n",
       "      <td>513016</td>\n",
       "      <td>2014-05-11</td>\n",
       "      <td>4.0</td>\n",
       "      <td>Made these cookie bars this afternoon to take to the neighbors cook-out / bon-fire this evening. These were very easy to put together and the flavor was pretty tasty. The texture was a bit strange, but I&amp;#039;m assuming that is because it uses a cake mix. I will try making these again, and maybe skip the walnuts next time. Thanks for posting. (Made for PAC 2014)</td>\n",
       "      <td>0</td>\n",
       "    </tr>\n",
       "    <tr>\n",
       "      <th>221392</th>\n",
       "      <td>156842</td>\n",
       "      <td>27634</td>\n",
       "      <td>2007-11-06</td>\n",
       "      <td>5.0</td>\n",
       "      <td>I was just cooking for 2, so I cut it in half, and still had lots left over.  I served it with linguine noodles.  Very good. It taste like you worked very hard, but it was super easy.</td>\n",
       "      <td>0</td>\n",
       "    </tr>\n",
       "    <tr>\n",
       "      <th>270599</th>\n",
       "      <td>141140</td>\n",
       "      <td>23319</td>\n",
       "      <td>2010-09-12</td>\n",
       "      <td>5.0</td>\n",
       "      <td>Made it less rich by using water and skim milk powder with Splenda for the sweetener. Both my kids thought it was \"yummy\" and I loved it too. Quick and easy.</td>\n",
       "      <td>0</td>\n",
       "    </tr>\n",
       "    <tr>\n",
       "      <th>140634</th>\n",
       "      <td>20754</td>\n",
       "      <td>30127</td>\n",
       "      <td>2007-09-30</td>\n",
       "      <td>5.0</td>\n",
       "      <td>We loved this macaroni salad!  The bacon made it even more flavorful!  Thanks Kim1</td>\n",
       "      <td>0</td>\n",
       "    </tr>\n",
       "    <tr>\n",
       "      <th>863679</th>\n",
       "      <td>1668848</td>\n",
       "      <td>68787</td>\n",
       "      <td>2011-12-20</td>\n",
       "      <td>4.0</td>\n",
       "      <td>This is definitely delicious.  I like all the stewy vegetables in it.  I don't know if I would change anything in this recipe!</td>\n",
       "      <td>0</td>\n",
       "    </tr>\n",
       "    <tr>\n",
       "      <th>1116891</th>\n",
       "      <td>52619</td>\n",
       "      <td>29100</td>\n",
       "      <td>2002-08-19</td>\n",
       "      <td>5.0</td>\n",
       "      <td>Thank you for posting this recipe. It makes excellent bread with a lovely slightly chewy texture. My colleague at work loved it so much that she almost ate a whole loaf all by herself! I don't have a pizza stone but I baked mine in a convection oven and it turned out perfect. Definately a recipe for keeps!</td>\n",
       "      <td>0</td>\n",
       "    </tr>\n",
       "    <tr>\n",
       "      <th>149201</th>\n",
       "      <td>1450612</td>\n",
       "      <td>58347</td>\n",
       "      <td>2013-01-25</td>\n",
       "      <td>5.0</td>\n",
       "      <td>I'm reminded of Emeril, in that you could put this sauce on a car bumper and it would taste good. So easy. I generally add some red pepper flakes, or hot sauce, or both, but that's personal preference. This is a great starter sauce for anyone trying to recreate the taste of Chinese take out at home, on a budget, with generally on hand items, wish I'd found it earlier. Ty for sharing.</td>\n",
       "      <td>0</td>\n",
       "    </tr>\n",
       "    <tr>\n",
       "      <th>1004668</th>\n",
       "      <td>2701117</td>\n",
       "      <td>495181</td>\n",
       "      <td>2013-02-19</td>\n",
       "      <td>5.0</td>\n",
       "      <td>Was so good, can't wait to make it again,  Thanks for a great recipe..</td>\n",
       "      <td>0</td>\n",
       "    </tr>\n",
       "    <tr>\n",
       "      <th>580300</th>\n",
       "      <td>2001599125</td>\n",
       "      <td>45069</td>\n",
       "      <td>2017-06-25</td>\n",
       "      <td>5.0</td>\n",
       "      <td>For years I've been a NO BEANS! bigot. Then I tried this recipe just as posted. It was fantastic! The second time I made it I substituted refried beans in place of the mashed beans. Since then I've made it three more times, each time making minor tweaks (like every other cook I've ever known). As mentioned in other comments, I find the thickness to be the &amp;quot;cherry on top&amp;quot; to make this delicious chili great. No matter what your preferences, this chili is worth a try. Who knows, it might even change your mind about &amp;quot;no beans&amp;quot;.</td>\n",
       "      <td>0</td>\n",
       "    </tr>\n",
       "    <tr>\n",
       "      <th>97165</th>\n",
       "      <td>2001893191</td>\n",
       "      <td>443758</td>\n",
       "      <td>2017-12-27</td>\n",
       "      <td>NaN</td>\n",
       "      <td>Seems like it's too high. Did 375 for 30 minutes, and it seems very well cooked. About 155-160 F. Dropped the temp to 350 for another 20 minutes, and it finished at a range of 165-175. Guess I could try it, but seems like it would overcook the chicken. Or maybe it's just dependent on the type of chicken legs you get.</td>\n",
       "      <td>0</td>\n",
       "    </tr>\n",
       "    <tr>\n",
       "      <th>1100180</th>\n",
       "      <td>201581</td>\n",
       "      <td>122725</td>\n",
       "      <td>2006-12-11</td>\n",
       "      <td>5.0</td>\n",
       "      <td>I made up a batch and split it with my sister. She used it on our steaks and it was delicious. My B/I/L doesn't usually eat all of his steak, but he didn't leave one bite. That's a high compliment indeed! Made for Alphabet Soup Game. Thanks for posting Gerald.</td>\n",
       "      <td>0</td>\n",
       "    </tr>\n",
       "  </tbody>\n",
       "</table>\n",
       "</div>"
      ],
      "text/plain": [
       "            user_id  recipe_id       date  rating  \\\n",
       "1060782      310155      47941 2009-06-06     5.0   \n",
       "217103        11297      13632 2008-12-15     5.0   \n",
       "195471       583276      45392 2007-10-21     4.0   \n",
       "733403       313984     364488 2014-04-15     5.0   \n",
       "206916      1861695      19033 2011-11-15     4.0   \n",
       "514232       165217     399297 2011-03-28     NaN   \n",
       "89385        128473     261263 2008-12-11     5.0   \n",
       "482223       226863     490460 2013-07-30     5.0   \n",
       "869422       464509      80782 2007-08-13     4.0   \n",
       "3616        2597942     513016 2014-05-11     4.0   \n",
       "221392       156842      27634 2007-11-06     5.0   \n",
       "270599       141140      23319 2010-09-12     5.0   \n",
       "140634        20754      30127 2007-09-30     5.0   \n",
       "863679      1668848      68787 2011-12-20     4.0   \n",
       "1116891       52619      29100 2002-08-19     5.0   \n",
       "149201      1450612      58347 2013-01-25     5.0   \n",
       "1004668     2701117     495181 2013-02-19     5.0   \n",
       "580300   2001599125      45069 2017-06-25     5.0   \n",
       "97165    2001893191     443758 2017-12-27     NaN   \n",
       "1100180      201581     122725 2006-12-11     5.0   \n",
       "\n",
       "                                                                                                                                                                                                                                                                                                                                                                                                                                                                                                                                                                        review  \\\n",
       "1060782                                                                          Loved it!  I think this recipe is definitely as good as your ingredients.  I made it with a parmesan from the jar.  Next time I will use freshly grated as the recipe says.  I used LARGE pinches of the herbs, we like things flavorful, and I added chopped tomato and black olives.  Thought about Red Pepper but passed on it, though may try another time.  Thanks for a great recipe that would go with a large variety of Summer Fare.  This will become a Tried and True at my house!   \n",
       "217103                                                                                                                                                                                                                                                                                                                                                                           A very easy and tasty side dish. I added some sliced carrots for added colour to the mix and this worked well. This side went well with recipe#138414, gravy and baked potatoes A 'keeper' :)   \n",
       "195471                                                                                                                                                                               The dish was very good.  I added garlic with the spices and sprinkled with parmesan when it was done.  Only problem was the time was way off.  I did 30 min at 375 and then bumped it up to 425 for the last 10 min with my asparagus, and the potatoes were still not cooked all the way.  Since all my food was done I had to throw them in the mircrowave for 5 min to finish cooking.   \n",
       "733403                                                                                                                                                                                                       I make this recipe for my family and friends all the time.  They love it.  As I mentioned in the previous review I tried covering it with white chocolate and drizzling dark on top of it.  It was a great success.  I also did the base using my gluten free flour mix and the shortbread was the best ever.  Thank you to Kittycatmon for the orgininal recipe.   \n",
       "206916                                                                                                                                                                         I love reuben's. Try them this way: Very lightly butter (or Margarine) each party rye. Top with (in order) little slice of corned beef Then little slice of swiss cheese.  Drain saurkraut and mix just with enough mayo so kraut wont fall off the sandwich.  Dot with a little paprika and broil just until cheese is melted and bubbly.  My family loves these little open faced sandwiches.   \n",
       "514232                                                                                                                                                                                                                                                                                                                                                                                                                                          This recipe was created by Todd Wilbur for his book \"Top Secret Restaurant Recipes 3 (Penguin/Putnam) www.TopSecretRecipes.com   \n",
       "89385                                                                                                                                                                                      These were wonderful semi-sweet, subtly flavored orange muffins. My dh & I enjoyed them very much. Made exactly as written we got 1 dozen muffins from the batter. They were quick and easy to make. The batter was thick but easy to work with. The muffins were crisp and crunchy on the outside and tender and moist on the inside. Thanks so much for sharing your moms recipe.   \n",
       "482223                                                                                                                                                                                                                               This is wonderful!  I&#039;m so used to veggies with lots of seasoning, but this lets the veggies just shine through. (No Soy!!)  Once I cut everything up and looked at the ratio, I decided to increase the broccoli a bit for a bit more green.  So quick and easy, and just delicious!  Thanks for sharing! Made for Rookie tag game.   \n",
       "869422                                                                                                                                                                                                                                                                                                                                                                                    super tasty! I will make them again but next time I will double the topping because it was very thin. It had a fantastic flavor I served it with a scoop of vanilla ice cream.thanks   \n",
       "3616                                                                                                                                                                                              Made these cookie bars this afternoon to take to the neighbors cook-out / bon-fire this evening. These were very easy to put together and the flavor was pretty tasty. The texture was a bit strange, but I&#039;m assuming that is because it uses a cake mix. I will try making these again, and maybe skip the walnuts next time. Thanks for posting. (Made for PAC 2014)   \n",
       "221392                                                                                                                                                                                                                                                                                                                                                                                 I was just cooking for 2, so I cut it in half, and still had lots left over.  I served it with linguine noodles.  Very good. It taste like you worked very hard, but it was super easy.   \n",
       "270599                                                                                                                                                                                                                                                                                                                                                                                                           Made it less rich by using water and skim milk powder with Splenda for the sweetener. Both my kids thought it was \"yummy\" and I loved it too. Quick and easy.   \n",
       "140634                                                                                                                                                                                                                                                                                                                                                                                                                                                                                      We loved this macaroni salad!  The bacon made it even more flavorful!  Thanks Kim1   \n",
       "863679                                                                                                                                                                                                                                                                                                                                                                                                                                          This is definitely delicious.  I like all the stewy vegetables in it.  I don't know if I would change anything in this recipe!   \n",
       "1116891                                                                                                                                                                                                                                                    Thank you for posting this recipe. It makes excellent bread with a lovely slightly chewy texture. My colleague at work loved it so much that she almost ate a whole loaf all by herself! I don't have a pizza stone but I baked mine in a convection oven and it turned out perfect. Definately a recipe for keeps!   \n",
       "149201                                                                                                                                                                      I'm reminded of Emeril, in that you could put this sauce on a car bumper and it would taste good. So easy. I generally add some red pepper flakes, or hot sauce, or both, but that's personal preference. This is a great starter sauce for anyone trying to recreate the taste of Chinese take out at home, on a budget, with generally on hand items, wish I'd found it earlier. Ty for sharing.   \n",
       "1004668                                                                                                                                                                                                                                                                                                                                                                                                                                                                                                 Was so good, can't wait to make it again,  Thanks for a great recipe..   \n",
       "580300   For years I've been a NO BEANS! bigot. Then I tried this recipe just as posted. It was fantastic! The second time I made it I substituted refried beans in place of the mashed beans. Since then I've made it three more times, each time making minor tweaks (like every other cook I've ever known). As mentioned in other comments, I find the thickness to be the &quot;cherry on top&quot; to make this delicious chili great. No matter what your preferences, this chili is worth a try. Who knows, it might even change your mind about &quot;no beans&quot;.   \n",
       "97165                                                                                                                                                                                                                                           Seems like it's too high. Did 375 for 30 minutes, and it seems very well cooked. About 155-160 F. Dropped the temp to 350 for another 20 minutes, and it finished at a range of 165-175. Guess I could try it, but seems like it would overcook the chicken. Or maybe it's just dependent on the type of chicken legs you get.   \n",
       "1100180                                                                                                                                                                                                                                                                                                   I made up a batch and split it with my sister. She used it on our steaks and it was delicious. My B/I/L doesn't usually eat all of his steak, but he didn't leave one bite. That's a high compliment indeed! Made for Alphabet Soup Game. Thanks for posting Gerald.   \n",
       "\n",
       "         review_imputed  \n",
       "1060782               0  \n",
       "217103                0  \n",
       "195471                0  \n",
       "733403                0  \n",
       "206916                0  \n",
       "514232                0  \n",
       "89385                 0  \n",
       "482223                0  \n",
       "869422                0  \n",
       "3616                  0  \n",
       "221392                0  \n",
       "270599                0  \n",
       "140634                0  \n",
       "863679                0  \n",
       "1116891               0  \n",
       "149201                0  \n",
       "1004668               0  \n",
       "580300                0  \n",
       "97165                 0  \n",
       "1100180               0  "
      ]
     },
     "execution_count": 312,
     "metadata": {},
     "output_type": "execute_result"
    }
   ],
   "source": [
    "data.sample(20)\n"
   ]
  },
  {
   "cell_type": "code",
   "execution_count": 313,
   "id": "92e1472d",
   "metadata": {},
   "outputs": [
    {
     "data": {
      "image/png": "[encoded data removed]",
      "text/plain": [
       "<Figure size 1000x600 with 1 Axes>"
      ]
     },
     "metadata": {},
     "output_type": "display_data"
    }
   ],
   "source": [
    "### etudions la variable average rating,nous allons commencer par visualiser la distribution des notes moyennes par recette.\n",
    "plt.figure(figsize=(10, 6))\n",
    "sns.histplot(data_without_0['avg_rating'], bins=20, kde=True)\n",
    "plt.title(\"Distribution des notes moyennes par recette\")\n",
    "plt.xlabel(\"Note moyenne\")\n",
    "plt.ylabel(\"Nombre de recettes\")\n",
    "plt.show()"
   ]
  },
  {
   "cell_type": "code",
   "execution_count": 314,
   "id": "9b754c6f",
   "metadata": {},
   "outputs": [
    {
     "data": {
      "text/plain": [
       "Text(0.5, 0, 'User ID')"
      ]
     },
     "execution_count": 314,
     "metadata": {},
     "output_type": "execute_result"
    },
    {
     "data": {
      "image/png": "[encoded data removed]",
      "text/plain": [
       "<Figure size 640x480 with 1 Axes>"
      ]
     },
     "metadata": {},
     "output_type": "display_data"
    }
   ],
   "source": [
    "data['user_id'].value_counts().head(10).plot(kind='bar')\n",
    "plt.title('Top 10 des utilisateurs avec le plus d\\'interactions')\n",
    "plt.xlabel('User ID')"
   ]
  },
  {
   "cell_type": "code",
   "execution_count": 315,
   "id": "0d4eab6a",
   "metadata": {},
   "outputs": [
    {
     "name": "stdout",
     "output_type": "stream",
     "text": [
      "Proportion des utilisateurs ayant laissé moins de 2 avis : 73.38%\n"
     ]
    }
   ],
   "source": [
    "##Calculons la proportion des utilisateurs qui ont laissé moins de 2 avis\n",
    "proportion_moins_de_2_avis = (data['user_id'].value_counts() < 2).mean() * 100\n",
    "print(f\"Proportion des utilisateurs ayant laissé moins de 2 avis : {proportion_moins_de_2_avis:.2f}%\")"
   ]
  },
  {
   "cell_type": "markdown",
   "id": "6acd4e5f",
   "metadata": {},
   "source": [
    "analyse de la variable UserID met en évidence une forte disparité d’activité sur la plateforme :\n",
    "\n",
    "- 73,38 % des utilisateurs n’ont laissé qu’un seul avis, ce qui traduit un comportement ponctuel.\n",
    "- Une minorité d’utilisateurs hyperactifs contribue à une part importante des évaluations (jusqu’à 7 671 avis pour le plus actif).\n",
    "\n",
    "En conséquence, les analyses globales (par exemple la moyenne des notes) peuvent être biaisées par la surreprésentation des utilisateurs les plus actifs.\n",
    "\n",
    "Il est donc crucial, dans la suite de l’étude, d’examiner le lien entre le niveau d’activité UserID et les notes attribuées Rating afin de vérifier si ces utilisateurs très actifs sont également ceux qui attribuent systématiquement les notes les plus élevées."
   ]
  },
  {
   "cell_type": "code",
   "execution_count": 316,
   "id": "9c2bb1ce",
   "metadata": {},
   "outputs": [
    {
     "name": "stderr",
     "output_type": "stream",
     "text": [
      "C:\\Users\\ABDILLAHIOMARDJAMA\\AppData\\Local\\Temp\\ipykernel_12976\\2131936807.py:2: FutureWarning: The default of observed=False is deprecated and will be changed to True in a future version of pandas. Pass observed=False to retain current behavior or observed=True to adopt the future default and silence this warning.\n",
      "  data.groupby('user_id')['rating'].mean().describe()\n"
     ]
    },
    {
     "data": {
      "text/plain": [
       "count    196098.000000\n",
       "mean          4.557734\n",
       "std           0.900728\n",
       "min           1.000000\n",
       "25%           4.500000\n",
       "50%           5.000000\n",
       "75%           5.000000\n",
       "max           5.000000\n",
       "Name: rating, dtype: float64"
      ]
     },
     "execution_count": 316,
     "metadata": {},
     "output_type": "execute_result"
    }
   ],
   "source": [
    "##\n",
    "data.groupby('user_id')['rating'].mean().describe()"
   ]
  },
  {
   "cell_type": "code",
   "execution_count": 317,
   "id": "361d401b",
   "metadata": {},
   "outputs": [
    {
     "name": "stderr",
     "output_type": "stream",
     "text": [
      "C:\\Users\\ABDILLAHIOMARDJAMA\\AppData\\Local\\Temp\\ipykernel_12976\\85155428.py:1: FutureWarning: The default of observed=False is deprecated and will be changed to True in a future version of pandas. Pass observed=False to retain current behavior or observed=True to adopt the future default and silence this warning.\n",
      "  data_without_0.groupby('user_id')['rating'].mean().hist(bins=30, rwidth=0.9)\n"
     ]
    },
    {
     "data": {
      "image/png": "[encoded data removed]",
      "text/plain": [
       "<Figure size 640x480 with 1 Axes>"
      ]
     },
     "metadata": {},
     "output_type": "display_data"
    }
   ],
   "source": [
    "data_without_0.groupby('user_id')['rating'].mean().hist(bins=30, rwidth=0.9)\n",
    "plt.title(\"Distribution de la moyenne des notes par utilisateur\")\n",
    "plt.xlabel(\"Moyenne des notes attribuées\")\n",
    "plt.ylabel(\"Nombre d'utilisateurs\")\n",
    "plt.show()"
   ]
  },
  {
   "cell_type": "code",
   "execution_count": 318,
   "id": "aff007d7",
   "metadata": {},
   "outputs": [
    {
     "data": {
      "image/png": "[encoded data removed]",
      "text/plain": [
       "<Figure size 1000x600 with 1 Axes>"
      ]
     },
     "metadata": {},
     "output_type": "display_data"
    }
   ],
   "source": [
    "##relation entre le nombre d'avis laissés et la note moyenne attribuée par utilisateur\n",
    "plt.figure(figsize=(10, 6))\n",
    "sns.scatterplot(x=data_without_0['user_id'].value_counts(), y=data_without_0.groupby('user_id', observed=True)['rating'].mean())\n",
    "plt.title(\"Relation entre le nombre d'avis laissés et la note moyenne par utilisateur\")\n",
    "plt.xlabel(\"Nombre d'avis laissés\")\n",
    "plt.ylabel(\"Note moyenne attribuée\")\n",
    "plt.show()"
   ]
  },
  {
   "cell_type": "code",
   "execution_count": 319,
   "id": "9e0d3340",
   "metadata": {},
   "outputs": [
    {
     "name": "stdout",
     "output_type": "stream",
     "text": [
      "Corrélation entre le nombre d'avis laissés et la note moyenne attribuée par utilisateur : 0.01\n"
     ]
    }
   ],
   "source": [
    "##calculons la corrélation entre le nombre d'avis laissés et la note moyenne attribuée par utilisateur\n",
    "correlation = data_without_0['user_id'].value_counts().corr(data_without_0.groupby('user_id', observed=True)['rating'].mean())\n",
    "print(f\"Corrélation entre le nombre d'avis laissés et la note moyenne attribuée par utilisateur : {correlation:.2f}\")\n"
   ]
  },
  {
   "cell_type": "code",
   "execution_count": 320,
   "id": "ffafe486",
   "metadata": {},
   "outputs": [
    {
     "data": {
      "text/plain": [
       "count    226570.000000\n",
       "mean          4.997868\n",
       "std          49.663111\n",
       "min           1.000000\n",
       "25%           1.000000\n",
       "50%           1.000000\n",
       "75%           2.000000\n",
       "95%          11.000000\n",
       "99%          61.000000\n",
       "max        7671.000000\n",
       "Name: count, dtype: float64"
      ]
     },
     "execution_count": 320,
     "metadata": {},
     "output_type": "execute_result"
    }
   ],
   "source": [
    "##le percentiles jusqu'à 99% des interactions par utilisateur,et regardons apres par au notes moyennes au recettes afin de voir si les utilisateurs qui laissent le plus d'avis ont tendance a donner des notes plus élevées ou plus basses.\n",
    "data['user_id'].value_counts().describe(percentiles=[.25, .5, .75, .95, .99])\n"
   ]
  },
  {
   "cell_type": "code",
   "execution_count": 321,
   "id": "656e7f91",
   "metadata": {},
   "outputs": [
    {
     "name": "stderr",
     "output_type": "stream",
     "text": [
      "C:\\Users\\ABDILLAHIOMARDJAMA\\AppData\\Local\\Temp\\ipykernel_12976\\3598943489.py:3: SettingWithCopyWarning: \n",
      "A value is trying to be set on a copy of a slice from a DataFrame.\n",
      "Try using .loc[row_indexer,col_indexer] = value instead\n",
      "\n",
      "See the caveats in the documentation: https://pandas.pydata.org/pandas-docs/stable/user_guide/indexing.html#returning-a-view-versus-a-copy\n",
      "  data_without_0['interaction_level'] = pd.cut(data_without_0['user_id'].map(data_without_0['user_id'].value_counts()), bins=bins, labels=labels)\n"
     ]
    },
    {
     "data": {
      "text/plain": [
       "interaction_level\n",
       "Extrême    52.954495\n",
       "Haute      18.980047\n",
       "Modérée    14.970229\n",
       "Faible     13.095229\n",
       "Name: proportion, dtype: float64"
      ]
     },
     "execution_count": 321,
     "metadata": {},
     "output_type": "execute_result"
    }
   ],
   "source": [
    "bins = [0, 1, 10, 60, float('inf')]\n",
    "labels = ['Faible', 'Modérée', 'Haute', 'Extrême']\n",
    "data_without_0['interaction_level'] = pd.cut(data_without_0['user_id'].map(data_without_0['user_id'].value_counts()), bins=bins, labels=labels)\n",
    "data_without_0['interaction_level'].value_counts(normalize=True) * 100"
   ]
  },
  {
   "cell_type": "code",
   "execution_count": 322,
   "id": "6f221f06",
   "metadata": {},
   "outputs": [
    {
     "data": {
      "image/png": "[encoded data removed]",
      "text/plain": [
       "<Figure size 640x480 with 1 Axes>"
      ]
     },
     "metadata": {},
     "output_type": "display_data"
    }
   ],
   "source": [
    "user_stats = data_without_0.groupby('user_id', observed=True).agg({'rating': 'mean', 'interaction_level': 'first'}).reset_index()\n",
    "user_stats.rename(columns={'rating': 'note_moyenne'}, inplace=True)\n",
    "sns.barplot(x='interaction_level', y='note_moyenne', data=user_stats, order=labels)\n",
    "plt.title(\"Relation entre l'activité et la moyenne des notes attribuées\")\n",
    "plt.xlabel(\"Catégorie d'activité de l'utilisateur\")\n",
    "plt.ylabel(\"Moyenne des notes\")\n",
    "plt.show()\n"
   ]
  },
  {
   "cell_type": "markdown",
   "id": "7df02649",
   "metadata": {},
   "source": [
    "Les résultats montrent une distribution très homogène des notes :\n",
    "quelle que soit la fréquence d’interaction d’un utilisateur, la moyenne des notes reste globalement stable, autour de 4.5 à 4.7.\n",
    "\n",
    "Aucune tendance claire (ni croissante ni décroissante) n’apparaît entre le nombre d’avis laissés et la sévérité des notes attribuées.\n",
    "Cette absence de corrélation suggère que le niveau d’activité n’a pas d’impact significatif sur la manière dont les utilisateurs notent les recettes.\n"
   ]
  },
  {
   "cell_type": "markdown",
   "id": "a6c9b3bd",
   "metadata": {},
   "source": [
    "**isolation des notes negative (1 a 3)**\n",
    "\n"
   ]
  },
  {
   "cell_type": "code",
   "execution_count": 323,
   "id": "144c9dd4",
   "metadata": {},
   "outputs": [],
   "source": [
    "##creation d une colonne binaire qui indqiue si l avis est negative ou positive,en fonction de la note attribuée,la note de 1 a 3 est negative(1),et de 4 a 5 est positive(0)\n",
    "data['binary_sentiment'] = data['rating'].apply(lambda x: 1 if x <= 3 else 0)\n"
   ]
  },
  {
   "cell_type": "code",
   "execution_count": 324,
   "id": "b3a6904a",
   "metadata": {},
   "outputs": [
    {
     "name": "stdout",
     "output_type": "stream",
     "text": [
      "67796\n"
     ]
    }
   ],
   "source": [
    "#compter combien d'avis négatifs\n",
    "print((data['binary_sentiment'] == 1).sum())"
   ]
  },
  {
   "cell_type": "code",
   "execution_count": 325,
   "id": "e87ea25d",
   "metadata": {},
   "outputs": [
    {
     "data": {
      "text/html": [
       "<div>\n",
       "<style scoped>\n",
       "    .dataframe tbody tr th:only-of-type {\n",
       "        vertical-align: middle;\n",
       "    }\n",
       "\n",
       "    .dataframe tbody tr th {\n",
       "        vertical-align: top;\n",
       "    }\n",
       "\n",
       "    .dataframe thead th {\n",
       "        text-align: right;\n",
       "    }\n",
       "</style>\n",
       "<table border=\"1\" class=\"dataframe\">\n",
       "  <thead>\n",
       "    <tr style=\"text-align: right;\">\n",
       "      <th></th>\n",
       "      <th>user_id</th>\n",
       "      <th>recipe_id</th>\n",
       "      <th>date</th>\n",
       "      <th>rating</th>\n",
       "      <th>review</th>\n",
       "      <th>review_imputed</th>\n",
       "      <th>binary_sentiment</th>\n",
       "    </tr>\n",
       "  </thead>\n",
       "  <tbody>\n",
       "    <tr>\n",
       "      <th>1094149</th>\n",
       "      <td>70910</td>\n",
       "      <td>20607</td>\n",
       "      <td>2010-05-22</td>\n",
       "      <td>5.0</td>\n",
       "      <td>This was excellent. I used a bag of frozen berries for the filling and they were perfect. I think you could cut back a bit on the sugar without hurting this dish. Thanks for the great recipe.</td>\n",
       "      <td>0</td>\n",
       "      <td>0</td>\n",
       "    </tr>\n",
       "    <tr>\n",
       "      <th>920294</th>\n",
       "      <td>207907</td>\n",
       "      <td>138454</td>\n",
       "      <td>2006-05-07</td>\n",
       "      <td>5.0</td>\n",
       "      <td>perfect!</td>\n",
       "      <td>0</td>\n",
       "      <td>0</td>\n",
       "    </tr>\n",
       "    <tr>\n",
       "      <th>125519</th>\n",
       "      <td>139078</td>\n",
       "      <td>92095</td>\n",
       "      <td>2004-06-25</td>\n",
       "      <td>5.0</td>\n",
       "      <td>I made this the day before yesterday with the matching sauce recipe.  Haved the tomato amounts but doubled the seasoning in the sauce recipe as we like it \"spicy\" but made the meatballs exactly as given.  I did put the wet ingredients into a bowl, mixed them with my electric hand mixer, added the dry ingredients and the meat, mixed again; the meatballs were easy to form and stayed together despite the long cooking time.  As my burners are hard to get low enough for a long time simmer, I put the pan with the sauce and meatballs in the oven at 325F for the three hour cooking time.  My DH loved the meatballs. Reheated in the oven last time for another great meal.</td>\n",
       "      <td>0</td>\n",
       "      <td>0</td>\n",
       "    </tr>\n",
       "    <tr>\n",
       "      <th>608253</th>\n",
       "      <td>214730</td>\n",
       "      <td>121324</td>\n",
       "      <td>2005-05-10</td>\n",
       "      <td>5.0</td>\n",
       "      <td>Mom called these \"K\" sandwiches because Dad was catholic and had to have fish on Friday. That was her humor \"K\" for \"Katholic\"...</td>\n",
       "      <td>0</td>\n",
       "      <td>0</td>\n",
       "    </tr>\n",
       "    <tr>\n",
       "      <th>923993</th>\n",
       "      <td>1124123</td>\n",
       "      <td>87864</td>\n",
       "      <td>2009-07-30</td>\n",
       "      <td>5.0</td>\n",
       "      <td>OMG are these good!!  I made these with my kids last night, and they turned out so yummy.  Thank you for this recipe!! I am sure we will be making it again.</td>\n",
       "      <td>0</td>\n",
       "      <td>0</td>\n",
       "    </tr>\n",
       "  </tbody>\n",
       "</table>\n",
       "</div>"
      ],
      "text/plain": [
       "         user_id  recipe_id       date  rating  \\\n",
       "1094149    70910      20607 2010-05-22     5.0   \n",
       "920294    207907     138454 2006-05-07     5.0   \n",
       "125519    139078      92095 2004-06-25     5.0   \n",
       "608253    214730     121324 2005-05-10     5.0   \n",
       "923993   1124123      87864 2009-07-30     5.0   \n",
       "\n",
       "                                                                                                                                                                                                                                                                                                                                                                                                                                                                                                                                                                                                                                                                                                 review  \\\n",
       "1094149                                                                                                                                                                                                                                                                                                                                                                                                                                                                                                 This was excellent. I used a bag of frozen berries for the filling and they were perfect. I think you could cut back a bit on the sugar without hurting this dish. Thanks for the great recipe.   \n",
       "920294                                                                                                                                                                                                                                                                                                                                                                                                                                                                                                                                                                                                                                                                                         perfect!   \n",
       "125519   I made this the day before yesterday with the matching sauce recipe.  Haved the tomato amounts but doubled the seasoning in the sauce recipe as we like it \"spicy\" but made the meatballs exactly as given.  I did put the wet ingredients into a bowl, mixed them with my electric hand mixer, added the dry ingredients and the meat, mixed again; the meatballs were easy to form and stayed together despite the long cooking time.  As my burners are hard to get low enough for a long time simmer, I put the pan with the sauce and meatballs in the oven at 325F for the three hour cooking time.  My DH loved the meatballs. Reheated in the oven last time for another great meal.     \n",
       "608253                                                                                                                                                                                                                                                                                                                                                                                                                                                                                                                                                                Mom called these \"K\" sandwiches because Dad was catholic and had to have fish on Friday. That was her humor \"K\" for \"Katholic\"...   \n",
       "923993                                                                                                                                                                                                                                                                                                                                                                                                                                                                                                                                     OMG are these good!!  I made these with my kids last night, and they turned out so yummy.  Thank you for this recipe!! I am sure we will be making it again.   \n",
       "\n",
       "         review_imputed  binary_sentiment  \n",
       "1094149               0                 0  \n",
       "920294                0                 0  \n",
       "125519                0                 0  \n",
       "608253                0                 0  \n",
       "923993                0                 0  "
      ]
     },
     "execution_count": 325,
     "metadata": {},
     "output_type": "execute_result"
    }
   ],
   "source": [
    "data.sample(5)"
   ]
  },
  {
   "cell_type": "code",
   "execution_count": 326,
   "id": "47948f72",
   "metadata": {},
   "outputs": [],
   "source": [
    "#isolation des lignes dont la note est 4 ou nan\n",
    "date_rating_4 = data[(data['rating'] == 4) | (data['rating'].isna())]"
   ]
  },
  {
   "cell_type": "code",
   "execution_count": 327,
   "id": "114f4d8e",
   "metadata": {},
   "outputs": [
    {
     "data": {
      "text/html": [
       "<div>\n",
       "<style scoped>\n",
       "    .dataframe tbody tr th:only-of-type {\n",
       "        vertical-align: middle;\n",
       "    }\n",
       "\n",
       "    .dataframe tbody tr th {\n",
       "        vertical-align: top;\n",
       "    }\n",
       "\n",
       "    .dataframe thead th {\n",
       "        text-align: right;\n",
       "    }\n",
       "</style>\n",
       "<table border=\"1\" class=\"dataframe\">\n",
       "  <thead>\n",
       "    <tr style=\"text-align: right;\">\n",
       "      <th></th>\n",
       "      <th>user_id</th>\n",
       "      <th>recipe_id</th>\n",
       "      <th>date</th>\n",
       "      <th>rating</th>\n",
       "      <th>review</th>\n",
       "      <th>review_imputed</th>\n",
       "      <th>binary_sentiment</th>\n",
       "    </tr>\n",
       "  </thead>\n",
       "  <tbody>\n",
       "    <tr>\n",
       "      <th>159217</th>\n",
       "      <td>1429244</td>\n",
       "      <td>391028</td>\n",
       "      <td>2010-04-27</td>\n",
       "      <td>4.0</td>\n",
       "      <td>I am a Raising Cane's snob and go there really only for the crinkle cut fries and the SAUCE!!  I made this exactly as directed and found that it was a good base for the sauce, but it definitely wasn't THE sauce.  I played around with it a lot and added a bit more ketchup, quite a bit more garlic, pepper and Worcestershire sauce and got it nearly perfect.  Of course I didn't write anything down so it's going to just be one of those things I play around with each time.  Definitely good base though.</td>\n",
       "      <td>0</td>\n",
       "      <td>0</td>\n",
       "    </tr>\n",
       "    <tr>\n",
       "      <th>1047776</th>\n",
       "      <td>360030</td>\n",
       "      <td>56260</td>\n",
       "      <td>2008-09-25</td>\n",
       "      <td>4.0</td>\n",
       "      <td>This worked great when, after a long day, we just needed something quick and easy to make.  I think next time I will add a can of tomatoes as we like our sauce a little chunky.  Thanks for posting!</td>\n",
       "      <td>0</td>\n",
       "      <td>0</td>\n",
       "    </tr>\n",
       "    <tr>\n",
       "      <th>694778</th>\n",
       "      <td>1328942</td>\n",
       "      <td>33778</td>\n",
       "      <td>2009-09-08</td>\n",
       "      <td>4.0</td>\n",
       "      <td>I give this a 4 due to my changes. I halved the recipe but I don't see how it would affect the taste/texture but as is, it wasn't a frosting at all. It was more like a glaze as someone stated. I had to add a bit more powdered sugar and about another 1 or 2 TB cocoa powder because it tasted more like butter than choco frosting. I ended up with a delicious, thick frosting. I'll be sure to note that this one needs some tweaking if you half it.</td>\n",
       "      <td>0</td>\n",
       "      <td>0</td>\n",
       "    </tr>\n",
       "    <tr>\n",
       "      <th>36115</th>\n",
       "      <td>2664302</td>\n",
       "      <td>184719</td>\n",
       "      <td>2013-01-28</td>\n",
       "      <td>4.0</td>\n",
       "      <td>Made these on the long weekend - wasnt sure about the clag-glue style substitute for eggs as I wasnt looking for a specific egg-free recpie (I just didnt have any eggs!) &lt;br/&gt;Was a bit worried as the batter was super heavy but the result was pretty good - very sticky/gooey in the middle and I kept it in the oven longer then the 25mins. I also added a heap of extras: mixed nuts, choc chips, couple of fantales and raspberries.&lt;br/&gt;Next time if I added extras again I wouldnt add the salt and would love to try with added expresso.</td>\n",
       "      <td>0</td>\n",
       "      <td>0</td>\n",
       "    </tr>\n",
       "    <tr>\n",
       "      <th>656514</th>\n",
       "      <td>457829</td>\n",
       "      <td>27208</td>\n",
       "      <td>2007-03-29</td>\n",
       "      <td>4.0</td>\n",
       "      <td>this was pretty good the flavor reminded me of my moms roast i like the ingredients i have them on hand all the time thank you</td>\n",
       "      <td>0</td>\n",
       "      <td>0</td>\n",
       "    </tr>\n",
       "  </tbody>\n",
       "</table>\n",
       "</div>"
      ],
      "text/plain": [
       "         user_id  recipe_id       date  rating  \\\n",
       "159217   1429244     391028 2010-04-27     4.0   \n",
       "1047776   360030      56260 2008-09-25     4.0   \n",
       "694778   1328942      33778 2009-09-08     4.0   \n",
       "36115    2664302     184719 2013-01-28     4.0   \n",
       "656514    457829      27208 2007-03-29     4.0   \n",
       "\n",
       "                                                                                                                                                                                                                                                                                                                                                                                                                                                                                                                                                       review  \\\n",
       "159217                                  I am a Raising Cane's snob and go there really only for the crinkle cut fries and the SAUCE!!  I made this exactly as directed and found that it was a good base for the sauce, but it definitely wasn't THE sauce.  I played around with it a lot and added a bit more ketchup, quite a bit more garlic, pepper and Worcestershire sauce and got it nearly perfect.  Of course I didn't write anything down so it's going to just be one of those things I play around with each time.  Definitely good base though.   \n",
       "1047776                                                                                                                                                                                                                                                                                                                                                 This worked great when, after a long day, we just needed something quick and easy to make.  I think next time I will add a can of tomatoes as we like our sauce a little chunky.  Thanks for posting!   \n",
       "694778                                                                                           I give this a 4 due to my changes. I halved the recipe but I don't see how it would affect the taste/texture but as is, it wasn't a frosting at all. It was more like a glaze as someone stated. I had to add a bit more powdered sugar and about another 1 or 2 TB cocoa powder because it tasted more like butter than choco frosting. I ended up with a delicious, thick frosting. I'll be sure to note that this one needs some tweaking if you half it.   \n",
       "36115    Made these on the long weekend - wasnt sure about the clag-glue style substitute for eggs as I wasnt looking for a specific egg-free recpie (I just didnt have any eggs!) <br/>Was a bit worried as the batter was super heavy but the result was pretty good - very sticky/gooey in the middle and I kept it in the oven longer then the 25mins. I also added a heap of extras: mixed nuts, choc chips, couple of fantales and raspberries.<br/>Next time if I added extras again I wouldnt add the salt and would love to try with added expresso.   \n",
       "656514                                                                                                                                                                                                                                                                                                                                                                                                                         this was pretty good the flavor reminded me of my moms roast i like the ingredients i have them on hand all the time thank you   \n",
       "\n",
       "         review_imputed  binary_sentiment  \n",
       "159217                0                 0  \n",
       "1047776               0                 0  \n",
       "694778                0                 0  \n",
       "36115                 0                 0  \n",
       "656514                0                 0  "
      ]
     },
     "execution_count": 327,
     "metadata": {},
     "output_type": "execute_result"
    }
   ],
   "source": [
    "date_rating_4.sample(5)"
   ]
  },
  {
   "cell_type": "code",
   "execution_count": 328,
   "id": "b9fbf8c3",
   "metadata": {},
   "outputs": [
    {
     "name": "stderr",
     "output_type": "stream",
     "text": [
      "[nltk_data] Downloading package wordnet to c:\\Users\\ABDILLAHIOMARDJAMA\n",
      "[nltk_data]     \\Downloads\\MangeTaMain\\notebooks\\nltk_data...\n",
      "[nltk_data]   Package wordnet is already up-to-date!\n",
      "[nltk_data] Downloading package omw-1.4 to c:\\Users\\ABDILLAHIOMARDJAMA\n",
      "[nltk_data]     \\Downloads\\MangeTaMain\\notebooks\\nltk_data...\n",
      "[nltk_data]   Package omw-1.4 is already up-to-date!\n",
      "[nltk_data] Downloading package punkt to c:\\Users\\ABDILLAHIOMARDJAMA\\D\n",
      "[nltk_data]     ownloads\\MangeTaMain\\notebooks\\nltk_data...\n",
      "[nltk_data]   Package punkt is already up-to-date!\n",
      "[nltk_data] Downloading package stopwords to c:\\Users\\ABDILLAHIOMARDJA\n",
      "[nltk_data]     MA\\Downloads\\MangeTaMain\\notebooks\\nltk_data...\n",
      "[nltk_data]   Package stopwords is already up-to-date!\n"
     ]
    }
   ],
   "source": [
    "import os\n",
    "import nltk\n",
    "import re\n",
    "from nltk.tokenize import word_tokenize\n",
    "from nltk.corpus import stopwords\n",
    "from nltk.stem import WordNetLemmatizer\n",
    "from nltk.tokenize import PunktSentenceTokenizer, TreebankWordTokenizer\n",
    "nltk.download('wordnet', download_dir=os.path.join(os.getcwd(), 'nltk_data'))\n",
    "nltk.download('omw-1.4', download_dir=os.path.join(os.getcwd(), 'nltk_data'))\n",
    "nltk.download('punkt', download_dir=os.path.join(os.getcwd(), 'nltk_data'))\n",
    "nltk.download('stopwords', download_dir=os.path.join(os.getcwd(), 'nltk_data'))\n",
    "stop_words = stopwords.words('english')\n",
    "nltk.data.path.append(os.path.join(os.getcwd(), 'nltk_data'))"
   ]
  },
  {
   "cell_type": "code",
   "execution_count": 329,
   "id": "76adbd1c",
   "metadata": {},
   "outputs": [
    {
     "name": "stderr",
     "output_type": "stream",
     "text": [
      "C:\\Users\\ABDILLAHIOMARDJAMA\\AppData\\Local\\Temp\\ipykernel_12976\\173330585.py:79: SettingWithCopyWarning: \n",
      "A value is trying to be set on a copy of a slice from a DataFrame.\n",
      "Try using .loc[row_indexer,col_indexer] = value instead\n",
      "\n",
      "See the caveats in the documentation: https://pandas.pydata.org/pandas-docs/stable/user_guide/indexing.html#returning-a-view-versus-a-copy\n",
      "  date_rating_4[\"clean_review\"] = date_rating_4[\"review\"].map(clean_review)\n",
      "C:\\Users\\ABDILLAHIOMARDJAMA\\AppData\\Local\\Temp\\ipykernel_12976\\173330585.py:82: SettingWithCopyWarning: \n",
      "A value is trying to be set on a copy of a slice from a DataFrame.\n",
      "Try using .loc[row_indexer,col_indexer] = value instead\n",
      "\n",
      "See the caveats in the documentation: https://pandas.pydata.org/pandas-docs/stable/user_guide/indexing.html#returning-a-view-versus-a-copy\n",
      "  date_rating_4[\"binary_sentiment\"] = date_rating_4.apply(\n"
     ]
    }
   ],
   "source": [
    "import re\n",
    "\n",
    "# --- Lexiques & patterns (inchangés dans l'esprit, regroupés) ---\n",
    "SUBTLE_NEG_RE = re.compile(\n",
    "    r\"(just ok(?:ay)?|not really|didn't really|misleading|disappointed|expected better|\"\n",
    "    r\"could be better|nothing special|mediocre|average at best|wouldn't recommend|\"\n",
    "    r\"not impressed|fell short|lacked flavor|lack of|underwhelming|under season(?:ed)?|\"\n",
    "    r\"over season(?:ed)?|too (?:salty|sweet|spicy|greasy|oily|dry|thick|thin)|\"\n",
    "    r\"burnt|overcooked|undercooked)\",\n",
    "    re.IGNORECASE\n",
    ")\n",
    "\n",
    "NEGATION_WORDS = {\n",
    "    \"no\",\"not\",\"nor\",\"never\",\"neither\",\"none\",\"nobody\",\"nothing\",\"nowhere\",\n",
    "    \"hardly\",\"barely\",\"scarcely\",\"rarely\",\"seldom\",\"without\",\"cannot\",\"can't\",\"won't\",\n",
    "    \"wouldn't\",\"shouldn't\",\"didn't\",\"doesn't\",\"don't\",\"isn't\",\"aren't\",\"wasn't\",\"weren't\"\n",
    "}\n",
    "\n",
    "POSITIVE_WORDS = {\n",
    "    \"good\",\"great\",\"excellent\",\"amazing\",\"wonderful\",\"perfect\",\n",
    "    \"love\",\"like\",\"recommend\",\"delicious\",\"tasty\",\"tender\",\"juicy\",\"crispy\",\"easy\",\"quick\"\n",
    "}\n",
    "\n",
    "NEGATIVE_WORDS = {\n",
    "    \"bad\",\"bland\",\"dry\",\"tough\",\"rubbery\",\"chewy\",\"soggy\",\"salty\",\"bitter\",\"sour\",\"greasy\",\"oily\",\n",
    "    \"burnt\",\"overcooked\",\"undercooked\",\"gross\",\"disgusting\",\"horrible\",\"terrible\",\"inedible\",\"stale\",\n",
    "    \"watery\",\"runny\",\"thick\",\"thin\",\"hard\",\"raw\",\"uncooked\",\"boring\",\"awkward\",\"messy\",\"confusing\",\"complicated\"\n",
    "}\n",
    "\n",
    "NEGATED_POS_PAT = re.compile(\n",
    "    r\"^(?:not_(?:good|great|excellent|amazing|wonderful|perfect|love|like|recommend|delicious|tasty)|\"\n",
    "    r\"(?:good|great|excellent|amazing|wonderful|perfect|love|like|recommend|delicious|tasty)_NEG)$\"\n",
    ")\n",
    "\n",
    "# --- Petits utilitaires compacts ---\n",
    "CONTRACTIONS = {\n",
    "    \"don't\":\"do not\",\"doesn't\":\"does not\",\"didn't\":\"did not\",\"can't\":\"cannot\",\"won't\":\"will not\",\n",
    "    \"isn't\":\"is not\",\"aren't\":\"are not\",\"wasn't\":\"was not\",\"weren't\":\"were not\",\"shouldn't\":\"should not\",\n",
    "    \"wouldn't\":\"would not\",\"couldn't\":\"could not\",\"haven't\":\"have not\",\"hasn't\":\"has not\",\"hadn't\":\"had not\",\n",
    "    \"ain't\":\"is not\"\n",
    "}\n",
    "_CONTR_RE = re.compile(r\"\\b(\" + \"|\".join(map(re.escape, CONTRACTIONS)) + r\")\\b\", re.IGNORECASE)\n",
    "_TOK_RE = re.compile(r\"[A-Za-z']+|[.!?;]\")\n",
    "_CLAUSE_BREAKERS = {\".\",\"!\",\"?\",\";\",\"but\",\"however\",\"though\",\"although\",\"yet\"}\n",
    "\n",
    "def clean_review(text: str, window: int = 3) -> str:\n",
    "    if not text:\n",
    "        return \"\"\n",
    "    s = _CONTR_RE.sub(lambda m: CONTRACTIONS[m.group(0).lower()], str(text).lower().strip())\n",
    "    tokens = _TOK_RE.findall(s)\n",
    "    out, neg = [], 0\n",
    "    for t in tokens:\n",
    "        if t in _CLAUSE_BREAKERS: neg = 0; continue\n",
    "        if t in NEGATION_WORDS or t == \"not\": neg = window; out.append(\"not\"); continue\n",
    "        if neg > 0 and t in POSITIVE_WORDS: out.append(f\"not_{t}\"); neg -= 1; continue\n",
    "        out.append(t); \n",
    "        if neg > 0: neg -= 1\n",
    "    return \" \".join(out)\n",
    "\n",
    "_SENT_SPLIT_RE = re.compile(r\"[.!?;]+\")\n",
    "\n",
    "def is_negative_sentence(sent: str, clean_tokens: list) -> bool:\n",
    "    if SUBTLE_NEG_RE.search(sent): return True\n",
    "    toks = re.findall(r\"[a-z]+\", sent.lower())\n",
    "    if any(t in NEGATIVE_WORDS for t in toks): return True\n",
    "    if any(t in NEGATION_WORDS or t == \"not\" for t in toks) and any(t in POSITIVE_WORDS for t in toks): return True\n",
    "    if any(NEGATED_POS_PAT.match(t) for t in clean_tokens): return True\n",
    "    return False\n",
    "\n",
    "def binary_sentiment(review: str, clean_review_str: str) -> int:\n",
    "    clean_tokens = clean_review_str.split()\n",
    "    for s in filter(None, _SENT_SPLIT_RE.split(str(review))):\n",
    "        if is_negative_sentence(s, clean_tokens):\n",
    "            return 1\n",
    "    return 0\n",
    "\n",
    "# --- Pipeline concise pandas ---\n",
    "# 1) régénérer clean_review\n",
    "date_rating_4[\"clean_review\"] = date_rating_4[\"review\"].map(clean_review)\n",
    "\n",
    "# 2) calculer le sentiment binaire\n",
    "date_rating_4[\"binary_sentiment\"] = date_rating_4.apply(\n",
    "    lambda r: binary_sentiment(r[\"review\"], r[\"clean_review\"]), axis=1\n",
    ")\n"
   ]
  },
  {
   "cell_type": "code",
   "execution_count": 330,
   "id": "8c993b4f",
   "metadata": {},
   "outputs": [
    {
     "data": {
      "text/plain": [
       "binary_sentiment\n",
       "0    178979\n",
       "1     69228\n",
       "Name: count, dtype: int64"
      ]
     },
     "execution_count": 330,
     "metadata": {},
     "output_type": "execute_result"
    }
   ],
   "source": [
    "### verifiet combien de binary sentiment sont négatifs\n",
    "date_rating_4['binary_sentiment'].value_counts()"
   ]
  },
  {
   "cell_type": "code",
   "execution_count": 277,
   "id": "398f72d5",
   "metadata": {},
   "outputs": [
    {
     "name": "stdout",
     "output_type": "stream",
     "text": [
      "27.891235944191745 %\n",
      "69228\n"
     ]
    }
   ],
   "source": [
    "#ratio avis négatifs détectés\n",
    "print(date_rating_4['binary_sentiment'].mean()*100, \"%\")\n",
    "\n",
    "#compter combien d'avis négatifs ont été détectés\n",
    "print(date_rating_4['binary_sentiment'].sum())\n"
   ]
  },
  {
   "cell_type": "code",
   "execution_count": 331,
   "id": "b4bbfaa7",
   "metadata": {},
   "outputs": [],
   "source": [
    "#update des valeurs dans le dataset original\n",
    "data.update(date_rating_4[['binary_sentiment']])"
   ]
  },
  {
   "cell_type": "code",
   "execution_count": 334,
   "id": "445ef3cd",
   "metadata": {},
   "outputs": [
    {
     "data": {
      "text/html": [
       "<div>\n",
       "<style scoped>\n",
       "    .dataframe tbody tr th:only-of-type {\n",
       "        vertical-align: middle;\n",
       "    }\n",
       "\n",
       "    .dataframe tbody tr th {\n",
       "        vertical-align: top;\n",
       "    }\n",
       "\n",
       "    .dataframe thead th {\n",
       "        text-align: right;\n",
       "    }\n",
       "</style>\n",
       "<table border=\"1\" class=\"dataframe\">\n",
       "  <thead>\n",
       "    <tr style=\"text-align: right;\">\n",
       "      <th></th>\n",
       "      <th>user_id</th>\n",
       "      <th>recipe_id</th>\n",
       "      <th>date</th>\n",
       "      <th>rating</th>\n",
       "      <th>review</th>\n",
       "      <th>review_imputed</th>\n",
       "      <th>binary_sentiment</th>\n",
       "    </tr>\n",
       "  </thead>\n",
       "  <tbody>\n",
       "    <tr>\n",
       "      <th>681370</th>\n",
       "      <td>126440</td>\n",
       "      <td>98364</td>\n",
       "      <td>2011-01-21</td>\n",
       "      <td>5.0</td>\n",
       "      <td>This is the recipe brought back by a coworker from Prague and it is delicious.  I will reduce the cloves a bit though.  I cooked it much longer than stated and it thickened up beautifully.  Great over noodles.</td>\n",
       "      <td>0</td>\n",
       "      <td>0</td>\n",
       "    </tr>\n",
       "    <tr>\n",
       "      <th>312407</th>\n",
       "      <td>233238</td>\n",
       "      <td>39570</td>\n",
       "      <td>2005-10-12</td>\n",
       "      <td>5.0</td>\n",
       "      <td>I made this on a week night, after getting home from work.  It's quick, easy and delicious.  The kids loved it, which is always a bonus.  I used 4 cloves fresh garlic instead of powder.  Will make this again.  Thank you!</td>\n",
       "      <td>0</td>\n",
       "      <td>0</td>\n",
       "    </tr>\n",
       "    <tr>\n",
       "      <th>251331</th>\n",
       "      <td>359220</td>\n",
       "      <td>13546</td>\n",
       "      <td>2009-03-21</td>\n",
       "      <td>3.0</td>\n",
       "      <td>This sure is a quick little recipe for a busy night!  By the time DH had driven three blocks away to the grocery store, I had an entire pizza in the oven!  I had to add about 5 minutes to the cooking time, which still didn't help the middle cook through.  Also, the toppings were pretty browned and crispy.  A little too bland for us, but I'll still keep the recipe on hand for those nights when I REALLY need a quick meal.  Thanks for posting!</td>\n",
       "      <td>0</td>\n",
       "      <td>1</td>\n",
       "    </tr>\n",
       "    <tr>\n",
       "      <th>535259</th>\n",
       "      <td>134164</td>\n",
       "      <td>35213</td>\n",
       "      <td>2008-08-06</td>\n",
       "      <td>4.0</td>\n",
       "      <td>I didn't peel the tomatoes but I should have because the peel was bitter.  The tomatoes on the bottom got really soggy and I wonder if the peel had something to do with that.  I didn't blend the cottage cheese and lemon juice, just mashed them with a fork.  I also used breadcrumbs instead of cracker meal.  The top onions/mushroom part was really great!</td>\n",
       "      <td>0</td>\n",
       "      <td>1</td>\n",
       "    </tr>\n",
       "    <tr>\n",
       "      <th>610113</th>\n",
       "      <td>1741224</td>\n",
       "      <td>73488</td>\n",
       "      <td>2011-06-24</td>\n",
       "      <td>5.0</td>\n",
       "      <td>This looks like a great recipe but I'm a little confused. Why does it say \"unrolled\" crescent roll dough in the directions? It seems like you need to leave it rolled in order to slice it.</td>\n",
       "      <td>0</td>\n",
       "      <td>0</td>\n",
       "    </tr>\n",
       "  </tbody>\n",
       "</table>\n",
       "</div>"
      ],
      "text/plain": [
       "        user_id  recipe_id       date  rating  \\\n",
       "681370   126440      98364 2011-01-21     5.0   \n",
       "312407   233238      39570 2005-10-12     5.0   \n",
       "251331   359220      13546 2009-03-21     3.0   \n",
       "535259   134164      35213 2008-08-06     4.0   \n",
       "610113  1741224      73488 2011-06-24     5.0   \n",
       "\n",
       "                                                                                                                                                                                                                                                                                                                                                                                                                                                              review  \\\n",
       "681370                                                                                                                                                                                                                                             This is the recipe brought back by a coworker from Prague and it is delicious.  I will reduce the cloves a bit though.  I cooked it much longer than stated and it thickened up beautifully.  Great over noodles.   \n",
       "312407                                                                                                                                                                                                                                  I made this on a week night, after getting home from work.  It's quick, easy and delicious.  The kids loved it, which is always a bonus.  I used 4 cloves fresh garlic instead of powder.  Will make this again.  Thank you!   \n",
       "251331  This sure is a quick little recipe for a busy night!  By the time DH had driven three blocks away to the grocery store, I had an entire pizza in the oven!  I had to add about 5 minutes to the cooking time, which still didn't help the middle cook through.  Also, the toppings were pretty browned and crispy.  A little too bland for us, but I'll still keep the recipe on hand for those nights when I REALLY need a quick meal.  Thanks for posting!   \n",
       "535259                                                                                            I didn't peel the tomatoes but I should have because the peel was bitter.  The tomatoes on the bottom got really soggy and I wonder if the peel had something to do with that.  I didn't blend the cottage cheese and lemon juice, just mashed them with a fork.  I also used breadcrumbs instead of cracker meal.  The top onions/mushroom part was really great!   \n",
       "610113                                                                                                                                                                                                                                                                   This looks like a great recipe but I'm a little confused. Why does it say \"unrolled\" crescent roll dough in the directions? It seems like you need to leave it rolled in order to slice it.   \n",
       "\n",
       "        review_imputed  binary_sentiment  \n",
       "681370               0                 0  \n",
       "312407               0                 0  \n",
       "251331               0                 1  \n",
       "535259               0                 1  \n",
       "610113               0                 0  "
      ]
     },
     "execution_count": 334,
     "metadata": {},
     "output_type": "execute_result"
    }
   ],
   "source": [
    "data.sample(5)"
   ]
  },
  {
   "cell_type": "code",
   "execution_count": 335,
   "id": "ed00fe52",
   "metadata": {},
   "outputs": [],
   "source": [
    "# Exemple : interactions = table avec review_id, recipe_id, is_negative\n",
    "# recipes = table principale des recettes\n",
    "\n",
    "# 1. Calculer le nombre d'avis négatifs et le total d'avis par recette\n",
    "recipe_sentiment = (data.groupby('recipe_id')['binary_sentiment']\n",
    "              .agg(total_reviews='count', negative_reviews='sum')\n",
    "              .reset_index()\n",
    ")"
   ]
  },
  {
   "cell_type": "code",
   "execution_count": 347,
   "id": "f7aa1ae5",
   "metadata": {},
   "outputs": [
    {
     "data": {
      "text/html": [
       "<div>\n",
       "<style scoped>\n",
       "    .dataframe tbody tr th:only-of-type {\n",
       "        vertical-align: middle;\n",
       "    }\n",
       "\n",
       "    .dataframe tbody tr th {\n",
       "        vertical-align: top;\n",
       "    }\n",
       "\n",
       "    .dataframe thead th {\n",
       "        text-align: right;\n",
       "    }\n",
       "</style>\n",
       "<table border=\"1\" class=\"dataframe\">\n",
       "  <thead>\n",
       "    <tr style=\"text-align: right;\">\n",
       "      <th></th>\n",
       "      <th>recipe_id</th>\n",
       "      <th>total_reviews</th>\n",
       "      <th>negative_reviews</th>\n",
       "    </tr>\n",
       "  </thead>\n",
       "  <tbody>\n",
       "    <tr>\n",
       "      <th>231420</th>\n",
       "      <td>533951</td>\n",
       "      <td>3</td>\n",
       "      <td>0</td>\n",
       "    </tr>\n",
       "    <tr>\n",
       "      <th>106664</th>\n",
       "      <td>188906</td>\n",
       "      <td>1</td>\n",
       "      <td>0</td>\n",
       "    </tr>\n",
       "    <tr>\n",
       "      <th>170361</th>\n",
       "      <td>325299</td>\n",
       "      <td>1</td>\n",
       "      <td>1</td>\n",
       "    </tr>\n",
       "    <tr>\n",
       "      <th>142748</th>\n",
       "      <td>263519</td>\n",
       "      <td>2</td>\n",
       "      <td>1</td>\n",
       "    </tr>\n",
       "    <tr>\n",
       "      <th>162827</th>\n",
       "      <td>307828</td>\n",
       "      <td>7</td>\n",
       "      <td>3</td>\n",
       "    </tr>\n",
       "  </tbody>\n",
       "</table>\n",
       "</div>"
      ],
      "text/plain": [
       "        recipe_id  total_reviews  negative_reviews\n",
       "231420     533951              3                 0\n",
       "106664     188906              1                 0\n",
       "170361     325299              1                 1\n",
       "142748     263519              2                 1\n",
       "162827     307828              7                 3"
      ]
     },
     "execution_count": 347,
     "metadata": {},
     "output_type": "execute_result"
    }
   ],
   "source": [
    "##affichons les 5 premières lignes\n",
    "recipe_sentiment.sample(5)"
   ]
  },
  {
   "cell_type": "code",
   "execution_count": 350,
   "id": "a36a65a9",
   "metadata": {},
   "outputs": [
    {
     "data": {
      "text/html": [
       "<div>\n",
       "<style scoped>\n",
       "    .dataframe tbody tr th:only-of-type {\n",
       "        vertical-align: middle;\n",
       "    }\n",
       "\n",
       "    .dataframe tbody tr th {\n",
       "        vertical-align: top;\n",
       "    }\n",
       "\n",
       "    .dataframe thead th {\n",
       "        text-align: right;\n",
       "    }\n",
       "</style>\n",
       "<table border=\"1\" class=\"dataframe\">\n",
       "  <thead>\n",
       "    <tr style=\"text-align: right;\">\n",
       "      <th></th>\n",
       "      <th>user_id</th>\n",
       "      <th>recipe_id</th>\n",
       "      <th>date</th>\n",
       "      <th>rating</th>\n",
       "      <th>review</th>\n",
       "      <th>review_imputed</th>\n",
       "      <th>binary_sentiment</th>\n",
       "    </tr>\n",
       "  </thead>\n",
       "  <tbody>\n",
       "    <tr>\n",
       "      <th>928775</th>\n",
       "      <td>143721</td>\n",
       "      <td>307828</td>\n",
       "      <td>2008-06-07</td>\n",
       "      <td>5.0</td>\n",
       "      <td>Made this today for ZWT4.  Had been working on house today in upper 90 degree temperatures.  This was very refreshing and thrist quenching.  After the first two glasses, add some rum and this makes a real nice drink!  Thanks for a new summertime beverage.</td>\n",
       "      <td>0</td>\n",
       "      <td>0</td>\n",
       "    </tr>\n",
       "    <tr>\n",
       "      <th>928776</th>\n",
       "      <td>837251</td>\n",
       "      <td>307828</td>\n",
       "      <td>2008-06-09</td>\n",
       "      <td>1.0</td>\n",
       "      <td>Sorry, i didn't like this at all. I used lemons and it was so bitter nobody liked it. Next time i WILL peel the lemons, as the rest of the recipe seems quite nice. Made for ZWT4</td>\n",
       "      <td>0</td>\n",
       "      <td>1</td>\n",
       "    </tr>\n",
       "    <tr>\n",
       "      <th>928777</th>\n",
       "      <td>102058</td>\n",
       "      <td>307828</td>\n",
       "      <td>2008-06-18</td>\n",
       "      <td>4.0</td>\n",
       "      <td>Excellent ! I used both lemons and limes in my brand spanking new blender and this turned out  brilliantly.... I served a caraffe full to the kids and DH...  the kids are still small and fussy and rejected it but both DH and I loved it. DH isn't even a huge fan of lemons or limes so what an unexpected surprise. Between us we finished the lot. Please see my Rating System: 4 excellemt stars for a very good summer recipe.. fresh and  full of flavour and if you prefer it tarter or sweeter it's easily adjustable, we will be making this again. Thanks!</td>\n",
       "      <td>0</td>\n",
       "      <td>0</td>\n",
       "    </tr>\n",
       "    <tr>\n",
       "      <th>928778</th>\n",
       "      <td>618715</td>\n",
       "      <td>307828</td>\n",
       "      <td>2008-06-27</td>\n",
       "      <td>4.0</td>\n",
       "      <td>This was very good. It was a little too watery for me, and I did measure exactly and didn't use ice cubes. I would just reduce the water next time.</td>\n",
       "      <td>0</td>\n",
       "      <td>1</td>\n",
       "    </tr>\n",
       "    <tr>\n",
       "      <th>928779</th>\n",
       "      <td>344231</td>\n",
       "      <td>307828</td>\n",
       "      <td>2008-07-01</td>\n",
       "      <td>4.0</td>\n",
       "      <td>We liked this drink just as it was but also tried it as an added kick to some Sprite.  I used 1/4 limonada to 3/4 Sprite and it was a great drink. (-:  Made for ZWT4.</td>\n",
       "      <td>0</td>\n",
       "      <td>0</td>\n",
       "    </tr>\n",
       "    <tr>\n",
       "      <th>929202</th>\n",
       "      <td>602448</td>\n",
       "      <td>307828</td>\n",
       "      <td>2008-07-11</td>\n",
       "      <td>3.0</td>\n",
       "      <td>This was refreshing.  I used limes and lemons.  I also found this to be pretty bitter even with doubling the sugar.  I also halved the water and used lots of ice.  I think if I used cheese cloth it might take out more of the pith and be less bitter.</td>\n",
       "      <td>0</td>\n",
       "      <td>1</td>\n",
       "    </tr>\n",
       "    <tr>\n",
       "      <th>929203</th>\n",
       "      <td>186855</td>\n",
       "      <td>307828</td>\n",
       "      <td>2009-04-10</td>\n",
       "      <td>5.0</td>\n",
       "      <td>Fantastic beverage.  I used just limes and was very pleased.  This will be especially nice on a hot afternoon.  Thanks for posting such a lovely recipe.  Made for Spring PAC 2009.</td>\n",
       "      <td>0</td>\n",
       "      <td>0</td>\n",
       "    </tr>\n",
       "  </tbody>\n",
       "</table>\n",
       "</div>"
      ],
      "text/plain": [
       "       user_id  recipe_id       date  rating  \\\n",
       "928775  143721     307828 2008-06-07     5.0   \n",
       "928776  837251     307828 2008-06-09     1.0   \n",
       "928777  102058     307828 2008-06-18     4.0   \n",
       "928778  618715     307828 2008-06-27     4.0   \n",
       "928779  344231     307828 2008-07-01     4.0   \n",
       "929202  602448     307828 2008-07-11     3.0   \n",
       "929203  186855     307828 2009-04-10     5.0   \n",
       "\n",
       "                                                                                                                                                                                                                                                                                                                                                                                                                                                                                                                                                                         review  \\\n",
       "928775                                                                                                                                                                                                                                                                                                          Made this today for ZWT4.  Had been working on house today in upper 90 degree temperatures.  This was very refreshing and thrist quenching.  After the first two glasses, add some rum and this makes a real nice drink!  Thanks for a new summertime beverage.   \n",
       "928776                                                                                                                                                                                                                                                                                                                                                                                        Sorry, i didn't like this at all. I used lemons and it was so bitter nobody liked it. Next time i WILL peel the lemons, as the rest of the recipe seems quite nice. Made for ZWT4   \n",
       "928777  Excellent ! I used both lemons and limes in my brand spanking new blender and this turned out  brilliantly.... I served a caraffe full to the kids and DH...  the kids are still small and fussy and rejected it but both DH and I loved it. DH isn't even a huge fan of lemons or limes so what an unexpected surprise. Between us we finished the lot. Please see my Rating System: 4 excellemt stars for a very good summer recipe.. fresh and  full of flavour and if you prefer it tarter or sweeter it's easily adjustable, we will be making this again. Thanks!   \n",
       "928778                                                                                                                                                                                                                                                                                                                                                                                                                      This was very good. It was a little too watery for me, and I did measure exactly and didn't use ice cubes. I would just reduce the water next time.   \n",
       "928779                                                                                                                                                                                                                                                                                                                                                                                                   We liked this drink just as it was but also tried it as an added kick to some Sprite.  I used 1/4 limonada to 3/4 Sprite and it was a great drink. (-:  Made for ZWT4.   \n",
       "929202                                                                                                                                                                                                                                                                                                                This was refreshing.  I used limes and lemons.  I also found this to be pretty bitter even with doubling the sugar.  I also halved the water and used lots of ice.  I think if I used cheese cloth it might take out more of the pith and be less bitter.   \n",
       "929203                                                                                                                                                                                                                                                                                                                                                                                      Fantastic beverage.  I used just limes and was very pleased.  This will be especially nice on a hot afternoon.  Thanks for posting such a lovely recipe.  Made for Spring PAC 2009.   \n",
       "\n",
       "        review_imputed  binary_sentiment  \n",
       "928775               0                 0  \n",
       "928776               0                 1  \n",
       "928777               0                 0  \n",
       "928778               0                 1  \n",
       "928779               0                 0  \n",
       "929202               0                 1  \n",
       "929203               0                 0  "
      ]
     },
     "execution_count": 350,
     "metadata": {},
     "output_type": "execute_result"
    }
   ],
   "source": [
    "##afficher les infos pour le recipe 188906 dans la table data\n",
    "data[data['recipe_id'] == 307828]\n"
   ]
  },
  {
   "cell_type": "code",
   "execution_count": 351,
   "id": "869d5fef",
   "metadata": {},
   "outputs": [
    {
     "data": {
      "image/png": "[encoded data removed]",
      "text/plain": [
       "<Figure size 1000x600 with 1 Axes>"
      ]
     },
     "metadata": {},
     "output_type": "display_data"
    }
   ],
   "source": [
    "###visualisons la distribution des pourcentages d'avis négatifs par recette\n",
    "recipe_sentiment['negative_percentage'] = (recipe_sentiment['negative_reviews'] / recipe_sentiment['total_reviews']) * 100\n",
    "plt.figure(figsize=(10, 6))\n",
    "sns.histplot(recipe_sentiment['negative_percentage'], bins=20, kde=True)\n",
    "plt.title(\"Distribution des pourcentages d'avis négatifs par recette\")\n",
    "plt.xlabel(\"Pourcentage d'avis négatifs\")\n",
    "plt.ylabel(\"Nombre de recettes\")\n",
    "plt.show()\n"
   ]
  },
  {
   "cell_type": "markdown",
   "id": "b741da7a",
   "metadata": {},
   "source": [
    "La distribution des pourcentages d’avis négatifs par recette montre une forte asymétrie : la grande majorité des recettes présentent 0 % d’avis négatifs, ce qui traduit un biais de positivité dans les évaluations des utilisateurs.\n",
    "Quelques recettes affichent un faible à moyen pourcentage d’avis négatifs (entre 10 % et 50 %), indiquant qu’elles divisent davantage les utilisateurs. Enfin, un petit nombre de recettes atteignent 100 % d’avis négatifs, suggérant des recettes globalement ratées ou peu appréciées.\n",
    "\n",
    "Dans l’ensemble, ces résultats indiquent que la majorité des recettes sont bien perçues par la communauté, tandis qu’une minorité concentre la plupart des critiques négatives."
   ]
  },
  {
   "cell_type": "markdown",
   "id": "e904f2ed",
   "metadata": {},
   "source": []
  }
 ],
 "metadata": {
  "kernelspec": {
   "display_name": "Python 3",
   "language": "python",
   "name": "python3"
  },
  "language_info": {
   "codemirror_mode": {
    "name": "ipython",
    "version": 3
   },
   "file_extension": ".py",
   "mimetype": "text/x-python",
   "name": "python",
   "nbconvert_exporter": "python",
   "pygments_lexer": "ipython3",
   "version": "3.13.7"
  }
 },
 "nbformat": 4,
 "nbformat_minor": 5
}

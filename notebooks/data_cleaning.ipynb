{
 "cells": [
  {
   "cell_type": "code",
   "execution_count": null,
   "id": "8b00c2b9",
   "metadata": {},
   "outputs": [],
   "source": [
    "#importation des packages\n",
    "import sys\n",
    "from pathlib import Path\n",
    "import pandas as pd\n",
    "import numpy as np\n",
    "import matplotlib.pyplot as plt\n",
    "import seaborn as sns\n",
    "from sklearn.preprocessing import scale\n",
    "from sklearn.experimental import enable_iterative_imputer\n",
    "from sklearn.impute import SimpleImputer, IterativeImputer\n",
    "\n",
    "# Ajouter le chemin vers src au PYTHONPATH\n",
    "project_root = Path().resolve().parent\n",
    "sys.path.insert(0, str(project_root))\n",
    "\n",
    "\n",
    "from src.data_loader import load_interactions_data, load_recipes_data\n",
    "from src.data_visualization import plot_minutes_ningredients_nsteps\n",
    "from src.preprocessing import (\n",
    "    detect_missing_values,\n",
    "    detect_duplicates,\n",
    "    remove_outliers_nutrition,\n",
    "    save_cleaned_datasets,\n",
    "    clean_review,\n",
    "    is_negative_sentence,\n",
    "    binary_sentiment,\n",
    "    merge_datasets,\n",
    ")\n"
   ]
  },
  {
   "cell_type": "markdown",
   "id": "ebfa9381",
   "metadata": {},
   "source": [
    "### **INTERACTIONS**"
   ]
  },
  {
   "cell_type": "markdown",
   "id": "74063c13",
   "metadata": {},
   "source": [
    "**Importation des données pour la table interactions**"
   ]
  },
  {
   "cell_type": "code",
   "execution_count": 6,
   "id": "3d1eee58",
   "metadata": {},
   "outputs": [],
   "source": [
    "data_interactions = load_interactions_data()"
   ]
  },
  {
   "cell_type": "code",
   "execution_count": 7,
   "id": "a14d88de",
   "metadata": {},
   "outputs": [
    {
     "name": "stdout",
     "output_type": "stream",
     "text": [
      "Valeurs manquantes dans la colonne 'review': 169 (0.01%)\n"
     ]
    }
   ],
   "source": [
    "#% valeurs manquantes dans la colonne review\n",
    "missing_review = data_interactions['review'].isnull().sum()\n",
    "total_entries = data_interactions.shape[0]\n",
    "missing_percentage = (missing_review / total_entries) * 100\n",
    "print(f\"Valeurs manquantes dans la colonne 'review': {missing_review} ({missing_percentage:.2f}%)\")"
   ]
  },
  {
   "cell_type": "code",
   "execution_count": 8,
   "id": "6888e222",
   "metadata": {},
   "outputs": [
    {
     "data": {
      "text/html": [
       "<div>\n",
       "<style scoped>\n",
       "    .dataframe tbody tr th:only-of-type {\n",
       "        vertical-align: middle;\n",
       "    }\n",
       "\n",
       "    .dataframe tbody tr th {\n",
       "        vertical-align: top;\n",
       "    }\n",
       "\n",
       "    .dataframe thead th {\n",
       "        text-align: right;\n",
       "    }\n",
       "</style>\n",
       "<table border=\"1\" class=\"dataframe\">\n",
       "  <thead>\n",
       "    <tr style=\"text-align: right;\">\n",
       "      <th></th>\n",
       "      <th>user_id</th>\n",
       "      <th>recipe_id</th>\n",
       "      <th>date</th>\n",
       "      <th>rating</th>\n",
       "      <th>review</th>\n",
       "    </tr>\n",
       "  </thead>\n",
       "  <tbody>\n",
       "    <tr>\n",
       "      <th>0</th>\n",
       "      <td>38094</td>\n",
       "      <td>40893</td>\n",
       "      <td>2003-02-17</td>\n",
       "      <td>4</td>\n",
       "      <td>Great with a salad. Cooked on top of stove for...</td>\n",
       "    </tr>\n",
       "    <tr>\n",
       "      <th>1</th>\n",
       "      <td>1293707</td>\n",
       "      <td>40893</td>\n",
       "      <td>2011-12-21</td>\n",
       "      <td>5</td>\n",
       "      <td>So simple, so delicious! Great for chilly fall...</td>\n",
       "    </tr>\n",
       "    <tr>\n",
       "      <th>2</th>\n",
       "      <td>8937</td>\n",
       "      <td>44394</td>\n",
       "      <td>2002-12-01</td>\n",
       "      <td>4</td>\n",
       "      <td>This worked very well and is EASY.  I used not...</td>\n",
       "    </tr>\n",
       "    <tr>\n",
       "      <th>3</th>\n",
       "      <td>126440</td>\n",
       "      <td>85009</td>\n",
       "      <td>2010-02-27</td>\n",
       "      <td>5</td>\n",
       "      <td>I made the Mexican topping and took it to bunk...</td>\n",
       "    </tr>\n",
       "    <tr>\n",
       "      <th>4</th>\n",
       "      <td>57222</td>\n",
       "      <td>85009</td>\n",
       "      <td>2011-10-01</td>\n",
       "      <td>5</td>\n",
       "      <td>Made the cheddar bacon topping, adding a sprin...</td>\n",
       "    </tr>\n",
       "  </tbody>\n",
       "</table>\n",
       "</div>"
      ],
      "text/plain": [
       "   user_id  recipe_id        date  rating  \\\n",
       "0    38094      40893  2003-02-17       4   \n",
       "1  1293707      40893  2011-12-21       5   \n",
       "2     8937      44394  2002-12-01       4   \n",
       "3   126440      85009  2010-02-27       5   \n",
       "4    57222      85009  2011-10-01       5   \n",
       "\n",
       "                                              review  \n",
       "0  Great with a salad. Cooked on top of stove for...  \n",
       "1  So simple, so delicious! Great for chilly fall...  \n",
       "2  This worked very well and is EASY.  I used not...  \n",
       "3  I made the Mexican topping and took it to bunk...  \n",
       "4  Made the cheddar bacon topping, adding a sprin...  "
      ]
     },
     "execution_count": 8,
     "metadata": {},
     "output_type": "execute_result"
    }
   ],
   "source": [
    "\n",
    "## 1er aperçus des données\n",
    "data_interactions.head()"
   ]
  },
  {
   "cell_type": "code",
   "execution_count": 9,
   "id": "b45e01d6",
   "metadata": {},
   "outputs": [
    {
     "name": "stdout",
     "output_type": "stream",
     "text": [
      "<class 'pandas.core.frame.DataFrame'>\n",
      "RangeIndex: 1132367 entries, 0 to 1132366\n",
      "Data columns (total 5 columns):\n",
      " #   Column     Non-Null Count    Dtype \n",
      "---  ------     --------------    ----- \n",
      " 0   user_id    1132367 non-null  int64 \n",
      " 1   recipe_id  1132367 non-null  int64 \n",
      " 2   date       1132367 non-null  object\n",
      " 3   rating     1132367 non-null  int64 \n",
      " 4   review     1132198 non-null  object\n",
      "dtypes: int64(3), object(2)\n",
      "memory usage: 43.2+ MB\n"
     ]
    }
   ],
   "source": [
    "# avoir les informations sur les données types, valeurs manquantes, etc.\n",
    "data_interactions.info()"
   ]
  },
  {
   "cell_type": "code",
   "execution_count": 10,
   "id": "bfb1b11b",
   "metadata": {},
   "outputs": [],
   "source": [
    "#conversion des données de la colonne date en type datetime\n",
    "data_interactions['date'] = pd.to_datetime(data_interactions['date'], format='%Y-%m-%d')"
   ]
  },
  {
   "cell_type": "markdown",
   "id": "b7afdc88",
   "metadata": {},
   "source": [
    "**Valeurs manquantes et doublons**"
   ]
  },
  {
   "cell_type": "code",
   "execution_count": 11,
   "id": "824ad8a3",
   "metadata": {},
   "outputs": [
    {
     "name": "stdout",
     "output_type": "stream",
     "text": [
      "review    169\n",
      "dtype: int64\n"
     ]
    }
   ],
   "source": [
    "# vérifier les valeurs manquantes dans la table interactions\n",
    "missing_values_interactions = detect_missing_values(data_interactions)\n",
    "print(missing_values_interactions)"
   ]
  },
  {
   "cell_type": "code",
   "execution_count": 12,
   "id": "3e585470",
   "metadata": {},
   "outputs": [
    {
     "name": "stdout",
     "output_type": "stream",
     "text": [
      "Valeurs manquantes après imputation :\n",
      "0\n"
     ]
    }
   ],
   "source": [
    "#essayons d'imputer les valeurs manquantes dans la colonne 'review' en se basant sur 'rating'\n",
    "def imputer_review(row):\n",
    "    if pd.isnull(row['review']):\n",
    "        if row['rating'] == 5:\n",
    "            return \"Excellent recipe! Loved it!\"\n",
    "        elif row['rating'] == 4:\n",
    "            return \"Great recipe, will make again.\"\n",
    "        elif row['rating'] == 3:\n",
    "            return \"Good recipe, but could be improved.\"\n",
    "        elif row['rating'] == 2:\n",
    "            return \"Not my favorite.\"\n",
    "        elif row['rating'] == 1:\n",
    "            return \"Did not like this recipe at all.\"\n",
    "    else:\n",
    "        return row['review']\n",
    "    \n",
    "data_interactions['review'] = data_interactions.apply(imputer_review, axis=1)\n",
    "\n",
    "# Vérifions les valeurs manquantes après l'imputation\n",
    "print(\"Valeurs manquantes après imputation :\")\n",
    "print(data_interactions['review'].isnull().sum())"
   ]
  },
  {
   "cell_type": "code",
   "execution_count": 13,
   "id": "e3a90a50",
   "metadata": {},
   "outputs": [
    {
     "name": "stdout",
     "output_type": "stream",
     "text": [
      "Nombre de doublons dans les interactions : 0\n"
     ]
    }
   ],
   "source": [
    "#detection des doublons dans recipes meme recipes_id, meme date, meme note, meme review\n",
    "duplicates_interactions = detect_duplicates(data_interactions)\n",
    "print(\"Nombre de doublons dans les interactions :\", duplicates_interactions)\n",
    "\n",
    "\n",
    "if duplicates_interactions > 0:\n",
    "    # supprimer les doublons\n",
    "    print(\"Suppression des doublons...\")\n",
    "    data_interactions = data_interactions.drop_duplicates()\n",
    "    duplicates_interactions_sub = detect_duplicates(data_interactions)\n",
    "    print(\"Nombre de doublons restants dans les interactions :\", duplicates_interactions_sub)\n",
    "    \n"
   ]
  },
  {
   "cell_type": "code",
   "execution_count": 14,
   "id": "1c4829e5",
   "metadata": {},
   "outputs": [
    {
     "data": {
      "text/html": [
       "<div>\n",
       "<style scoped>\n",
       "    .dataframe tbody tr th:only-of-type {\n",
       "        vertical-align: middle;\n",
       "    }\n",
       "\n",
       "    .dataframe tbody tr th {\n",
       "        vertical-align: top;\n",
       "    }\n",
       "\n",
       "    .dataframe thead th {\n",
       "        text-align: right;\n",
       "    }\n",
       "</style>\n",
       "<table border=\"1\" class=\"dataframe\">\n",
       "  <thead>\n",
       "    <tr style=\"text-align: right;\">\n",
       "      <th></th>\n",
       "      <th>user_id</th>\n",
       "      <th>recipe_id</th>\n",
       "      <th>date</th>\n",
       "      <th>rating</th>\n",
       "      <th>review</th>\n",
       "    </tr>\n",
       "  </thead>\n",
       "  <tbody>\n",
       "    <tr>\n",
       "      <th>95275</th>\n",
       "      <td>129836</td>\n",
       "      <td>28658</td>\n",
       "      <td>2007-05-03</td>\n",
       "      <td>3</td>\n",
       "      <td>This was not a hit at our house.  While everyo...</td>\n",
       "    </tr>\n",
       "    <tr>\n",
       "      <th>86561</th>\n",
       "      <td>1176849</td>\n",
       "      <td>52272</td>\n",
       "      <td>2010-09-17</td>\n",
       "      <td>0</td>\n",
       "      <td>This was just excellent!!!! I did add some cel...</td>\n",
       "    </tr>\n",
       "    <tr>\n",
       "      <th>341343</th>\n",
       "      <td>35062</td>\n",
       "      <td>19244</td>\n",
       "      <td>2002-03-15</td>\n",
       "      <td>0</td>\n",
       "      <td>I have seen this recipe posted in other places...</td>\n",
       "    </tr>\n",
       "    <tr>\n",
       "      <th>283183</th>\n",
       "      <td>860497</td>\n",
       "      <td>308658</td>\n",
       "      <td>2008-06-13</td>\n",
       "      <td>1</td>\n",
       "      <td>Using the posted recipe left my squash serious...</td>\n",
       "    </tr>\n",
       "    <tr>\n",
       "      <th>136617</th>\n",
       "      <td>184081</td>\n",
       "      <td>44888</td>\n",
       "      <td>2005-01-13</td>\n",
       "      <td>3</td>\n",
       "      <td>I made this with chicken breasts instead of wi...</td>\n",
       "    </tr>\n",
       "  </tbody>\n",
       "</table>\n",
       "</div>"
      ],
      "text/plain": [
       "        user_id  recipe_id       date  rating  \\\n",
       "95275    129836      28658 2007-05-03       3   \n",
       "86561   1176849      52272 2010-09-17       0   \n",
       "341343    35062      19244 2002-03-15       0   \n",
       "283183   860497     308658 2008-06-13       1   \n",
       "136617   184081      44888 2005-01-13       3   \n",
       "\n",
       "                                                   review  \n",
       "95275   This was not a hit at our house.  While everyo...  \n",
       "86561   This was just excellent!!!! I did add some cel...  \n",
       "341343  I have seen this recipe posted in other places...  \n",
       "283183  Using the posted recipe left my squash serious...  \n",
       "136617  I made this with chicken breasts instead of wi...  "
      ]
     },
     "execution_count": 14,
     "metadata": {},
     "output_type": "execute_result"
    }
   ],
   "source": [
    "###Verification si les données sont cohérentes et valides,affichons les lignes dont la note est inferieur a 3\n",
    "data_interactions[data_interactions['rating'] <= 3].sample(5)"
   ]
  },
  {
   "cell_type": "markdown",
   "id": "2faf0bf4",
   "metadata": {},
   "source": [
    "nous observons que plusieurs lignes du jeu de données présentent une note égale à 0 (rating = 0), tout en contenant un commentaire textuel (review) souvent positif ou négatif.\n",
    "Cette situation est incohérente : une note de 0 ne correspond pas à une appréciation valide sur une échelle de 1 à 5, et le contenu des commentaires indique que les utilisateurs ont bien exprimé une opinion sur la recette.\n",
    "\n",
    "Nous en déduisons que la valeur 0 ne traduit pas une mauvaise note, mais plutôt l’absence de note — autrement dit, une valeur manquante codée par 0.\n",
    "\n",
    "En conséquence, nous considérons toutes les notes égales à 0 comme valeurs manquantes et nous les remplaçons par NaN afin de ne pas biaiser les statistiques descriptives ni les calculs de moyennes.\n",
    "Cela revient à interpréter ces cas comme des utilisateurs ayant laissé un commentaire sans attribuer de note chiffrée."
   ]
  },
  {
   "cell_type": "code",
   "execution_count": 15,
   "id": "f093807b",
   "metadata": {},
   "outputs": [],
   "source": [
    "##remplacons les notes invalides par NaN\n",
    "data_interactions.loc[data_interactions['rating'] == 0, 'rating'] = np.nan"
   ]
  },
  {
   "cell_type": "markdown",
   "id": "012bc013",
   "metadata": {},
   "source": [
    "**Evaluation de la proportion d'avis négatifs**\n",
    "\n",
    "Notre étude portant sur les caractéristiques des recettes générant des avis négatifs, nous cherchons dans un premier temps à identifier les avis négatis.\n",
    "\n",
    "**PROCEDURE :**\n",
    "\n",
    "Au vue de la proportion très importante d'avis positif dans le dataset, nous admettrons qu'une recette est moins appréciée au moins 1 avis sur cette recette présente des suggestions ou des axes d'améliorations. En se basant sur ce constat, 2 features pourraient nous des informations. Dans un premier temps, nous allons considérer les recettes qui ont des avis notés à 3 ou moins et dans un second temps nous allons nous concentrer sur commentaires portant au moins un aspect négatif pour les avis ayant une note de 0 (absencce de note) et 4. Nous nous interesserons pas aux commentaires des recettes ayant reçu uniquement des notes de 5."
   ]
  },
  {
   "cell_type": "code",
   "execution_count": 16,
   "id": "8e9c6fd1",
   "metadata": {},
   "outputs": [],
   "source": [
    "##creation d une colonne binaire qui indique si l avis est negative ou positive,en fonction de la note attribuée,la note de 1 a 3 est negative(1),et de 4 a 5 est positive(0)\n",
    "data_interactions['binary_sentiment'] = data_interactions['rating'].apply(lambda x: 1 if x <= 3 else 0)"
   ]
  },
  {
   "cell_type": "code",
   "execution_count": 17,
   "id": "8b38793a",
   "metadata": {},
   "outputs": [
    {
     "name": "stdout",
     "output_type": "stream",
     "text": [
      "67796\n"
     ]
    }
   ],
   "source": [
    "#compter combien d'avis négatifs\n",
    "print((data_interactions['binary_sentiment'] == 1).sum())"
   ]
  },
  {
   "cell_type": "code",
   "execution_count": 18,
   "id": "5fa9271f",
   "metadata": {},
   "outputs": [],
   "source": [
    "#isolation des lignes dont la note est 4 ou nan\n",
    "date_rating_4 = data_interactions[(data_interactions['rating'] == 4) | (data_interactions['rating'].isna())]"
   ]
  },
  {
   "cell_type": "code",
   "execution_count": 19,
   "id": "b416cda2",
   "metadata": {},
   "outputs": [
    {
     "name": "stderr",
     "output_type": "stream",
     "text": [
      "/tmp/ipykernel_148967/2288626039.py:3: SettingWithCopyWarning: \n",
      "A value is trying to be set on a copy of a slice from a DataFrame.\n",
      "Try using .loc[row_indexer,col_indexer] = value instead\n",
      "\n",
      "See the caveats in the documentation: https://pandas.pydata.org/pandas-docs/stable/user_guide/indexing.html#returning-a-view-versus-a-copy\n",
      "  date_rating_4[\"clean_review\"] = date_rating_4[\"review\"].map(clean_review)\n",
      "/tmp/ipykernel_148967/2288626039.py:6: SettingWithCopyWarning: \n",
      "A value is trying to be set on a copy of a slice from a DataFrame.\n",
      "Try using .loc[row_indexer,col_indexer] = value instead\n",
      "\n",
      "See the caveats in the documentation: https://pandas.pydata.org/pandas-docs/stable/user_guide/indexing.html#returning-a-view-versus-a-copy\n",
      "  date_rating_4[\"binary_sentiment\"] = date_rating_4.apply(\n"
     ]
    }
   ],
   "source": [
    "# --- Pipeline concise pandas ---\n",
    "# 1) régénérer clean_review\n",
    "date_rating_4[\"clean_review\"] = date_rating_4[\"review\"].map(clean_review)\n",
    "\n",
    "# 2) calculer le sentiment binaire\n",
    "date_rating_4[\"binary_sentiment\"] = date_rating_4.apply(\n",
    "    lambda r: binary_sentiment(r[\"review\"], r[\"clean_review\"]), axis=1\n",
    ")\n"
   ]
  },
  {
   "cell_type": "code",
   "execution_count": 20,
   "id": "cad52118",
   "metadata": {},
   "outputs": [],
   "source": [
    "#update des valeurs dans le dataset original\n",
    "mask = (data_interactions['rating'] == 4) | (data_interactions['rating'].isna())\n",
    "data_interactions.loc[mask, 'binary_sentiment'] = date_rating_4['binary_sentiment'].values\n"
   ]
  },
  {
   "cell_type": "markdown",
   "id": "a1df7c08",
   "metadata": {},
   "source": [
    "Pour effectuer la fusion des 2 datasets, nous avons besoin de grouper les avis par racette."
   ]
  },
  {
   "cell_type": "code",
   "execution_count": 21,
   "id": "a7fbedfa",
   "metadata": {},
   "outputs": [],
   "source": [
    "# 1. Calculer le nombre d'avis négatifs et le total d'avis par recette\n",
    "recipe_sentiment = (data_interactions.groupby('recipe_id')['binary_sentiment']\n",
    "              .agg(total_reviews='count', negative_reviews='sum')\n",
    "              .reset_index()\n",
    ")"
   ]
  },
  {
   "cell_type": "code",
   "execution_count": 22,
   "id": "ba8e2620",
   "metadata": {},
   "outputs": [
    {
     "data": {
      "text/html": [
       "<div>\n",
       "<style scoped>\n",
       "    .dataframe tbody tr th:only-of-type {\n",
       "        vertical-align: middle;\n",
       "    }\n",
       "\n",
       "    .dataframe tbody tr th {\n",
       "        vertical-align: top;\n",
       "    }\n",
       "\n",
       "    .dataframe thead th {\n",
       "        text-align: right;\n",
       "    }\n",
       "</style>\n",
       "<table border=\"1\" class=\"dataframe\">\n",
       "  <thead>\n",
       "    <tr style=\"text-align: right;\">\n",
       "      <th></th>\n",
       "      <th>recipe_id</th>\n",
       "      <th>total_reviews</th>\n",
       "      <th>negative_reviews</th>\n",
       "    </tr>\n",
       "  </thead>\n",
       "  <tbody>\n",
       "    <tr>\n",
       "      <th>82499</th>\n",
       "      <td>142704</td>\n",
       "      <td>2</td>\n",
       "      <td>0</td>\n",
       "    </tr>\n",
       "    <tr>\n",
       "      <th>49884</th>\n",
       "      <td>86898</td>\n",
       "      <td>6</td>\n",
       "      <td>0</td>\n",
       "    </tr>\n",
       "    <tr>\n",
       "      <th>37747</th>\n",
       "      <td>65827</td>\n",
       "      <td>1</td>\n",
       "      <td>0</td>\n",
       "    </tr>\n",
       "    <tr>\n",
       "      <th>101566</th>\n",
       "      <td>179154</td>\n",
       "      <td>1</td>\n",
       "      <td>0</td>\n",
       "    </tr>\n",
       "    <tr>\n",
       "      <th>62357</th>\n",
       "      <td>107261</td>\n",
       "      <td>2</td>\n",
       "      <td>0</td>\n",
       "    </tr>\n",
       "  </tbody>\n",
       "</table>\n",
       "</div>"
      ],
      "text/plain": [
       "        recipe_id  total_reviews  negative_reviews\n",
       "82499      142704              2                 0\n",
       "49884       86898              6                 0\n",
       "37747       65827              1                 0\n",
       "101566     179154              1                 0\n",
       "62357      107261              2                 0"
      ]
     },
     "execution_count": 22,
     "metadata": {},
     "output_type": "execute_result"
    }
   ],
   "source": [
    "recipe_sentiment.sample(5)"
   ]
  },
  {
   "cell_type": "markdown",
   "id": "97d23231",
   "metadata": {},
   "source": [
    "### **RECIPES**"
   ]
  },
  {
   "cell_type": "markdown",
   "id": "90285013",
   "metadata": {},
   "source": [
    "**Importation des données pour la table recipes**"
   ]
  },
  {
   "cell_type": "code",
   "execution_count": 23,
   "id": "148843b7",
   "metadata": {},
   "outputs": [],
   "source": [
    "data_recipes = load_recipes_data()"
   ]
  },
  {
   "cell_type": "code",
   "execution_count": 24,
   "id": "c2d6c507",
   "metadata": {},
   "outputs": [
    {
     "data": {
      "text/html": [
       "<div>\n",
       "<style scoped>\n",
       "    .dataframe tbody tr th:only-of-type {\n",
       "        vertical-align: middle;\n",
       "    }\n",
       "\n",
       "    .dataframe tbody tr th {\n",
       "        vertical-align: top;\n",
       "    }\n",
       "\n",
       "    .dataframe thead th {\n",
       "        text-align: right;\n",
       "    }\n",
       "</style>\n",
       "<table border=\"1\" class=\"dataframe\">\n",
       "  <thead>\n",
       "    <tr style=\"text-align: right;\">\n",
       "      <th></th>\n",
       "      <th>name</th>\n",
       "      <th>id</th>\n",
       "      <th>minutes</th>\n",
       "      <th>contributor_id</th>\n",
       "      <th>submitted</th>\n",
       "      <th>tags</th>\n",
       "      <th>nutrition</th>\n",
       "      <th>n_steps</th>\n",
       "      <th>steps</th>\n",
       "      <th>description</th>\n",
       "      <th>ingredients</th>\n",
       "      <th>n_ingredients</th>\n",
       "    </tr>\n",
       "  </thead>\n",
       "  <tbody>\n",
       "    <tr>\n",
       "      <th>0</th>\n",
       "      <td>arriba   baked winter squash mexican style</td>\n",
       "      <td>137739</td>\n",
       "      <td>55</td>\n",
       "      <td>47892</td>\n",
       "      <td>2005-09-16</td>\n",
       "      <td>['60-minutes-or-less', 'time-to-make', 'course...</td>\n",
       "      <td>[51.5, 0.0, 13.0, 0.0, 2.0, 0.0, 4.0]</td>\n",
       "      <td>11</td>\n",
       "      <td>['make a choice and proceed with recipe', 'dep...</td>\n",
       "      <td>autumn is my favorite time of year to cook! th...</td>\n",
       "      <td>['winter squash', 'mexican seasoning', 'mixed ...</td>\n",
       "      <td>7</td>\n",
       "    </tr>\n",
       "    <tr>\n",
       "      <th>1</th>\n",
       "      <td>a bit different  breakfast pizza</td>\n",
       "      <td>31490</td>\n",
       "      <td>30</td>\n",
       "      <td>26278</td>\n",
       "      <td>2002-06-17</td>\n",
       "      <td>['30-minutes-or-less', 'time-to-make', 'course...</td>\n",
       "      <td>[173.4, 18.0, 0.0, 17.0, 22.0, 35.0, 1.0]</td>\n",
       "      <td>9</td>\n",
       "      <td>['preheat oven to 425 degrees f', 'press dough...</td>\n",
       "      <td>this recipe calls for the crust to be prebaked...</td>\n",
       "      <td>['prepared pizza crust', 'sausage patty', 'egg...</td>\n",
       "      <td>6</td>\n",
       "    </tr>\n",
       "    <tr>\n",
       "      <th>2</th>\n",
       "      <td>all in the kitchen  chili</td>\n",
       "      <td>112140</td>\n",
       "      <td>130</td>\n",
       "      <td>196586</td>\n",
       "      <td>2005-02-25</td>\n",
       "      <td>['time-to-make', 'course', 'preparation', 'mai...</td>\n",
       "      <td>[269.8, 22.0, 32.0, 48.0, 39.0, 27.0, 5.0]</td>\n",
       "      <td>6</td>\n",
       "      <td>['brown ground beef in large pot', 'add choppe...</td>\n",
       "      <td>this modified version of 'mom's' chili was a h...</td>\n",
       "      <td>['ground beef', 'yellow onions', 'diced tomato...</td>\n",
       "      <td>13</td>\n",
       "    </tr>\n",
       "    <tr>\n",
       "      <th>3</th>\n",
       "      <td>alouette  potatoes</td>\n",
       "      <td>59389</td>\n",
       "      <td>45</td>\n",
       "      <td>68585</td>\n",
       "      <td>2003-04-14</td>\n",
       "      <td>['60-minutes-or-less', 'time-to-make', 'course...</td>\n",
       "      <td>[368.1, 17.0, 10.0, 2.0, 14.0, 8.0, 20.0]</td>\n",
       "      <td>11</td>\n",
       "      <td>['place potatoes in a large pot of lightly sal...</td>\n",
       "      <td>this is a super easy, great tasting, make ahea...</td>\n",
       "      <td>['spreadable cheese with garlic and herbs', 'n...</td>\n",
       "      <td>11</td>\n",
       "    </tr>\n",
       "    <tr>\n",
       "      <th>4</th>\n",
       "      <td>amish  tomato ketchup  for canning</td>\n",
       "      <td>44061</td>\n",
       "      <td>190</td>\n",
       "      <td>41706</td>\n",
       "      <td>2002-10-25</td>\n",
       "      <td>['weeknight', 'time-to-make', 'course', 'main-...</td>\n",
       "      <td>[352.9, 1.0, 337.0, 23.0, 3.0, 0.0, 28.0]</td>\n",
       "      <td>5</td>\n",
       "      <td>['mix all ingredients&amp; boil for 2 1 / 2 hours ...</td>\n",
       "      <td>my dh's amish mother raised him on this recipe...</td>\n",
       "      <td>['tomato juice', 'apple cider vinegar', 'sugar...</td>\n",
       "      <td>8</td>\n",
       "    </tr>\n",
       "  </tbody>\n",
       "</table>\n",
       "</div>"
      ],
      "text/plain": [
       "                                         name      id  minutes  \\\n",
       "0  arriba   baked winter squash mexican style  137739       55   \n",
       "1            a bit different  breakfast pizza   31490       30   \n",
       "2                   all in the kitchen  chili  112140      130   \n",
       "3                          alouette  potatoes   59389       45   \n",
       "4          amish  tomato ketchup  for canning   44061      190   \n",
       "\n",
       "   contributor_id   submitted  \\\n",
       "0           47892  2005-09-16   \n",
       "1           26278  2002-06-17   \n",
       "2          196586  2005-02-25   \n",
       "3           68585  2003-04-14   \n",
       "4           41706  2002-10-25   \n",
       "\n",
       "                                                tags  \\\n",
       "0  ['60-minutes-or-less', 'time-to-make', 'course...   \n",
       "1  ['30-minutes-or-less', 'time-to-make', 'course...   \n",
       "2  ['time-to-make', 'course', 'preparation', 'mai...   \n",
       "3  ['60-minutes-or-less', 'time-to-make', 'course...   \n",
       "4  ['weeknight', 'time-to-make', 'course', 'main-...   \n",
       "\n",
       "                                    nutrition  n_steps  \\\n",
       "0       [51.5, 0.0, 13.0, 0.0, 2.0, 0.0, 4.0]       11   \n",
       "1   [173.4, 18.0, 0.0, 17.0, 22.0, 35.0, 1.0]        9   \n",
       "2  [269.8, 22.0, 32.0, 48.0, 39.0, 27.0, 5.0]        6   \n",
       "3   [368.1, 17.0, 10.0, 2.0, 14.0, 8.0, 20.0]       11   \n",
       "4   [352.9, 1.0, 337.0, 23.0, 3.0, 0.0, 28.0]        5   \n",
       "\n",
       "                                               steps  \\\n",
       "0  ['make a choice and proceed with recipe', 'dep...   \n",
       "1  ['preheat oven to 425 degrees f', 'press dough...   \n",
       "2  ['brown ground beef in large pot', 'add choppe...   \n",
       "3  ['place potatoes in a large pot of lightly sal...   \n",
       "4  ['mix all ingredients& boil for 2 1 / 2 hours ...   \n",
       "\n",
       "                                         description  \\\n",
       "0  autumn is my favorite time of year to cook! th...   \n",
       "1  this recipe calls for the crust to be prebaked...   \n",
       "2  this modified version of 'mom's' chili was a h...   \n",
       "3  this is a super easy, great tasting, make ahea...   \n",
       "4  my dh's amish mother raised him on this recipe...   \n",
       "\n",
       "                                         ingredients  n_ingredients  \n",
       "0  ['winter squash', 'mexican seasoning', 'mixed ...              7  \n",
       "1  ['prepared pizza crust', 'sausage patty', 'egg...              6  \n",
       "2  ['ground beef', 'yellow onions', 'diced tomato...             13  \n",
       "3  ['spreadable cheese with garlic and herbs', 'n...             11  \n",
       "4  ['tomato juice', 'apple cider vinegar', 'sugar...              8  "
      ]
     },
     "execution_count": 24,
     "metadata": {},
     "output_type": "execute_result"
    }
   ],
   "source": [
    "## 1er aperçus des données\n",
    "data_recipes.head()"
   ]
  },
  {
   "cell_type": "code",
   "execution_count": 25,
   "id": "338d3750",
   "metadata": {},
   "outputs": [
    {
     "name": "stdout",
     "output_type": "stream",
     "text": [
      "<class 'pandas.core.frame.DataFrame'>\n",
      "RangeIndex: 231637 entries, 0 to 231636\n",
      "Data columns (total 12 columns):\n",
      " #   Column          Non-Null Count   Dtype \n",
      "---  ------          --------------   ----- \n",
      " 0   name            231636 non-null  object\n",
      " 1   id              231637 non-null  int64 \n",
      " 2   minutes         231637 non-null  int64 \n",
      " 3   contributor_id  231637 non-null  int64 \n",
      " 4   submitted       231637 non-null  object\n",
      " 5   tags            231637 non-null  object\n",
      " 6   nutrition       231637 non-null  object\n",
      " 7   n_steps         231637 non-null  int64 \n",
      " 8   steps           231637 non-null  object\n",
      " 9   description     226658 non-null  object\n",
      " 10  ingredients     231637 non-null  object\n",
      " 11  n_ingredients   231637 non-null  int64 \n",
      "dtypes: int64(5), object(7)\n",
      "memory usage: 21.2+ MB\n"
     ]
    }
   ],
   "source": [
    "# avoir les informations sur les données types, valeurs manquantes, etc.\n",
    "data_recipes.info()"
   ]
  },
  {
   "cell_type": "code",
   "execution_count": 26,
   "id": "a292f9b5",
   "metadata": {},
   "outputs": [],
   "source": [
    "#conversion du type de la colonne 'submitted' en datetime\n",
    "data_recipes['submitted'] = pd.to_datetime(data_recipes['submitted'], format='%Y-%m-%d')"
   ]
  },
  {
   "cell_type": "markdown",
   "id": "246b0d82",
   "metadata": {},
   "source": [
    "**valeurs manquantes et doublons**"
   ]
  },
  {
   "cell_type": "code",
   "execution_count": 27,
   "id": "ec57fc5b",
   "metadata": {},
   "outputs": [
    {
     "name": "stdout",
     "output_type": "stream",
     "text": [
      "name              1\n",
      "description    4979\n",
      "dtype: int64\n",
      "Pourcentage de valeurs manquantes dans les interactions : name              0.000432\n",
      "id                0.000000\n",
      "minutes           0.000000\n",
      "contributor_id    0.000000\n",
      "submitted         0.000000\n",
      "tags              0.000000\n",
      "nutrition         0.000000\n",
      "n_steps           0.000000\n",
      "steps             0.000000\n",
      "description       2.149484\n",
      "ingredients       0.000000\n",
      "n_ingredients     0.000000\n",
      "dtype: float64\n"
     ]
    }
   ],
   "source": [
    "#vérifier les valeurs manquantes dans la table recipes\n",
    "missing_values_recipes = detect_missing_values(data_recipes)\n",
    "print(missing_values_recipes)\n",
    "\n",
    "#% valeurs manquantes\n",
    "print(\"Pourcentage de valeurs manquantes dans les interactions :\", data_recipes.isna().mean() * 100)"
   ]
  },
  {
   "cell_type": "code",
   "execution_count": 28,
   "id": "ac6d06e5",
   "metadata": {},
   "outputs": [
    {
     "name": "stdout",
     "output_type": "stream",
     "text": [
      "0\n",
      "missing values recipes: name              0\n",
      "id                0\n",
      "minutes           0\n",
      "contributor_id    0\n",
      "submitted         0\n",
      "tags              0\n",
      "nutrition         0\n",
      "n_steps           0\n",
      "steps             0\n",
      "description       0\n",
      "ingredients       0\n",
      "n_ingredients     0\n",
      "dtype: int64\n"
     ]
    }
   ],
   "source": [
    "#faire une imputation ne va pas biaisé les données de la colonne 'description' donc on va imputer avec 'No_description'\n",
    "data_recipes[\"description\"] = data_recipes[\"description\"].fillna(\n",
    "    \"No_description\"\n",
    ")\n",
    "\n",
    "#suppression de la ligne avec le name manquant\n",
    "data_recipes = data_recipes.dropna(subset=['name'])\n",
    "\n",
    "print(data_recipes[\"description\"].isna().sum())\n",
    "print(\"missing values recipes:\", data_recipes.isnull().sum())"
   ]
  },
  {
   "cell_type": "code",
   "execution_count": 29,
   "id": "877d5d80",
   "metadata": {},
   "outputs": [
    {
     "name": "stdout",
     "output_type": "stream",
     "text": [
      "Nombre de doublons dans les recettes : 0\n"
     ]
    }
   ],
   "source": [
    "#detection des doublons dans recipes\n",
    "duplicates_recipes = detect_duplicates(data_recipes)\n",
    "print(\"Nombre de doublons dans les recettes :\", duplicates_recipes)"
   ]
  },
  {
   "cell_type": "markdown",
   "id": "cc56e768",
   "metadata": {},
   "source": [
    "**études des valeurs extrêmes**"
   ]
  },
  {
   "cell_type": "code",
   "execution_count": 32,
   "id": "9b9337f6",
   "metadata": {},
   "outputs": [
    {
     "data": {
      "image/png": "[encoded data removed]",
      "text/plain": [
       "<Figure size 1200x600 with 3 Axes>"
      ]
     },
     "metadata": {},
     "output_type": "display_data"
    }
   ],
   "source": [
    "#visualisation des valeurs extrêmes, boxplot sur n_ingredients, n_steps, minutes\n",
    "plot_minutes_ningredients_nsteps(data_recipes)"
   ]
  },
  {
   "cell_type": "markdown",
   "id": "681e36c0",
   "metadata": {},
   "source": [
    "Nous pouvons remarquer la présence de valeurs extrêmes dans les 3 colonnes, en particulier dans la colonne temps de préparation"
   ]
  },
  {
   "cell_type": "code",
   "execution_count": 33,
   "id": "ad72df51",
   "metadata": {},
   "outputs": [
    {
     "name": "stdout",
     "output_type": "stream",
     "text": [
      "Pourcentage de recettes avec un temps de préparation supérieur à 1 mois : 0.03%\n"
     ]
    }
   ],
   "source": [
    "#vérifier % de recettes avec un temps de préparation > 1 mois (43200 minutes)\n",
    "long_recipes = data_recipes[data_recipes['minutes'] > 43200]\n",
    "long_recipes_percentage = (long_recipes.shape[0] / data_recipes.shape[0]) * 100\n",
    "print(f\"Pourcentage de recettes avec un temps de préparation supérieur à 1 mois : {long_recipes_percentage:.2f}%\")\n"
   ]
  },
  {
   "cell_type": "markdown",
   "id": "7a9b04dc",
   "metadata": {},
   "source": [
    "Les recettes de plus de 1 représentant seulement 0.03% de toute les recettes, nous allons directement procéder à leurs suppressions"
   ]
  },
  {
   "cell_type": "code",
   "execution_count": 34,
   "id": "d825844d",
   "metadata": {},
   "outputs": [
    {
     "name": "stdout",
     "output_type": "stream",
     "text": [
      "Nombre de recettes après suppression des recettes longues : 231566\n"
     ]
    }
   ],
   "source": [
    "# Suppression des recettes nécessitant plus de 1 mois de préparation\n",
    "data_recipes_cleaned = data_recipes[data_recipes['minutes'] <= 43200].copy()\n",
    "print(\"Nombre de recettes après suppression des recettes longues :\", data_recipes_cleaned.shape[0])"
   ]
  },
  {
   "cell_type": "code",
   "execution_count": 35,
   "id": "d5c6afb7",
   "metadata": {},
   "outputs": [
    {
     "data": {
      "text/html": [
       "<div>\n",
       "<style scoped>\n",
       "    .dataframe tbody tr th:only-of-type {\n",
       "        vertical-align: middle;\n",
       "    }\n",
       "\n",
       "    .dataframe tbody tr th {\n",
       "        vertical-align: top;\n",
       "    }\n",
       "\n",
       "    .dataframe thead th {\n",
       "        text-align: right;\n",
       "    }\n",
       "</style>\n",
       "<table border=\"1\" class=\"dataframe\">\n",
       "  <thead>\n",
       "    <tr style=\"text-align: right;\">\n",
       "      <th></th>\n",
       "      <th>name</th>\n",
       "      <th>id</th>\n",
       "      <th>minutes</th>\n",
       "      <th>contributor_id</th>\n",
       "      <th>submitted</th>\n",
       "      <th>tags</th>\n",
       "      <th>nutrition</th>\n",
       "      <th>n_steps</th>\n",
       "      <th>steps</th>\n",
       "      <th>description</th>\n",
       "      <th>ingredients</th>\n",
       "      <th>n_ingredients</th>\n",
       "      <th>calories</th>\n",
       "      <th>total_fat</th>\n",
       "      <th>sugar</th>\n",
       "      <th>sodium</th>\n",
       "      <th>protein</th>\n",
       "      <th>saturated_fat</th>\n",
       "      <th>carbohydrates</th>\n",
       "    </tr>\n",
       "  </thead>\n",
       "  <tbody>\n",
       "    <tr>\n",
       "      <th>0</th>\n",
       "      <td>arriba   baked winter squash mexican style</td>\n",
       "      <td>137739</td>\n",
       "      <td>55</td>\n",
       "      <td>47892</td>\n",
       "      <td>2005-09-16</td>\n",
       "      <td>['60-minutes-or-less', 'time-to-make', 'course...</td>\n",
       "      <td>[51.5, 0.0, 13.0, 0.0, 2.0, 0.0, 4.0]</td>\n",
       "      <td>11</td>\n",
       "      <td>['make a choice and proceed with recipe', 'dep...</td>\n",
       "      <td>autumn is my favorite time of year to cook! th...</td>\n",
       "      <td>['winter squash', 'mexican seasoning', 'mixed ...</td>\n",
       "      <td>7</td>\n",
       "      <td>51.5</td>\n",
       "      <td>0.0</td>\n",
       "      <td>13.0</td>\n",
       "      <td>0.0</td>\n",
       "      <td>2.0</td>\n",
       "      <td>0.0</td>\n",
       "      <td>4.0</td>\n",
       "    </tr>\n",
       "    <tr>\n",
       "      <th>1</th>\n",
       "      <td>a bit different  breakfast pizza</td>\n",
       "      <td>31490</td>\n",
       "      <td>30</td>\n",
       "      <td>26278</td>\n",
       "      <td>2002-06-17</td>\n",
       "      <td>['30-minutes-or-less', 'time-to-make', 'course...</td>\n",
       "      <td>[173.4, 18.0, 0.0, 17.0, 22.0, 35.0, 1.0]</td>\n",
       "      <td>9</td>\n",
       "      <td>['preheat oven to 425 degrees f', 'press dough...</td>\n",
       "      <td>this recipe calls for the crust to be prebaked...</td>\n",
       "      <td>['prepared pizza crust', 'sausage patty', 'egg...</td>\n",
       "      <td>6</td>\n",
       "      <td>173.4</td>\n",
       "      <td>18.0</td>\n",
       "      <td>0.0</td>\n",
       "      <td>17.0</td>\n",
       "      <td>22.0</td>\n",
       "      <td>35.0</td>\n",
       "      <td>1.0</td>\n",
       "    </tr>\n",
       "    <tr>\n",
       "      <th>2</th>\n",
       "      <td>all in the kitchen  chili</td>\n",
       "      <td>112140</td>\n",
       "      <td>130</td>\n",
       "      <td>196586</td>\n",
       "      <td>2005-02-25</td>\n",
       "      <td>['time-to-make', 'course', 'preparation', 'mai...</td>\n",
       "      <td>[269.8, 22.0, 32.0, 48.0, 39.0, 27.0, 5.0]</td>\n",
       "      <td>6</td>\n",
       "      <td>['brown ground beef in large pot', 'add choppe...</td>\n",
       "      <td>this modified version of 'mom's' chili was a h...</td>\n",
       "      <td>['ground beef', 'yellow onions', 'diced tomato...</td>\n",
       "      <td>13</td>\n",
       "      <td>269.8</td>\n",
       "      <td>22.0</td>\n",
       "      <td>32.0</td>\n",
       "      <td>48.0</td>\n",
       "      <td>39.0</td>\n",
       "      <td>27.0</td>\n",
       "      <td>5.0</td>\n",
       "    </tr>\n",
       "    <tr>\n",
       "      <th>3</th>\n",
       "      <td>alouette  potatoes</td>\n",
       "      <td>59389</td>\n",
       "      <td>45</td>\n",
       "      <td>68585</td>\n",
       "      <td>2003-04-14</td>\n",
       "      <td>['60-minutes-or-less', 'time-to-make', 'course...</td>\n",
       "      <td>[368.1, 17.0, 10.0, 2.0, 14.0, 8.0, 20.0]</td>\n",
       "      <td>11</td>\n",
       "      <td>['place potatoes in a large pot of lightly sal...</td>\n",
       "      <td>this is a super easy, great tasting, make ahea...</td>\n",
       "      <td>['spreadable cheese with garlic and herbs', 'n...</td>\n",
       "      <td>11</td>\n",
       "      <td>368.1</td>\n",
       "      <td>17.0</td>\n",
       "      <td>10.0</td>\n",
       "      <td>2.0</td>\n",
       "      <td>14.0</td>\n",
       "      <td>8.0</td>\n",
       "      <td>20.0</td>\n",
       "    </tr>\n",
       "    <tr>\n",
       "      <th>4</th>\n",
       "      <td>amish  tomato ketchup  for canning</td>\n",
       "      <td>44061</td>\n",
       "      <td>190</td>\n",
       "      <td>41706</td>\n",
       "      <td>2002-10-25</td>\n",
       "      <td>['weeknight', 'time-to-make', 'course', 'main-...</td>\n",
       "      <td>[352.9, 1.0, 337.0, 23.0, 3.0, 0.0, 28.0]</td>\n",
       "      <td>5</td>\n",
       "      <td>['mix all ingredients&amp; boil for 2 1 / 2 hours ...</td>\n",
       "      <td>my dh's amish mother raised him on this recipe...</td>\n",
       "      <td>['tomato juice', 'apple cider vinegar', 'sugar...</td>\n",
       "      <td>8</td>\n",
       "      <td>352.9</td>\n",
       "      <td>1.0</td>\n",
       "      <td>337.0</td>\n",
       "      <td>23.0</td>\n",
       "      <td>3.0</td>\n",
       "      <td>0.0</td>\n",
       "      <td>28.0</td>\n",
       "    </tr>\n",
       "  </tbody>\n",
       "</table>\n",
       "</div>"
      ],
      "text/plain": [
       "                                         name      id  minutes  \\\n",
       "0  arriba   baked winter squash mexican style  137739       55   \n",
       "1            a bit different  breakfast pizza   31490       30   \n",
       "2                   all in the kitchen  chili  112140      130   \n",
       "3                          alouette  potatoes   59389       45   \n",
       "4          amish  tomato ketchup  for canning   44061      190   \n",
       "\n",
       "   contributor_id  submitted  \\\n",
       "0           47892 2005-09-16   \n",
       "1           26278 2002-06-17   \n",
       "2          196586 2005-02-25   \n",
       "3           68585 2003-04-14   \n",
       "4           41706 2002-10-25   \n",
       "\n",
       "                                                tags  \\\n",
       "0  ['60-minutes-or-less', 'time-to-make', 'course...   \n",
       "1  ['30-minutes-or-less', 'time-to-make', 'course...   \n",
       "2  ['time-to-make', 'course', 'preparation', 'mai...   \n",
       "3  ['60-minutes-or-less', 'time-to-make', 'course...   \n",
       "4  ['weeknight', 'time-to-make', 'course', 'main-...   \n",
       "\n",
       "                                    nutrition  n_steps  \\\n",
       "0       [51.5, 0.0, 13.0, 0.0, 2.0, 0.0, 4.0]       11   \n",
       "1   [173.4, 18.0, 0.0, 17.0, 22.0, 35.0, 1.0]        9   \n",
       "2  [269.8, 22.0, 32.0, 48.0, 39.0, 27.0, 5.0]        6   \n",
       "3   [368.1, 17.0, 10.0, 2.0, 14.0, 8.0, 20.0]       11   \n",
       "4   [352.9, 1.0, 337.0, 23.0, 3.0, 0.0, 28.0]        5   \n",
       "\n",
       "                                               steps  \\\n",
       "0  ['make a choice and proceed with recipe', 'dep...   \n",
       "1  ['preheat oven to 425 degrees f', 'press dough...   \n",
       "2  ['brown ground beef in large pot', 'add choppe...   \n",
       "3  ['place potatoes in a large pot of lightly sal...   \n",
       "4  ['mix all ingredients& boil for 2 1 / 2 hours ...   \n",
       "\n",
       "                                         description  \\\n",
       "0  autumn is my favorite time of year to cook! th...   \n",
       "1  this recipe calls for the crust to be prebaked...   \n",
       "2  this modified version of 'mom's' chili was a h...   \n",
       "3  this is a super easy, great tasting, make ahea...   \n",
       "4  my dh's amish mother raised him on this recipe...   \n",
       "\n",
       "                                         ingredients  n_ingredients calories  \\\n",
       "0  ['winter squash', 'mexican seasoning', 'mixed ...              7     51.5   \n",
       "1  ['prepared pizza crust', 'sausage patty', 'egg...              6    173.4   \n",
       "2  ['ground beef', 'yellow onions', 'diced tomato...             13    269.8   \n",
       "3  ['spreadable cheese with garlic and herbs', 'n...             11    368.1   \n",
       "4  ['tomato juice', 'apple cider vinegar', 'sugar...              8    352.9   \n",
       "\n",
       "  total_fat   sugar sodium protein saturated_fat carbohydrates  \n",
       "0       0.0    13.0    0.0     2.0           0.0           4.0  \n",
       "1      18.0     0.0   17.0    22.0          35.0           1.0  \n",
       "2      22.0    32.0   48.0    39.0          27.0           5.0  \n",
       "3      17.0    10.0    2.0    14.0           8.0          20.0  \n",
       "4       1.0   337.0   23.0     3.0           0.0          28.0  "
      ]
     },
     "execution_count": 35,
     "metadata": {},
     "output_type": "execute_result"
    }
   ],
   "source": [
    "## Nutrition score processing\n",
    "\n",
    "data_recipes_cleaned[['calories','total_fat','sugar','sodium','protein','saturated_fat','carbohydrates']] = data_recipes_cleaned.nutrition.str.split(\",\",expand=True)\n",
    "data_recipes_cleaned['calories'] = data_recipes_cleaned['calories'].apply(lambda x: x.replace('[','')) \n",
    "data_recipes_cleaned['carbohydrates'] = data_recipes_cleaned['carbohydrates'].apply(lambda x: x.replace(']','')) \n",
    "\n",
    "data_recipes_cleaned.head()"
   ]
  },
  {
   "cell_type": "code",
   "execution_count": 36,
   "id": "26883418",
   "metadata": {},
   "outputs": [
    {
     "name": "stdout",
     "output_type": "stream",
     "text": [
      "<class 'pandas.core.frame.DataFrame'>\n",
      "Index: 231566 entries, 0 to 231636\n",
      "Data columns (total 19 columns):\n",
      " #   Column          Non-Null Count   Dtype         \n",
      "---  ------          --------------   -----         \n",
      " 0   name            231566 non-null  object        \n",
      " 1   id              231566 non-null  int64         \n",
      " 2   minutes         231566 non-null  int64         \n",
      " 3   contributor_id  231566 non-null  int64         \n",
      " 4   submitted       231566 non-null  datetime64[ns]\n",
      " 5   tags            231566 non-null  object        \n",
      " 6   nutrition       231566 non-null  object        \n",
      " 7   n_steps         231566 non-null  int64         \n",
      " 8   steps           231566 non-null  object        \n",
      " 9   description     231566 non-null  object        \n",
      " 10  ingredients     231566 non-null  object        \n",
      " 11  n_ingredients   231566 non-null  int64         \n",
      " 12  calories        231566 non-null  object        \n",
      " 13  total_fat       231566 non-null  object        \n",
      " 14  sugar           231566 non-null  object        \n",
      " 15  sodium          231566 non-null  object        \n",
      " 16  protein         231566 non-null  object        \n",
      " 17  saturated_fat   231566 non-null  object        \n",
      " 18  carbohydrates   231566 non-null  object        \n",
      "dtypes: datetime64[ns](1), int64(5), object(13)\n",
      "memory usage: 35.3+ MB\n"
     ]
    }
   ],
   "source": [
    "data_recipes_cleaned.info()"
   ]
  },
  {
   "cell_type": "code",
   "execution_count": 37,
   "id": "6e2f8713",
   "metadata": {},
   "outputs": [
    {
     "name": "stdout",
     "output_type": "stream",
     "text": [
      "<class 'pandas.core.frame.DataFrame'>\n",
      "Index: 231566 entries, 0 to 231636\n",
      "Data columns (total 19 columns):\n",
      " #   Column          Non-Null Count   Dtype         \n",
      "---  ------          --------------   -----         \n",
      " 0   name            231566 non-null  object        \n",
      " 1   id              231566 non-null  int64         \n",
      " 2   minutes         231566 non-null  int64         \n",
      " 3   contributor_id  231566 non-null  int64         \n",
      " 4   submitted       231566 non-null  datetime64[ns]\n",
      " 5   tags            231566 non-null  object        \n",
      " 6   nutrition       231566 non-null  object        \n",
      " 7   n_steps         231566 non-null  int64         \n",
      " 8   steps           231566 non-null  object        \n",
      " 9   description     231566 non-null  object        \n",
      " 10  ingredients     231566 non-null  object        \n",
      " 11  n_ingredients   231566 non-null  int64         \n",
      " 12  calories        231566 non-null  float64       \n",
      " 13  total_fat       231566 non-null  float64       \n",
      " 14  sugar           231566 non-null  float64       \n",
      " 15  sodium          231566 non-null  float64       \n",
      " 16  protein         231566 non-null  float64       \n",
      " 17  saturated_fat   231566 non-null  float64       \n",
      " 18  carbohydrates   231566 non-null  float64       \n",
      "dtypes: datetime64[ns](1), float64(7), int64(5), object(6)\n",
      "memory usage: 35.3+ MB\n"
     ]
    }
   ],
   "source": [
    "# conversion des colonnes nutrition de 'object' à 'float' \n",
    "nutrition_cols = ['calories','total_fat','sugar','sodium','protein','saturated_fat','carbohydrates']\n",
    "data_recipes_cleaned[nutrition_cols] = data_recipes_cleaned[nutrition_cols].astype(float)\n",
    "data_recipes_cleaned.info()"
   ]
  },
  {
   "cell_type": "code",
   "execution_count": 38,
   "id": "d152425a",
   "metadata": {},
   "outputs": [
    {
     "data": {
      "image/png": "[encoded data removed]",
      "text/plain": [
       "<Figure size 1200x600 with 4 Axes>"
      ]
     },
     "metadata": {},
     "output_type": "display_data"
    }
   ],
   "source": [
    "#boxplot de calories, sugar, sodium, protein\n",
    "plt.figure(figsize=(12, 6))\n",
    "plt.subplot(1, 4, 1)\n",
    "plt.boxplot(data_recipes_cleaned[\"calories\"])\n",
    "plt.title(\"Boxplot des calories\")\n",
    "plt.subplot(1, 4, 2)\n",
    "plt.boxplot(data_recipes_cleaned[\"sugar\"])\n",
    "plt.title(\"Boxplot du sucre\")\n",
    "plt.subplot(1, 4, 3)\n",
    "plt.boxplot(data_recipes_cleaned[\"sodium\"])\n",
    "plt.title(\"Boxplot du sodium\")\n",
    "plt.subplot(1, 4, 4)\n",
    "plt.boxplot(data_recipes_cleaned[\"protein\"])\n",
    "plt.title(\"Boxplot des protéines\")\n",
    "plt.tight_layout()\n",
    "plt.show()"
   ]
  },
  {
   "cell_type": "code",
   "execution_count": 39,
   "id": "2c76cbf8",
   "metadata": {},
   "outputs": [
    {
     "name": "stdout",
     "output_type": "stream",
     "text": [
      "Pourcentage de recettes avec plus de 3000 calories : 1.36%\n"
     ]
    }
   ],
   "source": [
    "#% de recettes avec calories > 3000\n",
    "high_calorie_recipes = data_recipes_cleaned[data_recipes_cleaned['calories'] > 3000]\n",
    "high_calorie_percentage = (high_calorie_recipes.shape[0] / data_recipes_cleaned.shape[0]) * 100\n",
    "print(f\"Pourcentage de recettes avec plus de 3000 calories : {high_calorie_percentage:.2f}%\")"
   ]
  },
  {
   "cell_type": "markdown",
   "id": "dec419a2",
   "metadata": {},
   "source": [
    "Il est possible de remarquer des valeurs très extrêmes ! Les valeurs max sont des valeurs abérrantes cependant d'autre valeurs tel que les recettes à plus de 3 000 calories sont potentiellement des recettes avec des scores nutritionnels calculés pour la totalité de la recette et non normalisé (par exemple par portion). les valeurs nutritionnels pour une portion sont d'environs 200~800 kcal. Comme nous n'avons pas d'information sur la quantité considéré (portion ou recette total), on décide donc de supprimer les recettes à plus de 3000 calories sachant qu'ils représentent qu'un très petit pourcentage de recette. \n",
    "\n",
    "De même les valeurs nutrionnels pour : \n",
    "- les glucides : 20 ~ 100 g > suppression des recettes à plus de 500g\n",
    "- protéines : 10 ~ 100 g > suppression des recettes à plus de 500g\n",
    "- Sodium : 200 ~ 1500 mg > suppression des recettes à plus de 5000mg\n"
   ]
  },
  {
   "cell_type": "code",
   "execution_count": 40,
   "id": "6adce7de",
   "metadata": {},
   "outputs": [],
   "source": [
    "# application de la fonction de suppression des valeurs abbérantes pour les variables nutritionnelles\n",
    "#calories > 3000kcal\n",
    "data_recipes_cleaned = remove_outliers_nutrition(data_recipes_cleaned, 'calories', 3000)\n",
    "\n",
    "# sodium > 5000mg\n",
    "data_recipes_cleaned = remove_outliers_nutrition(data_recipes_cleaned, 'sodium', 5000)\n",
    "# protéines > 500g\n",
    "data_recipes_cleaned = remove_outliers_nutrition(data_recipes_cleaned, 'protein', 500)\n",
    "\n",
    "#sucres > 500g\n",
    "data_recipes_cleaned = remove_outliers_nutrition(data_recipes_cleaned, 'sugar', 500)"
   ]
  },
  {
   "cell_type": "code",
   "execution_count": 41,
   "id": "da612701",
   "metadata": {},
   "outputs": [
    {
     "data": {
      "image/png": "[encoded data removed]",
      "text/plain": [
       "<Figure size 1200x600 with 4 Axes>"
      ]
     },
     "metadata": {},
     "output_type": "display_data"
    }
   ],
   "source": [
    "#boxplot de calories, sugar, sodium, protein\n",
    "plt.figure(figsize=(12, 6))\n",
    "plt.subplot(1, 4, 1)\n",
    "plt.boxplot(data_recipes_cleaned[\"calories\"])\n",
    "plt.title(\"Boxplot des calories\")\n",
    "plt.subplot(1, 4, 2)\n",
    "plt.boxplot(data_recipes_cleaned[\"sugar\"])\n",
    "plt.title(\"Boxplot du sucre\")\n",
    "plt.subplot(1, 4, 3)\n",
    "plt.boxplot(data_recipes_cleaned[\"sodium\"])\n",
    "plt.title(\"Boxplot du sodium\")\n",
    "plt.subplot(1, 4, 4)\n",
    "plt.boxplot(data_recipes_cleaned[\"protein\"])\n",
    "plt.title(\"Boxplot des protéines\")\n",
    "plt.tight_layout()\n",
    "plt.show()"
   ]
  },
  {
   "cell_type": "markdown",
   "id": "e1d42788",
   "metadata": {},
   "source": [
    "### EXTRACT DES DATASETS"
   ]
  },
  {
   "cell_type": "code",
   "execution_count": 42,
   "id": "7ea44321",
   "metadata": {},
   "outputs": [
    {
     "name": "stdout",
     "output_type": "stream",
     "text": [
      "=== SAUVEGARDE DANS ../data/processed ===\n",
      "✅ Interactions: ../data/processed/recipes_cleaned.csv ((224528, 19))\n",
      "=== SAUVEGARDE DANS ../data/processed ===\n",
      "✅ Interactions: ../data/processed/interactions_cleaned.csv ((1132367, 6))\n"
     ]
    },
    {
     "data": {
      "text/plain": [
       "{'interactions_file': PosixPath('../data/processed/interactions_cleaned.csv')}"
      ]
     },
     "execution_count": 42,
     "metadata": {},
     "output_type": "execute_result"
    }
   ],
   "source": [
    "#extraction du dataframe nettoyé final pour la table recipes\n",
    "save_cleaned_datasets(data_recipes_cleaned, file_name=\"recipes_cleaned\")\n",
    "\n",
    "#extraction du dataframe nettoyé final pour la table interactions\n",
    "save_cleaned_datasets(data_interactions, file_name=\"interactions_cleaned\")"
   ]
  },
  {
   "cell_type": "markdown",
   "id": "26e07f1b",
   "metadata": {},
   "source": [
    "### merge les deux tables pour analyse"
   ]
  },
  {
   "cell_type": "code",
   "execution_count": 43,
   "id": "0ccdbd6b",
   "metadata": {},
   "outputs": [],
   "source": [
    "# rename la colonne 'id' en 'recipe_id' pour merge les deux tables\n",
    "data_recipes_cleaned = data_recipes_cleaned.rename(columns={'id': 'recipe_id'})\n",
    "merged_df = merge_datasets(recipe_sentiment, data_recipes_cleaned)"
   ]
  },
  {
   "cell_type": "code",
   "execution_count": 44,
   "id": "46d9cc12",
   "metadata": {},
   "outputs": [],
   "source": [
    "#suppression des lignes avec des valeurs manquantes après le merge\n",
    "merged_df = merged_df.dropna()"
   ]
  },
  {
   "cell_type": "code",
   "execution_count": 45,
   "id": "7f6f28d5",
   "metadata": {},
   "outputs": [
    {
     "data": {
      "text/html": [
       "<div>\n",
       "<style scoped>\n",
       "    .dataframe tbody tr th:only-of-type {\n",
       "        vertical-align: middle;\n",
       "    }\n",
       "\n",
       "    .dataframe tbody tr th {\n",
       "        vertical-align: top;\n",
       "    }\n",
       "\n",
       "    .dataframe thead th {\n",
       "        text-align: right;\n",
       "    }\n",
       "</style>\n",
       "<table border=\"1\" class=\"dataframe\">\n",
       "  <thead>\n",
       "    <tr style=\"text-align: right;\">\n",
       "      <th></th>\n",
       "      <th>recipe_id</th>\n",
       "      <th>total_reviews</th>\n",
       "      <th>negative_reviews</th>\n",
       "      <th>name</th>\n",
       "      <th>minutes</th>\n",
       "      <th>contributor_id</th>\n",
       "      <th>submitted</th>\n",
       "      <th>tags</th>\n",
       "      <th>nutrition</th>\n",
       "      <th>n_steps</th>\n",
       "      <th>...</th>\n",
       "      <th>description</th>\n",
       "      <th>ingredients</th>\n",
       "      <th>n_ingredients</th>\n",
       "      <th>calories</th>\n",
       "      <th>total_fat</th>\n",
       "      <th>sugar</th>\n",
       "      <th>sodium</th>\n",
       "      <th>protein</th>\n",
       "      <th>saturated_fat</th>\n",
       "      <th>carbohydrates</th>\n",
       "    </tr>\n",
       "  </thead>\n",
       "  <tbody>\n",
       "    <tr>\n",
       "      <th>180483</th>\n",
       "      <td>351225</td>\n",
       "      <td>2</td>\n",
       "      <td>1</td>\n",
       "      <td>crumbed chicken   roast sweet potato salad</td>\n",
       "      <td>40.0</td>\n",
       "      <td>422893.0</td>\n",
       "      <td>2009-01-22</td>\n",
       "      <td>['60-minutes-or-less', 'time-to-make', 'course...</td>\n",
       "      <td>[356.1, 16.0, 57.0, 11.0, 75.0, 12.0, 8.0]</td>\n",
       "      <td>10.0</td>\n",
       "      <td>...</td>\n",
       "      <td>this is from delicious magazine and yes it is ...</td>\n",
       "      <td>['natural yoghurt', 'milk', 'whole wheat bread...</td>\n",
       "      <td>15.0</td>\n",
       "      <td>356.1</td>\n",
       "      <td>16.0</td>\n",
       "      <td>57.0</td>\n",
       "      <td>11.0</td>\n",
       "      <td>75.0</td>\n",
       "      <td>12.0</td>\n",
       "      <td>8.0</td>\n",
       "    </tr>\n",
       "    <tr>\n",
       "      <th>13231</th>\n",
       "      <td>25288</td>\n",
       "      <td>3</td>\n",
       "      <td>0</td>\n",
       "      <td>white bean and parmesan soup with pesto</td>\n",
       "      <td>40.0</td>\n",
       "      <td>10404.0</td>\n",
       "      <td>2002-04-14</td>\n",
       "      <td>['60-minutes-or-less', 'time-to-make', 'course...</td>\n",
       "      <td>[441.2, 16.0, 23.0, 9.0, 51.0, 14.0, 21.0]</td>\n",
       "      <td>11.0</td>\n",
       "      <td>...</td>\n",
       "      <td>this soup is an all time family favorite-light...</td>\n",
       "      <td>['olive oil', 'onion', 'garlic', 'carrots', 'c...</td>\n",
       "      <td>12.0</td>\n",
       "      <td>441.2</td>\n",
       "      <td>16.0</td>\n",
       "      <td>23.0</td>\n",
       "      <td>9.0</td>\n",
       "      <td>51.0</td>\n",
       "      <td>14.0</td>\n",
       "      <td>21.0</td>\n",
       "    </tr>\n",
       "    <tr>\n",
       "      <th>158712</th>\n",
       "      <td>298571</td>\n",
       "      <td>3</td>\n",
       "      <td>0</td>\n",
       "      <td>moroccan braised beef</td>\n",
       "      <td>115.0</td>\n",
       "      <td>45524.0</td>\n",
       "      <td>2008-04-15</td>\n",
       "      <td>['time-to-make', 'course', 'main-ingredient', ...</td>\n",
       "      <td>[330.8, 11.0, 106.0, 17.0, 7.0, 5.0, 13.0]</td>\n",
       "      <td>11.0</td>\n",
       "      <td>...</td>\n",
       "      <td>i found this recipe on another website. it ori...</td>\n",
       "      <td>['olive oil', 'stewing beef', 'onions', 'garli...</td>\n",
       "      <td>14.0</td>\n",
       "      <td>330.8</td>\n",
       "      <td>11.0</td>\n",
       "      <td>106.0</td>\n",
       "      <td>17.0</td>\n",
       "      <td>7.0</td>\n",
       "      <td>5.0</td>\n",
       "      <td>13.0</td>\n",
       "    </tr>\n",
       "    <tr>\n",
       "      <th>56803</th>\n",
       "      <td>98171</td>\n",
       "      <td>1</td>\n",
       "      <td>0</td>\n",
       "      <td>chocolate chip cookie milkshake</td>\n",
       "      <td>5.0</td>\n",
       "      <td>64203.0</td>\n",
       "      <td>2004-08-19</td>\n",
       "      <td>['15-minutes-or-less', 'time-to-make', 'course...</td>\n",
       "      <td>[338.2, 28.0, 122.0, 6.0, 15.0, 57.0, 12.0]</td>\n",
       "      <td>2.0</td>\n",
       "      <td>...</td>\n",
       "      <td>chocolate chip cookies &amp; ice cream! what a hea...</td>\n",
       "      <td>['vanilla ice cream', 'chocolate chip cookies'...</td>\n",
       "      <td>3.0</td>\n",
       "      <td>338.2</td>\n",
       "      <td>28.0</td>\n",
       "      <td>122.0</td>\n",
       "      <td>6.0</td>\n",
       "      <td>15.0</td>\n",
       "      <td>57.0</td>\n",
       "      <td>12.0</td>\n",
       "    </tr>\n",
       "    <tr>\n",
       "      <th>119335</th>\n",
       "      <td>214327</td>\n",
       "      <td>1</td>\n",
       "      <td>1</td>\n",
       "      <td>chilled orzo salad</td>\n",
       "      <td>25.0</td>\n",
       "      <td>334628.0</td>\n",
       "      <td>2007-02-28</td>\n",
       "      <td>['30-minutes-or-less', 'time-to-make', 'course...</td>\n",
       "      <td>[800.4, 23.0, 33.0, 39.0, 53.0, 14.0, 45.0]</td>\n",
       "      <td>4.0</td>\n",
       "      <td>...</td>\n",
       "      <td>i found this recipe in the chicago tribune. i ...</td>\n",
       "      <td>['orzo pasta', 'light italian dressing', 'spin...</td>\n",
       "      <td>9.0</td>\n",
       "      <td>800.4</td>\n",
       "      <td>23.0</td>\n",
       "      <td>33.0</td>\n",
       "      <td>39.0</td>\n",
       "      <td>53.0</td>\n",
       "      <td>14.0</td>\n",
       "      <td>45.0</td>\n",
       "    </tr>\n",
       "  </tbody>\n",
       "</table>\n",
       "<p>5 rows × 21 columns</p>\n",
       "</div>"
      ],
      "text/plain": [
       "        recipe_id  total_reviews  negative_reviews  \\\n",
       "180483     351225              2                 1   \n",
       "13231       25288              3                 0   \n",
       "158712     298571              3                 0   \n",
       "56803       98171              1                 0   \n",
       "119335     214327              1                 1   \n",
       "\n",
       "                                              name  minutes  contributor_id  \\\n",
       "180483  crumbed chicken   roast sweet potato salad     40.0        422893.0   \n",
       "13231      white bean and parmesan soup with pesto     40.0         10404.0   \n",
       "158712                       moroccan braised beef    115.0         45524.0   \n",
       "56803              chocolate chip cookie milkshake      5.0         64203.0   \n",
       "119335                          chilled orzo salad     25.0        334628.0   \n",
       "\n",
       "        submitted                                               tags  \\\n",
       "180483 2009-01-22  ['60-minutes-or-less', 'time-to-make', 'course...   \n",
       "13231  2002-04-14  ['60-minutes-or-less', 'time-to-make', 'course...   \n",
       "158712 2008-04-15  ['time-to-make', 'course', 'main-ingredient', ...   \n",
       "56803  2004-08-19  ['15-minutes-or-less', 'time-to-make', 'course...   \n",
       "119335 2007-02-28  ['30-minutes-or-less', 'time-to-make', 'course...   \n",
       "\n",
       "                                          nutrition  n_steps  ...  \\\n",
       "180483   [356.1, 16.0, 57.0, 11.0, 75.0, 12.0, 8.0]     10.0  ...   \n",
       "13231    [441.2, 16.0, 23.0, 9.0, 51.0, 14.0, 21.0]     11.0  ...   \n",
       "158712   [330.8, 11.0, 106.0, 17.0, 7.0, 5.0, 13.0]     11.0  ...   \n",
       "56803   [338.2, 28.0, 122.0, 6.0, 15.0, 57.0, 12.0]      2.0  ...   \n",
       "119335  [800.4, 23.0, 33.0, 39.0, 53.0, 14.0, 45.0]      4.0  ...   \n",
       "\n",
       "                                              description  \\\n",
       "180483  this is from delicious magazine and yes it is ...   \n",
       "13231   this soup is an all time family favorite-light...   \n",
       "158712  i found this recipe on another website. it ori...   \n",
       "56803   chocolate chip cookies & ice cream! what a hea...   \n",
       "119335  i found this recipe in the chicago tribune. i ...   \n",
       "\n",
       "                                              ingredients n_ingredients  \\\n",
       "180483  ['natural yoghurt', 'milk', 'whole wheat bread...          15.0   \n",
       "13231   ['olive oil', 'onion', 'garlic', 'carrots', 'c...          12.0   \n",
       "158712  ['olive oil', 'stewing beef', 'onions', 'garli...          14.0   \n",
       "56803   ['vanilla ice cream', 'chocolate chip cookies'...           3.0   \n",
       "119335  ['orzo pasta', 'light italian dressing', 'spin...           9.0   \n",
       "\n",
       "        calories  total_fat  sugar  sodium  protein  saturated_fat  \\\n",
       "180483     356.1       16.0   57.0    11.0     75.0           12.0   \n",
       "13231      441.2       16.0   23.0     9.0     51.0           14.0   \n",
       "158712     330.8       11.0  106.0    17.0      7.0            5.0   \n",
       "56803      338.2       28.0  122.0     6.0     15.0           57.0   \n",
       "119335     800.4       23.0   33.0    39.0     53.0           14.0   \n",
       "\n",
       "        carbohydrates  \n",
       "180483            8.0  \n",
       "13231            21.0  \n",
       "158712           13.0  \n",
       "56803            12.0  \n",
       "119335           45.0  \n",
       "\n",
       "[5 rows x 21 columns]"
      ]
     },
     "execution_count": 45,
     "metadata": {},
     "output_type": "execute_result"
    }
   ],
   "source": [
    "merged_df.sample(5)"
   ]
  },
  {
   "cell_type": "code",
   "execution_count": 46,
   "id": "4a3f3f52",
   "metadata": {},
   "outputs": [
    {
     "data": {
      "text/html": [
       "<div>\n",
       "<style scoped>\n",
       "    .dataframe tbody tr th:only-of-type {\n",
       "        vertical-align: middle;\n",
       "    }\n",
       "\n",
       "    .dataframe tbody tr th {\n",
       "        vertical-align: top;\n",
       "    }\n",
       "\n",
       "    .dataframe thead th {\n",
       "        text-align: right;\n",
       "    }\n",
       "</style>\n",
       "<table border=\"1\" class=\"dataframe\">\n",
       "  <thead>\n",
       "    <tr style=\"text-align: right;\">\n",
       "      <th></th>\n",
       "      <th>recipe_id</th>\n",
       "      <th>total_reviews</th>\n",
       "      <th>negative_reviews</th>\n",
       "      <th>minutes</th>\n",
       "      <th>submitted</th>\n",
       "      <th>tags</th>\n",
       "      <th>nutrition</th>\n",
       "      <th>n_steps</th>\n",
       "      <th>steps</th>\n",
       "      <th>ingredients</th>\n",
       "      <th>n_ingredients</th>\n",
       "      <th>calories</th>\n",
       "      <th>total_fat</th>\n",
       "      <th>sugar</th>\n",
       "      <th>sodium</th>\n",
       "      <th>protein</th>\n",
       "      <th>saturated_fat</th>\n",
       "      <th>carbohydrates</th>\n",
       "    </tr>\n",
       "  </thead>\n",
       "  <tbody>\n",
       "    <tr>\n",
       "      <th>0</th>\n",
       "      <td>38</td>\n",
       "      <td>4</td>\n",
       "      <td>0</td>\n",
       "      <td>1485.0</td>\n",
       "      <td>1999-08-09</td>\n",
       "      <td>['weeknight', 'time-to-make', 'course', 'prepa...</td>\n",
       "      <td>[170.9, 3.0, 120.0, 1.0, 6.0, 6.0, 12.0]</td>\n",
       "      <td>13.0</td>\n",
       "      <td>['toss 2 cups berries with sugar', 'let stand ...</td>\n",
       "      <td>['blueberries', 'granulated sugar', 'vanilla y...</td>\n",
       "      <td>4.0</td>\n",
       "      <td>170.9</td>\n",
       "      <td>3.0</td>\n",
       "      <td>120.0</td>\n",
       "      <td>1.0</td>\n",
       "      <td>6.0</td>\n",
       "      <td>6.0</td>\n",
       "      <td>12.0</td>\n",
       "    </tr>\n",
       "    <tr>\n",
       "      <th>1</th>\n",
       "      <td>39</td>\n",
       "      <td>1</td>\n",
       "      <td>1</td>\n",
       "      <td>265.0</td>\n",
       "      <td>1999-08-29</td>\n",
       "      <td>['weeknight', 'time-to-make', 'course', 'main-...</td>\n",
       "      <td>[1110.7, 90.0, 81.0, 15.0, 126.0, 82.0, 28.0]</td>\n",
       "      <td>17.0</td>\n",
       "      <td>['soak saffron in warm milk for 5 minutes and ...</td>\n",
       "      <td>['saffron', 'milk', 'hot green chili peppers',...</td>\n",
       "      <td>26.0</td>\n",
       "      <td>1110.7</td>\n",
       "      <td>90.0</td>\n",
       "      <td>81.0</td>\n",
       "      <td>15.0</td>\n",
       "      <td>126.0</td>\n",
       "      <td>82.0</td>\n",
       "      <td>28.0</td>\n",
       "    </tr>\n",
       "    <tr>\n",
       "      <th>2</th>\n",
       "      <td>40</td>\n",
       "      <td>9</td>\n",
       "      <td>1</td>\n",
       "      <td>35.0</td>\n",
       "      <td>1999-09-05</td>\n",
       "      <td>['60-minutes-or-less', 'time-to-make', 'course...</td>\n",
       "      <td>[311.1, 0.0, 308.0, 0.0, 0.0, 0.0, 27.0]</td>\n",
       "      <td>8.0</td>\n",
       "      <td>['into a 1 quart jar with tight fitting lid , ...</td>\n",
       "      <td>['sugar', 'lemons, rind of', 'fresh water', 'f...</td>\n",
       "      <td>6.0</td>\n",
       "      <td>311.1</td>\n",
       "      <td>0.0</td>\n",
       "      <td>308.0</td>\n",
       "      <td>0.0</td>\n",
       "      <td>0.0</td>\n",
       "      <td>0.0</td>\n",
       "      <td>27.0</td>\n",
       "    </tr>\n",
       "    <tr>\n",
       "      <th>3</th>\n",
       "      <td>41</td>\n",
       "      <td>2</td>\n",
       "      <td>0</td>\n",
       "      <td>1460.0</td>\n",
       "      <td>1999-09-03</td>\n",
       "      <td>['weeknight', 'time-to-make', 'course', 'main-...</td>\n",
       "      <td>[536.1, 36.0, 128.0, 64.0, 58.0, 19.0, 21.0]</td>\n",
       "      <td>18.0</td>\n",
       "      <td>['drain the tofu , carefully squeezing out exc...</td>\n",
       "      <td>['extra firm tofu', 'eggplant', 'zucchini', 'r...</td>\n",
       "      <td>15.0</td>\n",
       "      <td>536.1</td>\n",
       "      <td>36.0</td>\n",
       "      <td>128.0</td>\n",
       "      <td>64.0</td>\n",
       "      <td>58.0</td>\n",
       "      <td>19.0</td>\n",
       "      <td>21.0</td>\n",
       "    </tr>\n",
       "    <tr>\n",
       "      <th>4</th>\n",
       "      <td>43</td>\n",
       "      <td>1</td>\n",
       "      <td>1</td>\n",
       "      <td>140.0</td>\n",
       "      <td>1999-08-21</td>\n",
       "      <td>['weeknight', 'time-to-make', 'course', 'cuisi...</td>\n",
       "      <td>[437.9, 29.0, 170.0, 11.0, 13.0, 54.0, 19.0]</td>\n",
       "      <td>35.0</td>\n",
       "      <td>['graham cracker crust: in small bowl , combin...</td>\n",
       "      <td>['graham cracker crumbs', 'sugar', 'butter', '...</td>\n",
       "      <td>15.0</td>\n",
       "      <td>437.9</td>\n",
       "      <td>29.0</td>\n",
       "      <td>170.0</td>\n",
       "      <td>11.0</td>\n",
       "      <td>13.0</td>\n",
       "      <td>54.0</td>\n",
       "      <td>19.0</td>\n",
       "    </tr>\n",
       "  </tbody>\n",
       "</table>\n",
       "</div>"
      ],
      "text/plain": [
       "   recipe_id  total_reviews  negative_reviews  minutes  submitted  \\\n",
       "0         38              4                 0   1485.0 1999-08-09   \n",
       "1         39              1                 1    265.0 1999-08-29   \n",
       "2         40              9                 1     35.0 1999-09-05   \n",
       "3         41              2                 0   1460.0 1999-09-03   \n",
       "4         43              1                 1    140.0 1999-08-21   \n",
       "\n",
       "                                                tags  \\\n",
       "0  ['weeknight', 'time-to-make', 'course', 'prepa...   \n",
       "1  ['weeknight', 'time-to-make', 'course', 'main-...   \n",
       "2  ['60-minutes-or-less', 'time-to-make', 'course...   \n",
       "3  ['weeknight', 'time-to-make', 'course', 'main-...   \n",
       "4  ['weeknight', 'time-to-make', 'course', 'cuisi...   \n",
       "\n",
       "                                       nutrition  n_steps  \\\n",
       "0       [170.9, 3.0, 120.0, 1.0, 6.0, 6.0, 12.0]     13.0   \n",
       "1  [1110.7, 90.0, 81.0, 15.0, 126.0, 82.0, 28.0]     17.0   \n",
       "2       [311.1, 0.0, 308.0, 0.0, 0.0, 0.0, 27.0]      8.0   \n",
       "3   [536.1, 36.0, 128.0, 64.0, 58.0, 19.0, 21.0]     18.0   \n",
       "4   [437.9, 29.0, 170.0, 11.0, 13.0, 54.0, 19.0]     35.0   \n",
       "\n",
       "                                               steps  \\\n",
       "0  ['toss 2 cups berries with sugar', 'let stand ...   \n",
       "1  ['soak saffron in warm milk for 5 minutes and ...   \n",
       "2  ['into a 1 quart jar with tight fitting lid , ...   \n",
       "3  ['drain the tofu , carefully squeezing out exc...   \n",
       "4  ['graham cracker crust: in small bowl , combin...   \n",
       "\n",
       "                                         ingredients  n_ingredients  calories  \\\n",
       "0  ['blueberries', 'granulated sugar', 'vanilla y...            4.0     170.9   \n",
       "1  ['saffron', 'milk', 'hot green chili peppers',...           26.0    1110.7   \n",
       "2  ['sugar', 'lemons, rind of', 'fresh water', 'f...            6.0     311.1   \n",
       "3  ['extra firm tofu', 'eggplant', 'zucchini', 'r...           15.0     536.1   \n",
       "4  ['graham cracker crumbs', 'sugar', 'butter', '...           15.0     437.9   \n",
       "\n",
       "   total_fat  sugar  sodium  protein  saturated_fat  carbohydrates  \n",
       "0        3.0  120.0     1.0      6.0            6.0           12.0  \n",
       "1       90.0   81.0    15.0    126.0           82.0           28.0  \n",
       "2        0.0  308.0     0.0      0.0            0.0           27.0  \n",
       "3       36.0  128.0    64.0     58.0           19.0           21.0  \n",
       "4       29.0  170.0    11.0     13.0           54.0           19.0  "
      ]
     },
     "execution_count": 46,
     "metadata": {},
     "output_type": "execute_result"
    }
   ],
   "source": [
    "#drop les colonnes inutiles\n",
    "merged_df_cleaned = merged_df.drop(columns=['name','description','contributor_id'])\n",
    "merged_df_cleaned.head()"
   ]
  },
  {
   "cell_type": "code",
   "execution_count": 47,
   "id": "e5f06b7e",
   "metadata": {},
   "outputs": [
    {
     "name": "stdout",
     "output_type": "stream",
     "text": [
      "=== SAUVEGARDE DANS ../data/processed ===\n",
      "✅ Interactions: ../data/processed/merged_cleaned.csv ((224528, 18))\n"
     ]
    },
    {
     "data": {
      "text/plain": [
       "{'interactions_file': PosixPath('../data/processed/merged_cleaned.csv')}"
      ]
     },
     "execution_count": 47,
     "metadata": {},
     "output_type": "execute_result"
    }
   ],
   "source": [
    "#export du dataset fusionné nettoyé\n",
    "save_cleaned_datasets(merged_df_cleaned, file_name=\"merged_cleaned\")"
   ]
  }
 ],
 "metadata": {
  "kernelspec": {
   "display_name": "mangetamain-venv",
   "language": "python",
   "name": "python3"
  },
  "language_info": {
   "codemirror_mode": {
    "name": "ipython",
    "version": 3
   },
   "file_extension": ".py",
   "mimetype": "text/x-python",
   "name": "python",
   "nbconvert_exporter": "python",
   "pygments_lexer": "ipython3",
   "version": "3.12.3"
  }
 },
 "nbformat": 4,
 "nbformat_minor": 5
}
